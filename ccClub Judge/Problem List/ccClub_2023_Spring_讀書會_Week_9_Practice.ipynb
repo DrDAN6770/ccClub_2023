{
  "nbformat": 4,
  "nbformat_minor": 0,
  "metadata": {
    "colab": {
      "provenance": [],
      "authorship_tag": "ABX9TyMIjHzf3DHe+0IPbuR9odar",
      "include_colab_link": true
    },
    "kernelspec": {
      "name": "python3",
      "display_name": "Python 3"
    },
    "language_info": {
      "name": "python"
    }
  },
  "cells": [
    {
      "cell_type": "markdown",
      "metadata": {
        "id": "view-in-github",
        "colab_type": "text"
      },
      "source": [
        "<a href=\"https://colab.research.google.com/github/DrDAN6770/ccClub_2023/blob/main/ccClub%20Judge/Problem%20List/ccClub_2023_Spring_%E8%AE%80%E6%9B%B8%E6%9C%83_Week_9_Practice.ipynb\" target=\"_parent\"><img src=\"https://colab.research.google.com/assets/colab-badge.svg\" alt=\"Open In Colab\"/></a>"
      ]
    },
    {
      "cell_type": "markdown",
      "source": [
        "#幾A幾B\n",
        "\n",
        "---\n",
        "\n",
        "\n",
        "Description\n",
        "\n",
        "阿緯跟朋友在玩猜數字的遊戲，進行方式是由謎底方先設定好數字組合，另一方猜；每猜一次，謎底方就要根據對方猜的數字給出 \"xAyB\" 的提示。其中 x 表位置正確的數的個數， y 表數字正確但位置不對的數的個數。\n",
        "\n",
        "現在輪到阿緯當謎底方了，但阿緯覺得每次都要一個一個慢慢對很浪費時間，可以請你幫阿緯解決這個問題嗎？\n",
        "\n",
        "\n",
        "Input\n",
        "輸入為兩行，第一行為阿緯的謎底，第二行為同學猜的數字\n",
        "\n",
        "\n",
        "Output\n",
        "請根據遊戲規則，以 \"xAyB\" 的格式輸出正確的提示內容"
      ],
      "metadata": {
        "id": "iQHhhG0v_EOn"
      }
    },
    {
      "cell_type": "code",
      "execution_count": null,
      "metadata": {
        "colab": {
          "base_uri": "https://localhost:8080/"
        },
        "id": "1Da78sqM_Ae3",
        "outputId": "83471fc9-a708-4283-9b06-8695a94e72ac"
      },
      "outputs": [
        {
          "output_type": "stream",
          "name": "stdout",
          "text": [
            "1123\n",
            "0111\n",
            "1A1B\n"
          ]
        }
      ],
      "source": [
        "ans, n = input(), input()\n",
        "x = sum(1 for x in zip(ans, n) if x[0] == x[1])\n",
        "y = sum(min(n.count(d), ans.count(d)) for d in set(n)) - x0\n",
        "print(f'{x}A{y}B')"
      ]
    },
    {
      "cell_type": "markdown",
      "source": [
        "#帕斯卡三角形\n",
        "\n",
        "---\n",
        "\n",
        "\n",
        "Description\n",
        "\n",
        "輸入一個正整數 n ，請輸出一個 n 層的帕斯卡三角形。\n",
        "\n",
        "\n",
        "Input\n",
        "輸入有一行，為一個正整數\n",
        "\n",
        "\n",
        "Output\n",
        "輸出為一個串列，串列中的元素為 n 個串列，第 i 個串列表在帕斯卡三角形中的第 i 層"
      ],
      "metadata": {
        "id": "qHt6sxDR_LtI"
      }
    },
    {
      "cell_type": "code",
      "source": [
        "def pascal_triangle(num):\n",
        "    triangle = []\n",
        "    for row in range(num):\n",
        "        current_row = [1] * (row + 1)\n",
        "        for i in range(1, row):\n",
        "            current_row[i] = triangle[row-1][i-1] + triangle[row-1][i]\n",
        "        triangle.append(current_row)\n",
        "    return triangle\n",
        "\n",
        "num = int(input())\n",
        "res = pascal_triangle(num)\n",
        "print(res)"
      ],
      "metadata": {
        "colab": {
          "base_uri": "https://localhost:8080/"
        },
        "id": "owaNsGFq_OTS",
        "outputId": "eba5528e-8f40-4d5b-8272-f11446fa7047"
      },
      "execution_count": null,
      "outputs": [
        {
          "output_type": "stream",
          "name": "stdout",
          "text": [
            "5\n",
            "[[1], [1, 1], [1, 2, 1], [1, 3, 3, 1], [1, 4, 6, 4, 1]]\n"
          ]
        }
      ]
    },
    {
      "cell_type": "markdown",
      "source": [
        "#天數相差\n",
        "\n",
        "---\n",
        "\n",
        "\n",
        "Description\n",
        "\n",
        "給定兩個日期（年、月、日），請計算出這兩日期之間相「差」幾天\n",
        "\n",
        "\n",
        "Input\n",
        "輸入為兩行，各包含三個整數（年、月、日）\n",
        "\n",
        "\n",
        "Output\n",
        "輸出為一行，包含一個整數"
      ],
      "metadata": {
        "id": "wuBoNrrR_U9P"
      }
    },
    {
      "cell_type": "code",
      "source": [
        "import datetime\n",
        "def diff_dats(start_date, end_date):\n",
        "  d1_date = datetime.datetime(start_date[0], start_date[1], start_date[2])\n",
        "  d2_date = datetime.datetime(end_date[0], end_date[1], end_date[2])\n",
        "  return abs((d2_date - d1_date).days)\n",
        "\n",
        "start_date, end_date = [int(i) for i in input().split()], [int(i) for i in input().split()]\n",
        "print(diff_dats(start_date, end_date))\n"
      ],
      "metadata": {
        "colab": {
          "base_uri": "https://localhost:8080/"
        },
        "id": "ZYxDZUew_WCC",
        "outputId": "e6842dfb-6309-430f-9447-aa1a2b7fc372"
      },
      "execution_count": null,
      "outputs": [
        {
          "output_type": "stream",
          "name": "stdout",
          "text": [
            "2017 7 21\n",
            "2019 4 24\n",
            "642\n"
          ]
        }
      ]
    },
    {
      "cell_type": "markdown",
      "source": [
        "#簡易終端機\n",
        "\n",
        "---\n",
        "\n",
        "Description\n",
        "\n",
        "在 Linux 系統中，我們常使用一些指令來做事情，試著寫一個程式來模擬這件事。\n",
        "\n",
        "我們的程式需要包含以下指令：\n",
        "\n",
        "ls\n",
        "列出當下位置中所有的資料夾\n",
        "cd <資料夾名稱>\n",
        "移動工作目錄\n",
        "若資料夾存在，則將當下位置移至該資料夾下，若資料夾不存在，則不移動當下位置，並輸出對應的 error指令。\n",
        "若 cd ..，則將當下位置往上移一層。若原本的位置為 「home/ccClub/kevin，執行完「cd ..」之後，當下位置會變成 「home/ccClub」。\n",
        "pwd\n",
        "印出當下位置\n",
        "mkdir <資料夾名稱>\n",
        "在當下位置中創立一個資料夾\n",
        "rmdir <資料夾名稱>\n",
        "將當下位置中的資料夾移除\n",
        "\n",
        "\n",
        "Input\n",
        "輸入有數行。\n",
        "\n",
        "第一行為一個 json 格式的字串，代表著電腦中的資料夾結構。\n",
        "\n",
        "接下來數行每行都是一個 linux指令。\n",
        "\n",
        "\n",
        "Output\n",
        "輸出有數行。\n",
        "\n",
        "當遇到指令 ls 時，需要輸出當下位置中所有的資料夾/檔案名稱\n",
        "\n",
        "當遇到指令 pwd 時，需要輸出當下位置。\n",
        "\n",
        "當遇到指令 cd，且資料夾不存在時，需輸出錯誤訊息（請參考sample input 1）。\n",
        "\n",
        "當遇到指令 rmdir，且資料夾不存在時，需輸出錯誤訊息（請參考sample input 3）。"
      ],
      "metadata": {
        "id": "nXZJlzzB_cOc"
      }
    },
    {
      "cell_type": "code",
      "source": [
        "def sample_terminal(info, path):\n",
        "    def cd(xx, current_path, current_info):             \n",
        "        order = xx.split('/')\n",
        "        while order:\n",
        "            temp_order = order.pop(0)\n",
        "            if temp_order == '..':\n",
        "                # 非根目录\n",
        "                if len(current_path) > 1:\n",
        "                    current_path.pop()\n",
        "            else:\n",
        "                if temp_order not in current_info or temp_order not in current_info[current_path[-1]]:\n",
        "                    print(f'cd {temp_order} error')\n",
        "                    return current_path\n",
        "                current_path.append(temp_order)\n",
        "        return current_path \n",
        "    def pwd(current_path):\n",
        "        print('/'.join(current_path))\n",
        "\n",
        "    def ls(current_path, info):\n",
        "        res = info.get(current_path[-1],[])\n",
        "        print(','.join(res))\n",
        "\n",
        "    def mkdir(x, current_path, current_info):\n",
        "        if x not in current_info[current_path[-1]]:\n",
        "            current_info[current_path[-1]].append(x)\n",
        "            current_info[x] = []\n",
        "            # python版本問題，下面的太新了\n",
        "            # new_info = current_info | {x:[]}\n",
        "            # return new_info\n",
        "        return current_info\n",
        "    \n",
        "    def rmdir(x, current_path, current_info):\n",
        "        if x in current_info[current_path[-1]]:\n",
        "            current_info[current_path[-1]].remove(x)\n",
        "            del current_info[x]\n",
        "            return current_info\n",
        "        else:\n",
        "            print(f'rmdir {x} error')\n",
        "            return current_info\n",
        "\n",
        "    while True:\n",
        "        cmd = input()\n",
        "        if cmd == 'exit':break\n",
        "        order = cmd.split()\n",
        "\n",
        "        if order[0] == 'cd':\n",
        "            path = cd(order[1], path, info)\n",
        "        elif order[0] == 'mkdir':\n",
        "            info = mkdir(order[1], path, info)\n",
        "        elif order[0] == 'rmdir':\n",
        "            info = rmdir(order[1], path, info)\n",
        "        elif order[0] == 'pwd':\n",
        "            pwd(path)\n",
        "        elif order[0] == 'ls':\n",
        "            ls(path, info)\n",
        "# info = {\"home\": [\"a\"], \"a\": [\"b\", \"c\"], \"b\": [\"d\"], \"c\": [\"e\", \"f\"], \"e\": [\"g\", \"h\", \"i\"]}\n",
        "# info = {\"home\": [\"a\"], \"a\": []}\n",
        "# info = {\"home\": [\"a\"], \"a\": [\"x\",\"y\"],\"x\": [],\"y\": []}\n",
        "# info = {\"home\": [\"a\"], \"a\": [\"x\",\"y\"],\"x\": [\"z\"],\"y\": [\"H\"], \"z\":[\"\"]}\n",
        "info = eval(input())\n",
        "path = [\"home\"]\n",
        "sample_terminal(info, path)"
      ],
      "metadata": {
        "id": "xHSyJZ8O_bZF",
        "colab": {
          "base_uri": "https://localhost:8080/"
        },
        "outputId": "df4d3080-d15d-47c4-f936-7c8d0377aa1d"
      },
      "execution_count": 4,
      "outputs": [
        {
          "name": "stdout",
          "output_type": "stream",
          "text": [
            "{\"home\": [\"a\"], \"a\": []}\n",
            "cd a\n",
            "mkdir x\n",
            "mkdir y\n",
            "ls\n",
            "x,y\n",
            "cd y\n",
            "cd x\n",
            "cd x error\n",
            "pwd\n",
            "home/a/y\n",
            "rmdir c\n",
            "rmdir c error\n",
            "exit\n"
          ]
        }
      ]
    }
  ]
}