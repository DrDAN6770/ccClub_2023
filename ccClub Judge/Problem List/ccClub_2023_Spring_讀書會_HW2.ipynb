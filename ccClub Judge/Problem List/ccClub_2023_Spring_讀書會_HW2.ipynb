{
  "nbformat": 4,
  "nbformat_minor": 0,
  "metadata": {
    "colab": {
      "provenance": [],
      "authorship_tag": "ABX9TyMCKN/KMGINJQu8DeZXN6tL",
      "include_colab_link": true
    },
    "kernelspec": {
      "name": "python3",
      "display_name": "Python 3"
    },
    "language_info": {
      "name": "python"
    }
  },
  "cells": [
    {
      "cell_type": "markdown",
      "metadata": {
        "id": "view-in-github",
        "colab_type": "text"
      },
      "source": [
        "<a href=\"https://colab.research.google.com/github/DrDAN6770/ccClub_2023/blob/main/ccClub%20Judge/Problem%20List/ccClub_2023_Spring_%E8%AE%80%E6%9B%B8%E6%9C%83_HW2.ipynb\" target=\"_parent\"><img src=\"https://colab.research.google.com/assets/colab-badge.svg\" alt=\"Open In Colab\"/></a>"
      ]
    },
    {
      "cell_type": "markdown",
      "source": [
        "#台灣大公園\n",
        "\n",
        "---\n",
        "\n",
        "\n",
        "Description\n",
        "\n",
        "由於五寒肺炎的關係，臺灣大公園決定對遊客進行管制。 管制辦法以及流程如下：\n",
        "管理處會先訂出數字 M 以及數字 N，數字 M 代表台灣大公園目前開放的區域數量，而數字 N 則是代表管理處開放讓一個遊客可以遊覽的區域數量。\n",
        "接著會公布這 M 個區域目前已經入場的遊客數量，再讓遊客提出想要遊覽的區域願望清單。\n",
        "在遊客提出的願望清單當中，會由管理處分配目前入場人數較少的 N 個區域給該遊客遊覽，排列方式由目前來客數少的區域排列到多的區域。\n",
        "請寫一個程式幫助管理處分配遊客遊覽區域。\n",
        "\n",
        "\n",
        "Input\n",
        "輸入包含 M + 3 行：\n",
        "第一行包含一個整數 M，代表所開放的區域數量。\n",
        "第二至 M + 1 行則各包含一個字母以及一個整數，以空白分隔，代表這 M 個區域目前所在的人數。\n",
        "第 M + 2 行包含數個字母，代表該遊客想要遊覽的願望清單。\n",
        "第 M + 3 行則是包含一個整數 N，代表可以開放給該遊客遊覽的區域數量。\n",
        "\n",
        "\n",
        "Output\n"
      ],
      "metadata": {
        "id": "O7ZVwD6K5gLx"
      }
    },
    {
      "cell_type": "code",
      "execution_count": 1,
      "metadata": {
        "colab": {
          "base_uri": "https://localhost:8080/"
        },
        "id": "pM3_dwaW2nDN",
        "outputId": "49790b41-fce7-4deb-e907-479131e0c280"
      },
      "outputs": [
        {
          "output_type": "stream",
          "name": "stdout",
          "text": [
            "6\n",
            "Y 20\n",
            "F 50\n",
            "M 49\n",
            "X 13\n",
            "S 28\n",
            "O 96\n",
            "S Y X\n",
            "3\n",
            "X Y S\n"
          ]
        }
      ],
      "source": [
        "def taiwanpark(M):\n",
        "    area_population = {}\n",
        "\n",
        "    for m in range(M):\n",
        "        temp = input().split()\n",
        "        area_population[temp[0]] = int(temp[1])\n",
        "\n",
        "    wish_area = input().split()\n",
        "    N = int(input())\n",
        "    avaiable_area = sorted(wish_area, key = lambda x : area_population[x])\n",
        "    return avaiable_area[:N]\n",
        "\n",
        "M= int(input())\n",
        "res = taiwanpark(M)\n",
        "print(*res)"
      ]
    },
    {
      "cell_type": "markdown",
      "source": [
        "# 超商取貨\n",
        "\n",
        "---\n",
        "\n",
        "\n",
        "Description\n",
        "\n",
        "在網拍大行其道的現在，去超商取貨已經成為現代人幸福的來源之一：在網路上下訂單之後，心心念念某天回家經過超商可以順便拿變成喜歡的樣子的工資。超商取貨多半靠手機後三碼找出按後三碼分門別類堆起來的商品後，再搭配身分證件確認取貨人身分。現在，給定商品進貨時的資訊與取貨人報的後三碼，你可以正確地指出誰買了什麼嗎？\n",
        "保證不會出現姓名及電話後三碼都相同的情形，但有可能出現撞名（但後三碼不一樣），或電話後三碼一樣（但名字不同）的情況。\n",
        "\n",
        "\n",
        "Input\n",
        "輸入包含 n + m + 1 行。\n",
        "前 n 行是進貨資訊，每行包含 10 碼的電話號碼、取貨人姓名、物品，以逗號分隔。\n",
        "接下來為 end，代表已經讀完進貨資訊了。\n",
        "最後 m 行是取貨人資訊，每行包含取貨人電話後 3 碼、取貨人姓名，以空格分隔。\n",
        "\n",
        "\n",
        "Output\n",
        "輸出有 m 行，為對應的取貨物品。\n",
        "若查不到取貨人資訊，該行請輸出 Check again!"
      ],
      "metadata": {
        "id": "auDYxGAG5vLI"
      }
    },
    {
      "cell_type": "code",
      "source": [
        "def pickuporder():\n",
        "    # {(last3, name) : item)}\n",
        "    info = {}\n",
        "    IN = input()\n",
        "    while IN != 'end':\n",
        "        temp = IN.split(',')\n",
        "        info[(temp[0][-3:], temp[1])] = temp[2]\n",
        "        IN = input()\n",
        "\n",
        "    chicklist = []\n",
        "    while True:\n",
        "        try:\n",
        "            OUT = input()\n",
        "            temp = OUT.split(maxsplit = 1)\n",
        "            chicklist.append((temp[0], temp[1]))\n",
        "        except:\n",
        "            break  \n",
        "    \n",
        "    for order in chicklist:\n",
        "        if order in info.keys():\n",
        "            print(info[order])\n",
        "        else:\n",
        "            print('Check again!')\n",
        "\n",
        "pickuporder()"
      ],
      "metadata": {
        "colab": {
          "base_uri": "https://localhost:8080/"
        },
        "id": "rkJsRUu85xXm",
        "outputId": "b892d1bf-8558-4031-bb39-7ccb9b10a1f4"
      },
      "execution_count": 2,
      "outputs": [
        {
          "output_type": "stream",
          "name": "stdout",
          "text": [
            "0912345678,Kevin,Artis\n",
            "0988123456,KT,white coat\n",
            "0999123456,yeutong,sour map\n",
            "0997846678,yuhsuan,ching goat\n",
            "end\n",
            "678 yuhsuan\n",
            "678 Xiao ming\n",
            " \n",
            "ching goat\n",
            "Check again!\n"
          ]
        }
      ]
    },
    {
      "cell_type": "markdown",
      "source": [
        "#書碼編輯\n",
        "\n",
        "---\n",
        "\n",
        "\n",
        "Description\n",
        "\n",
        "cc 圖書館有著許多館藏，我們需要為每一本書都編一個書碼，方便讀者查閱時能夠靠著書碼找到自己想要的書。\n",
        "\n",
        "然而，有些書的書名會相同，因此我們用了一些特別的規則來編書碼（共十碼），規則如下：\n",
        "\n",
        "該書名進館藏的順序（前三碼）\n",
        "該書是館藏同書名中第幾本進書庫的（中間三碼）\n",
        "該書進館藏的順序（末四碼）\n",
        "\n",
        "Input\n",
        "輸入有 N+1 行。\n",
        "\n",
        "第 1~N 行每行有一個字串，代表書名。\n",
        "\n",
        "（書本依照順序進館藏，第一行先，再來是第二行，依此類推，最後一本進館藏的是第 N 行）\n",
        "\n",
        "第 N+1 為 0 ，代表輸入結束。\n",
        "\n",
        "\n",
        "Output\n",
        "輸出有 K 行。\n",
        "\n",
        "每一行包含兩個部分，首先是書名，接著是該書名的所有書（依照進館藏的順序排列），書名、書碼之間都用空格分開。"
      ],
      "metadata": {
        "id": "kdpBJ2DX6EXH"
      }
    },
    {
      "cell_type": "code",
      "source": [
        "def cclib():\n",
        "    book_unique = {}\n",
        "    book_all = []\n",
        "    lib = {}\n",
        "    c = 1\n",
        "\n",
        "    # 入館書籍\n",
        "    while True:\n",
        "        name = input()\n",
        "        if name == '0' : break\n",
        "\n",
        "        if name not in book_unique:\n",
        "            book_unique[name] = c\n",
        "            c += 1\n",
        "        \n",
        "        book_all.append(name)\n",
        "    \n",
        "    # 編碼\n",
        "    for idx, book in enumerate(book_all, 1):\n",
        "        if book not in lib:\n",
        "            lib[book] = [f'{book_unique[book]:03}001{idx:04}']\n",
        "        else:\n",
        "            sameorder = len(lib[book]) + 1\n",
        "            lib[book].append(f'{book_unique[book]:03}{sameorder:03}{idx:04}')\n",
        "          \n",
        "    # 輸出\n",
        "    for k, v in lib.items():\n",
        "        print(f\"{k} {' '.join(v)}\")\n",
        "\n",
        "cclib()      "
      ],
      "metadata": {
        "colab": {
          "base_uri": "https://localhost:8080/"
        },
        "id": "tC0n2k116ITy",
        "outputId": "d1e3a062-c18a-4dec-b78f-5e2df31828e3"
      },
      "execution_count": 3,
      "outputs": [
        {
          "output_type": "stream",
          "name": "stdout",
          "text": [
            "HarryPotter\n",
            "HarryPotter\n",
            "TheLordoftheRings\n",
            "HarryPotter\n",
            "HarryPotter\n",
            "TheLordoftheRings\n",
            "TheLordoftheRings\n",
            "TheLordoftheRings\n",
            "0\n",
            "HarryPotter 0010010001 0010020002 0010030004 0010040005\n",
            "TheLordoftheRings 0020010003 0020020006 0020030007 0020040008\n"
          ]
        }
      ]
    },
    {
      "cell_type": "markdown",
      "source": [
        "#小明找大腿\n",
        "\n",
        "---\n",
        "\n",
        "\n",
        "Description\n",
        "\n",
        "剛開學的時候，課程往往會要求同學先分組方便以後進行活動，但小明沒有朋友，他只好使用大腿雷達來尋找大腿。大腿雷達可以感知到附近大腿的座標以及戰力，所以首先小明會知道附近有 n 個大腿，接著會知道大腿們的 [名字] [x座標] [y座標] [戰力]。小明想要從厲害的大腿開始找起，但是在教室裡大腿距離小明的位置也很重要，所以在他心目中大腿的排序方式如下：\n",
        "\n",
        "先用戰力 / (距離^2)這個公式得出的數值來對大腿們進行排序，距離的平方算法是(x座標差)^2 + (y座標差)^2，以小明所在的位置為原點 (0,0)\n",
        "如果有兩個大腿的 1. 數值相同，先選擇戰力高的\n",
        "可以保證大腿們的戰力都不同，請寫一個程式幫小明根據大腿們的距離跟戰力進行排序，讓小明可以安心地依賴大腿們歐趴。\n",
        "\n",
        "\n",
        "Input\n",
        "輸入包含 n+1 行，第一行為數字n，代表附近的大腿個數\n",
        "以下 n 行分成四個部分，包含一個字串以及三個整數，以空白分開，其格式為 [名字] [x座標] [y座標] [戰力]\n",
        "\n",
        "\n",
        "Output\n",
        "輸出包含 n 行，各包含一個字串（名字），為排序大腿以後的結果，優先度高的在前。"
      ],
      "metadata": {
        "id": "xrOS5igq6R9c"
      }
    },
    {
      "cell_type": "code",
      "source": [
        "def findthigh(n):\n",
        "    def fight_divide_squr_dist(x, y, f):\n",
        "        return f / (x**2 + y**2)\n",
        "\n",
        "    info = {}\n",
        "    for i in range(n):\n",
        "        # [名字] [x座標] [y座標] [戰力]\n",
        "        temp = input().split()\n",
        "        info[temp[0]] = [fight_divide_squr_dist(int(temp[1]), int(temp[2]), int(temp[3])), int(temp[3])]\n",
        "    \n",
        "    # print(info)\n",
        "    return sorted(info, key = lambda x : (info[x][0], info[x][1]), reverse = True)\n",
        "    # return sorted(info, key = lambda x : (fight_divide_squr_dist(info[x][0],info[x][1], info[x][2]), info[x][2]), reverse = True)\n",
        "\n",
        "\n",
        "n = int(input())\n",
        "res = findthigh(n)\n",
        "for i in res:\n",
        "    print(i)"
      ],
      "metadata": {
        "colab": {
          "base_uri": "https://localhost:8080/"
        },
        "id": "Tms83JIe6Usv",
        "outputId": "29af0f9b-8803-4867-967b-9185540bbe4d"
      },
      "execution_count": 4,
      "outputs": [
        {
          "output_type": "stream",
          "name": "stdout",
          "text": [
            "3\n",
            "小習 3 4 20\n",
            "小川 4 3 25\n",
            "小英 8 6 100\n",
            "小英\n",
            "小川\n",
            "小習\n"
          ]
        }
      ]
    },
    {
      "cell_type": "code",
      "source": [
        "def findthigh1(n):\n",
        "    def fight_divide_squr_dist(x, y, f):\n",
        "        return f / (x**2 + y**2)\n",
        "    \n",
        "    info = {}\n",
        "    for i in range(n):\n",
        "        # [名字] [x座標] [y座標] [戰力]\n",
        "        temp = input().split()\n",
        "        info[temp[0]] = [int(x) for x in temp[1:]]\n",
        "    \n",
        "    return sorted(info, key = lambda x : (fight_divide_squr_dist(info[x][0],info[x][1], info[x][2]), info[x][2]), reverse = True)\n",
        "\n",
        "\n",
        "n = int(input())\n",
        "res = findthigh1(n)\n",
        "for i in res:\n",
        "    print(i)"
      ],
      "metadata": {
        "colab": {
          "base_uri": "https://localhost:8080/"
        },
        "id": "W53-YYZy6oSI",
        "outputId": "1e2780f0-b69b-468a-d639-e366aff637de"
      },
      "execution_count": 5,
      "outputs": [
        {
          "output_type": "stream",
          "name": "stdout",
          "text": [
            "3\n",
            "小習 3 4 20\n",
            "小川 4 3 25\n",
            "小英 8 6 100\n",
            "小英\n",
            "小川\n",
            "小習\n"
          ]
        }
      ]
    },
    {
      "cell_type": "markdown",
      "source": [
        "# 出裝備\n",
        "\n",
        "---\n",
        "\n",
        "\n",
        "Description\n",
        "\n",
        "在很多線上遊戲裡面，玩家都可以使用金幣來購買裝備，並且可以透過合成裝備來取得更強力的裝備。\n",
        "舉例來說：玩家可以消費 350 金幣購買一個把長劍，消費 450 金幣購買一個抗魔斗篷，並且額外花費 600 金幣將兩者合成為吸魔劍，總共花費 1400 金幣。\n",
        "\n",
        "給定數個取得公式，和數個道具名稱，請輸出購買這些裝備所需的金幣數量。\n",
        "輸入的第一部分為取得公式，其中第一行n為取得公式的數量，以下為n行取得公式。\n",
        "取得裝備的公式格式如下：[裝備] [金額] [所需裝備1] [所需裝備2]...\n",
        "若該道具可以直接購買，則所需裝備的位置會留空。\n",
        "輸入的第二部分為想取得的道具，其中第一行 m 為想取得的道具數量，以下 m 行各包含一個字串為道具名稱。\n",
        "道具的取得之間是獨立的，每一次所要花費的金幣並不會因為你上一次取得了這次所需的道具而改變。\n",
        "輸出包含m行，每行為各個想購買的道具的總價。\n",
        "\n",
        "測資保證一個道具只會有一個取得公式，保證想取得的道具公式都存在，並且保證所有所需裝備的取得公式也存在。\n",
        "\n",
        "\n",
        "Input\n",
        "輸入的第一部分為 n+1 行，其中第一行 n 為取得公式的數量，以下為 n 行取得公式。\n",
        "取得裝備的公式格式如下：[裝備] [金額] [所需裝備1] [所需裝備2]...\n",
        "\n",
        "輸入的第二部分為 m+1 行，其中第一行 m 為想取得的道具數量，以下 m 行各包含一個字串為道具名稱。\n",
        "\n",
        "\n",
        "Output\n",
        "輸出包含m行，每行為各個想購買的道具的總價。"
      ],
      "metadata": {
        "id": "XqMuXYqs62gh"
      }
    },
    {
      "cell_type": "code",
      "source": [
        "# recursive\n",
        "def equipment(n):\n",
        "    def item_content(x):\n",
        "        if len(item[x]) == 1: return item[x][0]\n",
        "        else:\n",
        "            current_price = item[x][0]\n",
        "            for sub_item in item[x][1:]:\n",
        "                current_price += item_content(sub_item)\n",
        "            return current_price\n",
        "    \n",
        "    # 裝備目錄\n",
        "    res = []\n",
        "    item = {}\n",
        "    for i in range(n):\n",
        "        temp = input().split()\n",
        "        item[temp[0]] = [int(temp[1])] + temp[2:]\n",
        "\n",
        "    # 買裝清單\n",
        "    m = int(input())\n",
        "    buylist = [input() for _ in range(m)]\n",
        "\n",
        "    # 價錢遞迴\n",
        "    for equ in buylist:\n",
        "        res.append(item_content(equ))\n",
        "\n",
        "    return res\n",
        "    \n",
        "n = int(input())\n",
        "res = equipment(n)\n",
        "for i in res:\n",
        "    print(i)"
      ],
      "metadata": {
        "colab": {
          "base_uri": "https://localhost:8080/"
        },
        "id": "KoQIukBm60i5",
        "outputId": "d6d72264-4c49-487b-dd59-0c97e23e2da5"
      },
      "execution_count": 6,
      "outputs": [
        {
          "output_type": "stream",
          "name": "stdout",
          "text": [
            "3\n",
            "吸魔劍 600 長劍 抗魔斗篷\n",
            "抗魔斗篷 450\n",
            "長劍 350\n",
            "2\n",
            "吸魔劍\n",
            "長劍\n",
            "1400\n",
            "350\n"
          ]
        }
      ]
    }
  ]
}