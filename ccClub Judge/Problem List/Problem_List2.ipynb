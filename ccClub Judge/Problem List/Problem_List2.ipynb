{
  "cells": [
    {
      "cell_type": "markdown",
      "metadata": {
        "id": "view-in-github",
        "colab_type": "text"
      },
      "source": [
        "<a href=\"https://colab.research.google.com/github/DrDAN6770/ccClub_2023/blob/main/ccClub%20Judge/Problem%20List/Problem_List2.ipynb\" target=\"_parent\"><img src=\"https://colab.research.google.com/assets/colab-badge.svg\" alt=\"Open In Colab\"/></a>"
      ]
    },
    {
      "cell_type": "markdown",
      "metadata": {
        "id": "TAfKcDptD2-U"
      },
      "source": [
        "#8-2：最長字串\n",
        "\n",
        "---\n",
        "\n",
        "\n",
        "Description\n",
        "\n",
        "給定一個內容物皆為字串(str)的串列l ，並且實作一個函式 longest_str()，參數為串列l。函式的輸出值為串列中長度最長的字串，若長度相同，則回傳 index 較小的。\n",
        "\n",
        "\n",
        "Input\n",
        "輸入為一行，包含數個字串以空白間隔，請將其轉換為一個串列\n",
        "\n",
        "\n",
        "Output\n",
        "輸出為一行，包含此串列中最長的一個字串"
      ]
    },
    {
      "cell_type": "code",
      "execution_count": null,
      "metadata": {
        "colab": {
          "base_uri": "https://localhost:8080/"
        },
        "id": "saLVqdEPCFfM",
        "outputId": "4009070b-5be0-4afa-b5a0-6ca8a22ae9fc"
      },
      "outputs": [
        {
          "name": "stdout",
          "output_type": "stream",
          "text": [
            "apple python Plasma\n",
            "python\n"
          ]
        }
      ],
      "source": [
        "def longest_str(L):\n",
        "  max_len = max(map(len,L))\n",
        "  for i in L:\n",
        "    if len(i) == max_len:\n",
        "      return i  # 找到第一個(index小的)就會回傳\n",
        "L = input().split(\" \")\n",
        "print(longest_str(L))"
      ]
    },
    {
      "cell_type": "markdown",
      "metadata": {
        "id": "uJybVpj9KbyJ"
      },
      "source": [
        "#8-3：及格門檻\n",
        "\n",
        "---\n",
        "\n",
        "\n",
        "Description\n",
        "\n",
        "給定一個內容物皆為整數(int)的串列 l ，以及數字 t，實作一個函式 threshold()，參數為串列 l 以及整數t，函式的回傳值為串列。請判斷原始串列中每個值是否大於或等於門檻，再將此函式回傳的串列印出。\n",
        "\n",
        "\n",
        "Input\n",
        "給定兩行輸入，第一行包含數個整數，以空白為間隔，請轉換為一個內容物皆為整數(int)的串列 l 。第二行包含一個數字 t。\n",
        "\n",
        "\n",
        "Output\n",
        "輸出為一行，包含一個串列，內容為數個 bool 值。"
      ]
    },
    {
      "cell_type": "code",
      "execution_count": null,
      "metadata": {
        "colab": {
          "base_uri": "https://localhost:8080/"
        },
        "id": "TEy5Pov_KdH6",
        "outputId": "8209f433-991a-480f-af12-9a9b8afecd2d"
      },
      "outputs": [
        {
          "output_type": "stream",
          "name": "stdout",
          "text": [
            "1 2 3 4 5 6 7\n",
            "4\n",
            "[False, False, False, True, True, True, True]\n"
          ]
        }
      ],
      "source": [
        "#50 70 90、60\n",
        "def threshold(L,t):\n",
        "  return [i >= t for i in map(int,L)]\n",
        "\n",
        "L = input().split()\n",
        "t = int(input())\n",
        "print(threshold(L,t))"
      ]
    },
    {
      "cell_type": "markdown",
      "source": [
        "#8-4：最大公因數\n",
        "\n",
        "---\n",
        "\n",
        "\n",
        "Description\n",
        "\n",
        "給定兩個串列 l1 和 l2 ，內容物皆為整數(int)。\n",
        "\n",
        "實作一個函式 gcd() ，參數為兩串列 l1 以及 l2，請找出兩串列中相同 index 兩個數字的最大公因數，並儲存在串列(list)中回傳。\n",
        "\n",
        "\n",
        "Input\n",
        "輸入有兩行，包含數個整數，以空白分隔，請將他們轉換成串列 l1 和 l2 ，內容物皆為整數(int)。\n",
        "\n",
        "\n",
        "Output\n",
        "輸出有一行，包含一個內容為整數的串列"
      ],
      "metadata": {
        "id": "ejnmdTvpTxo1"
      }
    },
    {
      "cell_type": "code",
      "source": [
        "#2 12 24\n",
        "#4 6 15\n",
        "\n",
        "def gcd(L1,L2):\n",
        "  gcd = []\n",
        "  for i,v in zip(L1,L2):\n",
        "    for k in range(min(i,v),0,-1):\n",
        "      if i % k == 0 and v % k == 0:\n",
        "        gcd.append(k)\n",
        "        break\n",
        "  return gcd\n",
        "\n",
        "L1 = map(int,input().split())\n",
        "L2 = map(int,input().split())\n",
        "print(gcd(L1,L2))"
      ],
      "metadata": {
        "colab": {
          "base_uri": "https://localhost:8080/"
        },
        "id": "iuEXGrN6TzW6",
        "outputId": "b405b3d6-102c-4fdb-c1fd-b57ec7d4e0d9"
      },
      "execution_count": null,
      "outputs": [
        {
          "output_type": "stream",
          "name": "stdout",
          "text": [
            "10 30\n",
            "20 600\n",
            "[10, 30]\n"
          ]
        }
      ]
    },
    {
      "cell_type": "markdown",
      "source": [
        "#9-1：數字總和排序(*)\n",
        "\n",
        "---\n",
        "\n",
        "\n",
        "Description\n",
        "\n",
        "給定一個 list ，排序規則：依照數字的每個位數總和（ex：123 的各個位數總和為 6 ），由小到大排，並且輸出。\n",
        "\n",
        "\n",
        "Input\n",
        "給定一行輸入，包含數個整數，以空白為間隔，請將之轉換成一個 list\n",
        "\n",
        "\n",
        "Output\n",
        "輸出為一行，包含一個內容為整數的串列"
      ],
      "metadata": {
        "id": "2-Vzh1f1EUCd"
      }
    },
    {
      "cell_type": "code",
      "source": [
        "Lst = input().split()\n",
        "#i代表Lst第幾個值\n",
        "#int(d) for d 位數轉整數型態再相加\n",
        "newLst = map(int,sorted(Lst,key = lambda i:sum(int(d) for d in i)))\n",
        "print(list(newLst))"
      ],
      "metadata": {
        "colab": {
          "base_uri": "https://localhost:8080/"
        },
        "id": "V3TDzxmkEvh4",
        "outputId": "0be28e4d-3eef-4c03-b7f6-e7cd3b2131a5"
      },
      "execution_count": null,
      "outputs": [
        {
          "output_type": "stream",
          "name": "stdout",
          "text": [
            "123 221 5\n",
            "[221, 5, 123]\n"
          ]
        }
      ]
    },
    {
      "cell_type": "markdown",
      "source": [
        "#9-2：字串反轉排序\n",
        "\n",
        "---\n",
        "\n",
        "\n",
        "Description\n",
        "\n",
        "給定一個 list ，內容物皆為字串(str)，排序規則：依照字串反轉的結果（ex：'abc' 反轉後是 'cba' ），由小到大排並輸出。\n",
        "\n",
        "\n",
        "Input\n",
        "給定一行輸入，包含數個字串以空白間隔，請將之轉換成一個 list"
      ],
      "metadata": {
        "id": "uQFJc_pTKTus"
      }
    },
    {
      "cell_type": "code",
      "source": [
        "lst = input().split()\n",
        "# reversed() 返回一個reverse物件(iterator)\n",
        "newlst = sorted(lst,key = lambda i:list(reversed(i)))\n",
        "print(newlst)"
      ],
      "metadata": {
        "colab": {
          "base_uri": "https://localhost:8080/"
        },
        "id": "gAvxFSBMKck3",
        "outputId": "f8fd864c-6205-42d1-dc54-29e0b6922016"
      },
      "execution_count": null,
      "outputs": [
        {
          "output_type": "stream",
          "name": "stdout",
          "text": [
            "apple btc python\n",
            "['btc', 'apple', 'python']\n"
          ]
        }
      ]
    },
    {
      "cell_type": "markdown",
      "source": [
        "#10-1：階乘\n",
        "\n",
        "---\n",
        "\n",
        "\n",
        "Description\n",
        "\n",
        "我們在課程中介紹過階乘，0! = 1，1! =1，n! = n*(n-1)!，輸入 n ，請輸出 n! 的值。\n",
        "\n",
        "\n",
        "Input\n",
        "輸入有一行，包含一個正整數n\n",
        "\n",
        "\n",
        "Output\n",
        "請輸出一個整數，值為n!"
      ],
      "metadata": {
        "id": "2Ax4wFrMMloC"
      }
    },
    {
      "cell_type": "code",
      "source": [
        "def n_factorial(n):\n",
        "  k = 1\n",
        "  for i in range(1,n+1):\n",
        "    k *= i\n",
        "  return k\n",
        "\n",
        "def n_factorial2(n):\n",
        "  if n == 0 or n == 1:\n",
        "    return 1\n",
        "  else:\n",
        "    d = [1,1] + [1]*(n-1)\n",
        "    for i in range(2,n+1):\n",
        "      d[i] = i*d[i-1]\n",
        "    return d[n]\n",
        "n = int(input())\n",
        "print(n_factorial(n))\n",
        "print(n_factorial2(n))"
      ],
      "metadata": {
        "colab": {
          "base_uri": "https://localhost:8080/"
        },
        "id": "jTuJQAehMlC7",
        "outputId": "e4d996bb-d447-4be3-9d64-05a25a0a5a59"
      },
      "execution_count": null,
      "outputs": [
        {
          "output_type": "stream",
          "name": "stdout",
          "text": [
            "5\n",
            "120\n",
            "120\n"
          ]
        }
      ]
    },
    {
      "cell_type": "markdown",
      "source": [
        "#10-2：自訂費式數列\n",
        "\n",
        "---\n",
        "\n",
        "\n",
        "Description\n",
        "\n",
        "已知 f(0) = 0，f(1) = 1，f(2) = 2，f(n) = f(n-1) + f(n-2) + f(n-3)。輸入數字 n ，輸出 f(n)。\n",
        "\n",
        "\n",
        "Input\n",
        "輸入為一行，包含一個正整數n\n",
        "\n",
        "\n",
        "Output\n",
        "請輸出f(n)"
      ],
      "metadata": {
        "id": "QeHOdcH4PyLl"
      }
    },
    {
      "cell_type": "code",
      "source": [
        "def f(n):\n",
        "  if n == 0:return 0\n",
        "  elif n == 1 :return 1\n",
        "  elif n == 2 :return 2\n",
        "  else:\n",
        "    d = [0,1,2] + [0]*(n-2)\n",
        "    for i in range(3,n+1):\n",
        "      d[i] = d[i-1] + d[i-2] + d[i-3]\n",
        "    return d[n]\n",
        "n = int(input())\n",
        "print(f(n))"
      ],
      "metadata": {
        "colab": {
          "base_uri": "https://localhost:8080/"
        },
        "id": "g9U_wcwbPz5H",
        "outputId": "257a59d3-849b-46df-d7cc-063fb8067eb0"
      },
      "execution_count": null,
      "outputs": [
        {
          "output_type": "stream",
          "name": "stdout",
          "text": [
            "3\n",
            "3\n"
          ]
        }
      ]
    },
    {
      "cell_type": "markdown",
      "source": [
        "#11-1：平方字典\n",
        "\n",
        "---\n",
        "\n",
        "\n",
        "Description\n",
        "\n",
        "給定一個整數 n ，請利用字典，印出小於等於n的數字以及他的平方。\n",
        "\n",
        "\n",
        "Input\n",
        "輸入為一行，包含一個整數n\n",
        "\n",
        "\n",
        "Output\n",
        "輸出為n行，每行包含一個數字以及他的平方數"
      ],
      "metadata": {
        "id": "GppCbL3bSMTM"
      }
    },
    {
      "cell_type": "code",
      "source": [
        "n = int(input())\n",
        "d = {k:k**2 for k in range(1,n+1)}\n",
        "for k,v in d.items():\n",
        "  print(k,v)"
      ],
      "metadata": {
        "colab": {
          "base_uri": "https://localhost:8080/"
        },
        "id": "bCWyJMQiSNdr",
        "outputId": "bba54dab-2bd4-4512-b66e-998b7d79b6e5"
      },
      "execution_count": null,
      "outputs": [
        {
          "output_type": "stream",
          "name": "stdout",
          "text": [
            "3\n",
            "1 1\n",
            "2 4\n",
            "3 9\n"
          ]
        }
      ]
    },
    {
      "cell_type": "markdown",
      "source": [
        "#11-2：字串字典 (*)\n",
        "\n",
        "---\n",
        "\n",
        "\n",
        "Description\n",
        "\n",
        "給定一個字串 s，請利用字典，依照字母順序輸出此字串中每個不同字元的出現次數。\n",
        "\n",
        "英文大小寫視為一樣，若出現非英文字母的符號將不計（詳見 sample input 2）\n",
        "\n",
        "\n",
        "Input\n",
        "輸入為一行，包含一個字串s\n",
        "\n",
        "\n",
        "Output\n",
        "輸出為一行，依照字母順序輸出此字串中每個不同字元的出現次數，以空白間隔。"
      ],
      "metadata": {
        "id": "D_S0vk0YTjdR"
      }
    },
    {
      "cell_type": "code",
      "source": [
        "s = input().lower()\n",
        "d = {k:s.count(k) for k in s if k.isalpha()}\n",
        "sort_d = dict(sorted(d.items()))\n",
        "for k,v in sort_d.items():\n",
        "  print(k,v,sep = '',end = ' ')"
      ],
      "metadata": {
        "colab": {
          "base_uri": "https://localhost:8080/"
        },
        "id": "2-cBeGIGTl3g",
        "outputId": "455231e3-e2ef-4fb9-be03-ab70ee6783bb"
      },
      "execution_count": null,
      "outputs": [
        {
          "output_type": "stream",
          "name": "stdout",
          "text": [
            "python3\n",
            "h1 n1 o1 p1 t1 y1 "
          ]
        }
      ]
    },
    {
      "cell_type": "markdown",
      "source": [
        "#綜合1-1：Three Sum(**)\n",
        "\n",
        "\n",
        "---\n",
        "\n",
        "\n",
        "Description\n",
        "\n",
        "給定一個由小至大且長度大於三的串列 lst，若其中三個數字的總和為 0 ，按照 index 大小由小到大將其輸出。\n",
        "\n",
        "\n",
        "Input\n",
        "給定一行輸入，內容為三個以上的整數由小至大排列，整數間以空格分開，請轉換為串列 lst\n",
        "\n",
        "\n",
        "Output\n",
        "輸出為數行，各包含三個整數，以空格分隔"
      ],
      "metadata": {
        "id": "TgkP1bAmXiLd"
      }
    },
    {
      "cell_type": "code",
      "source": [
        "# target = -v-x\n",
        "def threesum2(lst):\n",
        "  res = set()\n",
        "  for i, v in enumerate(lst[:-2]):\n",
        "    d = {}\n",
        "    for x in lst[i+1:]:\n",
        "        if x not in d:\n",
        "            d[-v-x] = 1\n",
        "        else:\n",
        "            res.add((v, -v-x, x))\n",
        "  return list(res)\n",
        "lst = [int(i) for i in input().split()]\n",
        "lst.sort()\n",
        "for i in threesum2(lst):\n",
        "  print(*i)"
      ],
      "metadata": {
        "colab": {
          "base_uri": "https://localhost:8080/"
        },
        "id": "qhSoUnMosyRC",
        "outputId": "eb8c399b-7eda-4297-cdf1-8b3bdaa26271"
      },
      "execution_count": null,
      "outputs": [
        {
          "output_type": "stream",
          "name": "stdout",
          "text": [
            "1 2 3 8 -7 -10 -8 -7 -6 -5 5 4 3\n",
            "-6 2 4\n",
            "-8 3 5\n",
            "-7 2 5\n",
            "-10 2 8\n",
            "-6 3 3\n",
            "-5 2 3\n",
            "-6 1 5\n",
            "-7 3 4\n",
            "-5 1 4\n"
          ]
        }
      ]
    },
    {
      "cell_type": "code",
      "source": [
        "#a = -(b+c)\n",
        "#用set()來解決重複的解，但依然會去計算那組\n",
        "def threeSum3(nums):\n",
        "  sorted_nums = sorted(nums)\n",
        "  result = []\n",
        "  for i in range(len(sorted_nums)):\n",
        "      l = i + 1\n",
        "      r = len(sorted_nums) - 1\n",
        "      target = 0 - sorted_nums[i] # a+b+c = 0 > target = 0 - item >> a = -(b+c)\n",
        "      while i < l < r:\n",
        "          if sorted_nums[l] + sorted_nums[r] == target:\n",
        "              result.append((sorted_nums[i], sorted_nums[l], sorted_nums[r]))\n",
        "              l += 1\n",
        "              r -= 1\n",
        "          elif sorted_nums[l] + sorted_nums[r] < target:\n",
        "              l += 1\n",
        "          else:\n",
        "              r -= 1\n",
        "  return result\n",
        "\n",
        "nums = [int(i) for i in input().split()]\n",
        "for i in threeSum3(nums):\n",
        "  print(*i)"
      ],
      "metadata": {
        "colab": {
          "base_uri": "https://localhost:8080/"
        },
        "id": "JHo2d-k0udcy",
        "outputId": "9004023d-199b-4bb0-b5b6-3ae1f1925ed9"
      },
      "execution_count": null,
      "outputs": [
        {
          "output_type": "stream",
          "name": "stdout",
          "text": [
            "1 2 3 8 -7 -10 -8 -7 -6 -5 5 4 3\n",
            "-10 2 8\n",
            "-8 3 5\n",
            "-7 2 5\n",
            "-7 3 4\n",
            "-7 2 5\n",
            "-7 3 4\n",
            "-6 1 5\n",
            "-6 2 4\n",
            "-6 3 3\n",
            "-5 1 4\n",
            "-5 2 3\n"
          ]
        }
      ]
    },
    {
      "cell_type": "code",
      "source": [
        "# list.append()\n",
        "# 在執行while判斷RL重複值時會skip掉\n",
        "def threeSum4(nums):\n",
        "    sorted_lst = sorted(nums)\n",
        "    triplets = [] # We will store all the valid triplets in here\n",
        "    \n",
        "    for i in range(len(sorted_lst)):\n",
        "        if i > 0 and sorted_lst[i - 1] == sorted_lst[i]:\n",
        "            continue # Skip duplicates            \n",
        "        left = i + 1\n",
        "        right = len(sorted_lst) - 1\n",
        "        \n",
        "        while left < right:\n",
        "            curSum = sorted_lst[i] + sorted_lst[left] + sorted_lst[right]\n",
        "            if curSum == 0:\n",
        "                triplets.append([sorted_lst[i],sorted_lst[left],sorted_lst[right]])\n",
        "                left += 1\n",
        "                right -= 1;\n",
        "                \n",
        "                # Skip all duplicates on left side\n",
        "                while left < right and sorted_lst[left - 1] == sorted_lst[left]:\n",
        "                    left += 1\n",
        "                \n",
        "                # Skip all duplicates on right side\n",
        "                while left < right and sorted_lst[right + 1] == sorted_lst[right]:\n",
        "                    right -= 1\n",
        "            elif curSum < 0:\n",
        "                left += 1 # Our sum is too small, so we try to increase the sum\n",
        "            else:\n",
        "                right -= 1 # Our sum is too big, so we try to decrease the sum\n",
        "    \n",
        "    return triplets\n",
        "nums = [int(i) for i in input().split()]\n",
        "\n",
        "for i in threeSum4(nums):\n",
        "    print(*i)"
      ],
      "metadata": {
        "colab": {
          "base_uri": "https://localhost:8080/"
        },
        "id": "901qPW4t4Ext",
        "outputId": "19e3d387-f60f-4526-fd3c-7342af064ae2"
      },
      "execution_count": null,
      "outputs": [
        {
          "output_type": "stream",
          "name": "stdout",
          "text": [
            "1 2 3 8 -7 -10 -8 -7 -6 -5 5 4 3\n",
            "-10 2 8\n",
            "-8 3 5\n",
            "-7 2 5\n",
            "-7 3 4\n",
            "-6 1 5\n",
            "-6 2 4\n",
            "-6 3 3\n",
            "-5 1 4\n",
            "-5 2 3\n"
          ]
        }
      ]
    },
    {
      "cell_type": "code",
      "source": [
        "# list.append()\n",
        "# 在執行while判斷RL重複值時會skip掉\n",
        "def threeSum4(nums):\n",
        "    sorted_lst = sorted(nums)\n",
        "    triplets = [] # We will store all the valid triplets in here\n",
        "    \n",
        "    for i in range(len(sorted_lst)):\n",
        "        if i > 0 and sorted_lst[i - 1] == sorted_lst[i]:\n",
        "            continue # Skip duplicates            \n",
        "        left = i + 1\n",
        "        right = len(sorted_lst) - 1\n",
        "        \n",
        "        while i < left < right:\n",
        "            curSum = sorted_lst[i] + sorted_lst[left] + sorted_lst[right]\n",
        "            if curSum == 0:\n",
        "                triplets.append([sorted_lst[i],sorted_lst[left],sorted_lst[right]])\n",
        "                left += 1\n",
        "                right -= 1;\n",
        "                \n",
        "                # Skip all duplicates on left side\n",
        "                while left < right and sorted_lst[left - 1] == sorted_lst[left]:\n",
        "                    left += 1\n",
        "                \n",
        "                # Skip all duplicates on right side\n",
        "                while left < right and sorted_lst[right + 1] == sorted_lst[right]:\n",
        "                    right -= 1\n",
        "            elif curSum < 0:\n",
        "                left += 1 # Our sum is too small, so we try to increase the sum\n",
        "            else:\n",
        "                right -= 1 # Our sum is too big, so we try to decrease the sum\n",
        "    \n",
        "    return triplets\n",
        "nums = [int(i) for i in input().split()]\n",
        "\n",
        "for i in threeSum4(nums):\n",
        "    print(*i)"
      ],
      "metadata": {
        "colab": {
          "base_uri": "https://localhost:8080/"
        },
        "id": "ktEu0F_UT7v9",
        "outputId": "6bdd551c-3f9b-488b-9c9d-9d867efb635f"
      },
      "execution_count": null,
      "outputs": [
        {
          "output_type": "stream",
          "name": "stdout",
          "text": [
            "1 2 3 8 -7 -10 -8 -7 -6 -5 5 4 3\n",
            "-10 2 8\n",
            "-8 3 5\n",
            "-7 2 5\n",
            "-7 3 4\n",
            "-6 1 5\n",
            "-6 2 4\n",
            "-6 3 3\n",
            "-5 1 4\n",
            "-5 2 3\n"
          ]
        }
      ]
    },
    {
      "cell_type": "code",
      "source": [
        "def threeSum5(nums):\n",
        "    sorted_lst = sorted(nums)\n",
        "    result = []\n",
        "    \n",
        "    for i in range(len(sorted_lst)):\n",
        "        if i > 0 and sorted_lst[i - 1] == sorted_lst[i]:\n",
        "            continue # 跳重複           \n",
        "        left = i + 1\n",
        "        right = len(sorted_lst) - 1\n",
        "        \n",
        "        while i < left < right:\n",
        "            curSum = sorted_lst[i] + sorted_lst[left] + sorted_lst[right]\n",
        "            if curSum == 0:\n",
        "                result.append([sorted_lst[i],sorted_lst[left],sorted_lst[right]])\n",
        "                left += 1\n",
        "                right -= 1;\n",
        "                \n",
        "                # 跳左邊重複\n",
        "                while left < right and sorted_lst[left - 1] == sorted_lst[left]:\n",
        "                    left += 1\n",
        "                \n",
        "                # 跳右邊重複\n",
        "                while left < right and sorted_lst[right + 1] == sorted_lst[right]:\n",
        "                    right -= 1\n",
        "            elif curSum < 0:\n",
        "                left += 1\n",
        "            else:\n",
        "                right -= 1\n",
        "    return triplets\n",
        "\n",
        "nums = [int(i) for i in input().split()]\n",
        "triplets = threeSum5(nums)\n",
        "print(triplets)\n",
        "#index_dict = {num: i for i, num in enumerate(nums)} #原本lst的值與index\n",
        "index_dict = {}\n",
        "for i, num in enumerate(nums):\n",
        "    if num not in index_dict:\n",
        "        index_dict[num] = []\n",
        "    index_dict[num].append(i)\n",
        "print(index_dict)\n",
        "print(\"Output:\")\n",
        "for i in triplets:\n",
        "    sorted_triplet = sorted(i, key=lambda x: index_dict[x])\n",
        "    print(*sorted_triplet)\n"
      ],
      "metadata": {
        "colab": {
          "base_uri": "https://localhost:8080/"
        },
        "id": "JJfIVuzSN1sj",
        "outputId": "2d5335c4-2c50-4207-a7b0-a77908adbf3f"
      },
      "execution_count": null,
      "outputs": [
        {
          "output_type": "stream",
          "name": "stdout",
          "text": [
            "1 2 3 8 -7 -10 -8 -7 -6 -5 5 4 3\n",
            "[[-10, 2, 8], [-8, 3, 5], [-7, 2, 5], [-7, 3, 4], [-6, 1, 5], [-6, 2, 4], [-6, 3, 3], [-5, 1, 4], [-5, 2, 3]]\n",
            "{1: [0], 2: [1], 3: [2, 12], 8: [3], -7: [4, 7], -10: [5], -8: [6], -6: [8], -5: [9], 5: [10], 4: [11]}\n",
            "Output:\n",
            "2 8 -10\n",
            "3 -8 5\n",
            "2 -7 5\n",
            "3 -7 4\n",
            "1 -6 5\n",
            "2 -6 4\n",
            "3 3 -6\n",
            "1 -5 4\n",
            "2 3 -5\n"
          ]
        }
      ]
    },
    {
      "cell_type": "code",
      "source": [
        "def threeSum(nums):\n",
        "    for i,x in enumerate(nums[:-2]):\n",
        "        for j,y in enumerate(nums[i+1:-1],i+1):\n",
        "            for k,z in enumerate(nums[j+1:],j+1):\n",
        "                if x+y+z==0:\n",
        "                    print(x,y,z,sep=\" \")\n",
        "\n",
        "nums = [int(i) for i in input().split()]\n",
        "result = threeSum(nums)"
      ],
      "metadata": {
        "colab": {
          "base_uri": "https://localhost:8080/"
        },
        "id": "wNi3nld0z4_t",
        "outputId": "a0edbb74-68ee-4f2d-ffff-24f0cafb3098"
      },
      "execution_count": null,
      "outputs": [
        {
          "output_type": "stream",
          "name": "stdout",
          "text": [
            "0 0 0 0\n",
            "0 0 0\n",
            "0 0 0\n",
            "0 0 0\n",
            "0 0 0\n"
          ]
        }
      ]
    },
    {
      "cell_type": "code",
      "source": [
        "# 符合題意 & 最好理解\n",
        "def threeSum(nums):\n",
        "    n = len(nums)\n",
        "    result = []\n",
        "    for i in range(n - 2):\n",
        "        for j in range(i + 1, n - 1):\n",
        "            for k in range(j + 1, n):\n",
        "                if nums[i] + nums[j] + nums[k] == 0:\n",
        "                    result.append([nums[i], nums[j], nums[k]])\n",
        "    return result\n",
        "\n",
        "nums = [int(i) for i in input().split()]\n",
        "result = threeSum(nums)\n",
        "for r in result:\n",
        "    print(*r)"
      ],
      "metadata": {
        "colab": {
          "base_uri": "https://localhost:8080/"
        },
        "id": "HfENudXK3YdJ",
        "outputId": "fb7cc8d1-86ac-4032-b25b-a0dc3dc371cd"
      },
      "execution_count": null,
      "outputs": [
        {
          "output_type": "stream",
          "name": "stdout",
          "text": [
            "1 2 3 8 -7 -10 -8 -7 -6 -5 5 4 3\n",
            "1 -6 5\n",
            "1 -5 4\n",
            "2 3 -5\n",
            "2 8 -10\n",
            "2 -7 5\n",
            "2 -7 5\n",
            "2 -6 4\n",
            "2 -5 3\n",
            "3 -7 4\n",
            "3 -8 5\n",
            "3 -7 4\n",
            "3 -6 3\n",
            "-7 4 3\n",
            "-8 5 3\n",
            "-7 4 3\n"
          ]
        }
      ]
    },
    {
      "cell_type": "markdown",
      "source": [
        "#綜合1-2：一奇多偶(*)\n",
        "\n",
        "---\n",
        "\n",
        "\n",
        "Description\n",
        "\n",
        "給一個內含整數的串列 lst，其中只有一個元素出現過奇數次，其餘元素皆出現偶數次，找出出現奇數次的值並將其印出。\n",
        "\n",
        "\n",
        "Input\n",
        "輸入為一行，包含數個整數，以空格分隔\n",
        "\n",
        "\n",
        "Output\n",
        "輸出為一行，包含一個整數"
      ],
      "metadata": {
        "id": "uoaLxKQk7h1S"
      }
    },
    {
      "cell_type": "code",
      "source": [
        "# if list 不只一個元素出現奇數次\n",
        "def f2(n):\n",
        "  n_set = set(n) #移除重複，原先list重複count(i)\n",
        "  #{num:count}\n",
        "  nums = {i:n.count(i) for i in n_set}\n",
        "\n",
        "  #[count=odd nums]\n",
        "  count_odd_nums = []\n",
        "  for k,v in nums.items():\n",
        "    if v%2 != 0:\n",
        "      count_odd_nums.append(k)\n",
        "      if len(count_odd_nums) >= 2:\n",
        "        break\n",
        "  return count_odd_nums\n",
        "n = [int(i) for i in input().split()]\n",
        "print(*f2(n))"
      ],
      "metadata": {
        "colab": {
          "base_uri": "https://localhost:8080/"
        },
        "id": "ygH_AOn8CWTr",
        "outputId": "9ec9021f-4bd9-4852-fdd3-5013bf097b92"
      },
      "execution_count": null,
      "outputs": [
        {
          "output_type": "stream",
          "name": "stdout",
          "text": [
            "1 2 3 2 1 1 1 3 3 3 3\n",
            "3\n"
          ]
        }
      ]
    },
    {
      "cell_type": "code",
      "source": [
        "def f3(n):\n",
        "  #{num:count}\n",
        "  nums = {}\n",
        "  for i in n:\n",
        "    nums[i] = nums.get(i,0) + 1\n",
        "    \n",
        "  #[count=odd nums]\n",
        "  count_odd_nums = []\n",
        "  for k,v in nums.items():\n",
        "    if v%2 != 0:\n",
        "      count_odd_nums.append(k)\n",
        "      if len(count_odd_nums) >= 2:\n",
        "        break\n",
        "  return count_odd_nums\n",
        "n = [int(i) for i in input().split()]\n",
        "print(*f3(n))"
      ],
      "metadata": {
        "colab": {
          "base_uri": "https://localhost:8080/"
        },
        "id": "wG6Bg7bSFpbP",
        "outputId": "beec134c-6bb2-4cde-aa7e-99302124e2ad"
      },
      "execution_count": null,
      "outputs": [
        {
          "output_type": "stream",
          "name": "stdout",
          "text": [
            "1 2 3 2 1 1 1 3 3 3 3\n",
            "3\n"
          ]
        }
      ]
    },
    {
      "cell_type": "code",
      "source": [
        "def f4(n):\n",
        "  #{num:count}\n",
        "  nums = {}\n",
        "  for i in n:\n",
        "    nums[i] = nums.get(i,0) + 1\n",
        "\n",
        "  for k in nums:\n",
        "    if nums[k] % 2 != 0:\n",
        "      return k\n",
        "\n",
        "n = [int(i) for i in input().split()]\n",
        "print(f4(n))"
      ],
      "metadata": {
        "colab": {
          "base_uri": "https://localhost:8080/"
        },
        "id": "SOudg0CJIPIp",
        "outputId": "e28fcea3-2560-47d4-afb0-1e0614802323"
      },
      "execution_count": null,
      "outputs": [
        {
          "output_type": "stream",
          "name": "stdout",
          "text": [
            "1 2 3 2 1 1 1 3 3 3 3\n",
            "3\n"
          ]
        }
      ]
    },
    {
      "cell_type": "markdown",
      "source": [
        "#綜合1-3：字母數（ㄕㄨˇ）數（ㄕㄨˋ）\n",
        "\n",
        "---\n",
        "\n",
        "\n",
        "Description\n",
        "\n",
        "輸入一個字串（保證皆為小寫英文字母），依照字母順序 a~z，輸出每個英文字母以及他出現的次數。\n",
        "\n",
        "\n",
        "Input\n",
        "輸入為一行，包含一個字串\n",
        "\n",
        "\n",
        "Output\n",
        "輸出為一個字串，包含數個字母以及其出現的次數"
      ],
      "metadata": {
        "id": "8AqVZTATdg_L"
      }
    },
    {
      "cell_type": "code",
      "source": [
        "# Method1 -> O(n^2)\n",
        "s = input()\n",
        "countAlpha = []\n",
        "singleS = sorted(set(s))\n",
        "\n",
        "for char in singleS: #O(n)\n",
        "  if char not in countAlpha:\n",
        "    countAlpha.append(f'{char}{s.count(char)}') #O(n)\n",
        "\n",
        "print(*countAlpha,sep=\"\")\n",
        "print(''.join(countAlpha))"
      ],
      "metadata": {
        "colab": {
          "base_uri": "https://localhost:8080/"
        },
        "id": "BUXZDB3FdiVH",
        "outputId": "2b268e67-37f3-4ce1-8d2e-969a20baa69e"
      },
      "execution_count": null,
      "outputs": [
        {
          "output_type": "stream",
          "name": "stdout",
          "text": [
            "pneumonoultramicroscopicsilicovolcanoconiosis\n",
            "a2c6e1i6l3m2n4o9p2r2s4t1u2v1\n",
            "a2c6e1i6l3m2n4o9p2r2s4t1u2v1\n"
          ]
        }
      ]
    },
    {
      "cell_type": "code",
      "source": [
        "# Method2 -> O(n) .join() is more efficient\n",
        "s = input()\n",
        "countAlpha = {}\n",
        "\n",
        "for char in s:\n",
        "  countAlpha[char] = countAlpha.get(char,0) + 1\n",
        "\n",
        "countAlpha = [f'{k}{v}' for k,v in sorted(countAlpha.items())]\n",
        "print(\"\".join(countAlpha))"
      ],
      "metadata": {
        "colab": {
          "base_uri": "https://localhost:8080/"
        },
        "id": "4rRyMHLikV5r",
        "outputId": "2b176659-1b11-4bdc-afa3-dad33b5b306e"
      },
      "execution_count": null,
      "outputs": [
        {
          "output_type": "stream",
          "name": "stdout",
          "text": [
            "pneumonoultramicroscopicsilicovolcanoconiosis\n",
            "a2c6e1i6l3m2n4o9p2r2s4t1u2v1\n"
          ]
        }
      ]
    },
    {
      "cell_type": "code",
      "source": [
        "# Method3 -> O(n)\n",
        "s = input()\n",
        "countAlpha = {}\n",
        "ans = \"\"\n",
        "for char in s:\n",
        "  countAlpha[char] = countAlpha.get(char,0) + 1\n",
        "for k in sorted(countAlpha.keys()):\n",
        "  ans += f'{k}{countAlpha[k]}'\n",
        "print(ans)"
      ],
      "metadata": {
        "colab": {
          "base_uri": "https://localhost:8080/"
        },
        "id": "cXK3bY6vqd6t",
        "outputId": "1a2c4991-4926-4e9f-d4f7-15344bc603ee"
      },
      "execution_count": null,
      "outputs": [
        {
          "output_type": "stream",
          "name": "stdout",
          "text": [
            "pneumonoultramicroscopicsilicovolcanoconiosis\n",
            "a2c6e1i6l3m2n4o9p2r2s4t1u2v1\n"
          ]
        }
      ]
    },
    {
      "cell_type": "markdown",
      "source": [
        "#綜合1-4：括號合法\n",
        "\n",
        "---\n",
        "\n",
        "\n",
        "Description\n",
        "\n",
        "輸入一個字串 s，如果括號組合合法（每一個左括號都對應一個右括號且位置正確），則輸出 True，否則，輸出 False。\n",
        "\n",
        "\n",
        "Input\n",
        "輸入為一行，包含一個字串\n",
        "\n",
        "\n",
        "Output\n",
        "輸出 True 或 False"
      ],
      "metadata": {
        "id": "GmLgBgK6u7xA"
      }
    },
    {
      "cell_type": "code",
      "source": [
        "# )( )(\n",
        "# (()()) 右括出現一定可以找到一個左括\n",
        "def brackets_error(s):\n",
        "  #數量不等一定不合法\n",
        "  leftbrackets_count = s.count('(')\n",
        "  rightbrackets_count = s.count(')')\n",
        "  if leftbrackets_count != leftbrackets_count:\n",
        "    return False\n",
        "  \n",
        "  leftbrackets_stack = []\n",
        "\n",
        "  for char in s:\n",
        "    if char == '(':\n",
        "      leftbrackets_stack.append(char)\n",
        "    elif char == ')':\n",
        "      if leftbrackets_stack == []: #第一個就是右括號不合法，裡面是空的代表沒有左括號\n",
        "        return False\n",
        "      else:\n",
        "        leftbrackets_stack.pop() #配對到左括號，拿掉這個左括號\n",
        "\n",
        "  return leftbrackets_stack == []  #最後是空的代表每個右括號都有左括號配對\n",
        "\n",
        "s = input()\n",
        "print(brackets_error(s))"
      ],
      "metadata": {
        "colab": {
          "base_uri": "https://localhost:8080/"
        },
        "id": "9rcBzBOhu9Py",
        "outputId": "b76167d4-0f3c-4955-90c8-34776e8dcbad"
      },
      "execution_count": null,
      "outputs": [
        {
          "output_type": "stream",
          "name": "stdout",
          "text": [
            ")( )(\n",
            "False\n"
          ]
        }
      ]
    },
    {
      "cell_type": "markdown",
      "source": [
        "#綜合2-1：費氏數列\n",
        "\n",
        "---\n",
        "\n",
        "\n",
        "Description\n",
        "\n",
        "在遞迴的課堂中，我們介紹了使用遞迴的方式計算費氏數列。\n",
        "\n",
        "已知費氏數列的定義，\b f(0) = 0 , f(1) = 1 , f(n) = f(n-1) + f(n-2)\n",
        "\n",
        "給定一個正整數 n ，輸出一個 list ， list 中需包含 f(0) ~ f(n) 的值，共 n+1 項。\n",
        "\n",
        "注意：請勿使用遞迴的方式解此題\n",
        "\n",
        "提示：能只用 list 和 for loop 就完成此題嗎？"
      ],
      "metadata": {
        "id": "Oo0pZ2gr2-i8"
      }
    },
    {
      "cell_type": "code",
      "source": [
        "def f(n):\n",
        "  d = [0,1] + [0]*(n-1)\n",
        "  if n <= 1: return d[:n+1]\n",
        "  else:\n",
        "    for i in range(2,n+1):\n",
        "      d[i] = d[i-1] + d[i-2]\n",
        "    return d\n",
        "n = int(input())\n",
        "print(f(n))"
      ],
      "metadata": {
        "colab": {
          "base_uri": "https://localhost:8080/"
        },
        "id": "YCzSnVtx3AFt",
        "outputId": "0fb06d0d-6edd-4a2d-ce7e-1d0cb62d4733"
      },
      "execution_count": null,
      "outputs": [
        {
          "output_type": "stream",
          "name": "stdout",
          "text": [
            "2\n",
            "[0, 1, 1]\n"
          ]
        }
      ]
    },
    {
      "cell_type": "code",
      "source": [
        "def f(n):\n",
        "    d = [0,1]\n",
        "    if n <= 1: return d[:n+1]\n",
        "    for i in range(2,n+1):\n",
        "      d.append(d[i-1]+d[i-2])\n",
        "    return d\n",
        "n = int(input())\n",
        "print(f(n))"
      ],
      "metadata": {
        "colab": {
          "base_uri": "https://localhost:8080/"
        },
        "id": "MesGDajU5uCc",
        "outputId": "7269101d-90cf-4fa9-ec05-1b472188436f"
      },
      "execution_count": null,
      "outputs": [
        {
          "output_type": "stream",
          "name": "stdout",
          "text": [
            "2\n",
            "[0, 1, 1]\n"
          ]
        }
      ]
    },
    {
      "cell_type": "markdown",
      "source": [
        "#綜合2-2：字母加權排序(**)\n",
        "\n",
        "---\n",
        "\n",
        "\n",
        "Description\n",
        "\n",
        "定義一個字串的加權值算法為，將字串中每個字元，依照 a~z 的加權分數（大小寫視為相同）分別為 1~26 進行加權。\n",
        "\n",
        "舉例來說：banana = 2 + 1 + 14 + 1 + 14 + 1 = 33。\n",
        "\n",
        "給一個內容皆為字串的 list ，依照每個字串的加權值由小到大排列（若加權值相同，則依照原串列的順序即可）"
      ],
      "metadata": {
        "id": "xlXLGaGXFGgC"
      }
    },
    {
      "cell_type": "code",
      "source": [
        "def calweight(s):\n",
        "  letters = [chr(i) for i in range(97,123)] # ASCII a is 97, z is 122\n",
        "  alphatopointpairs = {letter:point for point,letter in enumerate(letters,1)}\n",
        "\n",
        "  tempsum = 0\n",
        "  for char in s:\n",
        "    if char.isalpha():\n",
        "      tempsum += alphatopointpairs[char.lower()]\n",
        "  return tempsum\n",
        "\n",
        "s = input().split()\n",
        "result = sorted(s, key=lambda x: (calweight(x), s.index(x))) #s is a list of sting, x is list[index]； if calweight(x) is same ,then compare next parameter\n",
        "print(result)\n"
      ],
      "metadata": {
        "colab": {
          "base_uri": "https://localhost:8080/"
        },
        "id": "Emfwo1jNiy3H",
        "outputId": "42d206f5-e20c-463b-c9f9-b20b75d03251"
      },
      "execution_count": 175,
      "outputs": [
        {
          "output_type": "stream",
          "name": "stdout",
          "text": [
            "Enter a string with space-separated words: Egg ccClub baNaNa\n",
            "['Egg', 'baNaNa', 'ccClub']\n"
          ]
        }
      ]
    }
  ],
  "metadata": {
    "colab": {
      "provenance": [],
      "toc_visible": true,
      "authorship_tag": "ABX9TyMc0i8NHfz0pYLNPuwBs20x",
      "include_colab_link": true
    },
    "kernelspec": {
      "display_name": "Python 3",
      "name": "python3"
    },
    "language_info": {
      "name": "python"
    }
  },
  "nbformat": 4,
  "nbformat_minor": 0
}