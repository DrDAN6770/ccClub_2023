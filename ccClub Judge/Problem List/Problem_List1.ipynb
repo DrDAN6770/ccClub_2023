{
  "nbformat": 4,
  "nbformat_minor": 0,
  "metadata": {
    "colab": {
      "provenance": [],
      "toc_visible": true,
      "authorship_tag": "ABX9TyP+H6do7uDMJe+ZjiApxkwf",
      "include_colab_link": true
    },
    "kernelspec": {
      "name": "python3",
      "display_name": "Python 3"
    },
    "language_info": {
      "name": "python"
    }
  },
  "cells": [
    {
      "cell_type": "markdown",
      "metadata": {
        "id": "view-in-github",
        "colab_type": "text"
      },
      "source": [
        "<a href=\"https://colab.research.google.com/github/DrDAN6770/ccClub_2023/blob/main/ccClub%20Judge/Problem%20List/Problem_List1.ipynb\" target=\"_parent\"><img src=\"https://colab.research.google.com/assets/colab-badge.svg\" alt=\"Open In Colab\"/></a>"
      ]
    },
    {
      "cell_type": "markdown",
      "source": [
        "# 1-1：輸出兩次\n",
        "\n",
        "\n",
        "---\n",
        "Description\n",
        "\n",
        "輸入兩個字串 s1 和 s2，將兩個字串串接起來，並輸出兩次\n",
        "\n",
        "Input\n",
        "輸入有兩行，分別為兩字串。\n",
        "\n",
        "Output\n",
        "請將兩字串串接起來以後輸出兩次。\n"
      ],
      "metadata": {
        "id": "q7TVWrp0vYFq"
      }
    },
    {
      "cell_type": "code",
      "execution_count": null,
      "metadata": {
        "colab": {
          "base_uri": "https://localhost:8080/"
        },
        "id": "4NzbTV4luh-_",
        "outputId": "9f7b1865-5fcb-473f-bda1-1bf85b7b18a8"
      },
      "outputs": [
        {
          "output_type": "stream",
          "name": "stdout",
          "text": [
            "Pine\n",
            "Apple\n",
            "PineApple\n",
            "PineApple\n"
          ]
        }
      ],
      "source": [
        "s1 = input()\n",
        "s2 = input()\n",
        "s3 = s1 + s2\n",
        "print(s3,s3,sep = \"\\n\")"
      ]
    },
    {
      "cell_type": "markdown",
      "source": [
        "# 1-2：輸出順序對調\n",
        "\n",
        "\n",
        "---\n",
        "\n",
        "Description\n",
        "\n",
        "輸入兩個字串 s1 和 s2，將順序對調後，輸出字串。\n",
        "\n",
        "Input\n",
        "輸入有兩行，分別為兩字串。\n",
        "\n",
        "Output\n",
        "輸出為兩行，和輸入相反。"
      ],
      "metadata": {
        "id": "kHf-nhlWwOoN"
      }
    },
    {
      "cell_type": "code",
      "source": [
        "s1 = input()\n",
        "s2 = input()\n",
        "s1,s2 = s2,s1\n",
        "print(s1,s2,sep = \"\\n\")"
      ],
      "metadata": {
        "colab": {
          "base_uri": "https://localhost:8080/"
        },
        "id": "u8_qkuV_wOHD",
        "outputId": "a737d226-4674-4d36-a6c8-396d10948358"
      },
      "execution_count": null,
      "outputs": [
        {
          "output_type": "stream",
          "name": "stdout",
          "text": [
            "Pine\n",
            "Apple\n",
            "Apple\n",
            "Pine\n"
          ]
        }
      ]
    },
    {
      "cell_type": "markdown",
      "source": [
        "# 2-1：數字及字串和\n",
        "\n",
        "\n",
        "---\n",
        "\n",
        "Description\n",
        "\n",
        "輸入兩個數字，分別輸出數字和以及字串和。\n",
        "\n",
        "Input\n",
        "輸入有兩行，分別為兩個整數。\n",
        "\n",
        "Output\n",
        "輸出為兩行，分別為輸入的數字和以及字串和。"
      ],
      "metadata": {
        "id": "1l3tfFOow5cu"
      }
    },
    {
      "cell_type": "code",
      "source": [
        "n1 = input()\n",
        "n2 = input()\n",
        "num_output = int(n1) + int(n2)\n",
        "str_output = n1 + n2\n",
        "print(num_output)\n",
        "print(str_output)"
      ],
      "metadata": {
        "colab": {
          "base_uri": "https://localhost:8080/"
        },
        "id": "57FjX8c5w85e",
        "outputId": "e94b49ee-a3b6-4d9a-dd6f-f3abe7291746"
      },
      "execution_count": null,
      "outputs": [
        {
          "output_type": "stream",
          "name": "stdout",
          "text": [
            "8\n",
            "7\n",
            "15\n",
            "87\n"
          ]
        }
      ]
    },
    {
      "cell_type": "markdown",
      "source": [
        "# 2-2：偶數\n",
        "\n",
        "\n",
        "---\n",
        "\n",
        "Description\n",
        "\n",
        "輸入一個數字，如果為偶數輸出 True ，奇數輸出 False。\n",
        "\n",
        "Input\n",
        "輸入為一行，包含一個整數。\n",
        "\n",
        "Output\n",
        "輸出 True 或是 False"
      ],
      "metadata": {
        "id": "gS6E3Ci9xdsF"
      }
    },
    {
      "cell_type": "code",
      "source": [
        "num = eval(input())\n",
        "if num % 2 == 0:\n",
        "  print(True)\n",
        "else:\n",
        "  print(False)"
      ],
      "metadata": {
        "colab": {
          "base_uri": "https://localhost:8080/"
        },
        "id": "43J8WvSUxhdS",
        "outputId": "3c094731-8869-45c7-d569-12a4a39f36ed"
      },
      "execution_count": null,
      "outputs": [
        {
          "output_type": "stream",
          "name": "stdout",
          "text": [
            "2\n",
            "True\n"
          ]
        }
      ]
    },
    {
      "cell_type": "markdown",
      "source": [
        "# 3-1：字串長度\n",
        "\n",
        "\n",
        "---\n",
        "\n",
        "Description\n",
        "\n",
        "輸入一個字串s以及一個數字n，如果字串 s 的長度恰好為 n 則輸出 True，否則，輸出 false。\n",
        "\n",
        "Input\n",
        "輸入為兩行，第一行為字串 s，第二行為數字 n。\n",
        "\n",
        "Output\n",
        "輸出True或False"
      ],
      "metadata": {
        "id": "2mSrFNv_yRDE"
      }
    },
    {
      "cell_type": "code",
      "source": [
        "s = input()\n",
        "n = eval(input())\n",
        "if len(s) == n:\n",
        "  print(True)\n",
        "else:\n",
        "  print(False)"
      ],
      "metadata": {
        "colab": {
          "base_uri": "https://localhost:8080/"
        },
        "id": "wRVMODhIyU26",
        "outputId": "1d3d4c6a-47d2-495c-e535-fb1d8b141232"
      },
      "execution_count": null,
      "outputs": [
        {
          "output_type": "stream",
          "name": "stdout",
          "text": [
            "apple\n",
            "5\n",
            "True\n"
          ]
        }
      ]
    },
    {
      "cell_type": "markdown",
      "source": [
        "# 3-2：大小寫\n",
        "\n",
        "\n",
        "---\n",
        "\n",
        "Description\n",
        "\n",
        "輸入一個字串 s，將 s 全部轉成大寫後輸出，並在下一行將 s 全部轉為小寫後輸出。\n",
        "\n",
        "Input\n",
        "輸入有一行，包含一個字串 s\n",
        "\n",
        "Output\n",
        "輸出有兩行，第一行為將 s 全部轉成大寫後輸出，第二行為將 s 全部轉為小寫後輸出。"
      ],
      "metadata": {
        "id": "SA2NzUx4ytT5"
      }
    },
    {
      "cell_type": "code",
      "source": [
        "s = input()\n",
        "print(s.upper())\n",
        "print(s.lower())"
      ],
      "metadata": {
        "colab": {
          "base_uri": "https://localhost:8080/"
        },
        "id": "tg3R9lkiyxGa",
        "outputId": "af0a098f-6e57-48ed-909f-ce6f1398859a"
      },
      "execution_count": null,
      "outputs": [
        {
          "output_type": "stream",
          "name": "stdout",
          "text": [
            "Python\n",
            "PYTHON\n",
            "python\n"
          ]
        }
      ]
    },
    {
      "cell_type": "markdown",
      "source": [
        "# 3-3：重複輸出\n",
        "\n",
        "\n",
        "---\n",
        "\n",
        "\n",
        "Description\n",
        "\n",
        "輸入兩個數字 a 和 b，輸出有兩行，請輸出 b 個 a 以及 a 個 b\n",
        "\n",
        "Input\n",
        "輸入有兩行，分別為兩個數字\n",
        "\n",
        "Output\n",
        "輸入有兩行，各包含一串數字，分別為b 個 a 以及 a 個 b。"
      ],
      "metadata": {
        "id": "kNFK6EfMzR9J"
      }
    },
    {
      "cell_type": "code",
      "source": [
        "a = input()\n",
        "b = input()\n",
        "print(a*int(b))\n",
        "print(b*int(a))"
      ],
      "metadata": {
        "colab": {
          "base_uri": "https://localhost:8080/"
        },
        "id": "rIYkTAcXzUTq",
        "outputId": "4c47abb0-0660-4635-c580-21e481214f7b"
      },
      "execution_count": null,
      "outputs": [
        {
          "output_type": "stream",
          "name": "stdout",
          "text": [
            "5\n",
            "6\n",
            "555555\n",
            "66666\n"
          ]
        }
      ]
    },
    {
      "cell_type": "markdown",
      "source": [
        "# 3-4：自己回文(*)\n",
        "\n",
        "字串反轉\n",
        "\n",
        "---\n",
        "\n",
        "\n",
        "Description\n",
        "\n",
        "輸入一個字串 s ，輸出為 s 自己串接 s 的倒序，使其成為一個回文字串。\n",
        "\n",
        "Input\n",
        "輸入為一行，包含一個字串s\n",
        "\n",
        "Output\n",
        "輸出為一行，內容為s的回文字串"
      ],
      "metadata": {
        "id": "GpgmRGRFz-oU"
      }
    },
    {
      "cell_type": "code",
      "source": [
        "s = input()\n",
        "rs = s[::-1]\n",
        "print(s+rs)"
      ],
      "metadata": {
        "colab": {
          "base_uri": "https://localhost:8080/"
        },
        "id": "odQWfb7R0Bc1",
        "outputId": "06abf6fc-1eed-4d7e-8354-557d6f8476aa"
      },
      "execution_count": null,
      "outputs": [
        {
          "output_type": "stream",
          "name": "stdout",
          "text": [
            "123\n",
            "123321\n"
          ]
        }
      ]
    },
    {
      "cell_type": "markdown",
      "source": [
        "# 4-1：密碼強度\n",
        "\n",
        "\n",
        "---\n",
        "\n",
        "\n",
        "Description\n",
        "\n",
        "很多網站對於密碼強度是有要求的，考量資訊安全，太短的密碼是不被允許的。\n",
        "\n",
        "輸入一個密碼s，如果大於（含）八碼，則輸出 Success，否則輸出 Fail。\n",
        "\n",
        "Input\n",
        "輸入為一行，包含一個字串 s\n",
        "\n",
        "Output\n",
        "輸出為 Success 或 Fail"
      ],
      "metadata": {
        "id": "LmVstvVX1mWq"
      }
    },
    {
      "cell_type": "code",
      "source": [
        "s = input()\n",
        "if len(s) >= 8:\n",
        "  print(\"Success\")\n",
        "else:\n",
        "  print(\"Fail\")"
      ],
      "metadata": {
        "colab": {
          "base_uri": "https://localhost:8080/"
        },
        "id": "mxH8pDnQ1pEY",
        "outputId": "f9dd7057-6032-40c9-acc1-74172c4f7094"
      },
      "execution_count": null,
      "outputs": [
        {
          "output_type": "stream",
          "name": "stdout",
          "text": [
            "zxcvbnm\n",
            "Fail\n"
          ]
        }
      ]
    },
    {
      "cell_type": "markdown",
      "source": [
        "# 4-2：及格分數\n",
        "\n",
        "\n",
        "---\n",
        "\n",
        "\n",
        "Description\n",
        "\n",
        "輸入一個成績n，如果 60（含）以上，則輸出 Pass，不到 60 ，則輸出 Fail，若小於 0 或大於 100，則輸出 Error。\n",
        "\n",
        "Input\n",
        "輸入為一行，包含一個整數n\n",
        "\n",
        "Output\n",
        "輸出為一行，內容為 Pass 、 Fail  或  Error "
      ],
      "metadata": {
        "id": "9mKSvrJw2mGX"
      }
    },
    {
      "cell_type": "code",
      "source": [
        "n = eval(input())\n",
        "if n > 100 or n < 0:\n",
        "  print(\"Error\")\n",
        "elif  n >= 60:\n",
        "  print(\"Pass\")\n",
        "else:\n",
        "  print(\"Fail\")"
      ],
      "metadata": {
        "colab": {
          "base_uri": "https://localhost:8080/"
        },
        "id": "phqTGe592pXX",
        "outputId": "5f06d5e6-ec3a-4aba-c210-32a07db2855f"
      },
      "execution_count": null,
      "outputs": [
        {
          "output_type": "stream",
          "name": "stdout",
          "text": [
            "105\n",
            "Error\n"
          ]
        }
      ]
    },
    {
      "cell_type": "markdown",
      "source": [
        "#4-3：三角形\n",
        "\n",
        "\n",
        "---\n",
        "\n",
        "Description\n",
        "\n",
        "輸入三個正整數 a、b、c，如果可以組成一個三角形，輸出 True，否則輸出 False。\n",
        "\n",
        "Input\n",
        "輸入有三行，各包含一個整數\n",
        "\n",
        "Output\n",
        "輸出為一行， 請輸出 True 或 False"
      ],
      "metadata": {
        "id": "zle__G264IbG"
      }
    },
    {
      "cell_type": "code",
      "source": [
        "a = eval(input())\n",
        "b = eval(input())\n",
        "c = eval(input())\n",
        "\n",
        "triangle = [a,b,c]\n",
        "triangle.sort()\n",
        "if triangle[0] <= 0 or triangle[0] + triangle[1] <= triangle[2]:\n",
        "  print(False)\n",
        "else:\n",
        "  print(True)\n"
      ],
      "metadata": {
        "colab": {
          "base_uri": "https://localhost:8080/"
        },
        "id": "rJoEUupW4NkB",
        "outputId": "4dfd6665-6e5a-41a4-a0ce-ea75ad9baaf8"
      },
      "execution_count": null,
      "outputs": [
        {
          "output_type": "stream",
          "name": "stdout",
          "text": [
            "1\n",
            "5\n",
            "9\n",
            "False\n"
          ]
        }
      ]
    },
    {
      "cell_type": "markdown",
      "source": [
        "#4-4：直角三角形\n",
        "\n",
        "\n",
        "---\n",
        "\n",
        "Description\n",
        "\n",
        "輸入三個正整數 a、b、c，如果可以組成一個直角三角形，輸出 True，否則輸出 False。\n",
        "\n",
        "Input\n",
        "輸入有三行，各包含一個正整數\n",
        "\n",
        "Output\n",
        "輸出有一行，內容為 True 或 False"
      ],
      "metadata": {
        "id": "k6lpZYlq8kOk"
      }
    },
    {
      "cell_type": "code",
      "source": [
        "a = int(input())\n",
        "b = int(input())\n",
        "c = int(input())\n",
        "triangle = [a,b,c]\n",
        "triangle.sort()\n",
        "\n",
        "if triangle[0]**2 + triangle[1]**2 == triangle[2]**2:\n",
        "  print(True)\n",
        "else:\n",
        "  print(False)"
      ],
      "metadata": {
        "colab": {
          "base_uri": "https://localhost:8080/"
        },
        "id": "JIiWCNO98nOL",
        "outputId": "47dbcd62-0e24-46ea-9473-5a350a7e3cb3"
      },
      "execution_count": null,
      "outputs": [
        {
          "output_type": "stream",
          "name": "stdout",
          "text": [
            "1\n",
            "3\n",
            "2\n",
            "False\n"
          ]
        }
      ]
    },
    {
      "cell_type": "markdown",
      "source": [
        "#5-1：翻箱倒櫃\n",
        "\n",
        "\n",
        "---\n",
        "\n",
        "\n",
        "Description\n",
        "\n",
        "我們在課程中形容串列 list 就像是個櫃子，現在我們試著要找看看櫃子裡的東西。\n",
        "\n",
        "輸入兩串列lst1、lst2以及一個字串s，如果能在 lst1 或 lst2 找到 s ，則輸出 True，否則輸出 False。\n",
        "\n",
        "Input\n",
        "輸入一共有三行。\n",
        "\n",
        "前兩行包含了兩組字串，字串間皆以空格分開，請將其轉換成兩串列 lst1 和 lst2，而第三行則是一個字串 s\n",
        "\n",
        "Output\n",
        "輸出 True 或 False"
      ],
      "metadata": {
        "id": "HKdSJ6MN9Xw3"
      }
    },
    {
      "cell_type": "code",
      "source": [
        "lst1 = input().split(\" \")\n",
        "lst2 = input().split(\" \")\n",
        "\n",
        "s = input()\n",
        "if s in lst1 or s in lst2:\n",
        "  print(True)\n",
        "else:\n",
        "  print(False)"
      ],
      "metadata": {
        "colab": {
          "base_uri": "https://localhost:8080/"
        },
        "id": "9_uuKzfX9r_T",
        "outputId": "c89d4abe-4a26-4de4-a156-692d232dd53c"
      },
      "execution_count": null,
      "outputs": [
        {
          "output_type": "stream",
          "name": "stdout",
          "text": [
            "apple pen\n",
            "pineapple pen\n",
            "apple\n",
            "True\n"
          ]
        }
      ]
    },
    {
      "cell_type": "markdown",
      "source": [
        "#6-1：因數(*)\n",
        "\n",
        "\n",
        "---\n",
        "\n",
        "\n",
        "Description\n",
        "\n",
        "輸入一個正整數，輸出其所有因數。\n",
        "\n",
        "Input\n",
        "輸入為一行，包含一個正整數\n",
        "\n",
        "Output\n",
        "請輸出這個整數的所有因數，以換行為區隔"
      ],
      "metadata": {
        "id": "j0Vvq2lA-v_B"
      }
    },
    {
      "cell_type": "code",
      "source": [
        "n = int(input())\n",
        "ans = [i for i in range(1,n+1) if n%i == 0]\n",
        "print(*ans,sep = '\\n') # * : 展開list"
      ],
      "metadata": {
        "colab": {
          "base_uri": "https://localhost:8080/"
        },
        "id": "gF98XDwT-yvR",
        "outputId": "bcbddcac-38a4-48ef-faf8-2eb19b82bd37"
      },
      "execution_count": null,
      "outputs": [
        {
          "output_type": "stream",
          "name": "stdout",
          "text": [
            "10\n",
            "1\n",
            "2\n",
            "5\n",
            "10\n"
          ]
        }
      ]
    },
    {
      "cell_type": "markdown",
      "source": [
        "#6-2：完全平方數(*)\n",
        "\n",
        "\n",
        "---\n",
        "\n",
        "\n",
        "Description\n",
        "\n",
        "輸入一個正整數，輸出比他小的完全平方數。\n",
        "\n",
        "\n",
        "Input\n",
        "輸入有一行，包含一個整數\n",
        "\n",
        "\n",
        "Output\n",
        "請輸出比他小的所有完全平方數。，以換行為分隔"
      ],
      "metadata": {
        "id": "0zttwLMrFYff"
      }
    },
    {
      "cell_type": "code",
      "source": [
        "n = int(input())\n",
        "ans = [i for i in range(1,n) if i**0.5%1 == 0] #整數/1 餘數=0\n",
        "print(*ans,sep = '\\n')"
      ],
      "metadata": {
        "colab": {
          "base_uri": "https://localhost:8080/"
        },
        "id": "Hv40wtbkFZ9m",
        "outputId": "01d68daa-f8e0-4368-b828-ff87c7d316c6"
      },
      "execution_count": null,
      "outputs": [
        {
          "output_type": "stream",
          "name": "stdout",
          "text": [
            "10\n",
            "1\n",
            "4\n",
            "9\n"
          ]
        }
      ]
    },
    {
      "cell_type": "markdown",
      "source": [
        "#6-3：母音種類個數(*)\n",
        "\n",
        "\n",
        "---\n",
        "\n",
        "\n",
        "Description\n",
        "\n",
        "輸入一個字串，輸出字串中母音種類個數（同樣字母大小寫視為不同）\n",
        "\n",
        "\n",
        "Input\n",
        "輸入有一行，包含一個字串\n",
        "\n",
        "\n",
        "Output\n",
        "輸出有一行，包含一個整數"
      ],
      "metadata": {
        "id": "RUZu1PuHI8Ab"
      }
    },
    {
      "cell_type": "code",
      "source": [
        "s = input()\n",
        "vowel = ['a','e','i','o','u']\n",
        "VOWEL = [i.upper() for i in vowel]\n",
        "all_vowel = vowel + VOWEL\n",
        "\n",
        "count = {k:1 for k in s if k in all_vowel}\n",
        "\n",
        "print(len(count))"
      ],
      "metadata": {
        "colab": {
          "base_uri": "https://localhost:8080/"
        },
        "id": "7p0ICg_OI7lJ",
        "outputId": "cf5951ed-e4d7-4af3-e7a6-d4246a2616eb"
      },
      "execution_count": null,
      "outputs": [
        {
          "output_type": "stream",
          "name": "stdout",
          "text": [
            "Eye\n",
            "2\n"
          ]
        }
      ]
    },
    {
      "cell_type": "markdown",
      "source": [
        "#6-4：數字和(*)\n",
        "\n",
        "\n",
        "---\n",
        "\n",
        "\n",
        "Description\n",
        "\n",
        "輸入一個數字，輸出各個位數的數字總和。\n",
        "\n",
        "\n",
        "Input\n",
        "輸入有一行，包含一個整數"
      ],
      "metadata": {
        "id": "bCeiLGlFDxOd"
      }
    },
    {
      "cell_type": "code",
      "source": [
        "s = input()\n",
        "num = [int(i) for i in s if i.isdigit] #.isdigit 檢查是否只有'純數字字元'的string\n",
        "print(sum(num))"
      ],
      "metadata": {
        "colab": {
          "base_uri": "https://localhost:8080/"
        },
        "id": "ATj2HxUUDzCK",
        "outputId": "c0f3f01e-265c-43ca-f593-56c5589b4055"
      },
      "execution_count": null,
      "outputs": [
        {
          "output_type": "stream",
          "name": "stdout",
          "text": [
            "123\n",
            "6\n"
          ]
        }
      ]
    },
    {
      "cell_type": "markdown",
      "source": [
        "#7-1：長方星\n",
        "\n",
        "\n",
        "---\n",
        "\n",
        "\n",
        "Description\n",
        "\n",
        "輸入兩個正整數 l 和 w，使用「*」輸出一個長寬分別為 l 和 w 的長方形。\n",
        "\n",
        "\n",
        "Input\n",
        "輸入有兩行，各包含一個整數\n",
        "\n",
        "\n",
        "Output\n",
        "請輸出一個長寬分別為 l 和 w 的長方形"
      ],
      "metadata": {
        "id": "XlZCmDIdFNob"
      }
    },
    {
      "cell_type": "code",
      "source": [
        "l = int(input())\n",
        "w = int(input())\n",
        "\n",
        "for i in range(w):\n",
        "  print('*'*l)"
      ],
      "metadata": {
        "colab": {
          "base_uri": "https://localhost:8080/"
        },
        "id": "Cp1_5B_lFPt5",
        "outputId": "ecec1844-32c3-4148-b297-f7592e45923d"
      },
      "execution_count": null,
      "outputs": [
        {
          "output_type": "stream",
          "name": "stdout",
          "text": [
            "4\n",
            "3\n",
            "****\n",
            "****\n",
            "****\n"
          ]
        }
      ]
    },
    {
      "cell_type": "markdown",
      "source": [
        "#7-2：加減長方形(*)\n",
        "\n",
        "\n",
        "---\n",
        "\n",
        "\n",
        "Description\n",
        "\n",
        "輸入兩個正整數 l 和 w，交錯使用「+」和「-」輸出一個長寬分別為 l 和 w 的長方形。\n",
        "\n",
        "\n",
        "Input\n",
        "輸入有兩行，各包含一個整數\n",
        "\n",
        "\n",
        "Output\n",
        "輸出一個長寬分別為 l 和 w 的長方形"
      ],
      "metadata": {
        "id": "0BoBmMb9G74p"
      }
    },
    {
      "cell_type": "code",
      "source": [
        "l = int(input())\n",
        "w = int(input())\n",
        "\n",
        "if l%2 == 0:\n",
        "  for i in range(w):\n",
        "    print('+-'*(l//2))\n",
        "else:\n",
        "  for i in range(w):\n",
        "    for j in range(l):\n",
        "      if (i+j)%2 == 0:\n",
        "        print('+',end=\"\")\n",
        "      else:\n",
        "        print('-',end=\"\")\n",
        "    print()"
      ],
      "metadata": {
        "colab": {
          "base_uri": "https://localhost:8080/"
        },
        "id": "fAlgWSvyG88G",
        "outputId": "c8e9eccd-77e3-4cae-bfdb-e2dfa663f3c3"
      },
      "execution_count": null,
      "outputs": [
        {
          "output_type": "stream",
          "name": "stdout",
          "text": [
            "0\n",
            "1\n",
            "\n"
          ]
        }
      ]
    },
    {
      "cell_type": "markdown",
      "source": [
        "#8-1：乘積最大值(*)\n",
        "\n",
        "\n",
        "---\n",
        "\n",
        "\n",
        "Description\n",
        "\n",
        "給定一個內容物皆為整數(int)的串列 l ，並且實作一個函式 max_mul()。函式的參數為整數串列l，回傳值為串列中「連續兩個相鄰乘積」的最大值，並請將回傳值印出。\n",
        "\n",
        "\n",
        "Input\n",
        "輸入為一行，包含數個整數，以空白為間隔。\n",
        "\n",
        "\n",
        "Output\n",
        "輸出為一行，包含一個整數。"
      ],
      "metadata": {
        "id": "F5GOQhVrdIhd"
      }
    },
    {
      "cell_type": "code",
      "source": [
        "def max_mul(l): #1 -2 -3 4 -5 -6\n",
        "  num = list(map(int,l))\n",
        "  mul = [i*j for i,j in zip(num,num[1:])]\n",
        "  return max(mul)\n",
        "l = input().split(' ')\n",
        "\n",
        "print(max_mul(l))"
      ],
      "metadata": {
        "colab": {
          "base_uri": "https://localhost:8080/"
        },
        "id": "raxVbeXGdKfM",
        "outputId": "a886862e-4187-4042-9da7-6ca904dcdedb"
      },
      "execution_count": null,
      "outputs": [
        {
          "output_type": "stream",
          "name": "stdout",
          "text": [
            "1 -2 -3 4 -5 -6\n",
            "30\n"
          ]
        }
      ]
    }
  ]
}