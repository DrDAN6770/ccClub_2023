{
  "nbformat": 4,
  "nbformat_minor": 0,
  "metadata": {
    "colab": {
      "provenance": [],
      "authorship_tag": "ABX9TyO7MFCCHu+TzoU6JmKikA84",
      "include_colab_link": true
    },
    "kernelspec": {
      "name": "python3",
      "display_name": "Python 3"
    },
    "language_info": {
      "name": "python"
    }
  },
  "cells": [
    {
      "cell_type": "markdown",
      "metadata": {
        "id": "view-in-github",
        "colab_type": "text"
      },
      "source": [
        "<a href=\"https://colab.research.google.com/github/DrDAN6770/ccClub_2023/blob/main/ccClub%20Judge/Problem%20List/ccClub_2023_Spring_%E8%AE%80%E6%9B%B8%E6%9C%83_HW3.ipynb\" target=\"_parent\"><img src=\"https://colab.research.google.com/assets/colab-badge.svg\" alt=\"Open In Colab\"/></a>"
      ]
    },
    {
      "cell_type": "markdown",
      "source": [
        "#塞背包\n",
        "\n",
        "---\n",
        "\n",
        "\n",
        "Description\n",
        "\n",
        "給定背包的最大承重，和數個物品的價值、重量，要找出一個不超過最大承重，\n",
        "並且裝有最大總價值物品的裝填方式，是一個無法在多項式時間內處理的問題，\n",
        "因此通常在處理這種問題的時候，會使用貪婪搜索法來找到一個可能不是最佳解，\n",
        "但是還不錯的解答。\n",
        "\n",
        "貪婪搜索法的精神在於，在每一步驟，都做當下可以獲得最大利益的的決定。在上述\n",
        "這個問題中，我們當下最好的決定是選擇CP值（價值/重量）最高且不會造成過重\n",
        "的物品放入背包。\n",
        "\n",
        "舉例來說，如果最大承重=5,\n",
        "物品A的價值/重量為18/4, CP值4.5\n",
        "物品B的價值/重量為12/3, CP值4\n",
        "物品C的價值/重量為7/2, CP值3.5\n",
        "物品D得價值/重量為100/10, CP值為10\n",
        "\n",
        "在這個範例下，雖然最佳解為選擇BC，剛好放滿書包，裝有總價值19的物品。\n",
        "但當使用貪婪法時，在第一步會選擇A物品（雖然D物品CP值比較高但是放不下），\n",
        "並且因為下一步無法再裝入其他物品，所以演算法結束。\n",
        "\n",
        "這本題中，請你實作貪婪演算法，多個物品具有相同CP值則選輕的。\n",
        "請照順序輸出每輪s選擇的物品名稱，以換行分開。\n",
        "\n",
        "\n",
        "Input\n",
        "輸入第一行為書包最大承重w\n",
        "第二行為物品數量n\n",
        "以下n行為物品[名稱] [價值] [重量]以空白分開\n",
        "\n",
        "\n",
        "Output\n",
        "輸出為數行，包含其所選擇的物品名稱字串"
      ],
      "metadata": {
        "id": "QgbnpmMC62_Y"
      }
    },
    {
      "cell_type": "code",
      "execution_count": 1,
      "metadata": {
        "colab": {
          "base_uri": "https://localhost:8080/"
        },
        "id": "p1bpX1_96wsB",
        "outputId": "aefc17e5-5fb7-499b-a926-36403db622e8"
      },
      "outputs": [
        {
          "output_type": "stream",
          "name": "stdout",
          "text": [
            "5\n",
            "3\n",
            "A 18 4\n",
            "B 12 3\n",
            "C 7 2\n",
            "A\n"
          ]
        }
      ],
      "source": [
        "def greedy_bag(items, max_load):\n",
        "    cur_load = 0\n",
        "    items = sorted(items, key = lambda x:(x[1]/x[2], -x[2]), reverse= True)\n",
        "    for item in items:\n",
        "        if cur_load + item[2] <= max_load:\n",
        "            print(item[0])\n",
        "            cur_load += item[2]\n",
        "        else:\n",
        "            continue\n",
        "\n",
        "max_load = int(input())\n",
        "n = int(input())\n",
        "items = [[k[0], int(k[1]), int(k[2])] for k in [input().split() for _ in range(n)]]\n",
        "greedy_bag(items, max_load)"
      ]
    },
    {
      "cell_type": "markdown",
      "source": [
        "#小明上菜啦\n",
        "\n",
        "---\n",
        "\n",
        "\n",
        "Description\n",
        "\n",
        "小明經營了一家餐廳，提供多種不同的料理。但小明最近遇到一個麻煩的問題 —— 常常做菜做到一半才發現材料不夠用。畢竟材料可能有辦法讓一道菜可以做一次，但沒辦法做第二次。因此小明決定寫一個程式，在每次收到點餐後先檢查庫存是否足夠，你能夠幫他完成嗎？\n",
        "\n",
        "輸入包含三個部分：第一部分為食材數量、第二部分為餐廳菜單、第三部分為點餐單。其中第一部分的第1行為n，代表食材種類數，下一行為n個字串和n個數字用空白分開，代表食材的名稱跟數量，會以如下格式 [材料1] [個數] [材料2] [個數] 呈現。\n",
        "\n",
        "第二部分的第1行為m，代表菜單上的料理種類數，以下m行包含所需材料的資訊。格式為： [料理名稱] [材料1] [個數] [材料2] [個數]材料的種類至少1種，個數至少1個。\n",
        "\n",
        "第三部分第一行為k，代表點餐的數量，以下k行皆為單一字串，代表料理的名稱。\n",
        "\n",
        "請幫小明管理上菜的流程，決定客人的點餐哪些可以完成哪些無法（每個點餐是否有足夠的食材），並輸出 True or False。\n",
        "\n",
        "\n",
        "Input\n",
        "第 1 行為 n，代表食材種類數。下一行為n個字串和n個數字用空白分開，代表食材的名稱跟數量，會以如下格式 [材料1] [個數] [材料2][個數] 呈現。\n",
        "\n",
        "第 3 行為整數 m，代表菜單上的料理種類數。以下 m 行包含料理名稱以及所需材料的資訊，每一行皆由字串及數字組成，第一個字串為料理名稱，再來是所需材料、所需個數。格式如右：[料理名稱] [材料1] [個數] [材料2] [個數]\n",
        "\n",
        "第 m+4 行為整數 k ，代表點餐的數量。以下k行皆為單一字串，代表料理的名稱。\n",
        "\n",
        "\n",
        "Output\n",
        "輸出為 k 行，各包含一個布林值（True/False）"
      ],
      "metadata": {
        "id": "pGTmWUcr7Cny"
      }
    },
    {
      "cell_type": "code",
      "source": [
        "def materials_qty(material):\n",
        "    material_stack = {material[i] : int(material[i+1]) for i in range(0,len(material),2)}\n",
        "    return material_stack\n",
        "\n",
        "def dish(order):\n",
        "    recipe_materials = recipe[order]\n",
        "    # 查菜單材料有沒有、夠不夠\n",
        "    for mtr, qty in recipe_materials.items():\n",
        "        if mtr not in material_stack or material_stack[mtr] < qty:\n",
        "            return False\n",
        "        \n",
        "    # 夠用、存在開始做菜，更新材料數量\n",
        "    for mtr, qty in recipe_materials.items():\n",
        "        material_stack[mtr] -= qty\n",
        "    return True\n",
        "\n",
        "# 材料       \n",
        "n = int(input())\n",
        "material = input().split()\n",
        "material_stack = materials_qty(material)\n",
        "\n",
        "# 菜單\n",
        "m = int(input())\n",
        "recipe = {}\n",
        "for _ in range(m):\n",
        "    temp = input().split()\n",
        "    recipe[temp[0]] = materials_qty(temp[1:])\n",
        "\n",
        "# 點餐\n",
        "k = int(input())\n",
        "for _ in range(k):\n",
        "   print(dish(input()))"
      ],
      "metadata": {
        "colab": {
          "base_uri": "https://localhost:8080/"
        },
        "id": "IbqMRZW27F53",
        "outputId": "01c4d0ca-4fa8-4eeb-d03f-97a80eb95f1c"
      },
      "execution_count": 3,
      "outputs": [
        {
          "output_type": "stream",
          "name": "stdout",
          "text": [
            "3\n",
            "武藏 2 小次郎 1 喵喵 2\n",
            "2\n",
            "火箭隊 武藏 1 小次郎 1 喵喵 1\n",
            "小智一行人 小智 1 小霞 1 小剛 1\n",
            "3\n",
            "火箭隊\n",
            "True\n",
            "小智一行人\n",
            "False\n",
            "火箭隊\n",
            "False\n"
          ]
        }
      ]
    },
    {
      "cell_type": "markdown",
      "source": [
        "#S型分班\n",
        "\n",
        "---\n",
        "\n",
        "\n",
        "Description\n",
        "\n",
        "cc 國中要開學了，老師們正為了如何分配新生而煩惱。在開學前，透過開學考，老師們已經幫新生們分成 a - z 等 26 個等第。\n",
        "然而，根據十二年國教的精神，要盡可能地讓同一個班的同學成分盡量多元。於是老師們打算採行所謂的 S 型分班，而做到這件事之前，得先把學生們按能力 S 形排列才行。\n",
        "現在，給定學生們的編號及等第，你可以幫 cc 國中的老師輸出一個 S 形排列的序列嗎？\n",
        "\n",
        "舉例來說，若輸入為：\n",
        "\n",
        "1 2 3 4 5 6\n",
        "c c c l u b\n",
        "代表編號 1、2、3 的學生被分為 c 等第，編號 4 的學生為 l 等第，以此類推。\n",
        "我們將等第從最小排到最大是 b c l u，因此輸出 6 1 4 5，其中 1 是 c 等第中第一個出現的學生編號。\n",
        "接著，再從等第最大排到最小，但此時只剩下 c，所以輸出第二個出現的 c ，其編號是 2。\n",
        "同理，最後輸出 3。\n",
        "因此完整的 S 行排列為 6 1 4 5 2 3。\n",
        "\n",
        "\n",
        "Input\n",
        "輸入為兩行。\n",
        "第一行包含 n 個數字，以空白分隔。\n",
        "第二行包含 n 個小寫字母，以空白分隔。\n",
        "\n",
        "\n",
        "Output\n",
        "輸出為一行，包含 n 個數字，為經過 S 形排列的序列。"
      ],
      "metadata": {
        "id": "n1Ub273f7fv-"
      }
    },
    {
      "cell_type": "code",
      "source": [
        "def Stypesort1(lst, combined):\n",
        "    lst = sorted(combined.keys())\n",
        "    for i in lst:\n",
        "        stack.append(combined[i][0])\n",
        "        combined[i].pop(0)\n",
        "    return {key: value for key, value in combined.items() if value}\n",
        "\n",
        "def Stypesort2(lst, combined):\n",
        "    lst = sorted(combined.keys(),reverse=True)\n",
        "    for i in lst:\n",
        "        stack.append(combined[i][0])\n",
        "        combined[i].pop(0)\n",
        "    return {key: value for key, value in combined.items() if value}\n",
        "\n",
        "\n",
        "n, letter = input().split(), input().split()\n",
        "combined = {}\n",
        "stack = []\n",
        "for num, alpha in zip(n, letter):\n",
        "    combined[alpha] = combined.get(alpha, []) + [num]\n",
        "\n",
        "number = 1\n",
        "while combined:\n",
        "    # 奇數輪排序\n",
        "    if number == 1:\n",
        "        combined = Stypesort1(combined.keys(), combined)\n",
        "        number = 0\n",
        "    # 偶數輪排序\n",
        "    if number == 0:\n",
        "        combined = Stypesort2(combined.keys(), combined)\n",
        "        number = 1\n",
        "\n",
        "print(*stack, sep = ' ')"
      ],
      "metadata": {
        "colab": {
          "base_uri": "https://localhost:8080/"
        },
        "id": "UDDEl-yH7iE0",
        "outputId": "4f5ce1e5-a00d-4ead-fb06-0aff36606d1b"
      },
      "execution_count": 4,
      "outputs": [
        {
          "output_type": "stream",
          "name": "stdout",
          "text": [
            "4 3 2 1\n",
            "b b a c\n",
            "2 4 1 3\n"
          ]
        }
      ]
    },
    {
      "cell_type": "markdown",
      "source": [
        "#資料比對\n",
        "\n",
        "---\n",
        "\n",
        "\n",
        "Description\n",
        "\n",
        "小明最近在處理資料的問題，他手上有一份別人傳來處理過的資料。\n",
        "每一行是一個資料點，每行以 TAB 區隔，TAB 之前是句子的分類，TAB 之後是去除過符號、全部轉成小寫的句子。\n",
        "但今天小明因為看了達文西密碼，覺得符號也是重要的一件事。因此他想要取回符號去除前完整版的原始句子，同時又要讓標記好的分類不要遺失。\n",
        "不過情況也不一定那麼理想，不是每個句子都可以找到還帶有符號的原始句子。因此如果對不上的話也沒有辦法，就繼續用沒有符號，清理過的句子。你可以利用程式幫他達成這件事嗎？\n",
        "\n",
        "舉例來說，若輸入為：\n",
        "\n",
        "label-data.tsv\n",
        "label__1 i am a good boy\n",
        "label__0 i am a bad boy\n",
        "label__1 i am a good girl\n",
        "raw-data.txt\n",
        "I am a good boy!!!\n",
        "I: am a good girl#$%^&?!\n",
        "You should see THE SEA!\n",
        "Kevin's Artis is very...large...\n",
        "label-data.tsv 代表標註過後轉成小寫的資料，raw-data.txt 代表沒有經過任何處理的資料。其中，label-data.tsv 資料中的第一句跟第三句可以在 raw-data.txt 中找到，故輸出時按順序輸出找回符號的資料，搭配標記的標籤輸出；i am a bad boy 這句因為找不到，所以就輸出 label-data.tsv 中沒有符號的版本就可以了。\n",
        "\n",
        "\n",
        "Input\n",
        "輸入有 n + m + 2 行。\n",
        "\n",
        "第一行是 \"label-data.tsv\"，代表標記過的資料檔案名稱。\n",
        "\n",
        "接下來 n 行是標記過的資料，每行以 TAB 區隔，TAB 之前是句子的分類，TAB 之後是去除過符號、全部轉成小寫的句子。\n",
        "\n",
        "再來是 \"raw-data.txt\"，代表原始資料檔案名稱。\n",
        "\n",
        "最後 m 行是原始資料。\n",
        "\n",
        "\n",
        "Output\n",
        "輸出有 n 行，以 label-data.tsv 的資料讀取順序輸出，每行以 TAB 區隔分類及句子內容。"
      ],
      "metadata": {
        "id": "qmxD7y1d7o3d"
      }
    },
    {
      "cell_type": "code",
      "source": [
        "import re\n",
        "def text_Comparison(label_data, raw_data):\n",
        "    res = []\n",
        "    for label_text in label_data:\n",
        "        if label_text:\n",
        "            front_part, back_part = label_text.split('\\t')\n",
        "            flag = False\n",
        "            # 轉小寫的字串中找去掉非文字(空白?跳行?)\n",
        "            for raw_text in set(raw_data):\n",
        "                if back_part == re.sub(r'[^a-z0-9\\s]', '', raw_text.lower()):\n",
        "                    res.append(f'{front_part}\\t{raw_text}')\n",
        "                    flag = True\n",
        "                    break\n",
        "            if not flag:\n",
        "                res.append(label_text)\n",
        "    return res\n",
        "            \n",
        "label_data = []\n",
        "raw_data = []\n",
        "n = input() #label-data.tsv\n",
        "if n == 'label-data.tsv':\n",
        "    while True:\n",
        "        temp = input()\n",
        "        if temp == 'raw-data.txt':\n",
        "            break\n",
        "        label_data.append(temp)\n",
        "\n",
        "while True:\n",
        "    try:\n",
        "        temp = input()\n",
        "        if temp == '0': break\n",
        "        raw_data.append(temp)\n",
        "    except:\n",
        "        break\n",
        "\n",
        "for i in text_Comparison(label_data, raw_data):\n",
        "    print(i)"
      ],
      "metadata": {
        "colab": {
          "base_uri": "https://localhost:8080/"
        },
        "id": "S1srli4J7qVa",
        "outputId": "d20cb68e-84ed-40bb-cf2d-5e8c50a4bcd0"
      },
      "execution_count": 6,
      "outputs": [
        {
          "output_type": "stream",
          "name": "stdout",
          "text": [
            "label-data.tsv\n",
            "label__2\thi  good morning\n",
            "label__3\tim fine\n",
            "label__7\tgoodbye\n",
            "raw-data.txt\n",
            "Hi.  Good morning!\n",
            "I'm fine.\n",
            "Good...Bye...\n",
            "0\n",
            "label__2\tHi.  Good morning!\n",
            "label__3\tI'm fine.\n",
            "label__7\tGood...Bye...\n"
          ]
        }
      ]
    },
    {
      "cell_type": "markdown",
      "source": [
        "#學習歷程\n",
        "\n",
        "---\n",
        "\n",
        "\n",
        "Description\n",
        "\n",
        "小明要出國念書了，最近他在整理自己的備審文件，偶然看到自己的大學學習歷程，心中也是一陣感慨，想著自己在台大學習歷程，也是曲曲折折。\n",
        "因此，他決定整理整理自己的修課歷程，讓以後的學弟妹們可以參考。為了保有學習的脈絡，他決定除了列出他修了哪些課之外，更要列出修這些課之前最好修過那些課比較好，這樣比較負責任。學弟妹們查課的時候除了查到該門課，還可以查到修該門課之前要依序學過那些課比較好。\n",
        "\n",
        "說明：\n",
        "以範例一為例，前四行每一行的第一個名詞是該課的課名，空格以後是修習該課需要的先備知識。如果該門課是基礎學科，也就是沒有先備知識的話，則該行只會有一個字串。最後一行則是學弟妹好奇的課。\n",
        "由於學習 DataScience 要先學過 calculas 和 stats 比較好，而要學過 calculas 要先學過 counting 比較好，因此依序輸出 counting calculas stats DataScience。\n",
        "同一個層次的課程按字首字母順序排列，若相同則繼續往下比較，以此類推。請輸出學弟妹所感興趣的課的學習歷程。\n",
        "\n",
        "\n",
        "Input\n",
        "輸入為五行。\n",
        "前四行每一行的第一個名詞是該課的課名，空格以後是修習該課需要的先備知識。\n",
        "最後一行則是學弟妹好奇的課。\n",
        "\n",
        "\n",
        "Output\n",
        "輸出為一行，以空白區隔，為推薦的學習歷程。"
      ],
      "metadata": {
        "id": "iduAlDEN8DlQ"
      }
    },
    {
      "cell_type": "code",
      "source": [
        "def BFS(course, target):\n",
        "    res = []\n",
        "    queue = []\n",
        "    queue.append((target, 0))\n",
        "    visited = set()\n",
        "    visited.add(target)\n",
        "    levels = {}\n",
        "    while queue:\n",
        "        node, level = queue.pop(0)\n",
        "        levels[level] = levels.get(level, []) + [node]\n",
        "        precourses = course.get(node,[])\n",
        "        for pc in precourses:\n",
        "            if pc not in visited:\n",
        "                queue.append((pc, level + 1))\n",
        "                visited.add(pc)\n",
        "\n",
        "    for l in sorted(levels, reverse=True):\n",
        "        levels[l].sort()\n",
        "        res += levels[l]\n",
        "    return ' '.join(res)\n",
        "\n",
        "\n",
        "course = {}\n",
        "for _ in range(4):\n",
        "    temp = input().split()\n",
        "    course[temp[0]] = temp[1:]\n",
        "\n",
        "target = input()\n",
        "print(BFS(course, target))"
      ],
      "metadata": {
        "colab": {
          "base_uri": "https://localhost:8080/"
        },
        "id": "f-UlIuTq8FRg",
        "outputId": "878923e0-72fe-4550-e6ba-1f6dd275d79c"
      },
      "execution_count": 7,
      "outputs": [
        {
          "output_type": "stream",
          "name": "stdout",
          "text": [
            "a b c\n",
            "b e\n",
            "c d\n",
            "f\n",
            "a\n",
            "d e b c a\n"
          ]
        }
      ]
    }
  ]
}