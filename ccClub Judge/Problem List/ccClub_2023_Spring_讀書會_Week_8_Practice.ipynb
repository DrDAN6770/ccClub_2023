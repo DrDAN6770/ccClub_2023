{
  "nbformat": 4,
  "nbformat_minor": 0,
  "metadata": {
    "colab": {
      "provenance": [],
      "authorship_tag": "ABX9TyOJXypH7LrSjXxfJeRFdPL3",
      "include_colab_link": true
    },
    "kernelspec": {
      "name": "python3",
      "display_name": "Python 3"
    },
    "language_info": {
      "name": "python"
    }
  },
  "cells": [
    {
      "cell_type": "markdown",
      "metadata": {
        "id": "view-in-github",
        "colab_type": "text"
      },
      "source": [
        "<a href=\"https://colab.research.google.com/github/DrDAN6770/ccClub_2023/blob/main/ccClub%20Judge/Problem%20List/ccClub_2023_Spring_%E8%AE%80%E6%9B%B8%E6%9C%83_Week_8_Practice.ipynb\" target=\"_parent\"><img src=\"https://colab.research.google.com/assets/colab-badge.svg\" alt=\"Open In Colab\"/></a>"
      ]
    },
    {
      "cell_type": "markdown",
      "source": [
        "# 不知道要輸入幾行\n",
        "\n",
        "---\n",
        "\n",
        "\n",
        "Description\n",
        "\n",
        "在設計程式的時候，如果知道輸入的長相，包含會有幾行、每行有幾個字等等，那會是最好的，因為我們可以根據這些規律去設計我們要怎麼接收輸入。但真實情況往往不是這樣，常常我們會不知道輸入是什麼，甚至是輸入有幾行，請設計一個程式來處理這樣的輸入，並且用「-」連結各行的輸入再輸出。\n",
        "\n",
        "\n",
        "Input\n",
        "輸入有若干行。\n",
        "\n",
        "\n",
        "Output\n",
        "輸出有一行，請用「-」連結各行的輸入。"
      ],
      "metadata": {
        "id": "iEpv-gdZ7RRn"
      }
    },
    {
      "cell_type": "code",
      "execution_count": null,
      "metadata": {
        "id": "TuFgEhPD6OT8"
      },
      "outputs": [],
      "source": [
        "res = []\n",
        "while True:\n",
        "    try:\n",
        "        s = input()\n",
        "        res.append(s)\n",
        "    except:\n",
        "        break\n",
        "print('-'.join(res))"
      ]
    },
    {
      "cell_type": "markdown",
      "source": [
        "#字母總和排序\n",
        "\n",
        "---\n",
        "\n",
        "\n",
        "Description\n",
        "\n",
        "請實作一個函式sort_dict\n",
        "\n",
        "def sort_dict(s):\n",
        "    # do something\n",
        "    return lst\n",
        "請依照字典序和(ex. car = 3+1+18 =22)，由小而大排列給定的詞並排序\n",
        "\n",
        "PS 本題只需實作函式，並不用自行處理 input()\n",
        "\n",
        "\n",
        "Input\n",
        "函式有一個參數：\n",
        "\n",
        "s: 型態為 str，包含數個詞，詞和詞之間以空格分割\n",
        "\n",
        "Output\n",
        "函式有一個回傳值：\n",
        "\n",
        "型態為 list，串列中的每個元素型態為 str"
      ],
      "metadata": {
        "id": "hRYv3UdA8Hdl"
      }
    },
    {
      "cell_type": "code",
      "source": [
        "# 大寫 A 和小寫 a對應的字典序皆為 1 ，大寫 B和小寫 b 對應的字典序皆為 2，依此類推，\n",
        "def sort_dict(s):\n",
        "    s = s.split()\n",
        "    letters = [chr(i) for i in range(97,123)] # ASCII a is 97, z is 122\n",
        "    alphatopointpairs = {letter:point for point,letter in enumerate(letters,1)}\n",
        "    def calweight(s):\n",
        "        tempsum = 0\n",
        "        for char in s:\n",
        "            if char.isalpha():\n",
        "                tempsum += alphatopointpairs[char.lower()]\n",
        "        return tempsum\n",
        "    lst = sorted(s, key = lambda x:calweight(x))\n",
        "    return lst"
      ],
      "metadata": {
        "id": "nAyoQd388Jua"
      },
      "execution_count": 3,
      "outputs": []
    },
    {
      "cell_type": "markdown",
      "source": [
        "#小明的電話簿\n",
        "\n",
        "---\n",
        "\n",
        "\n",
        "Description\n",
        "\n",
        "小明一直都沒有做紀錄的習慣，這也讓他常常想不起來別人的聯絡方式。\n",
        "\n",
        "某一天，小明下定決心買了一本空白的電話簿，這本電話簿的功能只有兩種：\n",
        "\n",
        "* 加入聯絡人，指令的代號為 'a' ，請在電話簿當中加入給定的名字以及其聯絡電話。\n",
        "* 查詢聯絡人，指令的代號為 's' ，若給定名字請尋找其電話，若給定電話請尋找該聯絡人姓名\n",
        "* 若電話簿中不存在該姓名或是電話，請輸出 'Cannot find [Name/Phone Number]'\n",
        "\n",
        "請幫忙小明完成這個電話簿的建置。\n",
        "\n",
        "\n",
        "Input\n",
        "輸入為數行，除最後一行為'end'外，若首字元為 'a' ，後面會包含兩個字串，各為姓名以及電話；若首字元為 's'，後面會包含一個字串，為姓名或是電話。\n",
        "\n",
        "\n",
        "Output\n",
        "輸出為數行，與輸入為 's' 的數量相同。"
      ],
      "metadata": {
        "id": "9pxhSLEI8NFl"
      }
    },
    {
      "cell_type": "code",
      "source": [
        "class TelBook:\n",
        "    def __init__(self):\n",
        "        self.contactbook = {}\n",
        "\n",
        "    def a(self, name, number):\n",
        "        self.contactbook[name] = number\n",
        "\n",
        "    def s(self, x):\n",
        "        contact = self.contactbook.get(x)\n",
        "        if contact:\n",
        "            return contact\n",
        "        else:\n",
        "            inverted_dict = {value: key for key, value in self.contactbook.items()}\n",
        "            return inverted_dict.get(x, f'Cannot find {x}')\n",
        "\n",
        "def telbook():\n",
        "    contactbook = TelBook()\n",
        "    while True:\n",
        "        IN = input()\n",
        "        if IN == 'end': break\n",
        "        temp = IN.split()\n",
        "        if temp[0] == 'a':\n",
        "            contactbook.a(temp[1], temp[2])\n",
        "        if temp[0] == 's':\n",
        "            print(contactbook.s(temp[1]))\n",
        "\n",
        "telbook()"
      ],
      "metadata": {
        "colab": {
          "base_uri": "https://localhost:8080/"
        },
        "id": "1ksJXnzU8S1i",
        "outputId": "0ee6b248-4abc-41f6-deb1-6cd9627d7880"
      },
      "execution_count": 4,
      "outputs": [
        {
          "name": "stdout",
          "output_type": "stream",
          "text": [
            "s MICHAEL\n",
            "Cannot find MICHAEL\n",
            "a JAMES 8942750136\n",
            "a HANNAH 3658492071\n",
            "s 8942750136\n",
            "JAMES\n",
            "s 5239847016\n",
            "Cannot find 5239847016\n",
            "a LAUREN 4857190632\n",
            "end\n"
          ]
        }
      ]
    },
    {
      "cell_type": "markdown",
      "source": [
        "# 字母麥片\n",
        "\n",
        "---\n",
        "\n",
        "\n",
        "Description\n",
        "\n",
        "小胖仔正值中二年華，常常有些奇怪的行為，像是走在人行道的時候只准自己走在導盲磚上、對著運轉中的電風扇吹氣又或是把冰箱門慢慢關起來看什麼時候燈會熄滅。\n",
        "\n",
        "這天他在吃早餐的時候不小心倒了太多字母麥片，他看著一整碗的麥片突發奇想，決定把麥片一片片挑出來，如果有重複的字母他就不吃。\n",
        "\n",
        "請問各位可以幫忙告訴他哪些麥片要吃嗎？\n",
        "\n",
        "\n",
        "Input\n",
        "一行，皆為小寫字母，保證至少有一個單獨的字母，各自用”,” 分隔\n",
        "\n",
        "\n",
        "\n",
        "Output\n",
        "一行，請將輸出的字母照原本順序排好，也用”,” 分隔"
      ],
      "metadata": {
        "id": "V11pLwjI8gN8"
      }
    },
    {
      "cell_type": "code",
      "source": [
        "# run time最短\n",
        "lst = input().split(',')\n",
        "out = [i for i in set(lst) if lst.count(i) == 1]\n",
        "out.sort(key = lambda x:lst.index(x))\n",
        "print(','.join(out))"
      ],
      "metadata": {
        "colab": {
          "base_uri": "https://localhost:8080/"
        },
        "id": "2XB2RvEq8s4J",
        "outputId": "ee3a233b-951f-4e93-d03f-1540f3f71910"
      },
      "execution_count": 5,
      "outputs": [
        {
          "output_type": "stream",
          "name": "stdout",
          "text": [
            "a,a,c,b,a\n",
            "c,b\n"
          ]
        }
      ]
    },
    {
      "cell_type": "code",
      "source": [
        "from collections import Counter\n",
        "\n",
        "lst = input().split(',')\n",
        "counter = Counter(lst)\n",
        "unique = [k for k, v in counter.items() if v == 1]\n",
        "print(','.join(unique))  # c,b"
      ],
      "metadata": {
        "colab": {
          "base_uri": "https://localhost:8080/"
        },
        "id": "9f1LHBfH88JW",
        "outputId": "24fedc5e-08be-4547-c69f-30162c9a68fe"
      },
      "execution_count": 6,
      "outputs": [
        {
          "output_type": "stream",
          "name": "stdout",
          "text": [
            "a,a,c,b,a\n",
            "c,b\n"
          ]
        }
      ]
    }
  ]
}