{
  "nbformat": 4,
  "nbformat_minor": 0,
  "metadata": {
    "colab": {
      "provenance": [],
      "authorship_tag": "ABX9TyNGqzbCZ3NWh/fXVbXpb4Kr",
      "include_colab_link": true
    },
    "kernelspec": {
      "name": "python3",
      "display_name": "Python 3"
    },
    "language_info": {
      "name": "python"
    }
  },
  "cells": [
    {
      "cell_type": "markdown",
      "metadata": {
        "id": "view-in-github",
        "colab_type": "text"
      },
      "source": [
        "<a href=\"https://colab.research.google.com/github/DrDAN6770/ccClub_2023/blob/main/ccClub%20Judge/Problem%20List/Problem_List4.ipynb\" target=\"_parent\"><img src=\"https://colab.research.google.com/assets/colab-badge.svg\" alt=\"Open In Colab\"/></a>"
      ]
    },
    {
      "cell_type": "markdown",
      "source": [
        "#停車費 II\n",
        "\n",
        "---\n",
        "\n",
        "\n",
        "Description\n",
        "\n",
        "承停車費，台大除了社科院停車場之外，還有其他停車場如：水源、校總區等。\n",
        "\n",
        "為了能夠設計一套停車費計費系統，讓每個停車場都可以使用。\n",
        "\n",
        "請實作parking_fee函式，計算停車費，該函式具備以下參數：\n",
        "\n",
        "* fee_rate：型態為 int，代表該停車場每半小時的停車費率。以停車費為例，fee_rate 即為 20。\n",
        "* is_vip：型態為 bool，代表該車是否具備台大證件。具備台大證件可享 (1) 停車費半價優惠 (2) 若停車未滿 30 分鐘，則免收停車費。\n",
        "* entry_time：型態為 str，代表該車進入停車場的時間，格式為 hh:mm。ex：18:30 代表晚上 6 點半進入停車場。\n",
        "* exit_time：型態為 str，代表該車離開停車場的時間，格式為 hh:mm。ex：22:30 代表晚上 10 點半離開停車場。\n",
        "* 為了方便計算，停車場暫不提供跨夜停車，即每輛車皆會在 23:59（含）前離開。\n",
        "\n",
        "備註：若停車 0 分鐘，則停車費 0 元。\n",
        "\n",
        "\n",
        "\n",
        "本題僅需實作parking_fee函式，並將停車費回傳，型態為 int。\n",
        "\n",
        "你不需要處理 input 和 output 的格式，我們會將他讀入，並呼叫你寫的parking_fee函式，並將結果輸出。\n",
        "\n",
        "你可以直接複製 hint 中提供的程式碼，專心實作parking_fee函式，讓他符合題目的要求。\n",
        "\n",
        "\n",
        "Input\n",
        "輸入有四行，分別為停車費率、是否具備台大證件、進場時間、離場時間。\n",
        "\n",
        "\n",
        "Output\n",
        "輸出有一行，包含一個整數，代表該車的停車費。"
      ],
      "metadata": {
        "id": "ROkv8GpvfFal"
      }
    },
    {
      "cell_type": "code",
      "source": [
        "def parking_fee(fee_rate, is_vip, entry_time, exit_time):\n",
        "  def minscalcator(entry_time,exit_time):\n",
        "    entertime = list(map(int, entry_time.split(':')))\n",
        "    exittime = list(map(int, exit_time.split(':')))\n",
        "    return (exittime[0] - entertime[0]) * 60 + (exittime[1] - entertime[1])\n",
        "  \n",
        "  time = minscalcator(entry_time, exit_time)\n",
        "\n",
        "  halfhourcount = time // 30\n",
        "  remain = time % 30\n",
        "\n",
        "  if time <= 1:\n",
        "    return 0\n",
        "  else:\n",
        "    if remain != 0:\n",
        "      halfhourcount += 1\n",
        "    fee = halfhourcount * fee_rate\n",
        "  \n",
        "  if is_vip:\n",
        "    if time < 30:\n",
        "      return 0\n",
        "    return int(fee/2)\n",
        "  else:\n",
        "    return fee\n",
        "\n",
        "parking_fee(30, True, \"00:00\", \"00:02\")"
      ],
      "metadata": {
        "colab": {
          "base_uri": "https://localhost:8080/"
        },
        "id": "6oKfMGdjfVdZ",
        "outputId": "12842c51-08e4-4094-f5bf-7ed8cbf3a8b7"
      },
      "execution_count": 6,
      "outputs": [
        {
          "output_type": "execute_result",
          "data": {
            "text/plain": [
              "0"
            ]
          },
          "metadata": {},
          "execution_count": 6
        }
      ]
    },
    {
      "cell_type": "markdown",
      "source": [
        "# 連四相乘\n",
        "\n",
        "---\n",
        "\n",
        "\n",
        "Description\n",
        "\n",
        "給定 k 個（k >= 4）依數大小由小至大排序的整數，找出這些數中挑 4 個數字相乘的最大值。\n",
        "\n",
        "\n",
        "Input\n",
        "輸入為一行，包含 k 個整數（k >= 4），數字以空白為間隔。\n",
        "\n",
        "\n",
        "Output\n",
        "輸出為一行，包含一個整數。"
      ],
      "metadata": {
        "id": "VjnWDcwy7izc"
      }
    },
    {
      "cell_type": "code",
      "execution_count": null,
      "metadata": {
        "colab": {
          "base_uri": "https://localhost:8080/"
        },
        "id": "rl1j3Ol37UuD",
        "outputId": "4a1c45e2-5859-4a0c-8df9-2f7629d403a5"
      },
      "outputs": [
        {
          "output_type": "stream",
          "name": "stdout",
          "text": [
            "-7 -7 1 2 3 4 5 6 7 8\n",
            "2744\n"
          ]
        }
      ],
      "source": [
        "def muti4(k):\n",
        "  # 正零、負\n",
        "  positive = [num >= 0 for num in k]\n",
        "  negative = [num < 0 for num in k]\n",
        "  \n",
        "  # 都是非負 or 一個負\n",
        "  if all(positive) or sum(negative) == 1:\n",
        "    return k[-1] * k[-2] * k[-3] * k[-4]\n",
        "  \n",
        "  # 都是負 or 一個正\n",
        "  if all(negative) or sum(positive) == 1:\n",
        "    return k[0] * k[1] * k[2] * k[3]\n",
        "\n",
        "  # 正負交雜的 -> 分奇偶個負數\n",
        "  if sum(negative) >= 2:\n",
        "    return muti4(sorted([abs(num) for num in k]))\n",
        "      # return max(k[0]*k[1]*k[-2]*k[-1],k[0] * k[1] * k[2] * k[3],k[-1] * k[-2] * k[-3] * k[-4],muti4(sorted([abs(num) for num in k])))\n",
        "\n",
        "k = [int(num) for num in input().split()]\n",
        "res = muti4(k)\n",
        "print(res)"
      ]
    },
    {
      "cell_type": "code",
      "source": [
        "def muti4(k):\n",
        "  type1 = k[-1] * k[-2] * k[-3] * k[-4]\n",
        "  type2 = k[0] * k[1] * k[2] * k[3]\n",
        "  type3 = k[-1] * k[-2] * k[0] * k[1]\n",
        "  return max([type1,type2,type3])\n",
        "\n",
        "k = [int(num) for num in input().split()]\n",
        "res = muti4(k)\n",
        "print(res)"
      ],
      "metadata": {
        "colab": {
          "base_uri": "https://localhost:8080/"
        },
        "id": "_hEQOHrm7tw4",
        "outputId": "d701af60-b131-420c-aafa-f1f4650b3114"
      },
      "execution_count": null,
      "outputs": [
        {
          "output_type": "stream",
          "name": "stdout",
          "text": [
            "-7 -7 1 2 3 4 5 6 7 8\n",
            "2744\n"
          ]
        }
      ]
    },
    {
      "cell_type": "markdown",
      "source": [
        "#變形費式相乘\n",
        "\n",
        "---\n",
        "\n",
        "\n",
        "Description\n",
        "\n",
        "請利用遞迴，實作以下方程式 f(x)，並輸出結果：\n",
        "\n",
        "如果 x 在 1 到 4 之間，f(x) = x ；若否，則 f(x) = f(x-1) + f(x-2)*2 + f(x-3)*3 + f(x-4)*4。\n",
        "\n",
        "給定 x 的值，請輸出 f(x)的值。\n",
        "\n",
        "\n",
        "Input\n",
        "輸入為一行，內容為一個整數。\n",
        "\n",
        "\n",
        "Output\n",
        "輸出為一行，包含一個整數。"
      ],
      "metadata": {
        "id": "rlxh6UKHhkUx"
      }
    },
    {
      "cell_type": "code",
      "source": [
        "def f(x):\n",
        "  if 1 <= x <= 4: return x\n",
        "  else:\n",
        "    return f(x-1) + f(x-2)*2 + f(x-3)*3 + f(x-4)*4\n",
        "\n",
        "print(f(int(input())))"
      ],
      "metadata": {
        "colab": {
          "base_uri": "https://localhost:8080/"
        },
        "id": "rlZ_cb6XhmEN",
        "outputId": "ca8cf6c7-f926-4e5f-c525-6078414fd9d0"
      },
      "execution_count": 12,
      "outputs": [
        {
          "output_type": "stream",
          "name": "stdout",
          "text": [
            "6\n",
            "45\n"
          ]
        }
      ]
    },
    {
      "cell_type": "markdown",
      "source": [
        "#變形費式相乘 II\n",
        "\n",
        "---\n",
        "\n",
        "\n",
        "Description\n",
        "\n",
        "承「變形費式相乘」，這一次請使用迴圈來處理以下方程式：\n",
        "\n",
        "如果 x 在 1 到 4 之間，f(x) = x ；若否，則 f(x) = f(x-1) + f(x-2)*2 + f(x-3)*3 + f(x-4)*4。\n",
        "\n",
        "給定 x 的值，請輸出 f(x) 的值。\n",
        "\n",
        "\n",
        "Input\n",
        "輸入為一行，包含一個整數\n",
        "\n",
        "\n",
        "Output\n",
        "輸出為一行，包含一個整數"
      ],
      "metadata": {
        "id": "u5oEqVNriWpF"
      }
    },
    {
      "cell_type": "code",
      "source": [
        "def f(x):\n",
        "  if 1 <= x <= 4: return x\n",
        "  else:\n",
        "    dp = [1, 2, 3, 4] + [0] * (x - 4)\n",
        "    for x in range(4, x):\n",
        "      dp[x] = dp[x-1] + dp[x-2]*2 + dp[x-3]*3 + dp[x-4]*4\n",
        "  return dp[-1]\n",
        "print(f(int(input())))"
      ],
      "metadata": {
        "colab": {
          "base_uri": "https://localhost:8080/"
        },
        "id": "Sp1eR7y2ibAa",
        "outputId": "7744b7e1-defd-4aa1-bf38-e43e3b7839a4"
      },
      "execution_count": 24,
      "outputs": [
        {
          "output_type": "stream",
          "name": "stdout",
          "text": [
            "25\n",
            "1831581574\n"
          ]
        }
      ]
    },
    {
      "cell_type": "markdown",
      "source": [
        "#密碼強度\n",
        "\n",
        "---\n",
        "\n",
        "\n",
        "Description\n",
        "\n",
        "定義密碼的強度為： 字串長度 * (大寫字母個數*2 + 小寫字母個數*1.5 + 數字字母個數) + 其它字元個數^2 \n",
        "\n",
        "舉例來說：\n",
        "\n",
        "      密碼 ccClub2018 的密碼強度為 10 * (1*2 + 5*1.5 + 4) + 0^2 = 135，\n",
        "      密碼 ccClub@2018_09_10 的密碼強度為 17 * (1*2 + 5*1.5 + 8) + 3^2 =306.5\n",
        "\n",
        "\n",
        "給定若干個密碼，依照其密碼強度由高至低排序後輸出（若密碼強度相同，則依照給定的順序輸出）。\n",
        "\n",
        "\n",
        "Input\n",
        "輸入有 n + 1 行，第一行為正整數 n，代表總共有 n 組密碼。\n",
        "\n",
        "接下來 n 行分別為 n 組密碼。\n",
        "\n",
        "\n",
        "Output\n",
        "輸出有 n 行，為依照密碼強度排序後的結果。"
      ],
      "metadata": {
        "id": "CynWviYPkhmj"
      }
    },
    {
      "cell_type": "code",
      "source": [
        "import re\n",
        "def password_strong_sort(lst):\n",
        "  def count_point(password):\n",
        "    tempres = 0\n",
        "    Uperletter_count = len(re.findall(r'[A-Z]', password))\n",
        "    Lowerletter_count = len(re.findall(r'[a-z]', password))\n",
        "    number_count = len(re.findall(r'\\d', password))\n",
        "    others = len(password) - Uperletter_count - Lowerletter_count - number_count\n",
        "\n",
        "    counts = [Uperletter_count, Lowerletter_count, number_count]\n",
        "    for i in zip(counts, [2, 1.5, 1]):\n",
        "      tempres += i[0] * i[1]\n",
        "    \n",
        "    res = len(password) * tempres + others ** 2\n",
        "    return res\n",
        "\n",
        "  point = {pw : count_point(pw) for pw in lst}\n",
        "  return sorted(lst, key = lambda x : point[x], reverse = True)\n",
        "n = int(input())\n",
        "lst = [input() for _ in range(n)]\n",
        "res = password_strong_sort(lst)\n",
        "for i in res:\n",
        "  print(i)"
      ],
      "metadata": {
        "colab": {
          "base_uri": "https://localhost:8080/"
        },
        "id": "gtrORinikyuj",
        "outputId": "541aaebe-9250-4f3f-d82b-6f9546b2d791"
      },
      "execution_count": 42,
      "outputs": [
        {
          "output_type": "stream",
          "name": "stdout",
          "text": [
            "2\n",
            "ccClub2018\n",
            "ccClub@2018_09_10\n",
            "ccClub@2018_09_10\n",
            "ccClub2018\n"
          ]
        }
      ]
    },
    {
      "cell_type": "markdown",
      "source": [
        "#電影選片\n",
        "\n",
        "---\n",
        "\n",
        "\n",
        "Description\n",
        "\n",
        "今天我們給定某一個人（讓我們姑且叫他凱文）的電影偏好，請用計分的方式幫他比較兩部電影的喜好順序，請輸出分數較高者：\n",
        "\n",
        "可能出現的分類一共有：\"Fantasy\"、\"Drama\"、\"Action\"、\"Thriller\"、\"Comedy\"、\"Crime\"、\"History\"、\"Romance\"、\"Adventure\"、\"Biography\" 十個類別，請依照這個順序，若此影片的類型包含 \"Fantasy\" 加 10 分、\"Drama\" 加 9 分、\"Action\" 加8分......以此類推，保證每一部電影都會給三個在這當中的類型\n",
        "除了類別以外，凱文還很重視IMDb這個網站的給分，因此，請替他加上IMDb的分數\n",
        "如果兩部電影得到的總分相同，請將兩部電影名稱都輸出\n",
        "\n",
        "Input\n",
        "輸入包含六行（代表兩部電影）。\n",
        "\n",
        "第一行及第四行為電影名稱，第二行及第五行為該電影的 IMDB 評價分數，第三行及第六行為該電影的分類。\n",
        "\n",
        "\n",
        "Output\n",
        "輸出包含一或兩行，各包含一個字串"
      ],
      "metadata": {
        "id": "Em3zBmO7rvY7"
      }
    },
    {
      "cell_type": "code",
      "source": [
        "def movie_chose(moive_name, IMDb, category):\n",
        "  return IMDb + sum(movie_weight[i] for i in category)\n",
        "\n",
        "movie_category = [\"Fantasy\",\"Drama\",\"Action\",\"Thriller\",\"Comedy\",\"Crime\",\"History\",\"Romance\",\"Adventure\",\"Biography\"]\n",
        "movie_weight = {k : v for k,v in zip(movie_category, [*range(10, 0, -1)])}\n",
        "\n",
        "res = {}\n",
        "for _ in range(2):\n",
        "  moive_name = input()\n",
        "  IMDb = float(input().split(':')[1])\n",
        "  category = input().split()\n",
        "  res[moive_name] = movie_chose(moive_name, IMDb, category)\n",
        "\n",
        "ans = list(res.items())\n",
        "if ans[0][1] == ans[1][1]:\n",
        "  print(*res.keys(), sep = '\\n')\n",
        "elif ans[0][1] > ans[1][1]:\n",
        "  print(ans[0][0])\n",
        "else:\n",
        "  print(ans[1][0])"
      ],
      "metadata": {
        "colab": {
          "base_uri": "https://localhost:8080/"
        },
        "id": "nrpkjMHYsCm5",
        "outputId": "df4f864b-1f3a-4df1-cb8d-1296caf51191"
      },
      "execution_count": 63,
      "outputs": [
        {
          "output_type": "stream",
          "name": "stdout",
          "text": [
            "The Shape of Water\n",
            "IMDb:7.4\n",
            "Adventure Drama Fantasy\n",
            "The King's Speech\n",
            "IMDb:8.0\n",
            "Biography Drama\n",
            "The Shape of Water\n"
          ]
        }
      ]
    },
    {
      "cell_type": "markdown",
      "source": [
        "# Three sum 趴兔\n",
        "\n",
        "---\n",
        "\n",
        "\n",
        "Description\n",
        "\n",
        "給定 k 個依照大小排序好的數，以及一個整數n。\n",
        "\n",
        "找出 k 個數中\n",
        "\n",
        "Find the count such that lst[i] + lst[j] + lst[k] < n for all i, j, k,0 <= i < j < k < len(lst).\n",
        "\n",
        "Assume that len(lst) >= 3.\n",
        "\n",
        "\n",
        "Input\n",
        "輸入為兩行。\n",
        "\n",
        "第一行包含數個數字，數字間以空白為間隔。\n",
        "\n",
        "第二行則包含一個整數。\n",
        "\n",
        "\n",
        "Output\n",
        "輸出為一行，包含一個整數。\n",
        "\n",
        "![image.png](data:image/png;base64,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)"
      ],
      "metadata": {
        "id": "Z02GrHIm7vu8"
      }
    },
    {
      "cell_type": "code",
      "source": [
        "def threesum(lst:list[int],target:int) -> int:\n",
        "    if lst[0] > target:\n",
        "        return 0\n",
        "    res = 0\n",
        "    for i in range(len(lst) - 2):\n",
        "        if sum(lst[i:i + 3]) >= target:\n",
        "            break\n",
        "        right = len(lst) - 1\n",
        "        left = i + 1\n",
        "        while left < right:\n",
        "            tempsum = lst[i] + lst[left] + lst[right]\n",
        "            if tempsum < target:\n",
        "                res += right - left\n",
        "                left += 1\n",
        "            else:\n",
        "                right -= 1\n",
        "    return res\n",
        "            \n",
        "lst =[int(num) for num in input().split()]\n",
        "target = int(input())\n",
        "\n",
        "res = threesum(lst, target)\n",
        "print(res)"
      ],
      "metadata": {
        "colab": {
          "base_uri": "https://localhost:8080/"
        },
        "id": "jD91NTO4726M",
        "outputId": "53a5217d-19b6-4bd8-bdbf-e00dd57f1711"
      },
      "execution_count": null,
      "outputs": [
        {
          "output_type": "stream",
          "name": "stdout",
          "text": [
            "1 3 5 7 9 11\n",
            "18\n",
            "10\n"
          ]
        }
      ]
    },
    {
      "cell_type": "code",
      "source": [
        "from bisect import bisect_left\n",
        "def threesum(lst: list[int], target: int) -> int:\n",
        "    if lst[0] > target:\n",
        "        return 0\n",
        "    \n",
        "    n = len(lst)\n",
        "    res = 0\n",
        "    \n",
        "    for i in range(n - 2):      \n",
        "        for left in range(i + 1, n - 1):\n",
        "            if sum(lst[i:i + 3]) >= target:\n",
        "                break\n",
        "            \n",
        "            complement = target - lst[i] - lst[left]\n",
        "            right_add1 = bisect_left(lst, complement, left + 1, n)\n",
        "            res += (right_add1 - 1) - left\n",
        "                \n",
        "    return res\n",
        "lst =[int(num) for num in input().split()]\n",
        "target = int(input())\n",
        "\n",
        "res = threesum(lst, target)\n",
        "print(res)"
      ],
      "metadata": {
        "colab": {
          "base_uri": "https://localhost:8080/"
        },
        "id": "TfkgpfVV8Aje",
        "outputId": "aee98627-4d6b-4eb7-adbb-fdfebbb643e5"
      },
      "execution_count": null,
      "outputs": [
        {
          "output_type": "stream",
          "name": "stdout",
          "text": [
            "1 3 5 7 9 11\n",
            "18\n",
            "10\n"
          ]
        }
      ]
    }
  ]
}