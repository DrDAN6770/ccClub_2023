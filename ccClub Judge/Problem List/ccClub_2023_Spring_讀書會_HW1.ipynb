{
  "nbformat": 4,
  "nbformat_minor": 0,
  "metadata": {
    "colab": {
      "provenance": [],
      "authorship_tag": "ABX9TyMojcDd33nbtu/7f22xoTlB",
      "include_colab_link": true
    },
    "kernelspec": {
      "name": "python3",
      "display_name": "Python 3"
    },
    "language_info": {
      "name": "python"
    }
  },
  "cells": [
    {
      "cell_type": "markdown",
      "metadata": {
        "id": "view-in-github",
        "colab_type": "text"
      },
      "source": [
        "<a href=\"https://colab.research.google.com/github/DrDAN6770/ccClub_2023/blob/main/ccClub%20Judge/Problem%20List/ccClub_2023_Spring_%E8%AE%80%E6%9B%B8%E6%9C%83_HW1.ipynb\" target=\"_parent\"><img src=\"https://colab.research.google.com/assets/colab-badge.svg\" alt=\"Open In Colab\"/></a>"
      ]
    },
    {
      "cell_type": "markdown",
      "source": [
        "#停車費\n",
        "\n",
        "---\n",
        "\n",
        "\n",
        "Description\n",
        "\n",
        "台大社科院停車場對於收取停車費有一些規定：\n",
        "\n",
        "1.停車每半小時20元，不滿30分鐘算為30分鐘（但是同一分鐘內進出則不計停車費）\n",
        "\n",
        "2.如果你有台大證件，停車費半價\n",
        "\n",
        "3.如果你有台大證件，總停車時間若小於30分鐘，則停車免費\n",
        "\n",
        "4.不提供跨夜停車，必須在23:59以前將離場\n",
        "\n",
        "給定進場時間（hh:mm）、出場時間（hh:mm）、以及有無台大證件（Y/N），請計算出這個人離開停車場時的停車費金額（請印出整數 int）：\n",
        "\n",
        "\n",
        "Input\n",
        "輸入為三行，前兩行分別為入場時間（hh:mm）以及出場時間（hh:mm），第三行則是有無台大證件(Y/N)\n",
        "\n",
        "\n",
        "Output\n",
        "輸出為一行，包含一個整數"
      ],
      "metadata": {
        "id": "xlrLCmfFZGa5"
      }
    },
    {
      "cell_type": "code",
      "execution_count": 1,
      "metadata": {
        "colab": {
          "base_uri": "https://localhost:8080/"
        },
        "id": "wkSxP09cYOdB",
        "outputId": "146cf055-d782-4f7d-9139-ccdcf017b644"
      },
      "outputs": [
        {
          "output_type": "stream",
          "name": "stdout",
          "text": [
            "15:00\n",
            "23:59\n",
            "N\n",
            "360\n"
          ]
        }
      ],
      "source": [
        "def minscalcator(enter,exit):\n",
        "  entertime = [int(i) for i in enter]\n",
        "  exittime = [int(i) for i in exit]\n",
        "  return (exittime[0] - entertime[0]) * 60 + (exittime[1] - entertime[1])\n",
        "def cal(time,isNTU):  \n",
        "  cost = 20\n",
        "  halfhourcount = time // 30\n",
        "  remain = time % 30\n",
        "\n",
        "  if time <= 1:\n",
        "    return 0\n",
        "  else:\n",
        "    if remain != 0:\n",
        "      halfhourcount += 1\n",
        "    fee = halfhourcount * cost\n",
        "  \n",
        "  if isNTU == 'Y':\n",
        "    if time < 30:\n",
        "      return 0\n",
        "    return int(fee/2)\n",
        "  else:\n",
        "    return fee\n",
        "\n",
        "\n",
        "entertime = input().split(':')\n",
        "exittime = input().split(':')\n",
        "isNTU = input()\n",
        "\n",
        "print(cal(minscalcator(entertime,exittime),isNTU))"
      ]
    },
    {
      "cell_type": "markdown",
      "source": [
        "#字串加密 II\n",
        "\n",
        "---\n",
        "\n",
        "\n",
        "Description\n",
        "\n",
        "輸入一個字串以及一個數字，請依index將字串中的字元對應數字來進行加密：\n",
        "\n",
        "舉例如下：\n",
        "\n",
        "輸入abc以及123，請將a經由ASCII code加1進行轉換，b加2、c加3...以此類推\n",
        "\n",
        "\n",
        "Input\n",
        "輸入有兩行，包含一個長度為n的字串以及一個整數（字串與整數的長度不一定相等，以字串長度為準：如果字串比較長要把數字補齊；如果數字比較長的話把多餘的截斷。）\n",
        "\n",
        "\n",
        "Output\n",
        "輸出為一行，包含一個字串"
      ],
      "metadata": {
        "id": "kSjpRXmTZb5X"
      }
    },
    {
      "cell_type": "code",
      "source": [
        "def passwordencrypt(s,n):\n",
        "    s = [*s]\n",
        "    n = [int(digit) for digit in f'{n}']\n",
        "    temp = []\n",
        "\n",
        "    while len(s) >  len(n):\n",
        "        n.extend(n[:len(s)-len(n)])\n",
        "\n",
        "    for letter,num in zip(s,n):\n",
        "        temp.append(chr(ord(letter) + num))\n",
        "    \n",
        "    return ''.join(temp)\n",
        "\n",
        "\n",
        "s = input()\n",
        "n = input()\n",
        "res = passwordencrypt(s,n)\n",
        "print(res)"
      ],
      "metadata": {
        "colab": {
          "base_uri": "https://localhost:8080/"
        },
        "id": "pZxMG9XeZevG",
        "outputId": "35e9cb86-5477-45f8-d76a-ca323e2bbd8d"
      },
      "execution_count": 2,
      "outputs": [
        {
          "output_type": "stream",
          "name": "stdout",
          "text": [
            "ccClub\n",
            "61743\n",
            "idJpxh\n"
          ]
        }
      ]
    },
    {
      "cell_type": "markdown",
      "source": [
        "#身分證字號\n",
        "\n",
        "---\n",
        "\n",
        "\n",
        "Description\n",
        "\n",
        "中華民國身分證字號共十碼，包含一個英文字母及九個數字，其編號的規則請參考：維基百科。\n",
        "\n",
        "本題將輸入一個英文字母及數字部分後八碼，請依照編碼規則判斷此身分證字號的擁有者是男性或女性。\n",
        "\n",
        "\n",
        "Input\n",
        "輸入有兩行。\n",
        "\n",
        "第一行為一個英文字母，代表縣市。\n",
        "\n",
        "第二行為身分證字號數字部分後八碼。\n",
        "\n",
        "\n",
        "Output\n",
        "輸出為一行，字串 Male 或 Female"
      ],
      "metadata": {
        "id": "9v4Qcp6TZweX"
      }
    },
    {
      "cell_type": "code",
      "source": [
        "# 第一碼數字為性別1、8男;2、9女\n",
        "# 驗證規則\n",
        "FirstCodeTopint = {'A': 10,'B': 11,'C': 12,'D': 13,\n",
        "          'E': 14,'F': 15,'G': 16,'H': 17,\n",
        "          'I': 34,'J': 18,'K': 19,'M': 21,\n",
        "          'N': 22,'O': 35,'P': 23,'Q': 24,\n",
        "          'T': 27,'U': 28,'V': 29,'W': 32,\n",
        "          'X': 30,'Z': 33}\n",
        "# 拿掉性別權重8\n",
        "weights = [1,9,7,6,5,4,3,2,1,1]\n",
        "\n",
        "def IDidentify(county1,nums8):\n",
        "  gender = {'Male':(1,8),\n",
        "        'Female':(2,9)}\n",
        "  \n",
        "  # 算沒性別的分數\n",
        "  IDwithoutsex = list(map(int,f'{FirstCodeTopint[county1]}{nums8}'))\n",
        "  ID_weight = sum([num*weight for num,weight in zip(IDwithoutsex,weights)])\n",
        "\n",
        "  # 算性別分數 & 判斷\n",
        "  for k,v in gender.items():\n",
        "    if (ID_weight + v[0]*8) % 10 == 0 or (ID_weight + v[1]*8) % 10 == 0:\n",
        "      return k\n",
        "\n",
        "county1 = input()\n",
        "num8 = input()\n",
        "res = IDidentify(county1,num8)\n",
        "print(res)"
      ],
      "metadata": {
        "colab": {
          "base_uri": "https://localhost:8080/"
        },
        "id": "JYNkqJP_Z-qq",
        "outputId": "d985d07c-fb40-4668-e588-24f67ac3af2a"
      },
      "execution_count": 3,
      "outputs": [
        {
          "output_type": "stream",
          "name": "stdout",
          "text": [
            "D\n",
            "00466791\n",
            "Female\n"
          ]
        }
      ]
    },
    {
      "cell_type": "markdown",
      "source": [
        "#加簽大地\n",
        "\n",
        "---\n",
        "\n",
        "\n",
        "Description\n",
        "\n",
        "每個學期的開學前兩週，都是大家忙於加簽不同課的時間，而有一堂CS系所開設的機器學習課程加簽規則如下：\n",
        "\n",
        "1.優先順序為：台大資訊學群 (aXX902XXX) > 台大電機學群 (aXX901XXX) > 台大其他系所 (aXXXXXXXX)\n",
        "\n",
        "2.在同一個優先順位內，大四的學生優先於其他年級的學生，在這裡我們規定為學號開頭為\"a04\"的學生（a04303XXX 優先於 a05303XXX）\n",
        "\n",
        "3.除此之外，接續規則2的優先順序，如果在同個優先順位之內，該同學的學號末三碼是3, 5, 7其中一個數字的倍數，將優先於其他同學進行加簽 (a05502018 優先於 a05705019)\n",
        "\n",
        "給定兩位同學的學號，請輸出加簽優先順位高的學號，若相同則輸出”tie”：\n",
        "\n",
        "\n",
        "Input\n",
        "輸入為兩行，各包含一個字串ID1以及ID2\n",
        "\n",
        "\n",
        "Output\n",
        "輸出為一行，包含一個字串"
      ],
      "metadata": {
        "id": "aGzywJkvmrnv"
      }
    },
    {
      "cell_type": "code",
      "source": [
        "# 條件相同才往下個條件比\n",
        "# 條件1:Department中902優先於901優於其他\n",
        "# 條件2:Grade中a04優於其他\n",
        "# 條件3:last3number中此數字為3、5、7倍數擇優於其他\n",
        "# 最後還是都相同順位則返回'tie'\n",
        "def priority(id1,id2):\n",
        "    def Department_p(x):\n",
        "        if x == '902': return 2\n",
        "        if x == '901': return 1\n",
        "        else: return 0\n",
        "    def Grade_p(x):\n",
        "        if x == 'a04': return 1\n",
        "        else: return 0\n",
        "    def last3number_p(x):\n",
        "        x = int(x)\n",
        "        if x%3 ==0 or x%5 == 0 or x%7 ==0: return 1\n",
        "        else: return 0\n",
        "    def tie(info):\n",
        "        d1, d2 = Department_p(info['Department'][0]), Department_p(info['Department'][1])\n",
        "        g1, g2 = Grade_p(info['Grade'][0]), Grade_p(info['Grade'][1])\n",
        "        l1, l2 = last3number_p(info['last3number'][0]), last3number_p(info['last3number'][1])\n",
        "        if (d1, g1, l1) == (d2, g2, l2):\n",
        "            return 'tie'\n",
        "\n",
        "    info = {'Student':[id1,id2],\n",
        "            'Department':[id1[3:6],id2[3:6]],\n",
        "            'Grade':[id1[:3],id2[:3]],\n",
        "            'last3number':[id1[-3:],id2[-3:]]}\n",
        "\n",
        "    if tie(info):\n",
        "        return 'tie'\n",
        "    else:\n",
        "        sorted_list = sorted(zip(*info.values()), key=lambda x: (Department_p(x[1]), Grade_p(x[2]), last3number_p(x[3])))\n",
        "        return sorted_list[1][0]\n",
        "    \n",
        "\n",
        "id1 = input()\n",
        "id2 = input()\n",
        "print(priority(id1,id2))"
      ],
      "metadata": {
        "colab": {
          "base_uri": "https://localhost:8080/"
        },
        "id": "wZ7FJcvAmxjR",
        "outputId": "404010b2-5902-462b-ee27-2cfcd6d3ae4b"
      },
      "execution_count": 2,
      "outputs": [
        {
          "output_type": "stream",
          "name": "stdout",
          "text": [
            "a04902003\n",
            "a04902014\n",
            "tie\n"
          ]
        }
      ]
    },
    {
      "cell_type": "markdown",
      "source": [
        "#連四相乘\n",
        "\n",
        "---\n",
        "\n",
        "\n",
        "Description\n",
        "\n",
        "給定 k 個（k >= 4）依數大小由小至大排序的整數，找出這些數中挑 4 個數字相乘的最大值。\n",
        "\n",
        "\n",
        "Input\n",
        "輸入為一行，包含 k 個整數（k >= 4），數字以空白為間隔。\n",
        "\n",
        "\n",
        "Output\n",
        "輸出為一行，包含一個整數。"
      ],
      "metadata": {
        "id": "AMN_1QF0mvfw"
      }
    },
    {
      "cell_type": "code",
      "source": [
        "def muti4(k):\n",
        "  positive = [num >= 0 for num in k]\n",
        "  negative = [num < 0 for num in k]\n",
        "  if all(positive) or sum(negative) == 1:\n",
        "    return k[-1] * k[-2] * k[-3] * k[-4]\n",
        "  \n",
        "  if all(negative) or sum(positive) == 1:\n",
        "    return k[0] * k[1] * k[2] * k[3]\n",
        "\n",
        "  if sum(negative) >= 2:\n",
        "    if sum(negative) %2 == 0:\n",
        "      return muti4(sorted([abs(num) for num in k]))\n",
        "    else:\n",
        "        return max(k[0]*k[1]*k[-2]*k[-1],k[0] * k[1] * k[2] * k[3],k[-1] * k[-2] * k[-3] * k[-4],muti4(sorted([abs(num) for num in k])))\n",
        "\n",
        "k = [int(num) for num in input().split()]\n",
        "res = muti4(k)\n",
        "print(res)"
      ],
      "metadata": {
        "colab": {
          "base_uri": "https://localhost:8080/"
        },
        "id": "sGgMKX6smx3F",
        "outputId": "f3ade7fa-c7b6-4ec7-9fb7-13050fa77f11"
      },
      "execution_count": 1,
      "outputs": [
        {
          "output_type": "stream",
          "name": "stdout",
          "text": [
            "-7 -7 1 2 3 4 5 6 7 8\n",
            "2744\n"
          ]
        }
      ]
    }
  ]
}