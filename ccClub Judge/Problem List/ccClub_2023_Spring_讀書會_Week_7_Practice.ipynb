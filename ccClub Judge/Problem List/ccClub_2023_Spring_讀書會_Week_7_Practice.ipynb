{
  "nbformat": 4,
  "nbformat_minor": 0,
  "metadata": {
    "colab": {
      "provenance": [],
      "authorship_tag": "ABX9TyODO/mstLFccuAQaQOHXQru",
      "include_colab_link": true
    },
    "kernelspec": {
      "name": "python3",
      "display_name": "Python 3"
    },
    "language_info": {
      "name": "python"
    }
  },
  "cells": [
    {
      "cell_type": "markdown",
      "metadata": {
        "id": "view-in-github",
        "colab_type": "text"
      },
      "source": [
        "<a href=\"https://colab.research.google.com/github/DrDAN6770/ccClub_2023/blob/main/ccClub%20Judge/Problem%20List/ccClub_2023_Spring_%E8%AE%80%E6%9B%B8%E6%9C%83_Week_7_Practice.ipynb\" target=\"_parent\"><img src=\"https://colab.research.google.com/assets/colab-badge.svg\" alt=\"Open In Colab\"/></a>"
      ]
    },
    {
      "cell_type": "markdown",
      "source": [
        "#數字串列處理器\n",
        "\n",
        "---\n",
        "\n",
        "\n",
        "Description\n",
        "\n",
        "在之前的練習中，我們實作過「奇偶個數差(odd_even_count_sub)」、「冠亞軍分數差(top2_max_sub)」和「最大奇偶相差(max_odd_even_sub)」。\n",
        "\n",
        "現在，我們需要實作一個數字串列處理器，這個處理器擁有以上三個功能。\n",
        "\n",
        "讓使用者輸入若干個數以及需要的功能，接著輸出對應的結果。\n",
        "\n"
      ],
      "metadata": {
        "id": "aI_HRKiZsPq9"
      }
    },
    {
      "cell_type": "code",
      "execution_count": null,
      "metadata": {
        "id": "yg0KZs_hsI4m"
      },
      "outputs": [],
      "source": [
        "def odd_even_count_sub(lst):\n",
        "    count_odd = sum(1 for num in lst if num & 1)\n",
        "    ans = abs(len(lst) - count_odd - count_odd)\n",
        "    return ans\n",
        "\n",
        "def top2_max_sub(lst):\n",
        "    lst.sort()\n",
        "    ans = lst[-1] - lst[-2]\n",
        "    return ans\n",
        "\n",
        "def max_odd_even_sub(lst):\n",
        "    maxodd = max([num for num in lst if num & 1], default = 0)\n",
        "    maxeven = max([num for num in lst if not num & 1], default = 0)\n",
        "    ans = abs(maxodd - maxeven)\n",
        "    return ans"
      ]
    },
    {
      "cell_type": "markdown",
      "source": [
        "# 10-2：自訂費式數列\n",
        "\n",
        "---\n",
        "\n",
        "\n",
        "Description\n",
        "\n",
        "已知 f(0) = 0，f(1) = 1，f(2) = 2，f(n) = f(n-1) + f(n-2) + f(n-3)。輸入數字 n ，輸出 f(n)。\n",
        "\n",
        "\n",
        "Input\n",
        "輸入為一行，包含一個正整數n\n",
        "\n",
        "\n",
        "Output\n",
        "請輸出f(n)"
      ],
      "metadata": {
        "id": "R6oXjQplsVE3"
      }
    },
    {
      "cell_type": "code",
      "source": [
        "def f(n):\n",
        "  if n == 0:return 0\n",
        "  elif n == 1 :return 1\n",
        "  elif n == 2 :return 2\n",
        "  else:\n",
        "    d = [0,1,2] + [0]*(n-2)\n",
        "    for i in range(3,n+1):\n",
        "      d[i] = d[i-1] + d[i-2] + d[i-3]\n",
        "    return d[n]\n",
        "n = int(input())\n",
        "print(f(n))"
      ],
      "metadata": {
        "id": "ag-wQbENsZGY"
      },
      "execution_count": null,
      "outputs": []
    },
    {
      "cell_type": "markdown",
      "source": [
        "# 數字組合最大值排序\n",
        "\n",
        "---\n",
        "\n",
        "\n",
        "Description\n",
        "\n",
        "給定數個整數，請使用數字各位數重新排列以後，可以排出來的最大值來進行排序，並將排序後的串列直接輸出。\n",
        "\n",
        "\n",
        "Input\n",
        "輸入為一行，包含數個整數\n",
        "\n",
        "\n",
        "Output\n"
      ],
      "metadata": {
        "id": "wR3z9xGxsdro"
      }
    },
    {
      "cell_type": "code",
      "source": [
        "def num_max_sorted(nums):\n",
        "    num_max_dict = {}\n",
        "    for num in nums:\n",
        "        num_max_dict[num] = int(''.join(sorted(list(num), reverse = True)))\n",
        "    return sorted(nums, key = lambda x:num_max_dict[x])\n",
        "\n",
        "nums = input().split()\n",
        "res = num_max_sorted(nums)\n",
        "print(res)"
      ],
      "metadata": {
        "colab": {
          "base_uri": "https://localhost:8080/"
        },
        "id": "OBZ9tjgPse58",
        "outputId": "bf963a95-decc-4b46-e4d3-9f1ceb7d617d"
      },
      "execution_count": null,
      "outputs": [
        {
          "output_type": "stream",
          "name": "stdout",
          "text": [
            "63852 58948 48046 61850 21209 68169 14761\n",
            "['14761', '48046', '61850', '63852', '21209', '68169', '58948']\n"
          ]
        }
      ]
    },
    {
      "cell_type": "markdown",
      "source": [
        "# 數字交換最大值\n",
        "\n",
        "---\n",
        "\n",
        "\n",
        "Description\n",
        "\n",
        "給定一個非負整數 N，你可以將任兩個位數的值交換。\n",
        "\n",
        "請寫一個程式，計算出應該怎樣交換能使交換後的數字最大。\n",
        "\n",
        "\n",
        "Input\n",
        "輸入有一行，包含一個非負整數 N。\n",
        "\n",
        "\n",
        "Output\n",
        "輸出有一行，包含一個非負整數。"
      ],
      "metadata": {
        "id": "gqqnIG4dsjcC"
      }
    },
    {
      "cell_type": "code",
      "source": [
        "def swap_nums(num):\n",
        "    s = list(str(num))\n",
        "    n = len(s)\n",
        "\n",
        "    # 降序排列回傳原數字，右邊>左邊 代表有可交換的組合\n",
        "    for i in range(n - 1):\n",
        "        if s[i] < s[i + 1]:\n",
        "            break\n",
        "    else:\n",
        "        return int(num)\n",
        "    \n",
        "    # 目前最大index、value (能走到這代表前面break，代表i後面值比較大)\n",
        "    max_idx, max_val = i + 1, s[i + 1]\n",
        "\n",
        "    # 接著找右邊最大的值、index\n",
        "    for j in range(i + 1, n):\n",
        "        if max_val <= s[j]:\n",
        "            max_idx, max_val = j, s[j]\n",
        "\n",
        "    # 往左找最小的index\n",
        "    left_idx = i\n",
        "    for j in range(i, -1, -1):\n",
        "        if s[j] < max_val:\n",
        "            left_idx = j\n",
        "\n",
        "    # Swap\n",
        "    s[max_idx], s[left_idx] = s[left_idx], s[max_idx]\n",
        "    return int(''.join(s))\n",
        "\n",
        "num = input()\n",
        "res = swap_nums(num)\n",
        "print(res)"
      ],
      "metadata": {
        "colab": {
          "base_uri": "https://localhost:8080/"
        },
        "id": "AjWC6A9GbJSw",
        "outputId": "dca19f42-79b2-4f29-9b82-cc210c5e2abc"
      },
      "execution_count": 27,
      "outputs": [
        {
          "output_type": "stream",
          "name": "stdout",
          "text": [
            "3578\n",
            "8573\n"
          ]
        }
      ]
    },
    {
      "cell_type": "code",
      "source": [
        "# def swap_nums(num:str) -> int:\n",
        "def swap_nums2(num):\n",
        "  s = list(str(num))\n",
        "\n",
        "  # 存字典 {'3':0, '5':1, '7':2, '8':3}\n",
        "  hash_map = {digit : idx for idx, digit in enumerate(s)}\n",
        "\n",
        "  # 遍歷字典，從最大數字9開始往下找到現在數字前一個 ex: 現在3 找到4就可以swap，不需要往下找\n",
        "  for idx, digit in enumerate(s):\n",
        "    for number in range(9, int(digit), -1):\n",
        "      temp_str = str(number)\n",
        "\n",
        "      # 這個數在字典且所在idx比現在大(代表在右邊)\n",
        "      if temp_str in hash_map and hash_map[temp_str] > idx:\n",
        "        s[idx], s[hash_map[temp_str]] = s[hash_map[temp_str]], s[idx]\n",
        "        return int(''.join(s))\n",
        "  \n",
        "  # 沒有swap,代表已是最大\n",
        "  return int(num)\n",
        "num = input()\n",
        "res = swap_nums2(num)\n",
        "print(res)"
      ],
      "metadata": {
        "colab": {
          "base_uri": "https://localhost:8080/"
        },
        "id": "Aj7t_uMYcPwp",
        "outputId": "7f2b9c92-67ac-4511-ef0f-d4217fbe4d2c"
      },
      "execution_count": 28,
      "outputs": [
        {
          "output_type": "stream",
          "name": "stdout",
          "text": [
            "3578\n",
            "8573\n"
          ]
        }
      ]
    }
  ]
}