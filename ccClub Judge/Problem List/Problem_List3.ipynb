{
  "nbformat": 4,
  "nbformat_minor": 0,
  "metadata": {
    "colab": {
      "provenance": [],
      "authorship_tag": "ABX9TyOqOKInFuMnUpo692dgdUtY",
      "include_colab_link": true
    },
    "kernelspec": {
      "name": "python3",
      "display_name": "Python 3"
    },
    "language_info": {
      "name": "python"
    }
  },
  "cells": [
    {
      "cell_type": "markdown",
      "metadata": {
        "id": "view-in-github",
        "colab_type": "text"
      },
      "source": [
        "<a href=\"https://colab.research.google.com/github/DrDAN6770/ccClub_2023/blob/main/ccClub%20Judge/Problem%20List/Problem_List3.ipynb\" target=\"_parent\"><img src=\"https://colab.research.google.com/assets/colab-badge.svg\" alt=\"Open In Colab\"/></a>"
      ]
    },
    {
      "cell_type": "markdown",
      "source": [
        "#ASCII code\n",
        "\n",
        "---\n",
        "\n",
        "\n",
        "Description\n",
        "\n",
        "如同我們剛才所說的，ASCII code是用來代表字元的一種編碼方式，可以透過ord(character)以及chr(code)來進行轉換：\n",
        "\n",
        "給定一個字串，請輸出所有字元的ASCII code\n",
        "\n",
        "\n",
        "Input\n",
        "輸入為一行，包含一個長度為n的字串\n",
        "\n",
        "\n",
        "Output\n",
        "輸出為n行，各包含一個整數代碼"
      ],
      "metadata": {
        "id": "s_WfiYTS9apE"
      }
    },
    {
      "cell_type": "code",
      "execution_count": null,
      "metadata": {
        "colab": {
          "base_uri": "https://localhost:8080/"
        },
        "id": "3oVXsNC49aNQ",
        "outputId": "32e5f305-1220-4b41-9244-d842d1378fe0"
      },
      "outputs": [
        {
          "output_type": "stream",
          "name": "stdout",
          "text": [
            "ccClub\n",
            "99\n",
            "99\n",
            "67\n",
            "108\n",
            "117\n",
            "98\n"
          ]
        }
      ],
      "source": [
        "s = input()\n",
        "for i in s:\n",
        "  print(ord(i))"
      ]
    },
    {
      "cell_type": "markdown",
      "source": [
        "#字串加密\n",
        "\n",
        "---\n",
        "\n",
        "\n",
        "Description\n",
        "\n",
        "如同我們剛才所說的，ASCII code是用來代表字元的一種編碼方式，可以透過ord(character)以及chr(code)來進行轉換：\n",
        "\n",
        "今天我們要藉由ASCII來進行加密，給定一個字串，請將 index 為零的字元轉換為ASCII code下編碼 +1的字元，index為 1 的字元轉換為ASCII code下編碼 +2的字元，以此類推來進行加密\n",
        "\n",
        "Input\n",
        "輸入為一行，包含一個字串 s\n",
        "\n",
        "\n",
        "Output\n",
        "輸出為一行，包含一個經過加密後的字串"
      ],
      "metadata": {
        "id": "csnvxDQu9_9I"
      }
    },
    {
      "cell_type": "code",
      "source": [
        "s = input()\n",
        "res = ''\n",
        "c = 1\n",
        "for i in s:\n",
        "  res += chr(ord(i) + c)\n",
        "  c += 1\n",
        "print(res)"
      ],
      "metadata": {
        "colab": {
          "base_uri": "https://localhost:8080/"
        },
        "id": "fzRl4VRl-BjW",
        "outputId": "ed3b82e0-9307-4ae8-fdc8-214bcb410d2e"
      },
      "execution_count": null,
      "outputs": [
        {
          "output_type": "stream",
          "name": "stdout",
          "text": [
            "ccClub\n",
            "deFpzh\n"
          ]
        }
      ]
    },
    {
      "cell_type": "code",
      "source": [
        "s = input()\n",
        "res = ''.join([chr(ord(letter) + index) for index,letter in enumerate(s,1)])\n",
        "print(res)"
      ],
      "metadata": {
        "colab": {
          "base_uri": "https://localhost:8080/"
        },
        "id": "lz40q-VDAPai",
        "outputId": "8e776c95-34ed-4e86-901b-aa6d769dd063"
      },
      "execution_count": null,
      "outputs": [
        {
          "output_type": "stream",
          "name": "stdout",
          "text": [
            "ccClub\n",
            "deFpzh\n"
          ]
        }
      ]
    },
    {
      "cell_type": "markdown",
      "source": [
        "#身分證字號\n",
        "\n",
        "---\n",
        "\n",
        "\n",
        "Description\n",
        "\n",
        "中華民國身分證字號共十碼，包含一個英文字母及九個數字，其編號的規則請參考：維基百科。\n",
        "\n",
        "本題將輸入一個英文字母及數字部分後八碼，請依照編碼規則判斷此身分證字號的擁有者是男性或女性。\n",
        "\n",
        "\n",
        "Input\n",
        "輸入有兩行。\n",
        "\n",
        "第一行為一個英文字母，代表縣市。\n",
        "\n",
        "第二行為身分證字號數字部分後八碼。\n",
        "\n",
        "\n",
        "Output\n",
        "輸出為一行，字串 Male 或 Female"
      ],
      "metadata": {
        "id": "HOcKgSs_-OFM"
      }
    },
    {
      "cell_type": "code",
      "source": [
        "# 第一碼數字為性別1、8男;2、9女\n",
        "# 驗證規則\n",
        "FirstCodeTopint = {'A': 10,'B': 11,'C': 12,'D': 13,\n",
        "                    'E': 14,'F': 15,'G': 16,'H': 17,\n",
        "                    'I': 34,'J': 18,'K': 19,'M': 21,\n",
        "                    'N': 22,'O': 35,'P': 23,'Q': 24,\n",
        "                    'T': 27,'U': 28,'V': 29,'W': 32,\n",
        "                    'X': 30,'Z': 33}\n",
        "# 拿掉性別權重8\n",
        "weights = [1,9,7,6,5,4,3,2,1,1]\n",
        "\n",
        "def IDidentify(county1,nums8):\n",
        "    gender = {'Male':(1,8),\n",
        "              'Female':(2,9)}\n",
        "    \n",
        "    IDwithoutsex = list(map(int,f'{FirstCodeTopint[county1]}{nums8}'))\n",
        "    ID_weight = sum([num*weight for num,weight in zip(IDwithoutsex,weights)])\n",
        "\n",
        "    for k,v in gender.items():\n",
        "        if (ID_weight + v[0]*8) % 10 == 0 or (ID_weight + v[1]*8) % 10 == 0:\n",
        "            return k\n",
        "\n",
        "county1 = input()\n",
        "num8 = input()\n",
        "res = IDidentify(county1,num8)\n",
        "print(res)"
      ],
      "metadata": {
        "colab": {
          "base_uri": "https://localhost:8080/"
        },
        "id": "tkg_WNkl-RAL",
        "outputId": "ae7405d7-730b-4095-d59e-c133fa9a89e2"
      },
      "execution_count": null,
      "outputs": [
        {
          "output_type": "stream",
          "name": "stdout",
          "text": [
            "A\n",
            "87883299\n",
            "Male\n"
          ]
        }
      ]
    },
    {
      "cell_type": "markdown",
      "source": [
        "#中位數\n",
        "\n",
        "---\n",
        "\n",
        "\n",
        "Description\n",
        "\n",
        "給定數個已經依照大小排列好的整數，請輸出這個數列的中位數（請輸出浮點數）\n",
        "\n",
        "\n",
        "Input\n",
        "輸入為一行，包含數個整數，以空白作為間隔\n",
        "\n",
        "\n",
        "Output\n",
        "輸出為一行，包含一個浮點數"
      ],
      "metadata": {
        "id": "QEuQCo9r-Uw2"
      }
    },
    {
      "cell_type": "code",
      "source": [
        "nums = [float(num) for num in input().split()]\n",
        "l = 0 \n",
        "r = len(nums)-1\n",
        "mid = l + (r-l)//2\n",
        "if len(nums)%2 != 0:\n",
        "  print(nums[mid])\n",
        "else:\n",
        "  print((nums[mid] + nums[mid+1])/2)"
      ],
      "metadata": {
        "colab": {
          "base_uri": "https://localhost:8080/"
        },
        "id": "q8G7q9Of-dHT",
        "outputId": "4167529b-b4e7-4358-a3d8-23570283e323"
      },
      "execution_count": null,
      "outputs": [
        {
          "output_type": "stream",
          "name": "stdout",
          "text": [
            "1 3 5 7 9 11 13 15 17 19\n",
            "10.0\n"
          ]
        }
      ]
    },
    {
      "cell_type": "markdown",
      "source": [
        "#字串加密 II (*)\n",
        "\n",
        "---\n",
        "\n",
        "\n",
        "Description\n",
        "\n",
        "輸入一個字串以及一個數字，請依index將字串中的字元對應數字來進行加密：\n",
        "\n",
        "舉例如下：\n",
        "\n",
        "輸入abc以及123，請將a經由ASCII code加1進行轉換，b加2、c加3...以此類推\n",
        "\n",
        "\n",
        "Input\n",
        "輸入有兩行，包含一個長度為n的字串以及一個整數（字串與整數的長度不一定相等，以字串長度為準：如果字串比較長要把數字補齊；如果數字比較長的話把多餘的截斷。）\n",
        "\n",
        "\n",
        "Output\n",
        "輸出為一行，包含一個字串"
      ],
      "metadata": {
        "id": "hyUKz1z6A2Hg"
      }
    },
    {
      "cell_type": "code",
      "source": [
        "def passwordencrypt(s,n):\n",
        "  # 展開s、n\n",
        "  s = [*s]\n",
        "  n = [int(digit) for digit in f'{n}']\n",
        "  temp = []\n",
        "\n",
        "  # 補齊n等長s\n",
        "  while len(s) >  len(n):\n",
        "      n.extend(n[:len(s)-len(n)])\n",
        "\n",
        "  for letter,num in zip(s,n):\n",
        "      temp.append(chr(ord(letter) + num))\n",
        "  \n",
        "  return ''.join(temp)\n",
        "\n",
        "\n",
        "s = input()\n",
        "n = input()\n",
        "res = passwordencrypt(s,n)\n",
        "print(res)"
      ],
      "metadata": {
        "colab": {
          "base_uri": "https://localhost:8080/"
        },
        "id": "UhJikBwZA_37",
        "outputId": "c49ada6c-2569-421f-af13-9adf861ff469"
      },
      "execution_count": null,
      "outputs": [
        {
          "output_type": "stream",
          "name": "stdout",
          "text": [
            "ccClub\n",
            "61743\n",
            "idJpxh\n"
          ]
        }
      ]
    },
    {
      "cell_type": "markdown",
      "source": [
        "#數字三角形\n",
        "\n",
        "---\n",
        "\n",
        "\n",
        "Description\n",
        "\n",
        "輸入一個正整數 n ，輸出 n 層的數字三角形。\n",
        "\n",
        "\n",
        "Input\n",
        "輸入有一行，包含一個正整數n。\n",
        "\n",
        "\n",
        "Output\n",
        "輸出有 n 行，會組成一個數字三角形。"
      ],
      "metadata": {
        "id": "GM47VqvEBMZp"
      }
    },
    {
      "cell_type": "code",
      "source": [
        "n = int(input())\n",
        "count = 1\n",
        "\n",
        "for i in range(n):\n",
        "  for j in range(i+1):\n",
        "    print(count, end=\"\")\n",
        "    count += 1\n",
        "    if count == 10:\n",
        "      count = 0\n",
        "  print()\n"
      ],
      "metadata": {
        "colab": {
          "base_uri": "https://localhost:8080/"
        },
        "id": "zt3O1IupJqRx",
        "outputId": "5cb9f9a0-9c76-48e9-8cc9-d5ade6e5ceee"
      },
      "execution_count": null,
      "outputs": [
        {
          "output_type": "stream",
          "name": "stdout",
          "text": [
            "20\n",
            "1\n",
            "23\n",
            "456\n",
            "7890\n",
            "12345\n",
            "678901\n",
            "2345678\n",
            "90123456\n",
            "789012345\n",
            "6789012345\n",
            "67890123456\n",
            "789012345678\n",
            "9012345678901\n",
            "23456789012345\n",
            "678901234567890\n",
            "1234567890123456\n",
            "78901234567890123\n",
            "456789012345678901\n",
            "2345678901234567890\n",
            "12345678901234567890\n"
          ]
        }
      ]
    },
    {
      "cell_type": "markdown",
      "source": [
        "#加簽大地\n",
        "\n",
        "---\n",
        "\n",
        "Description\n",
        "\n",
        "每個學期的開學前兩週，都是大家忙於加簽不同課的時間，而有一堂CS系所開設的機器學習課程加簽規則如下：\n",
        "\n",
        "1.優先順序為：台大資訊學群 (aXX902XXX) > 台大電機學群 (aXX901XXX) > 台大其他系所 (aXXXXXXXX)\n",
        "\n",
        "2.在同一個優先順位內，大四的學生優先於其他年級的學生，在這裡我們規定為學號開頭為\"a04\"的學生（a04303XXX 優先於 a05303XXX）\n",
        "\n",
        "3.除此之外，接續規則2的優先順序，如果在同個優先順位之內，該同學的學號末三碼是3, 5, 7其中一個數字的倍數，將優先於其他同學進行加簽 (a05502018 優先於 a05705019)\n",
        "\n",
        "給定兩位同學的學號，請輸出加簽優先順位高的學號，若相同則輸出”tie”：\n",
        "\n",
        "\n",
        "Input\n",
        "輸入為兩行，各包含一個字串ID1以及ID2\n",
        "\n",
        "\n",
        "Output\n",
        "輸出為一行，包含一個字串"
      ],
      "metadata": {
        "id": "rEsnEWDRd7by"
      }
    },
    {
      "cell_type": "code",
      "source": [
        "# 條件相同才往下個條件比\n",
        "# 條件1:Department中902優先於901優於其他\n",
        "# 條件2:Grade中a04優於其他\n",
        "# 條件3:last3number中此數字為3、5、7倍數擇優於其他\n",
        "# 最後還是都相同順位則返回'tie'\n",
        "def priority(id1,id2):\n",
        "    def Department_p(x):\n",
        "        if x == '902': return 2\n",
        "        if x == '901': return 1\n",
        "        else: return 0\n",
        "    def Grade_p(x):\n",
        "        if x == 'a04': return 1\n",
        "        else: return 0\n",
        "    def last3number_p(x):\n",
        "        x = int(x)\n",
        "        if x%3 ==0 or x%5 == 0 or x%7 ==0: return 1\n",
        "        else: return 0\n",
        "    def tie(info):\n",
        "        d1, d2 = Department_p(info['Department'][0]), Department_p(info['Department'][1])\n",
        "        g1, g2 = Grade_p(info['Grade'][0]), Grade_p(info['Grade'][1])\n",
        "        l1, l2 = last3number_p(info['last3number'][0]), last3number_p(info['last3number'][1])\n",
        "        if (d1, g1, l1) == (d2, g2, l2):\n",
        "            return 'tie'\n",
        "\n",
        "    info = {'Student':[id1,id2],\n",
        "            'Department':[id1[3:6],id2[3:6]],\n",
        "            'Grade':[id1[:3],id2[:3]],\n",
        "            'last3number':[id1[-3:],id2[-3:]]}\n",
        "\n",
        "    if tie(info):\n",
        "        return 'tie'\n",
        "    else:\n",
        "        sorted_list = sorted(zip(*info.values()), key=lambda x: (Department_p(x[1]), Grade_p(x[2]), last3number_p(x[3])))\n",
        "        return sorted_list[1][0]\n",
        "    \n",
        "\n",
        "id1 = input()\n",
        "id2 = input()\n",
        "print(priority(id1,id2))"
      ],
      "metadata": {
        "colab": {
          "base_uri": "https://localhost:8080/"
        },
        "id": "LytD3xbdd_ah",
        "outputId": "b16412d8-0ac8-43fe-c49a-abc4d8b39bce"
      },
      "execution_count": 46,
      "outputs": [
        {
          "output_type": "stream",
          "name": "stdout",
          "text": [
            "a04902003\n",
            "a04902014\n",
            "tie\n"
          ]
        }
      ]
    },
    {
      "cell_type": "code",
      "source": [
        "def priority(id1,id2):\n",
        "    def Department_p(x):\n",
        "        if x == '902': return 2\n",
        "        if x == '901': return 1\n",
        "        else: return 0\n",
        "    def Grade_p(x):\n",
        "        if x == 'a04': return 1\n",
        "        else: return 0\n",
        "    def last3number_p(x):\n",
        "        x = int(x)\n",
        "        if x%3 ==0 or x%5 == 0 or x%7 ==0: return 1\n",
        "        else: return 0\n",
        "\n",
        "    info = {'Student':[id1,id2],\n",
        "         'Department':[id1[3:6],id2[3:6]],\n",
        "         'Grade':[id1[:3],id2[:3]],\n",
        "         'last3number':[id1[-3:],id2[-3:]]}\n",
        "\n",
        "    if Department_p(info['Department'][0]) > Department_p(info['Department'][1]): return id1\n",
        "    elif Department_p(info['Department'][0]) < Department_p(info['Department'][1]): return id2\n",
        "    else:\n",
        "        if Grade_p(info['Grade'][0]) > Grade_p(info['Grade'][1]): return id1\n",
        "        elif Grade_p(info['Grade'][0]) < Grade_p(info['Grade'][1]): return id2\n",
        "        else:\n",
        "            if last3number_p(info['last3number'][0]) > last3number_p(info['last3number'][1]) : return id1\n",
        "            elif last3number_p(info['last3number'][0]) < last3number_p(info['last3number'][1]) : return id2\n",
        "            else:\n",
        "                return 'tie'\n",
        " \n",
        "id1 = input()\n",
        "id2 = input()\n",
        "print(priority(id1,id2))"
      ],
      "metadata": {
        "colab": {
          "base_uri": "https://localhost:8080/"
        },
        "id": "nQAaH7EfeF2s",
        "outputId": "02d68cfb-e285-49e4-c841-b7c32f3a73ec"
      },
      "execution_count": 47,
      "outputs": [
        {
          "output_type": "stream",
          "name": "stdout",
          "text": [
            "a05303009\n",
            "a05303017\n",
            "a05303009\n"
          ]
        }
      ]
    },
    {
      "cell_type": "markdown",
      "source": [
        "#幾連霸\n",
        "\n",
        "---\n",
        "\n",
        "\n",
        "Description\n",
        "\n",
        "給定 k 個數（k >= 1），找出這 k 個數中連續的數（遞增）最多幾次。\n",
        "\n",
        "\n",
        "Input\n",
        "輸入為一行，包含數個整數，以空白為間隔\n",
        "\n",
        "\n",
        "Output\n",
        "輸出為一行，包含一個數字"
      ],
      "metadata": {
        "id": "zWGd8yAJMV8T"
      }
    },
    {
      "cell_type": "code",
      "source": [
        "def max_continuousnumber_count(k):\n",
        "  left = 0\n",
        "  right = 0\n",
        "  res = []\n",
        "  cur = k[left]\n",
        "  while right < len(k):   \n",
        "    if k[right] != cur:\n",
        "      left = right\n",
        "      cur = k[left]\n",
        "    \n",
        "    # 新增連續次數\n",
        "    res.append(right - left + 1)\n",
        "    cur += 1\n",
        "    right += 1\n",
        "  return max(res)\n",
        "k = [int(num) for num in input().split()]\n",
        "res = max_continuousnumber_count(k)\n",
        "print(res)\n",
        "#1 2 3 5 6 9 8\n",
        "#0 1 2 3 4 5 6"
      ],
      "metadata": {
        "colab": {
          "base_uri": "https://localhost:8080/"
        },
        "id": "FomBUVF8Mftm",
        "outputId": "d4a26b79-372e-43e5-aa6d-19278f629ab0"
      },
      "execution_count": null,
      "outputs": [
        {
          "output_type": "stream",
          "name": "stdout",
          "text": [
            "1 2 3\n",
            "[1]\n",
            "[1, 2]\n",
            "[1, 2, 3]\n"
          ]
        },
        {
          "output_type": "execute_result",
          "data": {
            "text/plain": [
              "3"
            ]
          },
          "metadata": {},
          "execution_count": 88
        }
      ]
    },
    {
      "cell_type": "markdown",
      "source": [
        "#奇偶個數差(*)\n",
        "\n",
        "---\n",
        "\n",
        "\n",
        "Description\n",
        "\n",
        "輸入若干個數，請輸出這些數中，奇數個數和偶數個數差。\n",
        "\n",
        "\n",
        "Input\n",
        "輸入有一行，包含若干個數字，數字間以空格分開。\n",
        "\n",
        "\n",
        "Output\n",
        "輸入有一行，包含一個數字，代表奇數個數和偶數個數的差。"
      ],
      "metadata": {
        "id": "5yTSUIbVZh1j"
      }
    },
    {
      "cell_type": "code",
      "source": [
        "n = [int(num) for num in input().split()]\n",
        "count_odd = 0\n",
        "count_even = 0\n",
        "\n",
        "for num in n:\n",
        "  if num %2 == 0:\n",
        "    count_even += 1\n",
        "  else:\n",
        "    count_odd += 1\n",
        "\n",
        "print(abs(count_even - count_odd))"
      ],
      "metadata": {
        "colab": {
          "base_uri": "https://localhost:8080/"
        },
        "id": "q57U5En4ZkQb",
        "outputId": "f349d069-dfe8-4438-e63e-42ded4d5f6fb"
      },
      "execution_count": null,
      "outputs": [
        {
          "output_type": "stream",
          "name": "stdout",
          "text": [
            "1 2 4\n",
            "1\n"
          ]
        }
      ]
    },
    {
      "cell_type": "code",
      "source": [
        "n = [int(num) for num in input().split()]\n",
        "\n",
        "count_odd = sum(num % 2 == 1 for num in n)\n",
        "\n",
        "# 總數 = odd + even\n",
        "print(abs(len(n) - count_odd - count_odd))"
      ],
      "metadata": {
        "colab": {
          "base_uri": "https://localhost:8080/"
        },
        "id": "v_8MGRH5a8UY",
        "outputId": "e2c40083-ecd3-49ad-bd80-a76d8779dfdd"
      },
      "execution_count": null,
      "outputs": [
        {
          "output_type": "stream",
          "name": "stdout",
          "text": [
            "1 3 5 7\n",
            "4\n"
          ]
        }
      ]
    },
    {
      "cell_type": "code",
      "source": [
        "n = [int(num) for num in input().split()]\n",
        "\n",
        "count_odd = sum(1 for num in n if num & 1)\n",
        "print(abs(len(n) - count_odd - count_odd))"
      ],
      "metadata": {
        "colab": {
          "base_uri": "https://localhost:8080/"
        },
        "id": "wj8HUunZfkTy",
        "outputId": "b83c85fa-9804-4697-b681-d725c7804bd2"
      },
      "execution_count": null,
      "outputs": [
        {
          "output_type": "stream",
          "name": "stdout",
          "text": [
            "1 3 5 7\n",
            "4\n"
          ]
        }
      ]
    },
    {
      "cell_type": "markdown",
      "source": [
        "#冠亞軍分數差\n",
        "\n",
        "---\n",
        "\n",
        "\n",
        "Description\n",
        "\n",
        "給定若干個數，找出最大值和次大值的差。\n",
        "\n",
        "\n",
        "Input\n",
        "輸入有一行，包含數個數字，數字間以空格分開。\n",
        "\n",
        "\n",
        "Output\n",
        "輸出最大值和次大值的差。"
      ],
      "metadata": {
        "id": "qckQkEIy6RKG"
      }
    },
    {
      "cell_type": "code",
      "source": [
        "nums = [int(num) for num in input().split()]\n",
        "nums.sort()\n",
        "print(nums[-1]-nums[-2])"
      ],
      "metadata": {
        "colab": {
          "base_uri": "https://localhost:8080/"
        },
        "id": "NCGdb4hy6UJ_",
        "outputId": "9eb3fcb6-b02c-4172-a24e-32f0ecb34b2d"
      },
      "execution_count": null,
      "outputs": [
        {
          "output_type": "stream",
          "name": "stdout",
          "text": [
            "0 0\n",
            "0\n"
          ]
        }
      ]
    },
    {
      "cell_type": "markdown",
      "source": [
        "#字母三角形\n",
        "\n",
        "---\n",
        "\n",
        "\n",
        "Description\n",
        "\n",
        "輸入一個正整數 n ，輸出 n 層的字母三角形。\n",
        "\n",
        "\n",
        "Input\n",
        "輸入一個正整數 n ，輸出 n 層的字母三角形。\n",
        "\n",
        "\n",
        "Output\n",
        "輸出有 n 行，會組成一個字母三角形。"
      ],
      "metadata": {
        "id": "c9wqNaKB7jCb"
      }
    },
    {
      "cell_type": "code",
      "source": [
        "n = int(input())\n",
        "k = 65\n",
        "\n",
        "for i in range(n):\n",
        "  for j in range(i+1):\n",
        "    print(chr(k),end = '')\n",
        "    k += 1\n",
        "    if k == 91:\n",
        "      k = 65\n",
        "  print()"
      ],
      "metadata": {
        "colab": {
          "base_uri": "https://localhost:8080/"
        },
        "id": "ZEiRy9xT7lJg",
        "outputId": "df9026a1-1819-48e0-96d2-3f485eec6b55"
      },
      "execution_count": null,
      "outputs": [
        {
          "output_type": "stream",
          "name": "stdout",
          "text": [
            "8\n",
            "A\n",
            "BC\n",
            "DEF\n",
            "GHIJ\n",
            "KLMNO\n",
            "PQRSTU\n",
            "VWXYZAB\n",
            "CDEFGHIJ\n"
          ]
        }
      ]
    },
    {
      "cell_type": "markdown",
      "source": [
        "#記帳本\n",
        "\n",
        "---\n",
        "\n",
        "\n",
        "Description\n",
        "\n",
        "帳本是用來記帳的好工具，一個好的帳本應該具備下列功能：\n",
        "\n",
        "1. 新增帳目，以指令 a 表示\n",
        "\n",
        "2. 去掉某一指定數字的帳目（只會刪除第一個符合的帳目），以指令 r 表示\n",
        "\n",
        "3. 去掉某一筆的帳目，以指令 p 表示\n",
        "\n",
        "4. 結束記帳，以指令 q表示\n",
        "\n",
        "本題會先給定若干個數字，代表原先帳本上的內容。\n",
        "\n",
        "接著會有若干筆不同的指令，表示本次會在帳本上更動的地方，直到遇到指令 q 之後，會再給一個數字，表示想要查詢該 index 的賬目，以及全部帳目的平均值（無條件捨去至整數）。\n",
        "\n",
        "\n",
        "Input\n",
        "輸入有數行。\n",
        "\n",
        "第一行包含數個整數，有正有負，表示原先帳本上的內容。\n",
        "\n",
        "接下來數行各包含一個字母（指令的類型）以及一個數字，以空白為間隔。\n",
        "\n",
        "若輸入為 \"a 4\"，請在帳目中加入4 這個數字。\n",
        "\n",
        "若輸入為 \"r 204\"，請從帳目中刪除第一次出現 204 這個數字，若帳本中沒有 204 這個數字，則略過這個指令。\n",
        "\n",
        "若輸入為 \"p -1\"，請從帳目中刪除 index 為 -1 的帳目，p 指令後如果是負數，保證是 -1。\n",
        "\n",
        "若輸入為 \"p 2\" ，請從帳目中刪掉 index 為 2 的帳目，若 index 2 不存在帳本中，則略過這個指令。\n",
        "\n",
        "若輸入為 \"q 4\" ，請結束輸入的部分，並印出 index 為 4 的內容，以及所有帳目的平均數；若該 index不存在，請輸出 Error ，並且不需要輸出平均數。\n",
        "\n",
        "\n",
        "Output\n",
        "若指令 q 接著的 index 存在，則輸出包含兩行，各包含一個整數。\n",
        "\n",
        "若指令 q 接著的 index 不存在，則輸出為一行，包含一個字串 \"Error\"。"
      ],
      "metadata": {
        "id": "Sbgl0MbF-JCw"
      }
    },
    {
      "cell_type": "code",
      "source": [
        "def account(nums:list):\n",
        "  def a(num:int):\n",
        "    nums.append(int(num))\n",
        "    return nums\n",
        "  \n",
        "  def r(num:int):\n",
        "    num = int(num)\n",
        "    return nums.remove(num) if num in nums else None\n",
        "  \n",
        "  def p(index:int):\n",
        "    index = int(index)\n",
        "    if int(index) < 0:\n",
        "      nums.pop()\n",
        "      return nums\n",
        "    elif index >= len(nums):\n",
        "      return None\n",
        "    else:\n",
        "      nums.pop(index)\n",
        "      return nums\n",
        "\n",
        "  def q(index:int):\n",
        "    index = int(index)\n",
        "    if -len(nums) <= index < len(nums):\n",
        "      print(nums[index],sum(nums)//len(nums),sep = '\\n')\n",
        "    else:\n",
        "      print('Error')\n",
        "\n",
        "  enter = input().split()\n",
        "  while enter[0] != 'q':\n",
        "    if enter[0] == 'a': a(enter[1])\n",
        "    if enter[0] == 'r': r(enter[1])\n",
        "    if enter[0] == 'p': p(enter[1])\n",
        "    enter = input().split()\n",
        "\n",
        "  if enter[0] == 'q':\n",
        "    q(enter[1])\n",
        "\n",
        "nums = [int(num) for num in input().split()]\n",
        "account(nums)"
      ],
      "metadata": {
        "colab": {
          "base_uri": "https://localhost:8080/"
        },
        "id": "H0wlhfNF-LVU",
        "outputId": "7fd1cac1-9682-404e-e2e5-e39e1d627c35"
      },
      "execution_count": null,
      "outputs": [
        {
          "output_type": "stream",
          "name": "stdout",
          "text": [
            "1 2 3 4\n",
            "p 3\n",
            "q 0\n",
            "[1, 2, 3]\n",
            "1\n",
            "2\n"
          ]
        }
      ]
    },
    {
      "cell_type": "markdown",
      "source": [
        "#最大奇偶相差\n",
        "\n",
        "---\n",
        "\n",
        "\n",
        "Description\n",
        "\n",
        "給定若干個數，找出最大奇數和最大偶數的差。\n",
        "\n",
        "Input 輸入有一行，包含若干個數，數字間以空格分開。\n",
        "\n",
        "Output 輸出有一行，包含一個數，即最大偶數和最大奇數的差。"
      ],
      "metadata": {
        "id": "iih7gU_IT35-"
      }
    },
    {
      "cell_type": "code",
      "source": [
        "# odd + even = odd\n",
        "def diff_maxoddeven(n):\n",
        "    maxnum = max(n)\n",
        "    if maxnum & 1:\n",
        "        maxeven = max([num for num in n if not num & 1], default = 0)\n",
        "        return maxnum - maxeven\n",
        "    else:\n",
        "        maxodd= max([num for num in n if num & 1], default = 0)\n",
        "        return maxnum - maxodd\n",
        "\n",
        "n = [int(num) for num in input().split()]\n",
        "res = diff_maxoddeven(n)\n",
        "print(res)"
      ],
      "metadata": {
        "colab": {
          "base_uri": "https://localhost:8080/"
        },
        "id": "Ls0aWhIxTylv",
        "outputId": "a94c19a1-282d-419d-8bb0-7e4be560d05e"
      },
      "execution_count": null,
      "outputs": [
        {
          "output_type": "stream",
          "name": "stdout",
          "text": [
            "1 3 5 7 9\n",
            "9\n"
          ]
        }
      ]
    },
    {
      "cell_type": "code",
      "source": [
        "def diff_maxoddeven(n):\n",
        "    maxodd = max([num for num in n if num & 1], default = 0)\n",
        "    maxeven = max([num for num in n if not num & 1], default = 0)\n",
        "    return abs(maxodd-maxeven)\n",
        "\n",
        "n = [int(num) for num in input().split()]\n",
        "res = diff_maxoddeven(n)\n",
        "print(res)"
      ],
      "metadata": {
        "colab": {
          "base_uri": "https://localhost:8080/"
        },
        "id": "yKZRMhnfT6lK",
        "outputId": "04f7c3bb-b1d0-46ff-aac1-e099ad54d978"
      },
      "execution_count": null,
      "outputs": [
        {
          "output_type": "stream",
          "name": "stdout",
          "text": [
            "0 97 101\n",
            "101\n"
          ]
        }
      ]
    },
    {
      "cell_type": "markdown",
      "source": [
        "#數字串列處理器\n",
        "\n",
        "---\n",
        "\n",
        "\n",
        "Description\n",
        "\n",
        "在之前的練習中，我們實作過「奇偶個數差(odd_even_count_sub)」、「冠亞軍分數差(top2_max_sub)」和「最大奇偶相差(max_odd_even_sub)」。\n",
        "\n",
        "現在，我們需要實作一個數字串列處理器，這個處理器擁有以上三個功能。\n",
        "\n",
        "讓使用者輸入若干個數以及需要的功能，接著輸出對應的結果。\n",
        "\n",
        "\n",
        "\n",
        "備註：\n",
        "\n",
        "在這題，你只需要完成odd_even_count_sub、top2_max_sub、max_odd_even_sub這三個函式，不需要自行處理 input()。"
      ],
      "metadata": {
        "id": "i1UPSyrhO5U6"
      }
    },
    {
      "cell_type": "code",
      "source": [
        "def odd_even_count_sub(lst):\n",
        "    count_odd = sum(1 for num in lst if num & 1)\n",
        "    ans = abs(len(lst) - count_odd - count_odd)\n",
        "    return ans\n",
        "\n",
        "def top2_max_sub(lst):\n",
        "    lst.sort()\n",
        "    ans = lst[-1] - lst[-2]\n",
        "    return ans\n",
        "\n",
        "def max_odd_even_sub(lst):\n",
        "    maxodd = max([num for num in lst if num & 1], default = 0)\n",
        "    maxeven = max([num for num in lst if not num & 1], default = 0)\n",
        "    ans = abs(maxodd - maxeven)\n",
        "    return ans"
      ],
      "metadata": {
        "id": "KxRCWKrCO9Rw"
      },
      "execution_count": null,
      "outputs": []
    },
    {
      "cell_type": "markdown",
      "source": [
        "#連續整數分堆(*)\n",
        "\n",
        "---\n",
        "\n",
        "\n",
        "Description\n",
        "\n",
        "給定若干個數，請將連續遞增的整數分成同一堆並放進一個 list 中，最後將 list 內的數字輸出。\n",
        "\n",
        "\n",
        "Input\n",
        "輸入有一行，包含若干個數，數字間以空格分開。\n",
        "\n",
        "\n",
        "Output\n",
        "輸出有若干行，每一行包含數個分堆好的數，數字間以空格分開。"
      ],
      "metadata": {
        "id": "TwDmKalrPClp"
      }
    },
    {
      "cell_type": "code",
      "source": [
        "def continue_intger(nums):\n",
        "  res = []\n",
        "  temp = [nums[0]]\n",
        "  # float('inf') 正無窮大，需要一個數字在nums尾端，讓nums最後如果還是遞增數也能產生，刻意多放一個不會被列入計算的數字而已(prenum +2 也行)\n",
        "  nums.append(float('inf'))\n",
        "  for prenum,postnum in zip(nums,nums[1:]):\n",
        "    if prenum + 1 == postnum:\n",
        "      temp.append(postnum)\n",
        "    else:\n",
        "      res.append(temp)\n",
        "      temp = [postnum]\n",
        "  return res\n",
        "\n",
        "nums = [int(num) for num in input().split()]\n",
        "res = continue_intger(nums)\n",
        "for i in res:\n",
        "  print(*i)"
      ],
      "metadata": {
        "colab": {
          "base_uri": "https://localhost:8080/"
        },
        "id": "oceIAyv7PET-",
        "outputId": "d690afa0-02af-48b4-af10-767698f8c021"
      },
      "execution_count": null,
      "outputs": [
        {
          "output_type": "stream",
          "name": "stdout",
          "text": [
            "3 4 2 1 2\n",
            "3 4\n",
            "2\n",
            "1 2\n"
          ]
        }
      ]
    },
    {
      "cell_type": "markdown",
      "source": [
        "#打字機(*)\n",
        "\n",
        "---\n",
        "\n",
        "\n",
        "Description\n",
        "\n",
        "一個打字機除了可以輸入數字和英文字母之外，還有額外三種指令：\n",
        "\n",
        "1. 指令+：將剛剛輸出的最後一個字元（數字或英文字母）再次輸出，若沒有已經輸出的字元，則指令無效。例如，當指令為「C+」，遇到第一個指令 C 時輸出「C」，遇到第二個指令 +，輸出剛剛輸出的最後一個字元（也就是C），最終打字機輸出結果為「CC」。\n",
        "\n",
        "2. 指令-：將剛剛輸出的最後一個字元刪除，若沒有已經輸出的字元，則指令無效。\n",
        "例如，當指令為「abc-」，遇到第一個指令 a 時輸出「a」，遇到第二個指令 b 時輸出「b」，遇到第三個指令 c 時輸出「c」，遇到第四個指令 - 時，刪除剛剛輸出的最後一個字元（也就是 c），最終打字機輸出結果為「ab」。\n",
        "\n",
        "3. 指令*：複製已經輸出的所有字元，若沒有已經輸出的字元，則指令無效。\n",
        "例如，當指令為「abc*」，遇到第一個指令 a 時輸出「a」，遇到第二個指令 b 時輸出「b」，遇到第三個指令 c 時輸出「c」，遇到第四個指令 * 時，輸出已經輸出的所有字元（也就是abc），最終打字機輸出結果為「abcabc」。\n",
        "\n",
        "Input\n",
        "輸入為一行，包含一個字串。\n",
        "\n",
        "\n",
        "Output\n",
        "輸出為一行，包含一個字串，即螢幕上顯示的結果。"
      ],
      "metadata": {
        "id": "KW9VmdIkPtXK"
      }
    },
    {
      "cell_type": "code",
      "source": [
        "def typewriter(string):\n",
        "  stack = ''\n",
        "  for chr in string:\n",
        "    if chr.isalnum():\n",
        "      stack += chr\n",
        "    if chr == '+' and stack:\n",
        "      stack += stack[-1]\n",
        "    \n",
        "    if chr == '-' and stack:\n",
        "      stack = stack[:-1]\n",
        "    \n",
        "    if chr == '*' and stack:\n",
        "      stack *= 2\n",
        "  \n",
        "  print(stack)\n",
        "\n",
        "string = input()\n",
        "typewriter(string)"
      ],
      "metadata": {
        "colab": {
          "base_uri": "https://localhost:8080/"
        },
        "id": "hTGH2oh7P7YS",
        "outputId": "148d928e-cb4c-4df6-e921-16827a2aa66f"
      },
      "execution_count": null,
      "outputs": [
        {
          "output_type": "stream",
          "name": "stdout",
          "text": [
            "abc*\n",
            "abcabc\n"
          ]
        }
      ]
    },
    {
      "cell_type": "markdown",
      "source": [
        "#加簽大地 II\n",
        "\n",
        "---\n",
        "\n",
        "\n",
        "Description\n",
        "\n",
        "每個學期的開學前兩週，都是大家忙於加簽不同課的時間，而有一堂CS系所開設的機器學習課程加簽規則如下：\n",
        "\n",
        "1.優先順序為：台大資訊學群 (aXX902XXX) > 台大電機學群 (aXX901XXX) > 台大其他系所 (aXXXXXXXX)\n",
        "\n",
        "2.在同一個優先順位內，大四的學生優先於其他年級的學生，在這裡我們規定為學號開頭為\"a04\"的學生（a04303XXX 優先於 a05303XXX 以及 a03303XXX）\n",
        "\n",
        "3.除此之外，接續規則2的優先順序，如果在同個優先順位之內，該同學的學號末三碼是3, 5, 7其中一個數字的倍數，將優先於其他同學進行加簽 (a05502018 優先於 a05705019)\n",
        "\n",
        "給定數量不等的學號，請依據加簽的先後順序將其輸出（若順位相同，請依照原先輸入的順序輸出）\n",
        "\n",
        "\n",
        "Input\n",
        "輸入為一行，包含n個字串，內容為學號\n",
        "\n",
        "\n",
        "Output\n",
        "輸出一共有n行，各包含一個字串，內容為學號"
      ],
      "metadata": {
        "id": "Gx9mdlk8Sp3y"
      }
    },
    {
      "cell_type": "code",
      "source": [
        "def priority(id:list):\n",
        "    def Department_p(x):\n",
        "        if x == '902': return 2\n",
        "        if x == '901': return 1\n",
        "        else: return 0\n",
        "    def Grade_p(x):\n",
        "        if x == 'a04': return 1\n",
        "        else: return 0\n",
        "    def last3number_p(x):\n",
        "        x = int(x)\n",
        "        if x%3 ==0 or x%5 == 0 or x%7 ==0: return 1\n",
        "        else: return 0\n",
        "\n",
        "    info = {'Student':id,\n",
        "         'Department':[std[3:6] for std in id],\n",
        "         'Grade':[std[:3] for std in id],\n",
        "         'last3number':[std[-3:] for std in id]}\n",
        "\n",
        "    sorted_list = sorted(zip(*info.values()), key = lambda x: (Department_p(x[1]),\n",
        "                                     Grade_p(x[2]),\n",
        "                                     last3number_p(x[3]),\n",
        "                                     -id.index(x[0])),\n",
        "                                     reverse = True)\n",
        "    return sorted_list\n",
        " \n",
        "id = input().split()\n",
        "res = priority(id)\n",
        "for i in res:\n",
        "  print(i[0])"
      ],
      "metadata": {
        "colab": {
          "base_uri": "https://localhost:8080/"
        },
        "id": "TehO9ugQS9hD",
        "outputId": "01b751ad-116a-4b9a-dc42-e79da218023c"
      },
      "execution_count": 84,
      "outputs": [
        {
          "output_type": "stream",
          "name": "stdout",
          "text": [
            "a05902123 a04902123 a03902123\n",
            "a04902123\n",
            "a05902123\n",
            "a03902123\n"
          ]
        }
      ]
    },
    {
      "cell_type": "code",
      "source": [
        "def priority(id:list):\n",
        "    def Department_p(x):\n",
        "        if x == '902': return 2\n",
        "        if x == '901': return 1\n",
        "        else: return 0\n",
        "    def Grade_p(x):\n",
        "        if x == 'a04': return 1\n",
        "        else: return 0\n",
        "    def last3number_p(x):\n",
        "        x = int(x)\n",
        "        if x%3 ==0 or x%5 == 0 or x%7 ==0: return 1\n",
        "        else: return 0\n",
        "\n",
        "    info = {std:{'Department':std[3:6],\n",
        "            'Grade':std[:3],\n",
        "            'last3number':std[-3:]} for std in id}\n",
        "\n",
        "    sorted_list = sorted(info.items(),key = lambda x: (Department_p(x[1]['Department']),\n",
        "                                Grade_p(x[1]['Grade']),\n",
        "                                last3number_p(x[1]['last3number']),\n",
        "                                -list(x).index(x[0])), \n",
        "                                reverse = True)\n",
        "    return sorted_list\n",
        " \n",
        "id = input().split()\n",
        "res = priority(id)\n",
        "for i in res:\n",
        "  print(i[0])"
      ],
      "metadata": {
        "colab": {
          "base_uri": "https://localhost:8080/"
        },
        "id": "RQijUk10F3S3",
        "outputId": "d0ec20c8-6d49-4eac-b20e-0ad69fb9a915"
      },
      "execution_count": 177,
      "outputs": [
        {
          "output_type": "stream",
          "name": "stdout",
          "text": [
            "a000000004 a000000001 a000000003 a000000002 a000000005 a000000006 a000000007 a000000008 a000000009 a000000010\n",
            "a000000003\n",
            "a000000005\n",
            "a000000006\n",
            "a000000007\n",
            "a000000009\n",
            "a000000010\n",
            "a000000004\n",
            "a000000001\n",
            "a000000002\n",
            "a000000008\n"
          ]
        }
      ]
    },
    {
      "cell_type": "markdown",
      "source": [
        "#記帳本 II\n",
        "\n",
        "---\n",
        "\n",
        "\n",
        "Description\n",
        "\n",
        "帳本是用來記帳的好工具，一個好的帳本應該具備下列功能：\n",
        "\n",
        "1. 新增帳目，以指令a表示\n",
        "2. 去掉某一指定數字的帳目（只會刪除第一個符合的帳目），以指令r表示\n",
        "3. 去掉某一筆的帳目，以指令p表示\n",
        "4. 修改某一指定數字的帳目（只會修改第一個符合的帳目），以指令e表示\n",
        "5. 修改某一筆的賬目，以指令m表示\n",
        "6. 結束記帳，以指令q表示\n",
        "本題會先給定若干個數字，代表原先帳本上的內容。\n",
        "\n",
        "接著會有若干筆不同的指令，表示本次會在帳本上更動的地方，直到遇到指令 q 之後，會再給一個數字，表示想要查詢該 index 的賬目，以及全部帳目的平均值。\n",
        "\n",
        "\n",
        "Input\n",
        "輸入有數行。\n",
        "\n",
        "第一行包含數個整數，有正有負，表示原先帳本上的內容。\n",
        "\n",
        "接下來數行各包含一個字母（指令的類型）以及 1~2 個數字，以空白為間隔。\n",
        "\n",
        "若輸入為 \"a 4\"，請在帳目中加入 4 這個數字。\n",
        "\n",
        "若輸入為 \"r 204\"，請從帳目中刪除第一次出現 204 這個數字，若帳本中沒有 204 這個數字，則略過這個指令。\n",
        "\n",
        "若輸入為 \"p -5\"，請從帳目中刪除 index 為 -5 的帳目，若index -5 不存在帳本中，則略過這個指令。\n",
        "\n",
        "若輸入為 \"p 2\" ，請從帳目中刪掉 index 為 2 的帳目，若 index 2 不存在帳本中，則略過這個指令。\n",
        "\n",
        "若輸入為 \"e 204 200\"，請從帳目中修改第一次出現 204 這個數字，改為 200，若帳本中沒有 204 這個數字，則略過這個指令。\n",
        "\n",
        "若輸入為 \"m 4 5566\"，請從帳目中修改 index 為 4的帳目，將值改為 5566，若 index4 不存在帳本中，則略過這個指令。\n",
        "\n",
        "若輸入為 \"m -3 9487\"，請從帳目中修改 index 為 -3 的帳目，將值改為 9487，若 index -3 不存在帳本中，則略過這個指令。\n",
        "\n",
        "若輸入為 \"q 4\" ，請結束輸入的部分，並印出 index 為 4 的內容，以及所有帳目的平均數（型態為 float）；若該 index 不存在，請輸出Error，並且不需要輸出平均數。\n",
        "\n",
        "\n",
        "Output\n",
        "輸出有兩行，第一行為帳本上所有數字，數字間以空格分開，型態為整數（int）。\n",
        "\n",
        "若指令 q 接著的 index 存在，則第二行為該 index 的內容，以及所有帳目的平均數，型態皆為浮點數（float）。\n",
        "\n",
        "若指令 q 接著的 index 不存在，則第二行為一個字串Error。"
      ],
      "metadata": {
        "id": "1vtFWHRXn04Z"
      }
    },
    {
      "cell_type": "code",
      "source": [
        "def account(nums:list):\n",
        "  def a(num:int):\n",
        "    nums.append(int(num))\n",
        "    return nums\n",
        "  \n",
        "  def r(num:int):\n",
        "    num = int(num)\n",
        "    return nums.remove(num) if num in nums else None\n",
        "  \n",
        "  def p(index:int):\n",
        "    index = int(index)\n",
        "    if -len(nums) <= index < len(nums):\n",
        "      nums.pop(index)\n",
        "      return nums\n",
        "\n",
        "  def e(num1, num2):\n",
        "    num1 = int(num1)\n",
        "    num2 = int(num2)\n",
        "    if num1 in nums:\n",
        "      nums[nums.index(num1)] = num2\n",
        "      return nums\n",
        "\n",
        "  def m(index, num):\n",
        "    index = int(index)\n",
        "    num = int(num)\n",
        "    if -len(nums) <= index < len(nums):\n",
        "      nums[index] = num\n",
        "      return nums\n",
        "    \n",
        "  def q(index:int):\n",
        "    index = int(index)\n",
        "    if -len(nums) <= index < len(nums):\n",
        "      print(*nums)\n",
        "      print(float(nums[index]), float(sum(nums)/len(nums)))\n",
        "    else:\n",
        "      print(*nums)\n",
        "      print('Error')\n",
        "\n",
        "  enter = input().split()\n",
        "  while enter[0] != 'q':\n",
        "    if enter[0] == 'a': a(enter[1])\n",
        "    if enter[0] == 'r': r(enter[1])\n",
        "    if enter[0] == 'p': p(enter[1])\n",
        "    if enter[0] == 'e': e(enter[1],enter[2])\n",
        "    if enter[0] == 'm': m(enter[1],enter[2])\n",
        "\n",
        "    enter = input().split()\n",
        "\n",
        "  if enter[0] == 'q':\n",
        "    q(enter[1])\n",
        "\n",
        "nums = [int(num) for num in input().split()]\n",
        "account(nums)"
      ],
      "metadata": {
        "colab": {
          "base_uri": "https://localhost:8080/"
        },
        "id": "3a5zfb3soPqr",
        "outputId": "b2038286-c757-485d-8878-9d5feb9359a3"
      },
      "execution_count": 96,
      "outputs": [
        {
          "output_type": "stream",
          "name": "stdout",
          "text": [
            "1 2 3\n",
            "q 4\n",
            "1 2 3\n",
            "Error\n"
          ]
        }
      ]
    },
    {
      "cell_type": "markdown",
      "source": [
        "#完全平方數 II (**)\n",
        "\n",
        "---\n",
        "\n",
        "\n",
        "Description\n",
        "\n",
        "定義：對於任意整數 Q，只要符合 P = Q * Q 的條件，我們視為 P 為一個完全平方數。\n",
        "\n",
        "給定兩個數字 a 和 b，保證 a <= b，請找出 [a, b] 區間中有幾個完全平方數（包含 a 和 b）。\n",
        "\n",
        "\n",
        "Input\n",
        "輸入為一行，包含兩個整數，數字間以空格分開。\n",
        "\n",
        "\n",
        "Output\n",
        "輸出為一行，包含一個整數。"
      ],
      "metadata": {
        "id": "HmLPllT6uKOq"
      }
    },
    {
      "cell_type": "code",
      "source": [
        "# O(n)\n",
        "def perfectsquare(a,b):\n",
        "  if b < 0: return 0\n",
        "  if a < 0:\n",
        "    a = 0\n",
        "  return sum(num**0.5 % 1 == 0 for num in range(a,b+1))\n",
        "\n",
        "a,b = map(int,input().split())\n",
        "res = perfectsquare(a,b)\n",
        "print(res)"
      ],
      "metadata": {
        "colab": {
          "base_uri": "https://localhost:8080/"
        },
        "id": "tNW05TfNuN6A",
        "outputId": "8dea26e0-6891-4d86-bb8d-03c39306a7c0"
      },
      "execution_count": 127,
      "outputs": [
        {
          "output_type": "stream",
          "name": "stdout",
          "text": [
            "-1234 -1\n",
            "0\n"
          ]
        }
      ]
    },
    {
      "cell_type": "code",
      "source": [
        "# O(n**0.5)\n",
        "def perfectsquare(a,b):\n",
        "  if b < 0: return 0\n",
        "  if a < 0:\n",
        "    a = 0\n",
        "  return sum(a <= num**2 <= b for num in range(int(a**0.5),int(b**0.5)+1))\n",
        "\n",
        "a,b = map(int,input().split())\n",
        "res = perfectsquare(a,b)\n",
        "print(res)"
      ],
      "metadata": {
        "colab": {
          "base_uri": "https://localhost:8080/"
        },
        "id": "dWuNfhrR28S2",
        "outputId": "0ab41b6d-291e-49a8-9b90-e939c2e7ad97"
      },
      "execution_count": 141,
      "outputs": [
        {
          "output_type": "stream",
          "name": "stdout",
          "text": [
            "0 100\n",
            "[0, 1, 4, 9, 16, 25, 36, 49, 64, 81, 100]\n",
            "11\n"
          ]
        }
      ]
    },
    {
      "cell_type": "markdown",
      "source": [
        "#停車位順位\n",
        "\n",
        "---\n",
        "\n",
        "\n",
        "Description\n",
        "\n",
        "社區停車位有限，因此若登記的住戶太多，將依照以下優先序分發車位：\n",
        "\n",
        "住戶棟別：A棟 > B棟 > C棟\n",
        "承上，若棟別相同，則依照居住年資：10年以上(含) > 5年以上(含)，未滿10年> 未滿5年\n",
        "承上，若再相同，則依照門牌號碼：奇數 > 偶數\n",
        "承上，若以上條件皆相同，則依照登記順序，先登記的優先序較高\n",
        "給定住戶資料，請依照車位分發順序輸出住戶名單。\n",
        "\n",
        "\n",
        "Input\n",
        "輸入有 n+1 行，第一行為正整數 n，代表總共有多少住戶登記。\n",
        "\n",
        "接下來 n 行為這 n 個住戶的資訊，包含住戶ID、居住棟別、居住年資、門牌號碼，彼此間用空格分開。\n",
        "\n",
        "\n",
        "Output\n",
        "輸出有 n 行，請依照優先序分別輸出住戶 ID，優先序高的在前，優先序低的在後。"
      ],
      "metadata": {
        "id": "q6rQyulo5OnR"
      }
    },
    {
      "cell_type": "code",
      "source": [
        "def parkpriority(resident_info):\n",
        "  def buildingID_p(x):\n",
        "    if x == 'A': return 2\n",
        "    if x == 'B': return 1\n",
        "    if x == 'C': return 0\n",
        "  def residtyear_p(x):\n",
        "    if x >= 10 : return 2\n",
        "    if 10 > x >= 5 : return 1\n",
        "    if 5 > x : return 0\n",
        "  def Number(x):\n",
        "    if x & 1: return 1\n",
        "    else: return 0\n",
        "\n",
        "  # 排順序，原index先進先出\n",
        "  sorted_parkpriority = sorted(resident_info.items(),key = lambda x:(buildingID_p(x[1]['buildingID']), residtyear_p(x[1]['residtyear']), Number(x[1]['Number']), -list(x).index(x[0])), reverse = True)\n",
        "  return sorted_parkpriority\n",
        "\n",
        "n = int(input())\n",
        "resident_info = {}\n",
        "for i in range(n):\n",
        "  rawinfo = input().split()\n",
        "  resident_info[rawinfo[0]] = {'buildingID': rawinfo[1],\n",
        "                 'residtyear' :int(rawinfo[2]),\n",
        "                 'Number':int(rawinfo[3])}\n",
        "\n",
        "res = parkpriority(resident_info)\n",
        "for i in res:\n",
        "  print(i[0])"
      ],
      "metadata": {
        "colab": {
          "base_uri": "https://localhost:8080/"
        },
        "id": "Bp0HtA8G5aXT",
        "outputId": "1ebf4aff-84c1-4f2a-9750-440dee5af3ff"
      },
      "execution_count": 168,
      "outputs": [
        {
          "output_type": "stream",
          "name": "stdout",
          "text": [
            "3\n",
            "uavyf8gohd1 C 10 110\n",
            "uavyf8gohd2 C 10 10\n",
            "uavyf8gohd3 C 10 118\n",
            "uavyf8gohd1\n",
            "uavyf8gohd2\n",
            "uavyf8gohd3\n"
          ]
        }
      ]
    }
  ]
}