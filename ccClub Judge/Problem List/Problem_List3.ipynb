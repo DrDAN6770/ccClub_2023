{
  "nbformat": 4,
  "nbformat_minor": 0,
  "metadata": {
    "colab": {
      "provenance": [],
      "authorship_tag": "ABX9TyPWLJgZnNTyXDs0liOBUGaW",
      "include_colab_link": true
    },
    "kernelspec": {
      "name": "python3",
      "display_name": "Python 3"
    },
    "language_info": {
      "name": "python"
    }
  },
  "cells": [
    {
      "cell_type": "markdown",
      "metadata": {
        "id": "view-in-github",
        "colab_type": "text"
      },
      "source": [
        "<a href=\"https://colab.research.google.com/github/DrDAN6770/ccClub_2023/blob/main/ccClub%20Judge/Problem%20List/Problem_List3.ipynb\" target=\"_parent\"><img src=\"https://colab.research.google.com/assets/colab-badge.svg\" alt=\"Open In Colab\"/></a>"
      ]
    },
    {
      "cell_type": "markdown",
      "source": [
        "#ASCII code\n",
        "\n",
        "---\n",
        "\n",
        "\n",
        "Description\n",
        "\n",
        "如同我們剛才所說的，ASCII code是用來代表字元的一種編碼方式，可以透過ord(character)以及chr(code)來進行轉換：\n",
        "\n",
        "給定一個字串，請輸出所有字元的ASCII code\n",
        "\n",
        "\n",
        "Input\n",
        "輸入為一行，包含一個長度為n的字串\n",
        "\n",
        "\n",
        "Output\n",
        "輸出為n行，各包含一個整數代碼"
      ],
      "metadata": {
        "id": "s_WfiYTS9apE"
      }
    },
    {
      "cell_type": "code",
      "execution_count": 2,
      "metadata": {
        "colab": {
          "base_uri": "https://localhost:8080/"
        },
        "id": "3oVXsNC49aNQ",
        "outputId": "32e5f305-1220-4b41-9244-d842d1378fe0"
      },
      "outputs": [
        {
          "output_type": "stream",
          "name": "stdout",
          "text": [
            "ccClub\n",
            "99\n",
            "99\n",
            "67\n",
            "108\n",
            "117\n",
            "98\n"
          ]
        }
      ],
      "source": [
        "s = input()\n",
        "for i in s:\n",
        "  print(ord(i))"
      ]
    },
    {
      "cell_type": "markdown",
      "source": [
        "#字串加密\n",
        "\n",
        "---\n",
        "\n",
        "\n",
        "Description\n",
        "\n",
        "如同我們剛才所說的，ASCII code是用來代表字元的一種編碼方式，可以透過ord(character)以及chr(code)來進行轉換：\n",
        "\n",
        "今天我們要藉由ASCII來進行加密，給定一個字串，請將 index 為零的字元轉換為ASCII code下編碼 +1的字元，index為 1 的字元轉換為ASCII code下編碼 +2的字元，以此類推來進行加密\n",
        "\n",
        "Input\n",
        "輸入為一行，包含一個字串 s\n",
        "\n",
        "\n",
        "Output\n",
        "輸出為一行，包含一個經過加密後的字串"
      ],
      "metadata": {
        "id": "csnvxDQu9_9I"
      }
    },
    {
      "cell_type": "code",
      "source": [
        "s = input()\n",
        "res = ''\n",
        "c = 1\n",
        "for i in s:\n",
        "  res += chr(ord(i) + c)\n",
        "  c += 1\n",
        "print(res)"
      ],
      "metadata": {
        "colab": {
          "base_uri": "https://localhost:8080/"
        },
        "id": "fzRl4VRl-BjW",
        "outputId": "ed3b82e0-9307-4ae8-fdc8-214bcb410d2e"
      },
      "execution_count": 19,
      "outputs": [
        {
          "output_type": "stream",
          "name": "stdout",
          "text": [
            "ccClub\n",
            "deFpzh\n"
          ]
        }
      ]
    },
    {
      "cell_type": "code",
      "source": [
        "s = input()\n",
        "res = ''.join([chr(ord(letter) + index) for index,letter in enumerate(s,1)])\n",
        "print(res)"
      ],
      "metadata": {
        "colab": {
          "base_uri": "https://localhost:8080/"
        },
        "id": "lz40q-VDAPai",
        "outputId": "8e776c95-34ed-4e86-901b-aa6d769dd063"
      },
      "execution_count": 21,
      "outputs": [
        {
          "output_type": "stream",
          "name": "stdout",
          "text": [
            "ccClub\n",
            "deFpzh\n"
          ]
        }
      ]
    }
  ]
}