{
  "nbformat": 4,
  "nbformat_minor": 0,
  "metadata": {
    "colab": {
      "provenance": [],
      "authorship_tag": "ABX9TyNVaVmH1H1OYsFTweMc/3NY",
      "include_colab_link": true
    },
    "kernelspec": {
      "name": "python3",
      "display_name": "Python 3"
    },
    "language_info": {
      "name": "python"
    }
  },
  "cells": [
    {
      "cell_type": "markdown",
      "metadata": {
        "id": "view-in-github",
        "colab_type": "text"
      },
      "source": [
        "<a href=\"https://colab.research.google.com/github/DrDAN6770/ccClub_2023/blob/main/ccClub%20Judge/Problem%20List/ccClub_2023_Spring_%E8%AE%80%E6%9B%B8%E6%9C%83_Week_6_Practice.ipynb\" target=\"_parent\"><img src=\"https://colab.research.google.com/assets/colab-badge.svg\" alt=\"Open In Colab\"/></a>"
      ]
    },
    {
      "cell_type": "markdown",
      "source": [
        "#字母三角形\n",
        "\n",
        "---\n",
        "\n",
        "\n",
        "Description\n",
        "\n",
        "輸入一個正整數 n ，輸出 n 層的字母三角形。\n",
        "\n",
        "\n",
        "Input\n",
        "輸入一個正整數 n ，輸出 n 層的字母三角形。\n",
        "\n",
        "\n",
        "Output\n",
        "輸出有 n 行，會組成一個字母三角形。"
      ],
      "metadata": {
        "id": "t1Y7_y6BKRyt"
      }
    },
    {
      "cell_type": "code",
      "execution_count": 1,
      "metadata": {
        "colab": {
          "base_uri": "https://localhost:8080/"
        },
        "id": "zrBqOZiAJvY3",
        "outputId": "927ff549-fe14-4ad9-c319-72bd89b35416"
      },
      "outputs": [
        {
          "output_type": "stream",
          "name": "stdout",
          "text": [
            "8\n",
            "A\n",
            "BC\n",
            "DEF\n",
            "GHIJ\n",
            "KLMNO\n",
            "PQRSTU\n",
            "VWXYZAB\n",
            "CDEFGHIJ\n"
          ]
        }
      ],
      "source": [
        "n = int(input())\n",
        "k = 65\n",
        "\n",
        "for i in range(n):\n",
        "  for j in range(i+1):\n",
        "    print(chr(k),end = '')\n",
        "    k += 1\n",
        "    if k == 91:\n",
        "      k = 65\n",
        "  print()"
      ]
    },
    {
      "cell_type": "markdown",
      "source": [
        "#連四相乘\n",
        "\n",
        "---\n",
        "\n",
        "\n",
        "Description\n",
        "\n",
        "給定 k 個（k >= 4）依數大小由小至大排序的整數，找出這些數中挑 4 個數字相乘的最大值。\n",
        "\n",
        "\n",
        "Input\n",
        "輸入為一行，包含 k 個整數（k >= 4），數字以空白為間隔。\n",
        "\n",
        "\n",
        "Output\n",
        "輸出為一行，包含一個整數。"
      ],
      "metadata": {
        "id": "JBuz7oqlKdcG"
      }
    },
    {
      "cell_type": "code",
      "source": [
        "def muti4(k):\n",
        "  type1 = k[-1] * k[-2] * k[-3] * k[-4]\n",
        "  type2 = k[0] * k[1] * k[2] * k[3]\n",
        "  type3 = k[-1] * k[-2] * k[0] * k[1]\n",
        "  return max([type1,type2,type3])\n",
        "\n",
        "k = [int(num) for num in input().split()]\n",
        "res = muti4(k)\n",
        "print(res)"
      ],
      "metadata": {
        "colab": {
          "base_uri": "https://localhost:8080/"
        },
        "id": "bDFsAWAuKexf",
        "outputId": "aa6a12d5-bfcf-45e4-dc39-3afdcffeb020"
      },
      "execution_count": 2,
      "outputs": [
        {
          "output_type": "stream",
          "name": "stdout",
          "text": [
            "-7 -7 1 2 3 4 5 6 7 8\n",
            "2744\n"
          ]
        }
      ]
    },
    {
      "cell_type": "markdown",
      "source": [
        "#連續整數分堆\n",
        "\n",
        "---\n",
        "\n",
        "\n",
        "Description\n",
        "\n",
        "給定若干個數，請將連續遞增的整數分成同一堆並放進一個 list 中，最後將 list 內的數字輸出。\n",
        "\n",
        "\n",
        "Input\n",
        "輸入有一行，包含若干個數，數字間以空格分開。\n",
        "\n",
        "\n",
        "Output\n",
        "輸出有若干行，每一行包含數個分堆好的數，數字間以空格分開。"
      ],
      "metadata": {
        "id": "H5CEt_m7KsV3"
      }
    },
    {
      "cell_type": "code",
      "source": [
        "def continue_intger(nums):\n",
        "    res = []\n",
        "    temp = [nums[0]]\n",
        "    # float('inf') 正無窮大，需要一個數字在nums尾端，讓nums最後如果還是遞增數也能產生，刻意多放一個不會被列入計算的數字而已(prenum +2 也行)\n",
        "    nums.append(float('inf'))\n",
        "    for prenum,postnum in zip(nums,nums[1:]):\n",
        "        if prenum + 1 == postnum:\n",
        "            temp.append(postnum)\n",
        "        else:\n",
        "            res.append(temp)\n",
        "            temp = [postnum]\n",
        "    return res\n",
        "\n",
        "nums = [int(num) for num in input().split()]\n",
        "res = continue_intger(nums)\n",
        "for i in res:\n",
        "    print(*i)"
      ],
      "metadata": {
        "colab": {
          "base_uri": "https://localhost:8080/"
        },
        "id": "glrIKVNzKpyG",
        "outputId": "eeb5e7f9-c920-4c35-a493-5039640fa866"
      },
      "execution_count": 3,
      "outputs": [
        {
          "output_type": "stream",
          "name": "stdout",
          "text": [
            "3 4 2 1 2\n",
            "3 4\n",
            "2\n",
            "1 2\n"
          ]
        }
      ]
    },
    {
      "cell_type": "markdown",
      "source": [
        "#小明採蘋果\n",
        "\n",
        "---\n",
        "\n",
        "\n",
        "Description\n",
        "\n",
        "小明家有一排蘋果樹（至少有一棵），小明肚子餓的時候就會去採蘋果來吃。\n",
        "\n",
        "但是如果他選了一棵蘋果樹來爬，除了該棵樹的蘋果以外，他就只能再同時採收到相鄰兩邊的樹的蘋果。\n",
        "\n",
        "貪吃的他希望可以一次就採到最多蘋果，若給定一串數字，代表每個位置上蘋果樹的蘋果數量，試問應該爬哪顆樹才可以收穫最多蘋果？\n",
        "\n",
        "蘋果樹由左至右從0開始編號，請輸出能夠收穫最多蘋果的樹編號（意即本樹加上兩側的蘋果數量最大）。若採收複數個位置收穫相同數量的蘋果，取編號較小者。\n",
        "\n",
        "\n",
        "Input\n",
        "輸入為一行，包含數個整數，用逗點分隔，各代表該樹包含的蘋果數量\n",
        "\n",
        "\n",
        "Output\n"
      ],
      "metadata": {
        "id": "eiLlXPSGLyrP"
      }
    },
    {
      "cell_type": "code",
      "source": [
        "def appletree(lst):\n",
        "    # 不足三棵樹\n",
        "    if len(lst) == 1: return 0\n",
        "    if len(lst) == 2: return 0\n",
        "\n",
        "    # 不算最後一棵(必小於倒數第二棵蘋果和)\n",
        "    dp = [0] * (len(lst) - 1)\n",
        "    dp[0] = lst[0] + lst[1]\n",
        "\n",
        "    for idx in range(1, len(lst)-1):\n",
        "        dp[idx] = lst[idx - 1] + lst[idx] + lst[idx + 1]\n",
        "\n",
        "    return dp.index(max(dp))\n",
        "\n",
        "lst = [int(num) for num in input().split(',')]\n",
        "res = appletree(lst)\n",
        "print(res)"
      ],
      "metadata": {
        "colab": {
          "base_uri": "https://localhost:8080/"
        },
        "id": "DI3FJmoXL0Qw",
        "outputId": "f3c74220-569e-49f6-e880-dbef81bce966"
      },
      "execution_count": 4,
      "outputs": [
        {
          "output_type": "stream",
          "name": "stdout",
          "text": [
            "0,1,0,0,0\n",
            "0\n"
          ]
        }
      ]
    }
  ]
}