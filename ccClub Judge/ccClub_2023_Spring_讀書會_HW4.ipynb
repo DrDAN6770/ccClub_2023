{
  "nbformat": 4,
  "nbformat_minor": 0,
  "metadata": {
    "colab": {
      "provenance": [],
      "authorship_tag": "ABX9TyNTfLLyxMpmQJ9y6fV//X92",
      "include_colab_link": true
    },
    "kernelspec": {
      "name": "python3",
      "display_name": "Python 3"
    },
    "language_info": {
      "name": "python"
    }
  },
  "cells": [
    {
      "cell_type": "markdown",
      "metadata": {
        "id": "view-in-github",
        "colab_type": "text"
      },
      "source": [
        "<a href=\"https://colab.research.google.com/github/DrDAN6770/ccClub_2023/blob/main/ccClub%20Judge/Problem%20List/ccClub_2023_Spring_%E8%AE%80%E6%9B%B8%E6%9C%83_HW4.ipynb\" target=\"_parent\"><img src=\"https://colab.research.google.com/assets/colab-badge.svg\" alt=\"Open In Colab\"/></a>"
      ]
    },
    {
      "cell_type": "markdown",
      "source": [
        "# 小明發便當\n",
        "\n",
        "---\n",
        "Description\n",
        "\n",
        "在午餐時間有兩種不同口味的便當，依照給定的順序疊成一疊，並且有一群學生排成一列領便當每個人都分別喜歡一種口味。\n",
        "在學生領便當的時候，如果最上方的便當不是自己喜歡的口味，學生就會重新回到隊伍的最後面排隊；\n",
        "但如果是自己喜歡的口味，學生就會取走便當並離開。每個學生最多只會吃一個便當。\n",
        "在給定便當口味的順序與喜歡不同口味的學生個數下，其中便當數量和人數不一定相同，請問最後有多少人吃不到便當？\n",
        "\n",
        "舉例來說：\n",
        "便當兩種口味分別為A、B口味，疊便當的順序從高至低為BAAB。\n",
        "喜歡吃A口味的有1人，喜歡吃B口味的有3人。\n",
        "其中一個喜歡B口味的學生會領走第一個邊當，然後喜歡A口味的學生會領走第二個便當，最後因為沒有人取走第三個便當(A口味)所以留下兩個人挨餓。\n",
        "\n",
        "\n",
        "Input\n",
        "\n",
        "輸入包含三行：\n",
        "第一行為一個字串，由字母 'A''B' 組成，代表疊起來的便當口味順序。\n",
        "第二行跟第三行分別為喜歡口味 A 以及喜歡口味 B 便當的學生數量。\n",
        "\n",
        "\n",
        "Output\n",
        "\n",
        "輸出為一行，包含一個整數，為吃不到便當的學生人數。"
      ],
      "metadata": {
        "id": "zM_kvypKsO-n"
      }
    },
    {
      "cell_type": "code",
      "source": [
        "def bento(food:str, A:int, B:int):\n",
        "    a_count = 0\n",
        "    b_count = 0\n",
        "    \n",
        "    for i in food:\n",
        "        if i == 'A':\n",
        "            if A > a_count:\n",
        "                a_count += 1\n",
        "            else:\n",
        "                break\n",
        "        elif i == 'B':\n",
        "            if B > b_count:\n",
        "                b_count += 1\n",
        "            else:\n",
        "                break    \n",
        "    return A - a_count + B - b_count\n",
        "\n",
        "food = input()\n",
        "A, B = int(input()), int(input())\n",
        "print(bento(food, A, B))"
      ],
      "metadata": {
        "colab": {
          "base_uri": "https://localhost:8080/"
        },
        "id": "1XoZvApyCCKo",
        "outputId": "e1eb7b82-a3f1-4441-cdd6-64d12a81732e"
      },
      "execution_count": 1,
      "outputs": [
        {
          "output_type": "stream",
          "name": "stdout",
          "text": [
            "AABBABAB\n",
            "1\n",
            "10\n",
            "10\n"
          ]
        }
      ]
    },
    {
      "cell_type": "code",
      "execution_count": null,
      "metadata": {
        "colab": {
          "base_uri": "https://localhost:8080/"
        },
        "id": "Mqp7l2W2sMD0",
        "outputId": "3f13d606-e6cf-4f98-dd17-a5d338309eee"
      },
      "outputs": [
        {
          "output_type": "stream",
          "name": "stdout",
          "text": [
            "AABBABAB\n",
            "1\n",
            "10\n",
            "10\n"
          ]
        }
      ],
      "source": [
        "def bento(food:str, A:int, B:int):\n",
        "    top = len(food) - 1  # 頂端pointer\n",
        "    a_count = 0\n",
        "    b_count = 0\n",
        "    \n",
        "    while top >= 0:\n",
        "        s = food[top] \n",
        "        \n",
        "        if s == 'A':\n",
        "            if A > a_count:\n",
        "                a_count += 1\n",
        "            else:\n",
        "                break\n",
        "        elif s == 'B':\n",
        "            if B > b_count:\n",
        "                b_count += 1\n",
        "            else:\n",
        "                break\n",
        "        \n",
        "        top -= 1\n",
        "        \n",
        "    return A - a_count + B - b_count\n",
        "\n",
        "food = input()[::-1]\n",
        "A, B = int(input()), int(input())\n",
        "print(bento(food, A, B))"
      ]
    },
    {
      "cell_type": "markdown",
      "source": [
        "# 推薦系統\n",
        "\n",
        "---\n",
        "\n",
        "Description\n",
        "\n",
        "商務上，常常會依據顧客的消費行為，推薦該顧客消費行為跟他類似的客戶購買的產品。\n",
        "現在，給定我們有判斷相不相似的閾值以及顧客的購買紀錄，你可以推薦他們購買沒買過的產品嗎？\n",
        "\n",
        "說明：\n",
        "以範例一為例子。對凱文來說，小明跟他的相似度是 3/4 = 75% >= 50%，小美是 0/4 = 0% < 50%，小華是 2/4 = 50% >= 50%。\n",
        "因此，我們推薦凱文小明買過但他沒買過的卡片跟機車，還有小華買過但凱文沒買過的番茄。\n",
        "在輸出的第一行，我們先輸出凱文，接著依照商品出現的順序依序輸出要推薦給凱文的卡片、機車、番茄。\n",
        "對小明來說，只有凱文跟他的相似度 3/5 = 60% >= 50%，因此我們推薦他凱文買過但他沒買過的鑰匙。\n",
        "阿小美就是個邊緣人，我們先不理他。\n",
        "小華跟小明和凱文的相似度是 2/3 = 67% >= 50%，因此我們推薦他凱文跟小明有買但他沒買的錢包、鑰匙、卡片、機車。\n",
        "\n",
        "\n",
        "Input\n",
        "\n",
        "輸入為 n + 2 行。\n",
        "第一行包含一個整數，為判斷相不相似的閾值。\n",
        "中間 n 行中，每一行包含數個詞，以空白區隔。\n",
        "最後一行輸入 end，代表輸入結束。\n",
        "\n",
        "Output\n",
        "\n",
        "輸出為 n 行，代表對 n 個顧客的推薦商品。"
      ],
      "metadata": {
        "id": "4poVCTu8sZ8k"
      }
    },
    {
      "cell_type": "code",
      "source": [
        "def recommend_sys(info:dict, n:int):\n",
        "    res = {name : [] for name in info.keys()}\n",
        "    for p1, item1 in info.items():\n",
        "        for p2, item2 in info.items():\n",
        "            if p1 == p2 : continue\n",
        "            similarity = len(set(item1) & set(item2)) / len(item1)\n",
        "            if similarity >= n:\n",
        "                temp = list(set(item2) - set(item1))\n",
        "                temp.sort(key = lambda x: item2.index(x))\n",
        "                res[p1].extend(i for i in temp if i not in res[p1])\n",
        "    return res\n",
        "\n",
        "n = int(input()) / 100\n",
        "info = {}\n",
        "while True:\n",
        "    IN = input()\n",
        "    if IN == 'end': break\n",
        "    data = IN.split()\n",
        "    info[data[0]] = data[1:]\n",
        "res = recommend_sys(info, n)\n",
        "for i,v in res.items():\n",
        "    print(i, *v)"
      ],
      "metadata": {
        "colab": {
          "base_uri": "https://localhost:8080/"
        },
        "id": "Xmz24MX4sZXy",
        "outputId": "4e782bc5-7a97-49fd-e65f-f4345cd6d4b8"
      },
      "execution_count": null,
      "outputs": [
        {
          "output_type": "stream",
          "name": "stdout",
          "text": [
            "50\n",
            "凱文 電腦 手機 錢包 鑰匙\n",
            "小明 電腦 手機 錢包 卡片 機車\n",
            "小美 香蕉 蘿蔔\n",
            "小華 電腦 手機 番茄\n",
            "end\n",
            "凱文 卡片 機車 番茄\n",
            "小明 鑰匙\n",
            "小美\n",
            "小華 錢包 鑰匙 卡片 機車\n"
          ]
        }
      ]
    },
    {
      "cell_type": "markdown",
      "source": [
        "# 揪狼殺\n",
        "\n",
        "---\n",
        "\n",
        "Description\n",
        "\n",
        "恬很想要玩狼人殺，就問了他的朋友們哪些時間有空。\n",
        "\n",
        "因為恬很喜歡玩十二人局（亦即需要有十二個玩家），在人數不到十二人的情況下，恬會約最多人有空的時間。\n",
        "\n",
        "倘若人數超過十二人的情況下，恬會約超過十二人連續最長的時間（希望可以玩越久越好，如果有複數個相同，請輸出最早的那個時間）。\n",
        "\n",
        "請寫一個程式，根據恬的朋友們回報的狀況，統計出恬要約狼殺的時間。\n",
        "\n",
        "\n",
        "Input\n",
        "\n",
        "輸入有 n+1 行。\n",
        "\n",
        "第 1 行為數字 n，代表恬總共問了幾個朋友。\n",
        "\n",
        "第 2~n+1 行分別為每個朋友的回報狀況，每一行有數個整數（0~23），數字間用空格分割，代表該位朋友幾點有空。\n",
        "\n",
        "\n",
        "Output\n",
        "\n",
        "輸出為 1 行，包含一個整數，代表恬要約幾點。\n",
        "\n",
        "規則：\n",
        "\n",
        "如果人數不到十二人：選擇人數最多的那個時間。\n",
        "如果人數人數夠，則選擇人數至少十二人中，連續最長的時間（輸出起始時間）"
      ],
      "metadata": {
        "id": "KeCSCg8ksubk"
      }
    },
    {
      "cell_type": "code",
      "source": [
        "# 超過12人，沒有連續時間，挑哪時? 最早\n",
        "# 不夠12人，人數最多時間相同，挑哪時? 最早\n",
        "\n",
        "def max_countinue(lst):\n",
        "    max_countinue_time = 0\n",
        "    H = {}\n",
        "    lst.append(float('inf'))\n",
        "    for curr, post in zip(lst, lst[1:]):\n",
        "            if curr + 1 == post:\n",
        "                max_countinue_time += 1\n",
        "            else:            \n",
        "                H[curr - max_countinue_time] =  max_countinue_time\n",
        "                max_countinue_time = 0\n",
        "    return sorted(H, key = lambda x:H[x], reverse= True)[0]\n",
        "\n",
        "def under12(totaltime):\n",
        "    return sorted(totaltime, key = lambda x:(totaltime[x], -x), reverse= True)[0]\n",
        "# 處理輸入、每個時間點有空的人數\n",
        "f = int(input())\n",
        "totaltime = {}\n",
        "res = []\n",
        "for _ in range(f):\n",
        "    temp = [int(i) for i in input().split()]\n",
        "    for t in temp:\n",
        "        totaltime[t] = totaltime.get(t, 0) + 1\n",
        "for k,v in totaltime.items():\n",
        "    if v >= 12: \n",
        "        res.append(k)\n",
        "\n",
        "# 無時段同時有超過12人有空\n",
        "if not res:\n",
        "    print(under12(totaltime))\n",
        "\n",
        "# 有時段同時有超過12人有空\n",
        "else:\n",
        "    # 找最大連續\n",
        "    res.sort()\n",
        "    ans = max_countinue(res)\n",
        "    print(ans)"
      ],
      "metadata": {
        "colab": {
          "base_uri": "https://localhost:8080/"
        },
        "id": "kIIN2Cpmssu0",
        "outputId": "b5d0532e-5a75-4fc5-e1d2-a8a274b4076b"
      },
      "execution_count": null,
      "outputs": [
        {
          "output_type": "stream",
          "name": "stdout",
          "text": [
            "21\n",
            "1 8 6 11 21 13 7 0 19 2 18 15 17\n",
            "2 23 22 5 16 18 20 9 1 14\n",
            "15 9 14 5 18 4 21 11 3\n",
            "21 19 16 14 12 7 18 6 15 9 17 0 11 3 22 10 2\n",
            "15 8 19 20 6 13 1\n",
            "6 15 3 8 5 14 13 20\n",
            "10 18 16 20 6 17 19\n",
            "1 0 5 19 14 17 11 15 4 7 10 20 23 22 18 13 21 16\n",
            "13 22 20 8 15 23 10 6 3 5 19 12 7 18\n",
            "9 2 0 17 23 8 20 11 13 21 11 8 19 7 12 14\n",
            "18 10 3 5 20 1 12 17 11 16 19 0 14 6 2\n",
            "22 7 14 23 18 8\n",
            "6 22 5 18 14 4 10 3 19 13\n",
            "12 4 17 20 5 6 9 11 23 16 019 14 15\n",
            "12 18 17 19 4 21 23 13 1 0 3 14 9 22 15\n",
            "13 0 9 16 11 19 10 6 23 3 12 18 8 21 20 17 14 5 7 2\n",
            "23 3 16 12 1 11 2 17 15 19 22 14 18\n",
            "16 8 0 13 17 22 15 18 11 6 19 20 21 4\n",
            "2 15 22 8 21 9 12 16 17 4 7 20 3 13 18 0 14 1 19 6\n",
            "7 11 2 19 0 5 3 21\n",
            "3 5 20 10 23 17\n",
            "17\n"
          ]
        }
      ]
    },
    {
      "cell_type": "markdown",
      "source": [
        "# 小明去爬山\n",
        "\n",
        "\n",
        "---\n",
        "\n",
        "Description\n",
        "\n",
        "小明是一個肥宅，可是一直以來小明的女朋友都對此感到很不滿，某一天下定決心叫他去踏青。小明當然是答應了，但是對於踏青的路線，他也有一些條件必須被滿足才會讓他願意去走，請根據他的要求選一條最適合的踏青路線，並輸出該路線的編號。他的要求如下：\n",
        "\n",
        "因為小明體力很差，走不了多久就需要在涼亭休息，所以從出發到第一個涼亭、或是兩個涼亭之間的距離都不能超過 300 公尺，若超過小明就不會選這條路線\n",
        "因為小明喝太多水，一下子就需要去上廁所，所以從出發到第一個廁所、或是兩個廁所之間都不能超過 300 公尺，不然小明就不會選這條路線\n",
        "因為小明有高山症，所以走完整條路線以後，這條路線的總爬升高度越少越好，不然容易不舒服\n",
        "給定 n 個路線，每個路線會有數量不等的據點，據點跟據點之間的距離固定為 100 公尺，每個據點的資訊包含：\n",
        "\n",
        "在這 100 公尺所上升的高度（若為正值則上升，若為負值則下降）\n",
        "該據點是否有涼亭\n",
        "該據點是否有廁所\n",
        "請替他找出適合的路線，並輸出路線編號（第一條路線的編號為 0）；如果給定的路線都不滿足小明的要求，請輸出 'stay at home'\n",
        "\n",
        "\n",
        "Input\n",
        "\n",
        "\n",
        "第一行為路線的數量 n，接下來有 n 個區塊。\n",
        "\n",
        "每個區塊包含 ‌m_i + 1‌ 行，此區塊內的第一行為據點的數量 ‌m_i‌，接下來的 ‌m_i‌ 行為據點的資訊。\n",
        "\n",
        "據點的資訊包含三個值，一個整數代表上升的高度、兩個布林值代表該據點涼亭以及廁所的有無。\n",
        "\n",
        "Output\n",
        "\n",
        "輸出包含一行，包含一個整數，代表他選中的踏青路線。若小明沒有中意的踏青路線，請輸出字串 'stay at home'。"
      ],
      "metadata": {
        "id": "JKxbVEBatHNE"
      }
    },
    {
      "cell_type": "code",
      "source": [
        "# 可走的路線，如果最小hight相同怎選? 照原本順序\n",
        "def climbountain(path:dict):\n",
        "    lst = list(path.values())\n",
        "    hight = lst[0][0] + lst [1][0]\n",
        "    for curr, next, next2 in zip(lst, lst[1:], lst[2:]):\n",
        "        hight += next2[0]\n",
        "        if (curr[1] == 0 and next[1] == 0 and next2[1] == 0) or ((curr[2] == 0 and next[2] == 0 and next2[2] == 0)):\n",
        "            return None\n",
        "    return hight\n",
        "\n",
        "n = int(input())\n",
        "res = {}\n",
        "for line in range(n):\n",
        "    path = {}\n",
        "    node = int(input())\n",
        "    for i in range(1, node + 1):\n",
        "        path[i] = [eval(num) for num in input().split(',')]\n",
        "    \n",
        "    temp = climbountain(path)\n",
        "    if temp:\n",
        "        res[line] = temp\n",
        "\n",
        "if res:\n",
        "    print(sorted(res, key = lambda x:res[x])[0])\n",
        "else:\n",
        "    print('stay at home')"
      ],
      "metadata": {
        "colab": {
          "base_uri": "https://localhost:8080/"
        },
        "id": "pMbfyAgetFJn",
        "outputId": "41192ba5-e513-4d73-812c-f6f115daeb98"
      },
      "execution_count": null,
      "outputs": [
        {
          "output_type": "stream",
          "name": "stdout",
          "text": [
            "2\n",
            "11\n",
            "0,False,False\n",
            "30,True,True\n",
            "3,False,False\n",
            "-5,False,True\n",
            "-5,True,False\n",
            "1,True,True\n",
            "10,True,False\n",
            "2,False,True\n",
            "-3,False,False\n",
            "2,False,False\n",
            "-1,False,False\n",
            "7\n",
            "30,True,True\n",
            "-3,False,False\n",
            "3,True,True\n",
            "0,True,True\n",
            "2,False,False\n",
            "10,True,True\n",
            "5,False,False\n",
            "1\n"
          ]
        }
      ]
    },
    {
      "cell_type": "markdown",
      "source": [
        "# 二元搜索\n",
        "---\n",
        "\n",
        "Description\n",
        "\n",
        "大家有沒有發現，生活中有很多東西，往往會以排序好的方式存放呢？\n",
        "舉例來說，在圖書館裡面，書目會按照索書號會由小到大存放，除了有個規則可以依循方便我們存放東西之外，按順序排好的方式存放，可以節省我們查找的時間 -- 只要你用對方法！在這裡，我們介紹一下二元搜索：\n",
        "\n",
        "針對一個排序好的數列，我們可以靠著二元搜索來節省尋找特定數字的時間，想法如下：\n",
        "\n",
        "取這個數列的中點，看他等不等於想要找的數字，如果等於就回傳該數字與相關的資訊。\n",
        "如果不等於就判斷這個中點的數值是大於還小於目標數值，如果大於，那就往左半邊的數列再執行一次一樣的動作，反之如果小於，就往右半邊的數列執行一次一樣的動作，直到找到該數字為止。\n",
        "現在，給定一個排序過的書目列表，請你設計一個可以協助找到對應索書號的書名的演算法，若沒有這個書目則輸出not found，可以試試看用新教的遞迴方式寫這一題喔！\n",
        "\n",
        "\n",
        "Input\n",
        "\n",
        "輸入有三行。\n",
        "第一行代表排序後的索書號，以空格區隔。\n",
        "第二行代表對應的書籍名稱，以空格區隔。\n",
        "第三行代表想要查找的索書號。\n",
        "\n",
        "\n",
        "Output\n",
        "\n",
        "輸出有一行，為找到的書籍名稱，若沒有這個書目則輸出 \"not found\"。"
      ],
      "metadata": {
        "id": "8zIJOPF7tfgj"
      }
    },
    {
      "cell_type": "code",
      "source": [
        "def binary_search(ID, Name, searchID:int):\n",
        "    book_stage = {id : name for id, name in zip(ID, Name)}\n",
        "    l = 0\n",
        "    r = len(ID) - 1\n",
        "    while l < r:\n",
        "        mid = l + (r - l) // 2\n",
        "        if ID[mid] == searchID:\n",
        "            break\n",
        "        elif ID[mid] > searchID:\n",
        "            r -= 1\n",
        "        else:\n",
        "            l += 1\n",
        "    return book_stage.get(searchID, \"not found\")\n",
        "ID = [int(i) for i in input().split()]\n",
        "Name = input().split()\n",
        "searchID = int(input())\n",
        "\n",
        "print(binary_search(ID, Name, searchID))"
      ],
      "metadata": {
        "colab": {
          "base_uri": "https://localhost:8080/"
        },
        "id": "CSObcTNGtmND",
        "outputId": "c0f2735e-e7d8-4d31-de68-9313f6247991"
      },
      "execution_count": null,
      "outputs": [
        {
          "output_type": "stream",
          "name": "stdout",
          "text": [
            "1110 1112 1113 1115 1116 1117 1118 1119 1130 1134 1138 1152\n",
            "初級會計學 中級會計學 高等會計學 審計學 成本與管理會計 稅務法規 民法概要 企業管理 財務管理 經濟學原理 統計學 微積分\n",
            "1134\n",
            "經濟學原理\n"
          ]
        }
      ]
    }
  ]
}