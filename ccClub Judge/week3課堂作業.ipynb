{
  "nbformat": 4,
  "nbformat_minor": 0,
  "metadata": {
    "colab": {
      "provenance": [],
      "toc_visible": true,
      "authorship_tag": "ABX9TyPcTpTYxojP6CA4iDAIQvrI",
      "include_colab_link": true
    },
    "kernelspec": {
      "name": "python3",
      "display_name": "Python 3"
    },
    "language_info": {
      "name": "python"
    }
  },
  "cells": [
    {
      "cell_type": "markdown",
      "metadata": {
        "id": "view-in-github",
        "colab_type": "text"
      },
      "source": [
        "<a href=\"https://colab.research.google.com/github/DrDAN6770/ccClub_2023/blob/main/ccClub%20Judge/Problem%20List/week3%E8%AA%B2%E5%A0%82%E4%BD%9C%E6%A5%AD.ipynb\" target=\"_parent\"><img src=\"https://colab.research.google.com/assets/colab-badge.svg\" alt=\"Open In Colab\"/></a>"
      ]
    },
    {
      "cell_type": "markdown",
      "source": [
        "#[3-1] 輸出\n",
        "\n",
        "---\n",
        "\n",
        "\n",
        "Description\n",
        "\n",
        "輸出「Hello ccClub」。\n",
        "\n",
        "\n",
        "Input\n",
        "此題無輸入。\n",
        "\n",
        "\n",
        "\n",
        "Output\n",
        "輸出一行字串，為 \"Hello ccClub\"。"
      ],
      "metadata": {
        "id": "xl05AO-85-Uf"
      }
    },
    {
      "cell_type": "code",
      "execution_count": null,
      "metadata": {
        "colab": {
          "base_uri": "https://localhost:8080/"
        },
        "id": "9w5yxrJX5z2g",
        "outputId": "83ba6afd-7014-41a7-c54c-33410fd37ce0"
      },
      "outputs": [
        {
          "output_type": "stream",
          "name": "stdout",
          "text": [
            "Hello ccClub\n"
          ]
        }
      ],
      "source": [
        "print('Hello ccClub')"
      ]
    },
    {
      "cell_type": "markdown",
      "source": [
        "#[3-1] 分行輸出\n",
        "\n",
        "---\n",
        "\n",
        "\n",
        "Description\n",
        "\n",
        "本題為填空題，請將 print 中的三個句子輸出成 3 行。\n",
        "\n",
        "\n",
        "Input\n",
        "此題無輸入。\n",
        "\n",
        "\n",
        "Output\n",
        "輸出為三行字串，分別為 \"Python程式語言由Guido van Rossum開發\"、\"Python在1991年釋出最初版\"、\"Python最初版的版本號為0.9.0\""
      ],
      "metadata": {
        "id": "4nS_jVKg6I3r"
      }
    },
    {
      "cell_type": "code",
      "source": [
        "print('Python程式語言由Guido van Rossum開發', 'Python在1991年釋出最初版', 'Python最初版的版本號為0.9.0', sep = '\\n')"
      ],
      "metadata": {
        "colab": {
          "base_uri": "https://localhost:8080/"
        },
        "id": "0MIuAGWu6IlI",
        "outputId": "f8b52594-1646-4cdd-d699-04bd74ad5652"
      },
      "execution_count": null,
      "outputs": [
        {
          "output_type": "stream",
          "name": "stdout",
          "text": [
            "Python程式語言由Guido van Rossum開發\n",
            "Python在1991年釋出最初版\n",
            "Python最初版的版本號為0.9.0\n"
          ]
        }
      ]
    },
    {
      "cell_type": "markdown",
      "source": [
        "#[3-1] 併行輸出\n",
        "\n",
        "---\n",
        "\n",
        "\n",
        "Description\n",
        "\n",
        "本題為填空題，請將兩個 print 的內容輸出成 1 行。\n",
        "\n",
        "\n",
        "Input\n",
        "此題無輸入。\n",
        "\n",
        "\n",
        "Output\n",
        "輸出為一行字串，為 \"Coding & Co-working Club（ccClub）成立於 2016 年\"。"
      ],
      "metadata": {
        "id": "0XMN1kFQ6Sta"
      }
    },
    {
      "cell_type": "code",
      "source": [
        "print('Coding & Co-working Club（ccClub）', end = '')\n",
        "print('成立於 2016 年')"
      ],
      "metadata": {
        "colab": {
          "base_uri": "https://localhost:8080/"
        },
        "id": "64bks7ns6WZU",
        "outputId": "ab5c2291-5c91-47c3-f553-a4476bf0c7c0"
      },
      "execution_count": null,
      "outputs": [
        {
          "output_type": "stream",
          "name": "stdout",
          "text": [
            "Coding & Co-working Club（ccClub）成立於 2016 年\n"
          ]
        }
      ]
    },
    {
      "cell_type": "markdown",
      "source": [
        "#[4-1] 輸出變數\n",
        "\n",
        "---\n",
        "\n",
        "\n",
        "Description\n",
        "\n",
        "請將輸入的內容直接輸出。\n",
        "\n",
        "\n",
        "Input\n",
        "輸入為 1 行，為任意字串。\n",
        "\n",
        "\n",
        "Output\n",
        "輸出為一行字串，與輸入相同。"
      ],
      "metadata": {
        "id": "pPj7t4C66ZjN"
      }
    },
    {
      "cell_type": "code",
      "source": [
        "s = input()\n",
        "print(s)"
      ],
      "metadata": {
        "colab": {
          "base_uri": "https://localhost:8080/"
        },
        "id": "QeM5C53T6cE-",
        "outputId": "8f5c05cb-3bca-4de6-cd27-93520e247016"
      },
      "execution_count": null,
      "outputs": [
        {
          "output_type": "stream",
          "name": "stdout",
          "text": [
            "9487\n",
            "9487\n"
          ]
        }
      ]
    },
    {
      "cell_type": "markdown",
      "source": [
        "#[4-1] 字串連接\n",
        "\n",
        "---\n",
        "\n",
        "\n",
        "Description\n",
        "\n",
        "請將輸入的兩個字串連接並輸出。\n",
        "\n",
        "\n",
        "Input\n",
        "輸入為 2 行，分別為任意一個字串。\n",
        "\n",
        "\n",
        "Output\n",
        "輸出為 1 行，為連接後的字串。"
      ],
      "metadata": {
        "id": "woDv80kK6g1x"
      }
    },
    {
      "cell_type": "code",
      "source": [
        "s1 = input()\n",
        "s2 = input()\n",
        "print(s1+s2)"
      ],
      "metadata": {
        "colab": {
          "base_uri": "https://localhost:8080/"
        },
        "id": "1-N2KBIl6idA",
        "outputId": "d456c230-f8b6-4688-f2fb-a44dd1e40ccc"
      },
      "execution_count": null,
      "outputs": [
        {
          "output_type": "stream",
          "name": "stdout",
          "text": [
            "福利熊\n",
            "熊福利\n",
            "福利熊熊福利\n"
          ]
        }
      ]
    },
    {
      "cell_type": "markdown",
      "source": [
        "#[4-1] Python之禪\n",
        "\n",
        "---\n",
        "\n",
        "\n",
        "Description\n",
        "\n",
        "Python 之禪是 Python 程式語言的 19 條軟體編寫原則，第 1 條如下：Beautiful is better than ugly.\n",
        "\n",
        "本題為填空題，請藉由設定 sep 和 end 來完整呈現這個句子。\n",
        "\n",
        "\n",
        "Input\n",
        "此題無輸入。\n",
        "\n",
        "\n",
        "Output\n",
        "輸出為一行字串，為 \"Beautiful is better than ugly.\"。"
      ],
      "metadata": {
        "id": "2Lv5i9oD6pd_"
      }
    },
    {
      "cell_type": "code",
      "source": [
        "s1 = 'Beautiful'\n",
        "s2 = 'better than ugly.'\n",
        "print(s1, s2, sep = ' is ', end = '')"
      ],
      "metadata": {
        "colab": {
          "base_uri": "https://localhost:8080/"
        },
        "id": "vxKn5VT46rie",
        "outputId": "7a4d485b-5203-4f72-a3f0-89f8e1076bcb"
      },
      "execution_count": null,
      "outputs": [
        {
          "output_type": "stream",
          "name": "stdout",
          "text": [
            "Beautiful is better than ugly."
          ]
        }
      ]
    },
    {
      "cell_type": "markdown",
      "source": [
        "#[5-1] 阿緯換折價券\n",
        "\n",
        "---\n",
        "\n",
        "\n",
        "Description\n",
        "\n",
        "本題為填空題。\n",
        "\n",
        "cc 商店週年慶舉辦集點活動，集滿 10 點就可以換取 100 元的折價券。阿緯是 cc 商店的忠實顧客，手上有一些週年慶點數，請你幫阿緯算一下總共可以換得多少金額的折價券，以及最後剩餘的點數。\n",
        "\n",
        "\n",
        "Input\n",
        "輸入為 1 行，為阿緯有的點數數量\n",
        "\n",
        "\n",
        "Output\n",
        "輸出為 1 行，分別為阿緯可以換得的折價券金額與剩餘的點數，中間請用逗號隔開"
      ],
      "metadata": {
        "id": "Z9tg068V6uqi"
      }
    },
    {
      "cell_type": "code",
      "source": [
        "# 請在 __ 分別填入對應的運算符號\n",
        "points = int(input())\n",
        "coupon = points // 10 * 100\n",
        "remain = points % 10\n",
        "\n",
        "print(coupon, remain, sep = ',')"
      ],
      "metadata": {
        "colab": {
          "base_uri": "https://localhost:8080/"
        },
        "id": "av-SeKVj6wiE",
        "outputId": "fc4b1106-2139-44e4-de22-01e657aee0fa"
      },
      "execution_count": null,
      "outputs": [
        {
          "output_type": "stream",
          "name": "stdout",
          "text": [
            "17\n",
            "100,7\n"
          ]
        }
      ]
    },
    {
      "cell_type": "markdown",
      "source": [
        "#[5-1] 阿能點宵夜\n",
        "\n",
        "---\n",
        "\n",
        "\n",
        "Description\n",
        "\n",
        "此題為填空題。\n",
        "\n",
        "阿能最近快段考了，每天都在熬夜抱佛腳。但每次讀一讀都會因為肚子餓就直接去睡了，今天覺得進度真的快趕不上了，所以決定點個鹽酥雞，以下為鹽酥雞的菜單：\n",
        "\n",
        "雞排 65 / 份\n",
        "鹽酥雞 60 / 份\n",
        "甜不辣 30 / 份\n",
        "百頁豆腐 30 / 份\n",
        "四季豆 35 / 份\n",
        "\n",
        "Input\n",
        "輸入為 5 行，分別為雞排、鹽酥雞、甜不辣、百頁豆腐和四季豆點的份數\n",
        "\n",
        "\n",
        "Output\n",
        "輸出為 1 行，為阿能宵夜的總金額"
      ],
      "metadata": {
        "id": "gzEOtDYq63xb"
      }
    },
    {
      "cell_type": "code",
      "source": [
        "# 輸入各餐點份數\n",
        "chicken_fillet = int(input())\n",
        "fried_chicken = int(input())\n",
        "tempura = int(input())\n",
        "tofu = int(input())\n",
        "beans = int(input())\n",
        "\n",
        "# 計算總金額\n",
        "total = chicken_fillet * 65+fried_chicken*60+tempura*30+tofu*30+beans*35\n",
        "\n",
        "# 輸出\n",
        "print(total)"
      ],
      "metadata": {
        "colab": {
          "base_uri": "https://localhost:8080/"
        },
        "id": "-E6MiXzw66uR",
        "outputId": "c5470b47-36ec-4044-d1da-a8ea9dba9946"
      },
      "execution_count": null,
      "outputs": [
        {
          "output_type": "stream",
          "name": "stdout",
          "text": [
            "1\n",
            "1\n",
            "2\n",
            "1\n",
            "1\n",
            "250\n"
          ]
        }
      ]
    },
    {
      "cell_type": "markdown",
      "source": [
        "#[5-1] 阿能的段考\n",
        "\n",
        "---\n",
        "\n",
        "\n",
        "Description\n",
        "\n",
        "此題為填空題。\n",
        "\n",
        "阿能剛考完第一次段考，但因為剛考完腦袋還有點不太清楚，可以請你幫阿能算一下這次段考的總分和平均嗎？\n",
        "\n",
        "\n",
        "Input\n",
        "輸入為 5 行，為 5 個整數，分別為國文、英文、數學、社會和自然的段考分數。\n",
        "\n",
        "\n",
        "Output\n",
        "輸出為 2 行，第一行為總分，第二行為平均分數"
      ],
      "metadata": {
        "id": "bEvWWEBq7A9J"
      }
    },
    {
      "cell_type": "code",
      "source": [
        "# 輸入各科成績\n",
        "chinese = int(input())\n",
        "english = int(input())\n",
        "math = int(input())\n",
        "social = int(input())\n",
        "science = int(input())\n",
        "\n",
        "# 計算段考總分\n",
        "total = chinese+english+math+social+science\n",
        "\n",
        "# 計算段考平均\n",
        "average = total/5\n",
        "\n",
        "# 輸出\n",
        "print(total)\n",
        "print(average)"
      ],
      "metadata": {
        "colab": {
          "base_uri": "https://localhost:8080/"
        },
        "id": "q6fm4Mf77CUZ",
        "outputId": "f863afd8-418d-45f7-dd8c-73bf3c07d45c"
      },
      "execution_count": null,
      "outputs": [
        {
          "output_type": "stream",
          "name": "stdout",
          "text": [
            "80\n",
            "92\n",
            "93\n",
            "84\n",
            "88\n",
            "437\n",
            "87.4\n"
          ]
        }
      ]
    },
    {
      "cell_type": "markdown",
      "source": [
        "#[5-2] 猜數字\n",
        "\n",
        "\n",
        "---\n",
        "\n",
        "\n",
        "Description\n",
        "\n",
        "此題為填空題。\n",
        "\n",
        "阿緯和小美在玩猜數字的遊戲，遊戲內容是各自先想好一個 1～10 的數字，若阿緯猜的數字與小美想的相同，則阿緯獲勝，小美等一下下課就要請阿緯吃一包餅乾。\n",
        "\n",
        "\n",
        "Input\n",
        "輸入為 2 行，第 1 行為阿緯猜的數字，第 2 行為小美想的數字\n",
        "\n",
        "\n",
        "Output\n",
        "輸出為 1 行，若阿緯猜中則輸出 True，沒猜中則輸出 False"
      ],
      "metadata": {
        "id": "0_ag6pZX7NpE"
      }
    },
    {
      "cell_type": "code",
      "source": [
        "# 輸入數字\n",
        "num1 = int(input())   # 阿緯猜的數字\n",
        "num2 = int(input())   # 小美猜的數字\n",
        "\n",
        "# 輸出結果\n",
        "print(num1 == num2)"
      ],
      "metadata": {
        "colab": {
          "base_uri": "https://localhost:8080/"
        },
        "id": "_38f-G-x7ROI",
        "outputId": "e5483079-73bc-4643-ba7a-d6d1ebf7d7d3"
      },
      "execution_count": null,
      "outputs": [
        {
          "output_type": "stream",
          "name": "stdout",
          "text": [
            "7\n",
            "7\n",
            "True\n"
          ]
        }
      ]
    },
    {
      "cell_type": "markdown",
      "source": [
        "#[5-2] 認真的阿緯\n",
        "\n",
        "---\n",
        "\n",
        "\n",
        "Description\n",
        "\n",
        "此題為填空題。\n",
        "\n",
        "阿緯是個認真的高中生，每天都會認真準備課後的作業與考試。\n",
        "\n",
        "如果作業份數超過 3 份或明天有很多小考的話，阿緯就得 11 點後才能睡覺了。\n",
        "\n",
        "\n",
        "Input\n",
        "輸入為 2 行，\n",
        "\n",
        "第一行為一個整數，代表作業份數\n",
        "\n",
        "第二行為一個字串， \"OMG! 明天有好多考試!\" 或 \"開心! 明天沒有小考!\"\n",
        "\n",
        "\n",
        "Output\n",
        "輸出為 1 行，如果阿緯得 11 點後才能睡輸出 True，可以 11 點前睡的話輸出 False"
      ],
      "metadata": {
        "id": "QvFtZLhK7VMz"
      }
    },
    {
      "cell_type": "code",
      "source": [
        "# 輸入\n",
        "homeworks = int(input())\n",
        "quizzes = input()\n",
        "\n",
        "# 輸出\n",
        "print(homeworks > 3 or quizzes != \"開心! 明天沒有小考!\")"
      ],
      "metadata": {
        "colab": {
          "base_uri": "https://localhost:8080/"
        },
        "id": "ulWwgMle7Xs3",
        "outputId": "ec948183-6f5b-44b8-f44a-5df72742d00d"
      },
      "execution_count": null,
      "outputs": [
        {
          "output_type": "stream",
          "name": "stdout",
          "text": [
            "2\n",
            "開心! 明天沒有小考!\n",
            "False\n"
          ]
        }
      ]
    },
    {
      "cell_type": "markdown",
      "source": [
        "#[5-2] 阿能改考卷\n",
        "\n",
        "---\n",
        "\n",
        "\n",
        "Description\n",
        "\n",
        "阿能每次考完小考老師都會要求交換改，但每次交換改阿能都覺得很無聊。因此突發奇想，想說如果作答方式改成線上作答，改起來就會相當地方便。想請你模擬一下改一題選擇題的程式碼。\n",
        "\n",
        "\n",
        "Input\n",
        "輸入為兩行，第一行為正確解答的選項，第二行為同學的答案。\n",
        "\n",
        "\n",
        "Output\n",
        "輸出為一行，若同學的答案與正確答案相同請輸出 True，否則請輸出 False。"
      ],
      "metadata": {
        "id": "1tRxWRZu7fcw"
      }
    },
    {
      "cell_type": "code",
      "source": [
        "corrent_ans = input()\n",
        "ans = input()\n",
        "print(corrent_ans == ans)"
      ],
      "metadata": {
        "colab": {
          "base_uri": "https://localhost:8080/"
        },
        "id": "5gTw12Kl7glP",
        "outputId": "9c8a44f7-c51b-4dc0-abc1-c14bd3f00938"
      },
      "execution_count": null,
      "outputs": [
        {
          "output_type": "stream",
          "name": "stdout",
          "text": [
            "C\n",
            "C\n",
            "True\n"
          ]
        }
      ]
    },
    {
      "cell_type": "markdown",
      "source": [
        "#5-3] 阿能寫作文\n",
        "\n",
        "---\n",
        "\n",
        "\n",
        "Description\n",
        "\n",
        "此題為填空題。\n",
        "\n",
        "阿能文筆很不好，每次寫作文都都要善用各種標點符號幫忙湊篇幅。像底下那個例子：\n",
        "\n",
        "s1 = \"I Have a Dream\"\n",
        "\n",
        "s2 = \"是1960年代的美國黑人民權運動領袖馬丁·路德·金恩博士一場極為著名演講的稱呼\"\n",
        "\n",
        "阿能希望寫的時候，可以用雙引號包住字串 s1 ，之後再與字串 s2 串接在一起。這樣就可以多 2 格的篇幅了！\n",
        "\n",
        "\n",
        "Input\n",
        "此題無輸入。\n",
        "\n",
        "\n",
        "Output\n",
        "輸出為 1 行，請輸出第一個字串加上雙引號後，與第二個字串串接的結果"
      ],
      "metadata": {
        "id": "8Toytw-I7ljz"
      }
    },
    {
      "cell_type": "code",
      "source": [
        "s1 = \"I Have a Dream\"\n",
        "s2 = \"是1960年代的美國黑人民權運動領袖馬丁·路德·金恩博士一場極為著名演講的主題\"\n",
        "\n",
        "# 字串串接\n",
        "s = \"\\\"\" + s1 + \"\\\"\" + s2\n",
        "\n",
        "# 輸出\n",
        "print(s)\n",
        "# 輸出結果應為: \"I Have a Dream\"是1960年代的美國黑人民權運動領袖馬丁·路德·金恩博士一場極為著名演講的主題"
      ],
      "metadata": {
        "colab": {
          "base_uri": "https://localhost:8080/"
        },
        "id": "a7fHhBbP7oJ7",
        "outputId": "a946de98-f366-49bf-b314-fe16199999cd"
      },
      "execution_count": null,
      "outputs": [
        {
          "output_type": "stream",
          "name": "stdout",
          "text": [
            "\"I Have a Dream\"是1960年代的美國黑人民權運動領袖馬丁·路德·金恩博士一場極為著名演講的主題\n"
          ]
        }
      ]
    },
    {
      "cell_type": "markdown",
      "source": [
        "#[5-3] 破解密碼\n",
        "\n",
        "---\n",
        "\n",
        "\n",
        "Description\n",
        "\n",
        "cc 怪盜喜歡破解別人的密碼盜取收藏的寶物，最近得知一家人的密碼鎖有個 bug，要解鎖的話一開始會秀出一段字串，要立馬輸入字串的長度，否則裡面的寶物就會自動被銷毀。\n",
        "\n",
        "\n",
        "Input\n",
        "輸入為 1 個字串。\n",
        "\n",
        "\n",
        "Output\n",
        "輸出為 1 個整數，請輸出字串的長度"
      ],
      "metadata": {
        "id": "rzfwXIid7uT0"
      }
    },
    {
      "cell_type": "code",
      "source": [
        "s = input()\n",
        "print(len(s))"
      ],
      "metadata": {
        "colab": {
          "base_uri": "https://localhost:8080/"
        },
        "id": "BtRuTYHr7yMq",
        "outputId": "8380ba56-61a3-40b2-a7ff-b22a2e01d4ac"
      },
      "execution_count": null,
      "outputs": [
        {
          "output_type": "stream",
          "name": "stdout",
          "text": [
            "大大大優惠!\n",
            "6\n"
          ]
        }
      ]
    },
    {
      "cell_type": "markdown",
      "source": [
        "#[5-3] 設計密碼\n",
        "\n",
        "---\n",
        "\n",
        "\n",
        "Description\n",
        "\n",
        "經過 cc 盜賊的洗劫後，設計密碼鎖的鎖匠很不服氣，決定再設計一個密碼鎖跟 cc 盜賊一決高下。鎖匠設計的密碼規則是取字串奇數位的字元成為密碼提示，可以請你幫年邁的鎖匠寫密碼提示的程式碼嗎？\n",
        "\n",
        "\n",
        "Input\n",
        "輸入為 1 個字串，表最終密碼。\n",
        "\n",
        "\n",
        "Output\n",
        "輸出為 1 個字串，表處理過後的密碼提示。"
      ],
      "metadata": {
        "id": "hVXdMRcR72dF"
      }
    },
    {
      "cell_type": "code",
      "source": [
        "s = input()\n",
        "print(s[0::2])"
      ],
      "metadata": {
        "colab": {
          "base_uri": "https://localhost:8080/"
        },
        "id": "bs9q31vI712-",
        "outputId": "bd6a52c7-6527-4d77-f9a6-f21b095cbc27"
      },
      "execution_count": null,
      "outputs": [
        {
          "output_type": "stream",
          "name": "stdout",
          "text": [
            "I love programming\n",
            "Ilv rgamn\n"
          ]
        }
      ]
    },
    {
      "cell_type": "markdown",
      "source": [
        "#[5-4] n 倍的數字與字串\n",
        "\n",
        "---\n",
        "\n",
        "\n",
        "Description\n",
        "\n",
        "輸入為整數 n 及整數 number，請輸出 number 數值上 n 倍的值，與字串上 n 倍的值。\n",
        "\n",
        "舉例來說，若 n 為 3，number 為 10，則 number 數值上的 n 倍為 10*3=30，字串上的 n 倍為 101010。\n",
        "\n",
        "\n",
        "Input\n",
        "輸入為兩行，第一行為整數 n ，第二行為整數 number。\n",
        "\n",
        "\n",
        "Output\n",
        "輸出為兩行。\n",
        "\n",
        "第一行為數字 number 數值上的 n 倍，此輸出的資料型態將為 int。\n",
        "\n",
        "第二行為數字 number 字串上的 n 倍，此輸出的資料型態將為 string。"
      ],
      "metadata": {
        "id": "B1P2jHuM8CQS"
      }
    },
    {
      "cell_type": "code",
      "source": [
        "n = input()\n",
        "number = input()\n",
        "# 請接續作答\n",
        "print(int(n)*int(number))\n",
        "print(number*int(n))"
      ],
      "metadata": {
        "colab": {
          "base_uri": "https://localhost:8080/"
        },
        "id": "viQIh9JE8D1-",
        "outputId": "c85f7eae-8a9b-4757-9e7b-9c5fd94523d1"
      },
      "execution_count": null,
      "outputs": [
        {
          "output_type": "stream",
          "name": "stdout",
          "text": [
            "3\n",
            "777\n",
            "2331\n",
            "777777777\n"
          ]
        }
      ]
    },
    {
      "cell_type": "markdown",
      "source": [
        "#[5-4] 小明跟哥哥差幾歲\n",
        "Description\n",
        "\n",
        "---\n",
        "\n",
        "\n",
        "\n",
        "給定小明和哥哥今年的年紀，請以範例形式輸出小明跟哥哥的歲數差\n",
        "\n",
        "\n",
        "Input\n",
        "輸入為兩行，第一行為小明今年的年紀，第二行為小明哥哥今年的年紀。\n",
        "\n",
        "\n",
        "Output\n",
        "輸出為一行，請輸出小明和哥哥差幾歲(已知小明和哥哥一定差 2 歲以上)。"
      ],
      "metadata": {
        "id": "CrtCPL0o8JhK"
      }
    },
    {
      "cell_type": "code",
      "source": [
        "y1 = int(input())\n",
        "y2 = int(input())\n",
        "y_diff = y2 - y1\n",
        "print(f'They are {y_diff} years apart.')"
      ],
      "metadata": {
        "colab": {
          "base_uri": "https://localhost:8080/"
        },
        "id": "mRZI3ol88NKb",
        "outputId": "5f6bfda0-19ad-4b79-b8eb-e2c3579797b4"
      },
      "execution_count": null,
      "outputs": [
        {
          "output_type": "stream",
          "name": "stdout",
          "text": [
            "9\n",
            "14\n",
            "They are 5 years apart.\n"
          ]
        }
      ]
    },
    {
      "cell_type": "markdown",
      "source": [
        "#[5-4] 3 的倍數\n",
        "\n",
        "---\n",
        "\n",
        "\n",
        "Description\n",
        "\n",
        "給定一個正整數，請試著判斷該整數是否為 3 的倍數，如果是 3 的倍數輸出 True，不是則輸出 False。\n",
        "\n",
        "\n",
        "Input\n",
        "輸入為一行，為一個正整數。\n",
        "\n",
        "\n",
        "Output\n",
        "輸出為一行，為一布林值，如果是 3 的倍數輸出 True，不是則輸出 False。"
      ],
      "metadata": {
        "id": "BSYgmv9W8Q0r"
      }
    },
    {
      "cell_type": "code",
      "source": [
        "n = int(input())\n",
        "print(n%3==0)"
      ],
      "metadata": {
        "colab": {
          "base_uri": "https://localhost:8080/"
        },
        "id": "lIElRubc8STp",
        "outputId": "f91613b6-b728-4aef-9361-2e7bd126607b"
      },
      "execution_count": null,
      "outputs": [
        {
          "output_type": "stream",
          "name": "stdout",
          "text": [
            "10\n",
            "False\n"
          ]
        }
      ]
    },
    {
      "cell_type": "markdown",
      "source": [
        "#[5-5] 祝福語\n",
        "\n",
        "---\n",
        "\n",
        "\n",
        "Description\n",
        "\n",
        "此題為填空題。\n",
        "\n",
        "小明喜歡將祝福語全寫成大寫，但他用手機覺得很不好打，可以請你幫他解決這個問題嗎？\n",
        "\n",
        "\n",
        "Input\n",
        "輸入為一行，為想寫的一個祝福語字串。\n",
        "\n",
        "\n",
        "Output\n",
        "輸出為一行，為全大寫的祝福語。"
      ],
      "metadata": {
        "id": "XEaJE2OQ8e_b"
      }
    },
    {
      "cell_type": "code",
      "source": [
        "# 輸入祝福語\n",
        "s = input()\n",
        "\n",
        "# 轉換字串大寫\n",
        "s_upper = s.upper()\n",
        "\n",
        "# 輸出結果\n",
        "print(s_upper)"
      ],
      "metadata": {
        "colab": {
          "base_uri": "https://localhost:8080/"
        },
        "id": "nVNhA5N08hZK",
        "outputId": "8cbb7680-1a34-4211-ac75-470602d0569e"
      },
      "execution_count": null,
      "outputs": [
        {
          "output_type": "stream",
          "name": "stdout",
          "text": [
            "merry christmas\n",
            "MERRY CHRISTMAS\n"
          ]
        }
      ]
    },
    {
      "cell_type": "markdown",
      "source": [
        "#[5-5] 標記關鍵字\n",
        "\n",
        "---\n",
        "\n",
        "\n",
        "Description\n",
        "\n",
        "此題為填空題。\n",
        "\n",
        "輸入一個關鍵字與一個字串，請在字串中找到關鍵字，並以雙引號(\")標記起來。\n",
        "\n",
        "\n",
        "Input\n",
        "輸入有兩行，第一行為一個關鍵字，第二行為待處理字串。\n",
        "\n",
        "\n",
        "Output\n",
        "輸出為一行，請輸出標記過關鍵字的字串。"
      ],
      "metadata": {
        "id": "Ym7vgPSK8lqh"
      }
    },
    {
      "cell_type": "code",
      "source": [
        "# 輸入關鍵字與\n",
        "keyword = input()\n",
        "text = input()\n",
        "\n",
        "# 標記關鍵字\n",
        "marked_text = text.replace(keyword, '\\\"'+keyword+'\\\"')\n",
        "\n",
        "# 輸出結果\n",
        "print(marked_text)"
      ],
      "metadata": {
        "colab": {
          "base_uri": "https://localhost:8080/"
        },
        "id": "0gGhjdlj8m19",
        "outputId": "776f283f-222d-46aa-ac37-056883c36ad2"
      },
      "execution_count": null,
      "outputs": [
        {
          "output_type": "stream",
          "name": "stdout",
          "text": [
            "像極了愛情\n",
            "曖昧上頭的那幾秒，像極了愛情\n",
            "曖昧上頭的那幾秒，\"像極了愛情\"\n"
          ]
        }
      ]
    },
    {
      "cell_type": "markdown",
      "source": [
        "#[5-5] 購物清單\n",
        "\n",
        "---\n",
        "\n",
        "\n",
        "Description\n",
        "\n",
        "媽媽請大雄幫忙出去買東西，但媽媽的購物清單是臨時用手機打的，大雄喜歡看的是串列的格式，而且買完之後還可以直接用串列的功能把物品從購物清單中去除，可以請你幫忙把媽媽的購物清單格式轉換成串列嗎？\n",
        "\n",
        "\n",
        "Input\n",
        "輸入為一行，為媽媽的購物清單，物品間以逗號(,)作為間隔。\n",
        "\n",
        "\n",
        "Output\n",
        "輸出為一行，為購物清單的串列。"
      ],
      "metadata": {
        "id": "EAhWYz6H8slA"
      }
    },
    {
      "cell_type": "code",
      "source": [
        "s = input().split(',')\n",
        "print(list(s))"
      ],
      "metadata": {
        "colab": {
          "base_uri": "https://localhost:8080/"
        },
        "id": "8Vq1fRGA8t0z",
        "outputId": "daccad49-1cd4-49b4-c740-acd12686ec49"
      },
      "execution_count": null,
      "outputs": [
        {
          "output_type": "stream",
          "name": "stdout",
          "text": [
            "紅蘿蔔,高麗菜,菠菜,醬油,銅鑼燒\n",
            "['紅蘿蔔', '高麗菜', '菠菜', '醬油', '銅鑼燒']\n"
          ]
        }
      ]
    },
    {
      "cell_type": "markdown",
      "source": [
        "#[5-綜合] 乘法運算\n",
        "\n",
        "---\n",
        "\n",
        "\n",
        "Description\n",
        "\n",
        "輸入一個乘法算式，其中兩個數皆為兩位數，且乘號兩邊各保留一個空格，請輸出計算後的結果。\n",
        "\n",
        "\n",
        "Input\n",
        "輸入為 1 行，為一個乘法算式，算式的格式如題目敘述。\n",
        "\n",
        "\n",
        "Output\n",
        "輸出為 1 行，為乘法運算後的結果。"
      ],
      "metadata": {
        "id": "p6X9tjzF8y3N"
      }
    },
    {
      "cell_type": "code",
      "source": [
        "s = input().split(' * ')\n",
        "print(int(s[0])*int(s[1]))"
      ],
      "metadata": {
        "colab": {
          "base_uri": "https://localhost:8080/"
        },
        "id": "DqwI-vXX8ymW",
        "outputId": "f2a9ba96-6071-4261-e48c-cf2581727e44"
      },
      "execution_count": null,
      "outputs": [
        {
          "output_type": "stream",
          "name": "stdout",
          "text": [
            "12 * 12\n",
            "144\n"
          ]
        }
      ]
    },
    {
      "cell_type": "markdown",
      "source": [
        "#[5-綜合] 到站時間 (*)\n",
        "\n",
        "---\n",
        "\n",
        "\n",
        "Description\n",
        "\n",
        "輸入火車的出發時間與行駛時間，請輸出火車的到站時間。時間的格式固定為 24 小時制，個位數字前面不用補零。\n",
        "\n",
        "\n",
        "Input\n",
        "輸入為兩行，第一行為火車出發時間，格式為 hh:mm；第二行為行駛時間，固定以分鐘為單位。\n",
        "\n",
        "\n",
        "Output\n",
        "輸出為一行，請輸出火車到站時間，格式為 小時:分鐘。"
      ],
      "metadata": {
        "id": "q1kfc-AQ871j"
      }
    },
    {
      "cell_type": "code",
      "source": [
        "h,m = map(int,input().split(':'))\n",
        "t = int(input()) #min\n",
        "\n",
        "M = (m + t) % 60\n",
        "H = (h + (m + t)//60) % 24\n",
        "\n",
        "print(f'{H}:{M}')"
      ],
      "metadata": {
        "colab": {
          "base_uri": "https://localhost:8080/"
        },
        "id": "yOgx0f8Z8681",
        "outputId": "86a4853f-be40-42f4-af75-1e7c9b5e3c40"
      },
      "execution_count": null,
      "outputs": [
        {
          "output_type": "stream",
          "name": "stdout",
          "text": [
            "15:32\n",
            "37\n",
            "16:9\n"
          ]
        }
      ]
    },
    {
      "cell_type": "markdown",
      "source": [
        "#[5-綜合] cc 文字獄\n",
        "\n",
        "---\n",
        "\n",
        "\n",
        "Description\n",
        "\n",
        "cc 為了適當管理網路上不必要的仇恨言論，將一些字列為禁字。若有人不小心使用了禁字，系統會以星號(*)完全代替禁字，回傳禁字處理後的結果。\n",
        "\n",
        "\n",
        "Input\n",
        "輸入為兩行，第一行為禁字，第二行為待處理字串。\n",
        "\n",
        "\n",
        "Output\n",
        "輸出為一行，請輸出原字串與處理後的字串，兩字串間以等號作為間隔。"
      ],
      "metadata": {
        "id": "T-2n6RdJ9IKQ"
      }
    },
    {
      "cell_type": "code",
      "source": [
        "inhi_words = input()\n",
        "text = input()\n",
        "print(text.replace(inhi_words,'*'*len(inhi_words)))"
      ],
      "metadata": {
        "colab": {
          "base_uri": "https://localhost:8080/"
        },
        "id": "jdtaq9zZ9Lih",
        "outputId": "7c605676-3ad4-44f8-fcc5-7a88c43e6a29"
      },
      "execution_count": null,
      "outputs": [
        {
          "output_type": "stream",
          "name": "stdout",
          "text": [
            "小熊維尼\n",
            "小熊維尼是艾倫·亞歷山大·米恩為他的兒子創作的一隻熊造型卡通形象\n",
            "****是艾倫·亞歷山大·米恩為他的兒子創作的一隻熊造型卡通形象\n"
          ]
        }
      ]
    },
    {
      "cell_type": "markdown",
      "source": [
        "#[6-1] 小明上學去\n",
        "\n",
        "---\n",
        "\n",
        "\n",
        "Description\n",
        "\n",
        "本題為填空題。\n",
        "\n",
        "小明今年 15 歲，明天第一天上高中，請幫小明建立三個串列，分別紀錄小明的基本資料、明天要上的課程以及書包裡的東西。\n",
        "\n",
        "第一個串列命名為 student，紀錄小明的基本資料包括姓名及年紀，請依序存入 2 個物件包括：小明、15 (資料型態為int)\n",
        "第二個串列命名為 course，紀錄明天要上的課程，請依序存入 4 個物件包括：國文、體育、美術、物理\n",
        "第三個串列命名為 bag，紀錄書包裡的東西，請依序存入 3 個物件包括：book、pencil box、breakfast\n",
        "\n",
        "Input\n",
        "此題無輸入。\n",
        "\n",
        "\n",
        "Output\n",
        "輸出為三個串列。"
      ],
      "metadata": {
        "id": "e2FQ5_JF9StP"
      }
    },
    {
      "cell_type": "code",
      "source": [
        "student = ['小明', 15]\n",
        "course = ['國文', '體育', '美術', '物理']\n",
        "bag = ['book', 'pencil box', 'breakfast']\n",
        "\n",
        "print(student)\n",
        "print(course)\n",
        "print(bag)"
      ],
      "metadata": {
        "colab": {
          "base_uri": "https://localhost:8080/"
        },
        "id": "1QTBqfOm9WbU",
        "outputId": "3e6155cd-d4a9-4668-dd21-a9a4871822df"
      },
      "execution_count": null,
      "outputs": [
        {
          "output_type": "stream",
          "name": "stdout",
          "text": [
            "['小明', 15]\n",
            "['國文', '體育', '美術', '物理']\n",
            "['book', 'pencil box', 'breakfast']\n"
          ]
        }
      ]
    },
    {
      "cell_type": "markdown",
      "source": [
        "#[6-1] 建立串列\n",
        "\n",
        "---\n",
        "\n",
        "\n",
        "Description\n",
        "\n",
        "串列可以存放各種型態的資料，請建立一個串列命名為 my_list，並於串列中依序存放以下資料：\"Python\"、\"/程式語言/\"、2021、3.1415、True、[\"Dog\", \"Cat\", \"Elephant\"]。\n",
        "\n",
        "\n",
        "Input\n",
        "此題無輸入。\n",
        "\n",
        "\n",
        "Output\n",
        "輸出為一個串列。"
      ],
      "metadata": {
        "id": "Ka7GRgDt9atR"
      }
    },
    {
      "cell_type": "code",
      "source": [
        "# your code here\n",
        "my_list = ['Python', '/程式語言/', 2021, 3.1415, True, ['Dog', 'Cat', 'Elephant']]\n",
        "print(my_list)"
      ],
      "metadata": {
        "colab": {
          "base_uri": "https://localhost:8080/"
        },
        "id": "uaL_WTjo9cwT",
        "outputId": "201fac12-966a-4c17-98cb-4eae17c10856"
      },
      "execution_count": null,
      "outputs": [
        {
          "output_type": "stream",
          "name": "stdout",
          "text": [
            "['Python', '/程式語言/', 2021, 3.1415, True, ['Dog', 'Cat', 'Elephant']]\n"
          ]
        }
      ]
    },
    {
      "cell_type": "markdown",
      "source": [
        "#[6-1] 世界地圖\n",
        "\n",
        "---\n",
        "\n",
        "\n",
        "Description\n",
        "\n",
        "已給定兩個串列分別為 Asia 和 Europe，請複製 Asia 串列並命名為 Asia_copy，以及複製 Europe 串列並命名為 Europe_copy。\n",
        "\n",
        "新增一個串列名為 America，America串列內包含以下物件：\"USA\"、\"Canada\"、\"Mexico\"。\n",
        "\n",
        "接著新增一個串列名為 World，World 中依序放入 Asia_copy、Europe_copy、America 這三個物件。\n",
        "\n",
        "\n",
        "Input\n",
        "此題無輸入。\n",
        "\n",
        "\n",
        "Output\n",
        "輸出為三個串列，依序為Asia_copy、Europe_copy、World。"
      ],
      "metadata": {
        "id": "KLJMxja29g4E"
      }
    },
    {
      "cell_type": "code",
      "source": [
        "Asia = ['Taiwan', 'Japan', 'Korea', 'Singapore', 'India']\n",
        "Europe = ['French', 'Italy', 'England', 'Germany', 'Austria']\n",
        "\n",
        "# your code here\n",
        "Asia_copy = Asia.copy()\n",
        "Europe_copy = Europe.copy()\n",
        "America = ['USA', 'Canada', 'Mexico']\n",
        "World = [Asia_copy,Europe_copy,America]\n",
        "\n",
        "print(Asia_copy)\n",
        "print(Europe_copy)\n",
        "print(World)"
      ],
      "metadata": {
        "colab": {
          "base_uri": "https://localhost:8080/"
        },
        "id": "T3Quaeg49iyp",
        "outputId": "d7b084b2-d3e7-48bd-c76b-cb6152d9ec2b"
      },
      "execution_count": null,
      "outputs": [
        {
          "output_type": "stream",
          "name": "stdout",
          "text": [
            "['Taiwan', 'Japan', 'Korea', 'Singapore', 'India']\n",
            "['French', 'Italy', 'England', 'Germany', 'Austria']\n",
            "[['Taiwan', 'Japan', 'Korea', 'Singapore', 'India'], ['French', 'Italy', 'England', 'Germany', 'Austria'], ['USA', 'Canada', 'Mexico']]\n"
          ]
        }
      ]
    },
    {
      "cell_type": "markdown",
      "source": [
        "#[6-2] 操作串列-1\n",
        "\n",
        "---\n",
        "\n",
        "\n",
        "Description\n",
        "\n",
        "此題為填空題。\n",
        "\n",
        "已知 num_lst 為一串列，該串列內都是數字。\n",
        "\n",
        "請計算該串列中總共有幾個物件，以及該串列中 0 的數量。\n",
        "\n",
        "\n",
        "Input\n",
        "輸入為 5 個數字以逗號分隔，經轉換後為一串列。。\n",
        "\n",
        "\n",
        "Output\n",
        "輸出有兩行，第一行為該串列中總共有幾個物件，第二行為該串列中 0 的數量。"
      ],
      "metadata": {
        "id": "Hn3Ex1OV9n0F"
      }
    },
    {
      "cell_type": "code",
      "source": [
        "num_lst = [int(i) for i in input().split(\",\")]\n",
        "\n",
        "print(len(num_lst))\n",
        "print(num_lst.count(0))"
      ],
      "metadata": {
        "colab": {
          "base_uri": "https://localhost:8080/"
        },
        "id": "Lkv8P_sw9zZH",
        "outputId": "9a8b026f-4557-4e17-8965-31177ea53348"
      },
      "execution_count": null,
      "outputs": [
        {
          "output_type": "stream",
          "name": "stdout",
          "text": [
            "1,2,3,4,5\n",
            "5\n",
            "0\n"
          ]
        }
      ]
    },
    {
      "cell_type": "markdown",
      "source": [
        "#[6-2] 串列操作-2\n",
        "\n",
        "---\n",
        "\n",
        "\n",
        "Description\n",
        "\n",
        "已知 my_lst 為一串列，該串列所包含的物件數量將大於 5 個。\n",
        "\n",
        "輸出共有三行：\n",
        "\n",
        "請輸出該串列中，第 1 個物件\n",
        "取出該串列中第 2 個到第 5 個物件，以串列的型態輸出\n",
        "請輸出該串列中最後一個物件\n",
        "\n",
        "Input\n",
        "輸入為一行包含數個字串以逗號分隔，經轉換後為一串列。\n",
        "\n",
        "\n",
        "Output\n",
        "輸出有三行。\n",
        "\n",
        "第一行為該串列中，第 1 個物件。\n",
        "\n",
        "第二行為該串列中第 2 個到第 5 個物件，以串列的型態輸出。\n",
        "\n",
        "第三行為該串列中最後一個物件。"
      ],
      "metadata": {
        "id": "2LuyF0js97YM"
      }
    },
    {
      "cell_type": "code",
      "source": [
        "my_lst = input().split(\",\")\n",
        "print(my_lst[0])\n",
        "print(my_lst[1:5])\n",
        "print(my_lst[-1])"
      ],
      "metadata": {
        "colab": {
          "base_uri": "https://localhost:8080/"
        },
        "id": "OMbm9vka99j_",
        "outputId": "3093ded4-29bc-4030-fe90-268f8228a7f5"
      },
      "execution_count": null,
      "outputs": [
        {
          "output_type": "stream",
          "name": "stdout",
          "text": [
            "1,2,3,4,5,6,7\n",
            "1\n",
            "['2', '3', '4', '5']\n",
            "7\n"
          ]
        }
      ]
    },
    {
      "cell_type": "markdown",
      "source": [
        "#[6-2] 串列操作-3\n",
        "\n",
        "---\n",
        "\n",
        "\n",
        "Description\n",
        "\n",
        "已知 my_lst 為一串列，保證不為空串列。請依照以下指令操作並輸出，輸出共有兩行：\n",
        "\n",
        "將該串列反轉\n",
        "反轉後，移除串列中的第一個物件，並輸出\n",
        "將剛才移除的物件輸出\n",
        "\n",
        "Input\n",
        "輸入為一行包含數個字串以逗號分隔，經轉換後為一串列。\n",
        "\n",
        "\n",
        "Output\n",
        "輸出有兩行。\n",
        "\n",
        "第一行為一串列，第二行為一字串。"
      ],
      "metadata": {
        "id": "GyNy8CvM-CvB"
      }
    },
    {
      "cell_type": "code",
      "source": [
        "#c,c,c,l,u,b\n",
        "'''\n",
        "['u', 'l', 'c', 'c', 'c']\n",
        "b\n",
        "'''\n",
        "my_lst = input().split(\",\")\n",
        "my_lst.reverse()\n",
        "\n",
        "R = my_lst.pop(0)\n",
        "\n",
        "if R == []:\n",
        "    print(my_lst)\n",
        "else:\n",
        "    print(my_lst)\n",
        "    print(R)"
      ],
      "metadata": {
        "colab": {
          "base_uri": "https://localhost:8080/"
        },
        "id": "ThK-yyEh-EjW",
        "outputId": "70865cf5-7505-4b66-c6c3-ebd64b6ab53d"
      },
      "execution_count": null,
      "outputs": [
        {
          "output_type": "stream",
          "name": "stdout",
          "text": [
            "Python\n",
            "[]\n",
            "Python\n"
          ]
        }
      ]
    },
    {
      "cell_type": "markdown",
      "source": [
        "#[6-綜合] 複製串列\n",
        "\n",
        "---\n",
        "\n",
        "\n",
        "Description\n",
        "\n",
        "給定一個串列 lst = ['a', 'b', 'c', 'd']。\n",
        "\n",
        "請複製串列 lst 並命名為 lst_copy，並將 lst 中的第一個及最後一個物件依序加入 lst_copy 的最後方。\n",
        "\n",
        "最後輸出為兩行，第一行為原串列 lst，第二行為經過上述處理後的串列 lst_copy。\n",
        "\n",
        "\n",
        "Input\n",
        "此題無輸入。\n",
        "\n",
        "\n",
        "Output\n",
        "輸出為兩個串列。"
      ],
      "metadata": {
        "id": "-tZ5bydq-Tw2"
      }
    },
    {
      "cell_type": "code",
      "source": [
        "lst = ['a', 'b', 'c', 'd']\n",
        "lst_copy = lst.copy()\n",
        "# your code here\n",
        "  \n",
        "lst_copy += [lst[0],lst[-1]]\n",
        "\n",
        "print(lst)\n",
        "print(lst_copy)"
      ],
      "metadata": {
        "colab": {
          "base_uri": "https://localhost:8080/"
        },
        "id": "Ubh6rdLk-VY-",
        "outputId": "4b4a4cab-6e1e-444b-e674-2e18f55543e6"
      },
      "execution_count": null,
      "outputs": [
        {
          "output_type": "stream",
          "name": "stdout",
          "text": [
            "['a', 'b', 'c', 'd']\n",
            "['a', 'b', 'c', 'd', 'a', 'd']\n"
          ]
        }
      ]
    },
    {
      "cell_type": "markdown",
      "source": [
        "#[6-綜合] 取出特定物件\n",
        "\n",
        "---\n",
        "\n",
        "\n",
        "Description\n",
        "\n",
        "給定一個串列 lst = ['p', 'y', 't', 'h', 'o', 'n']\n",
        "\n",
        "取出該串列中，位在奇數位置的物件，並以串列形式輸出\n",
        "\n",
        "\n",
        "Input\n",
        "此題無輸入。\n",
        "\n",
        "\n",
        "Output\n",
        "輸出為一個串列。"
      ],
      "metadata": {
        "id": "j1INl7-H-Z-Q"
      }
    },
    {
      "cell_type": "code",
      "source": [
        "lst = ['p', 'y', 't', 'h', 'o', 'n']\n",
        "\n",
        "# your code here\n",
        "print(lst[0::2])"
      ],
      "metadata": {
        "colab": {
          "base_uri": "https://localhost:8080/"
        },
        "id": "u9I_Tihp-b6V",
        "outputId": "d3669c90-cb49-4c46-ec67-352d38c6cc4f"
      },
      "execution_count": null,
      "outputs": [
        {
          "output_type": "stream",
          "name": "stdout",
          "text": [
            "['p', 't', 'o']\n"
          ]
        }
      ]
    },
    {
      "cell_type": "markdown",
      "source": [
        "#[6-綜合] 小明的牛排館\n",
        "\n",
        "---\n",
        "\n",
        "\n",
        "Description\n",
        "\n",
        "想開牛排館的小明，正在準備他的菜單，你可以幫幫他嗎？\n",
        "\n",
        "小明想用一個名為 menu 的串列，把所有餐點存起來，目前 menu 中已經有了 \"bread\" 和 \"salad\" 兩樣食物。\n",
        "\n",
        "小明希望有豐富的前菜，請幫他在 \"bread\" 後加入 \"soup\"。\n",
        "接著將 \"steak\" 放在 menu 串列的最後。\n",
        "再將 dessert 串列中的所有食物都放進 menu 串列的最後。\n",
        "小明仔細想想覺得 \"chocolate\" 不適合放在菜單裡，請幫他移除。\n",
        "\n",
        "Input\n",
        "此題無輸入。\n",
        "\n",
        "\n",
        "Output\n",
        "輸出為一個串列，為小明牛排館的菜單。"
      ],
      "metadata": {
        "id": "P4uTSlEQ-fUW"
      }
    },
    {
      "cell_type": "code",
      "source": [
        "menu = [\"bread\", \"salad\"]\n",
        "dessert = [\"cake\", \"chocolate\"]\n",
        "\n",
        "# your code here\n",
        "menu.insert(1,\"soup\")\n",
        "menu += ['steak']\n",
        "menu.extend(dessert)\n",
        "menu.pop()\n",
        "  \n",
        "print(menu)\n"
      ],
      "metadata": {
        "colab": {
          "base_uri": "https://localhost:8080/"
        },
        "id": "t8gMb2sY-gY7",
        "outputId": "090e403b-eedf-4381-e3cb-122b003a83ac"
      },
      "execution_count": null,
      "outputs": [
        {
          "output_type": "stream",
          "name": "stdout",
          "text": [
            "['bread', 'soup', 'salad', 'steak', 'cake']\n"
          ]
        }
      ]
    },
    {
      "cell_type": "markdown",
      "source": [
        "#[7-1] 誰家的寵物\n",
        "\n",
        "---\n",
        "\n",
        "\n",
        "Description\n",
        "\n",
        "小明家養了3隻兔子，分別叫殘暴戰狼、伏特加、白金之星，這些兔子都知道自己的名字，所以他們只會在主人叫自己名字的時候有反應。\n",
        "\n",
        "\n",
        "Input\n",
        "輸入為 1 行，為主人叫的名字。\n",
        "\n",
        "\n",
        "Output\n",
        "輸出為 1 行，為有反應的兔子，如果都沒有反應就輸出「沒反應」。"
      ],
      "metadata": {
        "id": "kPJO7r0d-lka"
      }
    },
    {
      "cell_type": "code",
      "source": [
        "rabbit_name = ['殘暴戰狼','伏特加','白金之星']\n",
        "name_call = input()\n",
        "  \n",
        "if name_call not in rabbit_name:\n",
        "\tprint('沒反應')\n",
        "else:\n",
        "\tprint(name_call)"
      ],
      "metadata": {
        "colab": {
          "base_uri": "https://localhost:8080/"
        },
        "id": "7JnDR3SC-nAx",
        "outputId": "56d5c9c9-778f-40da-e3bc-c995e5b540e6"
      },
      "execution_count": null,
      "outputs": [
        {
          "output_type": "stream",
          "name": "stdout",
          "text": [
            "殺手皇后\n",
            "沒反應\n"
          ]
        }
      ]
    },
    {
      "cell_type": "markdown",
      "source": [
        "#[7-1] 小明出去玩\n",
        "\n",
        "---\n",
        "\n",
        "\n",
        "Description\n",
        "\n",
        "小明喜歡出去玩，但如果下雨的話，不論何種狀況他都選擇「自己在家玩」。\n",
        "\n",
        "如果沒有下雨，又有朋友陪的話，他就會「跟朋友出去玩」。\n",
        "\n",
        "如果沒有朋友的話，就會選擇「自己出去玩」。\n",
        "\n",
        "可能的天氣有 3 種: 晴天、陰天、雨天。\n",
        "\n",
        "\n",
        "Input\n",
        "輸入為 2 行，第 1 行為天氣，為晴天、陰天、雨天其中一種。\n",
        "\n",
        "第 2 行為有空的朋友數量，必定大於或等於0。\n",
        "\n",
        "\n",
        "Output\n",
        "輸出為 1 行，為小明要在哪裡玩，可能是「跟朋友出去玩」、「自己出去玩」、「自己在家玩」。"
      ],
      "metadata": {
        "id": "I2mK97mo-rs6"
      }
    },
    {
      "cell_type": "code",
      "source": [
        "weather = input()\n",
        "friends = int(input())\n",
        "\n",
        "if weather == '雨天':\n",
        "    print('自己在家玩')\n",
        "else:\n",
        "    if friends > 0:\n",
        "        print('跟朋友出去玩')\n",
        "    elif friends == 0:\n",
        "        print('自己出去玩')"
      ],
      "metadata": {
        "colab": {
          "base_uri": "https://localhost:8080/"
        },
        "id": "xKGi4UDM-s8i",
        "outputId": "bf3bb5b9-f8c1-45bc-ffb2-6f51beaf170c"
      },
      "execution_count": null,
      "outputs": [
        {
          "output_type": "stream",
          "name": "stdout",
          "text": [
            "陰天\n",
            "9\n",
            "跟朋友出去玩\n"
          ]
        }
      ]
    },
    {
      "cell_type": "markdown",
      "source": [
        "#[8-1] 和與階乘I\n",
        "\n",
        "---\n",
        "\n",
        "\n",
        "Description\n",
        "\n",
        "給定一個正整數 num，請試著用迴圈，計算出從正整數 1 到 整數 num 的和與乘積\n",
        "\n",
        "\n",
        "Input\n",
        "輸入為一行，為一個正整數 num\n",
        "\n",
        "\n",
        "Output\n",
        "輸出為兩行，第一行為整數 1 到整數 n 的和；第二行為整數 1 到整數 n 的乘積"
      ],
      "metadata": {
        "id": "0U3_Dzc0-yvF"
      }
    },
    {
      "cell_type": "code",
      "source": [
        "# input\n",
        "num = int(input())\n",
        "\n",
        "# calcuation\n",
        "summation = 0\n",
        "product = 1\n",
        "\n",
        "for n in range(1,num+1):\n",
        "\tsummation += n\n",
        "\tproduct *= n\n",
        "\n",
        "# output\n",
        "print(summation)\n",
        "print(product)"
      ],
      "metadata": {
        "colab": {
          "base_uri": "https://localhost:8080/"
        },
        "id": "jz7Dxkon-z5D",
        "outputId": "9786802b-ee15-4d8b-cdb3-63422a45afd4"
      },
      "execution_count": null,
      "outputs": [
        {
          "output_type": "stream",
          "name": "stdout",
          "text": [
            "4\n",
            "10\n",
            "24\n"
          ]
        }
      ]
    },
    {
      "cell_type": "markdown",
      "source": [
        "#[8-1] 閉區間 (*)\n",
        "\n",
        "---\n",
        "\n",
        "\n",
        "Description\n",
        "\n",
        "給定 n 個整數，請計算總共有多少個整數介於閉區間 [a, b] 之間（含 a 與 b）\n",
        "\n",
        "\n",
        "Input\n",
        "輸入為兩行，第一行為兩整數，為閉區間的下限 a 與上限 b，兩整數間以逗號作為間隔；\n",
        "\n",
        "第二行為數個整數，整數間以逗號作為間隔。\n",
        "\n",
        "\n",
        "Output\n",
        "輸出為一行，請輸出一個整數，表介於閉區間的整數個數"
      ],
      "metadata": {
        "id": "e9WW9o7i-9o9"
      }
    },
    {
      "cell_type": "code",
      "source": [
        "a,b = map(int,(input().split(',')))\n",
        "n = list(map(int,(input().split(','))))\n",
        "new_lst = [x for x in n if a <= x <= b]\n",
        "print(len(new_lst))"
      ],
      "metadata": {
        "colab": {
          "base_uri": "https://localhost:8080/"
        },
        "id": "hPRAQZ1w--_i",
        "outputId": "4b584bbd-bc58-42c2-83f2-e322f97abdb4"
      },
      "execution_count": null,
      "outputs": [
        {
          "output_type": "stream",
          "name": "stdout",
          "text": [
            "2,8\n",
            "7,4,1,8,3,11,6,2\n",
            "6\n"
          ]
        }
      ]
    },
    {
      "cell_type": "markdown",
      "source": [
        "#[8-1] 質數I (*)\n",
        "\n",
        "---\n",
        "\n",
        "\n",
        "Description\n",
        "\n",
        "給定一個正整數 n，請判斷此正整數是否為質數。若為質數請輸出 True，反之則輸出 False。\n",
        "\n",
        "\n",
        "Input\n",
        "輸入為一行，為一個正整數。\n",
        "\n",
        "\n",
        "Output\n",
        "輸出為一行，為一個布林值。"
      ],
      "metadata": {
        "id": "cvuxyF_4_L1j"
      }
    },
    {
      "cell_type": "code",
      "source": [
        "def isprime(n):\n",
        "\treturn all(n%i for i in range(2,int(n**0.5)+1))\n",
        "        \n",
        "n = int(input())\n",
        "print(isprime(n))"
      ],
      "metadata": {
        "colab": {
          "base_uri": "https://localhost:8080/"
        },
        "id": "3tcWJ4Ph_N65",
        "outputId": "c88ef828-55fc-4e0c-81ba-45db7f9af812"
      },
      "execution_count": null,
      "outputs": [
        {
          "output_type": "stream",
          "name": "stdout",
          "text": [
            "3\n",
            "True\n"
          ]
        }
      ]
    },
    {
      "cell_type": "markdown",
      "source": [
        "#[8-2] 和與階乘II\n",
        "\n",
        "---\n",
        "\n",
        "\n",
        "Description\n",
        "\n",
        "接續上一題 和與階乘I ，請試著用影片介紹的 while 迴圈，完成正整數 1 到 正整數 num 的和與乘積的計算吧！\n",
        "\n",
        "\n",
        "Input\n",
        "輸入為一行，為一個正整數 num。\n",
        "\n",
        "\n",
        "Output\n",
        "輸出為兩行，第一行為整數 1 到整數 n 的和；第二行為整數 1 到整數 n 的乘積。"
      ],
      "metadata": {
        "id": "dNrqwqGf_XUx"
      }
    },
    {
      "cell_type": "code",
      "source": [
        "# input\n",
        "num = int(input())\n",
        "\n",
        "summation, product = 0, 1\n",
        "n = 1\n",
        "while n <= num:\n",
        "\tsummation += n\n",
        "\tproduct *= n\n",
        "\tn += 1\n",
        "\n",
        "# output\n",
        "print(summation)\n",
        "print(product)"
      ],
      "metadata": {
        "colab": {
          "base_uri": "https://localhost:8080/"
        },
        "id": "erUI185l_Zq0",
        "outputId": "5ceb0348-09e0-46b2-be93-63decfc06fe8"
      },
      "execution_count": null,
      "outputs": [
        {
          "output_type": "stream",
          "name": "stdout",
          "text": [
            "4\n",
            "10\n",
            "24\n"
          ]
        }
      ]
    },
    {
      "cell_type": "markdown",
      "source": [
        "#[8-2] 二進位 (*)\n",
        "\n",
        "---\n",
        "\n",
        "\n",
        "Description\n",
        "\n",
        "給定一個十進位的正整數 n，請試著用 while loop 轉換二進位，並輸出最後的二進位結果。\n",
        "\n",
        "\n",
        "Input\n",
        "輸入為一個十進位的正整數 n。\n",
        "\n",
        "\n",
        "Output\n",
        "請輸出轉換成二進位後的結果。"
      ],
      "metadata": {
        "id": "cD2hO_3k_d0u"
      }
    },
    {
      "cell_type": "code",
      "source": [
        "# input\n",
        "n = int(input())\n",
        "print(bin(n)[2:])   #bin()內建二進位 會顯示'0b'+'result'\n",
        "print(bin(n))\n",
        "\n",
        "# transform\n",
        "res = ''\n",
        "while n > 0:\n",
        "\tres = str(n%2)+res\n",
        "\tn //=2\n",
        "\n",
        "# output\n",
        "print(res)"
      ],
      "metadata": {
        "colab": {
          "base_uri": "https://localhost:8080/"
        },
        "id": "ix6hNmNL_lL9",
        "outputId": "61786287-842e-464d-9d6a-329370d59296"
      },
      "execution_count": null,
      "outputs": [
        {
          "output_type": "stream",
          "name": "stdout",
          "text": [
            "5\n",
            "101\n",
            "0b101\n",
            "101\n"
          ]
        }
      ]
    },
    {
      "cell_type": "markdown",
      "source": [
        "#[8-2] 5 的倍數\n",
        "\n",
        "---\n",
        "\n",
        "\n",
        "Description\n",
        "\n",
        "給定一個正整數 n，請計算 5 的倍數中不小於正整數 n 的最小值。\n",
        "\n",
        "\n",
        "Input\n",
        "輸入為一行，為一個正整數 n。\n",
        "\n",
        "\n",
        "Output\n",
        "輸出為一行，請輸出一個正整數。"
      ],
      "metadata": {
        "id": "ezSpLPA3_shG"
      }
    },
    {
      "cell_type": "code",
      "source": [
        "n = int(input())\n",
        "  \n",
        "while n%5 != 0:\n",
        "    n += 1\n",
        "\n",
        "print(n)"
      ],
      "metadata": {
        "colab": {
          "base_uri": "https://localhost:8080/"
        },
        "id": "Qfbu-nqQ_uaO",
        "outputId": "d96bf65c-543c-4513-a209-311ba3cecac7"
      },
      "execution_count": null,
      "outputs": [
        {
          "output_type": "stream",
          "name": "stdout",
          "text": [
            "23\n",
            "25\n"
          ]
        }
      ]
    },
    {
      "cell_type": "markdown",
      "source": [
        "#[8-3] 質數II\n",
        "\n",
        "---\n",
        "\n",
        "\n",
        "Description\n",
        "\n",
        "接續上題 質數I ，請試著將這期教學影片中的 break ，加入迴圈中適當的位置。\n",
        "\n",
        "\n",
        "Input\n",
        "輸入為一行，為一個正整數。\n",
        "\n",
        "\n",
        "Output\n",
        "輸入為一行，為一個正整數。"
      ],
      "metadata": {
        "id": "kmc5AJw3_1Px"
      }
    },
    {
      "cell_type": "code",
      "source": [
        "n = int(input())\n",
        "for i in range(2,int(n**0.5)+1):\n",
        "\tif n%i == 0:\n",
        "\t    print(False)\n",
        "\t    break\n",
        "else:\n",
        "\tprint(True)"
      ],
      "metadata": {
        "colab": {
          "base_uri": "https://localhost:8080/"
        },
        "id": "iPpj0LGW_0ax",
        "outputId": "ccfbd470-6c8d-4ea2-b515-9d64d273ee6a"
      },
      "execution_count": null,
      "outputs": [
        {
          "output_type": "stream",
          "name": "stdout",
          "text": [
            "3\n",
            "True\n"
          ]
        }
      ]
    },
    {
      "cell_type": "markdown",
      "source": [
        "#[8-3] 阿能寫作文II (*)\n",
        "---\n",
        "\n",
        "\n",
        "Description\n",
        "\n",
        "阿能太常亂敲鍵盤了，不小心敲壞了鍵盤中的幾個鍵。所以在打作文時，常常會有幾個單字打不出來。可以請你幫阿能提前判斷，能夠完整打出幾個英文單字嗎？\n",
        "\n",
        "\n",
        "Input\n",
        "輸入為兩行，第一行為一個字串，皆為小寫英文字母；\n",
        "\n",
        "第二行為阿能作文中會用到的英文單字（單字可能會有大小寫），單字與單字間以空白為間隔。\n",
        "\n",
        "\n",
        "Output\n",
        "輸出為一行，為一個整數，請輸出阿能可以打出幾個英文單字。"
      ],
      "metadata": {
        "id": "y6YE8Z4lAerL"
      }
    },
    {
      "cell_type": "code",
      "source": [
        "broken_key = input()\n",
        "text = input().lower().split()\n",
        "count = 0\n",
        "for i in text:\n",
        "\tfor j in i:\n",
        "\t\tif j in list(broken_key):\n",
        "\t\t\tbreak\n",
        "\telse: #沒有break就到這\n",
        "\t\tcount += 1\n",
        "print(count)"
      ],
      "metadata": {
        "colab": {
          "base_uri": "https://localhost:8080/"
        },
        "id": "4jrs8FycAgkE",
        "outputId": "b5f09a16-2cf1-40fa-dc0e-7183cfd0441e"
      },
      "execution_count": null,
      "outputs": [
        {
          "output_type": "stream",
          "name": "stdout",
          "text": [
            "grop\n",
            "An apple a day keeps the doctor away\n",
            "5\n"
          ]
        }
      ]
    },
    {
      "cell_type": "code",
      "source": [
        "broken_keys = input()\n",
        "text = input().lower().split()\n",
        "\n",
        "res = [word for word in text if not set(word) & set(broken_keys)]\n",
        "    \n",
        "print(len(res))"
      ],
      "metadata": {
        "colab": {
          "base_uri": "https://localhost:8080/"
        },
        "id": "WLk3_XDCW-XT",
        "outputId": "7f329eaf-8f4b-442f-c5d3-1dfd41f385c5"
      },
      "execution_count": null,
      "outputs": [
        {
          "output_type": "stream",
          "name": "stdout",
          "text": [
            "grop\n",
            "An apple a day keeps the doctor away\n",
            "5\n"
          ]
        }
      ]
    },
    {
      "cell_type": "code",
      "source": [
        "broken_keys = input()\n",
        "text = input().lower().split()\n",
        "count = 0\n",
        "\n",
        "for word in text:\n",
        "  if not set(word) & set(broken_keys):\n",
        "    count += 1\n",
        "    \n",
        "print(count)"
      ],
      "metadata": {
        "colab": {
          "base_uri": "https://localhost:8080/"
        },
        "id": "Qd1yRDCkG1AF",
        "outputId": "3ec9d9e6-c2d7-471f-f811-64537d94ff3c"
      },
      "execution_count": null,
      "outputs": [
        {
          "output_type": "stream",
          "name": "stdout",
          "text": [
            "grop\n",
            "An apple a day keeps the doctor away\n",
            "5\n"
          ]
        }
      ]
    },
    {
      "cell_type": "markdown",
      "source": [
        "#[8-3] 單調遞增轉換\n",
        "\n",
        "---\n",
        "\n",
        "\n",
        "Description\n",
        "\n",
        "給定一個單調遞增(monotonically increasing)數列，請將數值相等的部分去除，只留下嚴格遞增的部分，並輸出最後嚴格遞增的數列。輸入為一行，包含數個整數，整數間以空白作為間隔。\n",
        "\n",
        "\n",
        "Input\n",
        "輸入為一行，包含數個整數，整數間以空白作為間隔。\n",
        "\n",
        "\n",
        "Output\n",
        "輸出為一行，為一個整數串列。"
      ],
      "metadata": {
        "id": "uxvtPfNhAnxD"
      }
    },
    {
      "cell_type": "code",
      "source": [
        "n = map(int,input().split())\n",
        "new_n = set(n)\n",
        "print(sorted(new_n))"
      ],
      "metadata": {
        "colab": {
          "base_uri": "https://localhost:8080/"
        },
        "id": "ibVpWiQSAqFe",
        "outputId": "fe69e341-3132-49a1-d101-ae0ba7b21ae3"
      },
      "execution_count": null,
      "outputs": [
        {
          "output_type": "stream",
          "name": "stdout",
          "text": [
            "1 1 1 2 5 8\n",
            "[1, 2, 5, 8]\n"
          ]
        }
      ]
    },
    {
      "cell_type": "markdown",
      "source": [
        "#[8-綜合] 嚴格遞增數列 (*)\n",
        "\n",
        "---\n",
        "\n",
        "\n",
        "Description\n",
        "\n",
        "給定一串整數數列，請判斷此串數列是否為一個嚴格遞增數列。\n",
        "\n",
        "\n",
        "Input\n",
        "輸入為一行，為一串整數數列，整數間以空格作為間隔。\n",
        "\n",
        "\n",
        "Output\n",
        "輸出為一行，若為嚴格遞增數列請輸出 True，反之則輸出 False。"
      ],
      "metadata": {
        "id": "gZUvjNeSAu8A"
      }
    },
    {
      "cell_type": "code",
      "source": [
        "#1、True\n",
        "def monotonically_increasing(n):\n",
        "\tnew_n = set(n)\n",
        "\treturn n == sorted(new_n)\n",
        "\n",
        "n = list(map(int,input().split()))\n",
        "print(monotonically_increasing(n))"
      ],
      "metadata": {
        "colab": {
          "base_uri": "https://localhost:8080/"
        },
        "id": "_wq8kB7WA6TE",
        "outputId": "6297deee-3cb7-4098-d8c5-6a66894a5305"
      },
      "execution_count": null,
      "outputs": [
        {
          "output_type": "stream",
          "name": "stdout",
          "text": [
            "1 2 9 4 13\n",
            "False\n"
          ]
        }
      ]
    },
    {
      "cell_type": "markdown",
      "source": [
        "#[8-綜合] 數列三胞胎 (**)\n",
        "\n",
        "---\n",
        "\n",
        "\n",
        "Description\n",
        "\n",
        "給定一正整數數列 nums ，請計算此數列中有幾組數字組合滿足以下條件：\n",
        "\n",
        "0 <= i < j < k <= len(nums) - 1\n",
        "nums[i] + nums[j] == nums[k]\n",
        "\n",
        "Input\n",
        "輸入為一行，包含 3 個以上的正整數，以空白作為間隔。\n",
        "\n",
        "\n",
        "Output\n",
        "輸出為一行，為一個整數。"
      ],
      "metadata": {
        "id": "4MAoyviRBHs3"
      }
    },
    {
      "cell_type": "code",
      "source": [
        "def count_ijksum(n):\n",
        "    count = 0\n",
        "    n_index = len(n)\n",
        "    for i in range(n_index):\n",
        "        for j in range(i+1,n_index):\n",
        "            for k in range(j+1,n_index):\n",
        "                if n[k] == n[i] + n[j]:\n",
        "                    count += 1\n",
        "    return count\n",
        "\n",
        "\n",
        "n = [int(i) for i in input().split()]\n",
        "print(count_ijksum(n))"
      ],
      "metadata": {
        "colab": {
          "base_uri": "https://localhost:8080/"
        },
        "id": "7hlrXaYrBJ9K",
        "outputId": "ad9923c2-5859-498b-a4d8-cd9084611f46"
      },
      "execution_count": null,
      "outputs": [
        {
          "output_type": "stream",
          "name": "stdout",
          "text": [
            "1 3 4 8 2 6\n",
            "2\n"
          ]
        }
      ]
    },
    {
      "cell_type": "markdown",
      "source": [
        "#[8-綜合] 挑選正整數相加\n",
        "\n",
        "---\n",
        "\n",
        "\n",
        "Description\n",
        "\n",
        "給定一整數數列，請計算其中正整數的總和。\n",
        "\n",
        "\n",
        "Input\n",
        "輸入為一行，包含數個整數，整數間以空白作為間隔。\n",
        "\n",
        "\n",
        "Output\n",
        "輸出為一行，為一個整數。"
      ],
      "metadata": {
        "id": "bq_70E6pB5fq"
      }
    },
    {
      "cell_type": "code",
      "source": [
        "n = map(int,input().split())\n",
        "print(sum(i for i in n if i > 0))"
      ],
      "metadata": {
        "colab": {
          "base_uri": "https://localhost:8080/"
        },
        "id": "3-BL9wmyB6wV",
        "outputId": "b2615a4b-5d12-4c7f-c679-9e097a68b0f7"
      },
      "execution_count": null,
      "outputs": [
        {
          "output_type": "stream",
          "name": "stdout",
          "text": [
            "1 5 3 -4 -9 7\n",
            "16\n"
          ]
        }
      ]
    },
    {
      "cell_type": "markdown",
      "source": [
        "#[9-1] 字串擷取 (*)\n",
        "\n",
        "---\n",
        "\n",
        "\n",
        "Description\n",
        "\n",
        "在進行自動化網路擷取資料的過程中，常常會遇到一串文字之中只有一部份是自己想要的，或是要把文字資料整理成表格的狀況。強強最近想要報名網路課程，如果課程額滿了就不能報名，課程的價格也是要考量的點，所以這些資料都需要記錄下來，舉例來說，他想要將'A課程 報名人數/招生人數/費用:60/100/600''B課程 報名人數/招生人數/費用:23/30/200'整理成字典{'A課程': [60, 100, '60%', '600'], 'B課程': [23, 30, '77%', '200']}其中，招生人數後面的百分比是報名的進度，100% 表示額滿。\n",
        "\n",
        "以下是他的程式碼，請將程式碼的錯誤去除。\n",
        "\n",
        "\n",
        "Input\n",
        "無。\n",
        "\n",
        "\n",
        "Output\n",
        "輸出為 1 行，為字典內容。"
      ],
      "metadata": {
        "id": "yDU6NVZrCAjO"
      }
    },
    {
      "cell_type": "code",
      "source": [
        "s = ['A課程 報名人數/招生人數/費用:60/100/600', 'B課程 報名人數/招生人數/費用:23/30/200']\n",
        "course = {}\n",
        "\n",
        "for i in range(len(s)):\n",
        "    sign_up_num = int(s[i].split(':')[1].split('/')[0])\n",
        "    admissions_num = int(s[i].split(':')[1].split('/')[1])\n",
        "    fee = s[i].split(':')[1].split('/')[2]  #改\n",
        "    schedule = str(round(sign_up_num / admissions_num * 100)) + '%' #改\n",
        "    course[s[i].split()[0]] = [sign_up_num, admissions_num, schedule, fee]\n",
        "    \n",
        "print(course)"
      ],
      "metadata": {
        "colab": {
          "base_uri": "https://localhost:8080/"
        },
        "id": "-7ZQrpdUCD-S",
        "outputId": "48042b40-446c-4d69-e247-d0ff2e0fa940"
      },
      "execution_count": null,
      "outputs": [
        {
          "output_type": "stream",
          "name": "stdout",
          "text": [
            "{'A課程': [60, 100, '60%', '600'], 'B課程': [23, 30, '77%', '200']}\n"
          ]
        }
      ]
    },
    {
      "cell_type": "markdown",
      "source": [
        "#[9-1] 移動平均\n",
        "\n",
        "---\n",
        "\n",
        "\n",
        "Description\n",
        "\n",
        "移動平均是一種將時間序列資料消除雜訊以看清趨勢的方法。強強想要計算給定串列中，n 個數值的移動平均，例如在串列 [1,2,3,4,5] 中，取 3 個數值的移動平均是 [2.0, 3.0, 4.0]；在串列 [9,8,7,6,5,4,3,2] 中，取 5 個數值的移動平均是 [7.0, 6.0, 5.0, 4.0]。但是不知道為什麼程式計算有問題，你可以幫幫他嗎？\n",
        "\n",
        "\n",
        "Input\n",
        "輸入為 2 行，第一行為要取的資料範圍。第二行為給定的串列。\n",
        "\n",
        "\n",
        "Output\n",
        "輸出為 1 行，為移動平均的串列。"
      ],
      "metadata": {
        "id": "4VqQumlbFcgV"
      }
    },
    {
      "cell_type": "code",
      "source": [
        "output = []\n",
        "n = int(input())\n",
        "data = [int(i) for i in input().replace('[', '').replace(']', '').split(',')]  #先移除[ > 在移除] >在,分開\n",
        "for i in range(len(data) - n + 1):\n",
        "  if n != 0:\n",
        "    output.append(sum(data[i : i+n]) / n)\n",
        "\n",
        "print(output)"
      ],
      "metadata": {
        "colab": {
          "base_uri": "https://localhost:8080/"
        },
        "id": "tVAb4mHHGSVO",
        "outputId": "8bcf7d5b-f52d-4dcb-9fed-576b386689c2"
      },
      "execution_count": null,
      "outputs": [
        {
          "output_type": "stream",
          "name": "stdout",
          "text": [
            "0\n",
            "[5,4,3,2,1]\n",
            "[]\n"
          ]
        }
      ]
    },
    {
      "cell_type": "markdown",
      "source": [
        "#[10-1] 音樂盒\n",
        "\n",
        "---\n",
        "\n",
        "\n",
        "Description\n",
        "\n",
        "有些函式沒有引數，也沒有回傳值，無論如何只要呼叫它就會執行固定行為。現在請實作一個函式hello，這個函式是只會輸出《我們這一家》主題曲「期待再相逢」前四句的音樂盒。本題只需實作函式，不用自行處理 input()。\n",
        "\n",
        "\n",
        "Input\n",
        "此函式沒有參數\n",
        "\n",
        "\n",
        "Output\n",
        "函式輸出 4 行字串"
      ],
      "metadata": {
        "id": "S8Ldn_WpHVxl"
      }
    },
    {
      "cell_type": "code",
      "source": [
        "def hello():\n",
        "  print('哈囉你好嗎',\n",
        "\t\t'衷心感謝',\n",
        "\t\t'珍重再見',\n",
        "\t\t'期待再相逢',sep='\\n')\n",
        "    \n",
        "hello()"
      ],
      "metadata": {
        "colab": {
          "base_uri": "https://localhost:8080/"
        },
        "id": "SV8qOnr9Hqz2",
        "outputId": "2857c383-ad09-41a8-9c3e-830e448ab9f3"
      },
      "execution_count": null,
      "outputs": [
        {
          "output_type": "stream",
          "name": "stdout",
          "text": [
            "哈囉你好嗎\n",
            "衷心感謝\n",
            "珍重再見\n",
            "期待再相逢\n"
          ]
        }
      ]
    },
    {
      "cell_type": "markdown",
      "source": [
        "#[10-1] 最大平方數\n",
        "\n",
        "---\n",
        "\n",
        "\n",
        "Description\n",
        "\n",
        "請實作一個函式square_check，這個函式會回傳小於參數 n 的最大的平方數（n 必定大於 0）。本題只需實作函式，不用自行處理 input()。\n",
        "\n",
        "\n",
        "Input\n",
        "輸入為一數字。\n",
        "\n",
        "\n",
        "Output\n",
        "函式在符合條件才有回傳值，型態為整數。"
      ],
      "metadata": {
        "id": "qIi7wy7sHxyy"
      }
    },
    {
      "cell_type": "code",
      "source": [
        "def square_check(x):\n",
        "    f = 1\n",
        "    while f**2 < x:\n",
        "      f += 1\n",
        "    return (f-1)**2\n",
        "\n",
        "n = int(input())\n",
        "square_check(n)"
      ],
      "metadata": {
        "colab": {
          "base_uri": "https://localhost:8080/"
        },
        "id": "Jtz6GG5HHzDg",
        "outputId": "b80885e3-81c2-4f97-9f2a-7108b1dd1959"
      },
      "execution_count": null,
      "outputs": [
        {
          "name": "stdout",
          "output_type": "stream",
          "text": [
            "50\n"
          ]
        },
        {
          "output_type": "execute_result",
          "data": {
            "text/plain": [
              "49"
            ]
          },
          "metadata": {},
          "execution_count": 23
        }
      ]
    },
    {
      "cell_type": "code",
      "source": [
        "def square_check(x):\n",
        "  for i in range(1,x):\n",
        "    if i**2 >= x:      \n",
        "      return (i-1)**2\n",
        "\n",
        "n = int(input())\n",
        "square_check(n)"
      ],
      "metadata": {
        "colab": {
          "base_uri": "https://localhost:8080/"
        },
        "id": "yyTllfL5N6lu",
        "outputId": "a01dc354-c8fe-44d1-e31a-603e99c71f73"
      },
      "execution_count": null,
      "outputs": [
        {
          "name": "stdout",
          "output_type": "stream",
          "text": [
            "10\n"
          ]
        },
        {
          "output_type": "execute_result",
          "data": {
            "text/plain": [
              "9"
            ]
          },
          "metadata": {},
          "execution_count": 101
        }
      ]
    },
    {
      "cell_type": "markdown",
      "source": [
        "#[10-1] 請維持社交距離\n",
        "\n",
        "---\n",
        "\n",
        "\n",
        "Description\n",
        "\n",
        "請實作一個函式social_distance，這個函式會判斷社交距離，如果社交距離小於等於規定的社交距離(室外 100cm、室內 150cm)，就回傳'請維持社交距離'，否則不回傳任何訊息。本題只需實作函式，不用自行處理 input()。\n",
        "\n",
        "\n",
        "Input\n",
        "共有兩個參數，\n",
        "\n",
        "第一個為字串，為\"室內\"或\"室外\"\n",
        "\n",
        "第二個為數字，為距離(單位為 cm)\n",
        "\n",
        "\n",
        "\n",
        "Output\n",
        "函式在符合條件才有回傳值，型態為字串"
      ],
      "metadata": {
        "id": "6Ab8I1VBRDHy"
      }
    },
    {
      "cell_type": "code",
      "source": [
        "def social_distance(x, y):\n",
        "    if x == '室外' and y <= 100:\n",
        "        return '請維持社交距離'\n",
        "    elif x == '室內' and y <= 150:\n",
        "        return '請維持社交距離'\n",
        "x = input()\n",
        "y = int(input())\n",
        "social_distance(x, y)"
      ],
      "metadata": {
        "colab": {
          "base_uri": "https://localhost:8080/"
        },
        "id": "opbtv5fARHh1",
        "outputId": "dea044e7-bc3c-41f6-b4dc-a5bb9697e094"
      },
      "execution_count": null,
      "outputs": [
        {
          "name": "stdout",
          "output_type": "stream",
          "text": [
            "11\n",
            "11\n"
          ]
        }
      ]
    },
    {
      "cell_type": "markdown",
      "source": [
        "#[11-1] 排數字\n",
        "\n",
        "---\n",
        "\n",
        "\n",
        "Description\n",
        "\n",
        "給定一串數字，請將這些數字由小到大排序並輸出。\n",
        "\n",
        "\n",
        "Input\n",
        "輸入為 2 行，第 1 行為 0 或 1，0 表示數字要由小到大排序，1 表示數字要由大到小排序。第 2 行為待排序的各元素，各元素之間以空白分隔。\n",
        "\n",
        "\n",
        "Output\n",
        "輸出為 1 行，為從小到大排序完的元素，各元素之間以空白分隔。"
      ],
      "metadata": {
        "id": "-fViyfStDDyl"
      }
    },
    {
      "cell_type": "code",
      "source": [
        "n1 = int(input())\n",
        "n2 = [int(i) for i in input().split()]\n",
        "\n",
        "if n1 == 0:\n",
        "  n2.sort()\n",
        "  print(*n2,sep=\" \")\n",
        "elif n1 == 1 :\n",
        "  n2.sort(reverse=True)\n",
        "  print(*n2,sep=\" \")"
      ],
      "metadata": {
        "colab": {
          "base_uri": "https://localhost:8080/"
        },
        "id": "V4PNAM3gDKfI",
        "outputId": "dc336a5f-b8e9-48fa-d016-393dc220f34b"
      },
      "execution_count": null,
      "outputs": [
        {
          "output_type": "stream",
          "name": "stdout",
          "text": [
            "1\n",
            "45 50 55 60 70 80 90 100\n",
            "100 90 80 70 60 55 50 45\n"
          ]
        }
      ]
    },
    {
      "cell_type": "markdown",
      "source": [
        "#[11-1] 強強背單字\n",
        "\n",
        "---\n",
        "\n",
        "\n",
        "Description\n",
        "\n",
        "強強的英文不太好，所以他把常見的單字列出來，然後想要從最短的單字開始背。給定一串字串，請將這些字串根據長度從短到長排序並輸出。如果有單字一樣長，就保持輸入時的順序。\n",
        "\n",
        "\n",
        "Input\n",
        "輸入為 1 行，為待排序的單字，單字之間以逗號分隔。\n",
        "\n",
        "\n",
        "Output\n",
        "輸出為 n 行，n為單字的數量，每行為從短到長排序完的單字。"
      ],
      "metadata": {
        "id": "dKyO1UKlFNml"
      }
    },
    {
      "cell_type": "code",
      "source": [
        "s = input().split(',')\n",
        "s.sort(key = len)\n",
        "print(*s,sep='\\n')"
      ],
      "metadata": {
        "colab": {
          "base_uri": "https://localhost:8080/"
        },
        "id": "lorgtO2iFSG7",
        "outputId": "28dbe716-1b27-4ba5-bc8b-ab9600d2c5a0"
      },
      "execution_count": null,
      "outputs": [
        {
          "output_type": "stream",
          "name": "stdout",
          "text": [
            "Ponka,Tankan,Murcott,Minneola tangelo\n",
            "Ponka\n",
            "Tankan\n",
            "Murcott\n",
            "Minneola tangelo\n"
          ]
        }
      ]
    },
    {
      "cell_type": "markdown",
      "source": [
        "#[11-1] 強強買東西 (*)\n",
        "\n",
        "---\n",
        "\n",
        "\n",
        "Description\n",
        "\n",
        "強強很窮，可是他有很多東西想要買，所以他決定從便宜的先買，每次只買 3 項東西。如果想買的東西不到 3 項，就排序之後全都買。如果有相同價格，就依照輸入順序排序。\n",
        "\n",
        "\n",
        "Input\n",
        "輸入為 n + 1 行，前 n 行為想買的東西和其價格，東西和價格之間以逗號分隔。最後 1 行'end'，表示輸入結束。\n",
        "\n",
        "\n",
        "Output\n",
        "輸出為 3 行，第 1 行為最便宜的東西和其價格，第 2 行為第二便宜的東西和其價格，以此類推。東西和價格之間以空白分隔。"
      ],
      "metadata": {
        "id": "7vgJtQH8FuAH"
      }
    },
    {
      "cell_type": "code",
      "source": [
        "wantedbuy = {}\n",
        "\n",
        "while True:\n",
        "  s = input()\n",
        "  if s == 'end':\n",
        "    break\n",
        "  wantedbuy[s.split(',')[0]] = int(s.split(',')[1])\n",
        "\n",
        "sortedbuy = sorted(wantedbuy.items(),key = lambda i:i[1])[:3]\n",
        "for items,price in sortedbuy:\n",
        "  print(items,price,sep=\" \")"
      ],
      "metadata": {
        "colab": {
          "base_uri": "https://localhost:8080/"
        },
        "id": "9Cl73X2pFwJM",
        "outputId": "9bebe83c-da72-40c2-fb75-fc5a9bf64481"
      },
      "execution_count": null,
      "outputs": [
        {
          "output_type": "stream",
          "name": "stdout",
          "text": [
            "戰術筆,85\n",
            "軍用指北針,350\n",
            "迷你太陽能手電筒,200\n",
            "多功能鉗,900\n",
            "end\n",
            "戰術筆 85\n",
            "迷你太陽能手電筒 200\n",
            "軍用指北針 350\n"
          ]
        }
      ]
    },
    {
      "cell_type": "markdown",
      "source": [
        "#[12-1] 階乘\n",
        "\n",
        "---\n",
        "\n",
        "\n",
        "Description\n",
        "\n",
        "請完成函式fact，使得輸入 n ，請輸出 n! 的值。\n",
        "\n",
        "0! = 1，1! =1，n! = n*(n-1)!\n",
        "\n",
        "\n",
        "Input\n",
        "輸入有一行，包含一個正整數n。\n",
        "\n",
        "\n",
        "Output\n",
        "請輸出一個整數，值為n!。"
      ],
      "metadata": {
        "id": "aEL0nfzSQdz2"
      }
    },
    {
      "cell_type": "code",
      "source": [
        "def fact(m):\n",
        "    if m == 0 or m == 1:\n",
        "        return 1 \n",
        "    else:\n",
        "        return m * fact(m-1)       \n",
        "\n",
        "num = int(input())\n",
        "print(fact(num))"
      ],
      "metadata": {
        "colab": {
          "base_uri": "https://localhost:8080/"
        },
        "id": "GeTxO_hoQ_O0",
        "outputId": "6ecbbe70-8b59-4d98-d9d5-8811c873c622"
      },
      "execution_count": null,
      "outputs": [
        {
          "output_type": "stream",
          "name": "stdout",
          "text": [
            "3\n",
            "6\n"
          ]
        }
      ]
    },
    {
      "cell_type": "markdown",
      "source": [
        "#[12-1] 費氏數列 (*)\n",
        "\n",
        "---\n",
        "\n",
        "\n",
        "Description\n",
        "\n",
        "請完成函式f，已知 f(0) = 0，f(1) = 1，f(n) = f(n-1) + f(n-2)。\n",
        "\n",
        "輸入數字 n ，輸出 f(n)。\n",
        "\n",
        "\n",
        "Input\n",
        "輸入有一行，包含一個正整數 n。\n",
        "\n",
        "\n",
        "Output\n",
        "輸出有一行，包含一個正整數 f(n)。"
      ],
      "metadata": {
        "id": "fDuXGY_XSdok"
      }
    },
    {
      "cell_type": "code",
      "source": [
        "def f(m):\n",
        "    if m == 0:\n",
        "        return 0 \n",
        "    elif m == 1:\n",
        "        return 1\n",
        "    else:\n",
        "        return f(m-1) + f(m-2)    \n",
        "\n",
        "num = int(input())\n",
        "print(f(num))"
      ],
      "metadata": {
        "colab": {
          "base_uri": "https://localhost:8080/"
        },
        "id": "7ITKfEFPSdEN",
        "outputId": "76ec9805-023a-4a8b-a7ea-ac3814e38c9c"
      },
      "execution_count": null,
      "outputs": [
        {
          "output_type": "stream",
          "name": "stdout",
          "text": [
            "5\n",
            "5\n"
          ]
        }
      ]
    },
    {
      "cell_type": "code",
      "source": [
        "#比起先給一個[]在.append()方式，我偏好先給一個固定大小的[0]*(n+1),會快一些\n",
        "def f(n):\n",
        "    if n == 0: return 0\n",
        "    elif n == 1: return 1\n",
        "    else:\n",
        "        k = [0,1] + [0]*(n-1)   #n-1 因為 全部有n+1 不過前兩個已經給了 所以n-1\n",
        "        for i in range(2,n+1):\n",
        "            k[i] = k[i-1] + k[i-2]\n",
        "    return k[n]\n",
        "print(f(5)) # k[n] = k[-1]"
      ],
      "metadata": {
        "colab": {
          "base_uri": "https://localhost:8080/"
        },
        "id": "kZIH6hWHSlST",
        "outputId": "acbcfec7-9727-46c2-d3e0-61cd84bf181b"
      },
      "execution_count": null,
      "outputs": [
        {
          "output_type": "stream",
          "name": "stdout",
          "text": [
            "5\n"
          ]
        }
      ]
    },
    {
      "cell_type": "markdown",
      "source": [
        "#[12-1] 自訂數列\n",
        "\n",
        "---\n",
        "\n",
        "\n",
        "Description\n",
        "\n",
        "請完成函式f，已知 f(0) = 0，f(1) = 1，f(n) = n*f(n-2) - f(n-1)。\n",
        "\n",
        "f(2) = 2*f(0) - f(1) = 0 - 1 = -1\n",
        "\n",
        "f(3) = 3*f(1) - f(2) = 3 - (-1) = 4\n",
        "\n",
        "f(4) = 4*f(2) - f(3) = (-4) - 4 = -8\n",
        "\n",
        "f(5) = 5*f(3) - f(4) = 20 - (-8) = 28\n",
        "\n",
        "以此類推。\n",
        "\n",
        "輸入數字 n ，輸出 f(n)。\n",
        "\n",
        "\n",
        "Input\n",
        "輸入有一行，包含一個正整數 n。\n",
        "\n",
        "\n",
        "Output\n",
        "輸出有一行，包含一個整數 f(n)。"
      ],
      "metadata": {
        "id": "u6c8X6h5SwNE"
      }
    },
    {
      "cell_type": "code",
      "source": [
        "def f(n):\n",
        "  if n == 0 : return 0\n",
        "  elif n == 1 : return 1\n",
        "  else:\n",
        "    return n*f(n-2) - f(n-1)\n",
        "\n",
        "def f2(n):\n",
        "  if n == 0 : return 0\n",
        "  elif n == 1 : return 1\n",
        "  else:\n",
        "    k = [0,1] + [0]*(n-1)\n",
        "    for i in range(2,n+1):\n",
        "      k[i] = i*k[i-2] - k[i-1]\n",
        "    return k[n]    \n",
        "num = int(input())\n",
        "print(f(num))\n",
        "print(f2(num))"
      ],
      "metadata": {
        "colab": {
          "base_uri": "https://localhost:8080/"
        },
        "id": "N5W2pnSpS6na",
        "outputId": "42f83210-0d0b-4e91-f877-dbf760e3768e"
      },
      "execution_count": null,
      "outputs": [
        {
          "output_type": "stream",
          "name": "stdout",
          "text": [
            "5\n",
            "28\n",
            "28\n"
          ]
        }
      ]
    },
    {
      "cell_type": "markdown",
      "source": [
        "#[13-1] 給自己考試 (*)\n",
        "\n",
        "---\n",
        "\n",
        "\n",
        "Description\n",
        "\n",
        "強強最近想要背單字，作為給自己的考試，他用程式建了一個字典，只要輸入英文單字就會回傳對應的中文意思。如果輸入的單字不在字典裡面，就回傳「單字不存在」。\n",
        "\n",
        "\n",
        "Input\n",
        "輸入為 2 行，第 1 行為英文單字和中文意思的對應。英文和中文之間以逗號分隔，每個單字之間以空白分隔。第 2 行為要考的英文單字。\n",
        "\n",
        "\n",
        "Output\n",
        "輸出為 1 行，為對應的中文意思。如果沒有這個單字，請輸出「單字不存在」。"
      ],
      "metadata": {
        "id": "DHGQZe0CYWla"
      }
    },
    {
      "cell_type": "code",
      "source": [
        "s = input().split()\n",
        "n = input()\n",
        "d = {k: v for k, v in [pair.split(',') for pair in s]}\n",
        "print(d.get(n, '單字不存在'))"
      ],
      "metadata": {
        "colab": {
          "base_uri": "https://localhost:8080/"
        },
        "id": "B8FLP1kHYXbj",
        "outputId": "f22c68c8-3698-442c-e9fc-771ca21437f7"
      },
      "execution_count": null,
      "outputs": [
        {
          "output_type": "stream",
          "name": "stdout",
          "text": [
            "str,字串 int,整數 float,浮點數 bool,布林值\n",
            "list\n",
            "單字不存在\n"
          ]
        }
      ]
    },
    {
      "cell_type": "markdown",
      "source": [
        "#[13-1] 偶像資料庫 (*)\n",
        "\n",
        "---\n",
        "\n",
        "\n",
        "Description\n",
        "\n",
        "強強很喜歡 TPE48 的偶像，所以想要建一個資料庫，只要輸入偶像的名字，就會跳出偶像的其他資料。現在資料已經找好了，但資料庫還沒建，你能把資料庫建好並做出查詢的功能嗎?\n",
        "\n",
        "\n",
        "Input\n",
        "輸入為 2 行，\n",
        "\n",
        "第 1 行為所有偶像的名字、身高、血型。同一偶像的資料以逗號分隔，不同偶像之間以空白分隔。\n",
        "\n",
        "第 2 行為要查詢的偶像名字。\n",
        "\n",
        "\n",
        "Output\n",
        "輸出為 1 行，為一個串列，包含該偶像的身高和血型。"
      ],
      "metadata": {
        "id": "Y8WeezVFcL38"
      }
    },
    {
      "cell_type": "code",
      "source": [
        "dataidol = input().split()\n",
        "idol = input()\n",
        "\n",
        "idol_database = {k:[i,j] for k,i,j in [item.split(',') for item in dataidol]}\n",
        "print(idol_database.get(idol,None))"
      ],
      "metadata": {
        "colab": {
          "base_uri": "https://localhost:8080/"
        },
        "id": "pP1T39w3cQjv",
        "outputId": "a30691e1-8ac6-48e2-c008-a15a27992873"
      },
      "execution_count": null,
      "outputs": [
        {
          "output_type": "stream",
          "name": "stdout",
          "text": [
            "藤井麻由,162,B 邱品涵,153,O 林倢,165,B\n",
            "邱品涵\n",
            "['153', 'O']\n"
          ]
        }
      ]
    },
    {
      "cell_type": "markdown",
      "source": [
        "#[13-1] 詞頻計算 (*)\n",
        "\n",
        "---\n",
        "\n",
        "\n",
        "Description\n",
        "\n",
        "強強想要計算一個文本中各個詞彙出現的次數，所以他想要寫一個程式，你可以幫他寫嗎？\n",
        "\n",
        "\n",
        "Input\n",
        "輸入為 1 + n 行，第 1 行為句子數，後面 n 行皆為一個斷好詞的句子，詞彙之間以空白分隔。\n",
        "\n",
        "\n",
        "Output\n",
        "輸出為 1 行，為字典中的內容。"
      ],
      "metadata": {
        "id": "VKVKtRkZgSyZ"
      }
    },
    {
      "cell_type": "code",
      "source": [
        "strdict = {}\n",
        "n = int(input())\n",
        "for i in range(n):\n",
        "  s = input().split()\n",
        "  strdict.update({k:strdict.get(k,0) + s.count(k) for k in s})\n",
        "print(strdict)"
      ],
      "metadata": {
        "colab": {
          "base_uri": "https://localhost:8080/"
        },
        "id": "fp72q8tugT8y",
        "outputId": "6b477ff8-dd49-45c0-e919-64c6dd5af13a"
      },
      "execution_count": null,
      "outputs": [
        {
          "output_type": "stream",
          "name": "stdout",
          "text": [
            "2\n",
            "0 0 0 0 0 1\n",
            "9487 94 狂\n",
            "{'0': 5, '1': 1, '9487': 1, '94': 1, '狂': 1}\n"
          ]
        }
      ]
    },
    {
      "cell_type": "markdown",
      "source": [
        "#[15-1] 加法計算機 (*)\n",
        "\n",
        "---\n",
        "\n",
        "\n",
        "Description\n",
        "\n",
        "小明想實作一個有加法功能的計算機，提供使用者輸入兩個整數，最後輸出兩個整數的和。小明想在最後附一個提醒的功能，如果使用者輸入的不是數字，則輸出 \"請輸入阿拉伯數字\" 的提示字串。請你幫小明實作這個計算機吧！\n",
        "\n",
        "\n",
        "Input\n",
        "輸入為兩行，分別為兩個整數。\n",
        "\n",
        "\n",
        "Output\n",
        "輸出為一行，若使用者輸入為兩個阿拉伯數字，輸出兩整數和；若輸入的不是阿拉伯數字，則輸出 \"請輸入阿拉伯數字\"。"
      ],
      "metadata": {
        "id": "KtJAlr1wnIDr"
      }
    },
    {
      "cell_type": "code",
      "source": [
        "def sumcal(n1,n2):\n",
        "  try:\n",
        "    return int(n1) + int(n2)\n",
        "  except ValueError:\n",
        "    return \"請輸入阿拉伯數字\"\n",
        "    \n",
        "n1 = input()\n",
        "n2 = input()\n",
        "print(sumcal(n1,n2))"
      ],
      "metadata": {
        "colab": {
          "base_uri": "https://localhost:8080/"
        },
        "id": "AgzJa5StnJL7",
        "outputId": "7089e854-e63d-4d47-cecd-28a7c5deb7a5"
      },
      "execution_count": null,
      "outputs": [
        {
          "output_type": "stream",
          "name": "stdout",
          "text": [
            "5\n",
            "4\n",
            "9\n"
          ]
        }
      ]
    },
    {
      "cell_type": "markdown",
      "source": [
        "#[15-1] 第三大\n",
        "\n",
        "---\n",
        "\n",
        "\n",
        "Description\n",
        "\n",
        "給定數個整數，請輸出整數串列中第三大的數字；若串列長度不足三，沒辦法排出第三大，則輸出 \"串列長度小於3\" 的提示字串。\n",
        "\n",
        "\n",
        "Input\n",
        "輸入為一行，為數個整數，整數間以空白作為間隔。\n",
        "\n",
        "\n",
        "Output\n",
        "輸出為一行，請根據題目敘述輸出結果。"
      ],
      "metadata": {
        "id": "Wqsjmfj_tB_-"
      }
    },
    {
      "cell_type": "code",
      "source": [
        "n = [int(i) for i in input().split()]\n",
        "n.sort(reverse=True)\n",
        "try:\n",
        "  print(n[2])\n",
        "except IndexError:\n",
        "  print(\"串列長度小於3\")"
      ],
      "metadata": {
        "colab": {
          "base_uri": "https://localhost:8080/"
        },
        "id": "SOpmg-MGtDFl",
        "outputId": "079c5560-9c9e-49e3-f0e8-0d2a7ef37c21"
      },
      "execution_count": null,
      "outputs": [
        {
          "output_type": "stream",
          "name": "stdout",
          "text": [
            "9 4 8 7\n",
            "7\n"
          ]
        }
      ]
    },
    {
      "cell_type": "markdown",
      "source": [
        "#[15-1] 末三個數字相加\n",
        "\n",
        "---\n",
        "\n",
        "\n",
        "Description\n",
        "\n",
        "給定一個串列，若串列中末三個元素為整數，請輸出它們的整數和。若末三個元素有其中一個元素不是整數，請輸出 \"資料型態不為整數\" 的提示字串；若串列長度小於 3 ，請輸出 \"串列長度不足\" 的提示字串。\n",
        "\n",
        "\n",
        "Input\n",
        "輸入為一行，為數個數字，數字間以空白作為間隔。\n",
        "\n",
        "\n",
        "Output\n",
        "輸出為一行，請根據題目敘述輸出結果。"
      ],
      "metadata": {
        "id": "H2wvnt4fuC8w"
      }
    },
    {
      "cell_type": "code",
      "source": [
        "def sumlast3(n):\n",
        "  try:\n",
        "    return int(n[0])+int(n[1])+int(n[2])\n",
        "  except IndexError:\n",
        "    return \"串列長度不足\"\n",
        "  except ValueError:\n",
        "    return \"資料型態不為整數\"\n",
        "\n",
        "n = input().split()\n",
        "n.reverse()\n",
        "print(sumlast3(n))"
      ],
      "metadata": {
        "colab": {
          "base_uri": "https://localhost:8080/"
        },
        "id": "Q5sO2lZmuD8r",
        "outputId": "697615a0-6966-4e83-879f-91df1d1aca18"
      },
      "execution_count": null,
      "outputs": [
        {
          "output_type": "stream",
          "name": "stdout",
          "text": [
            "1 2\n",
            "串列長度不足\n"
          ]
        }
      ]
    }
  ]
}