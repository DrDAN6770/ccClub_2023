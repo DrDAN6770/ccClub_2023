{
 "cells": [
  {
   "attachments": {},
   "cell_type": "markdown",
   "metadata": {},
   "source": [
    "# Import Module"
   ]
  },
  {
   "cell_type": "code",
   "execution_count": 2,
   "metadata": {},
   "outputs": [],
   "source": [
    "import requests\n",
    "import re\n",
    "from bs4 import BeautifulSoup\n",
    "from time import sleep\n",
    "from random import random"
   ]
  },
  {
   "attachments": {},
   "cell_type": "markdown",
   "metadata": {},
   "source": [
    "# 整合"
   ]
  },
  {
   "cell_type": "code",
   "execution_count": 5,
   "metadata": {},
   "outputs": [],
   "source": [
    "# YahooMovies 邏輯 : 使用者輸入 > 搜尋電影 > 確認哪一部(沒有就重找or沒有這部) > 找這部資訊 > 返回搜尋結果\n",
    "# IMDbMovies 邏輯 : 從YahooMovies拿完整確定查找的電影名稱(有不同或多選擇需要使用者去Y/N決定) > 搜尋該電影評論 > 返回資訊\n",
    "class YahooMovies():\n",
    "    def __init__(self):\n",
    "        self.movie_link = None\n",
    "\n",
    "    def user_input(movie_name): # 返回使用者輸入的電影名稱(可能不是完整電影名)\n",
    "        while True:\n",
    "            try:\n",
    "                if movie_name.strip():\n",
    "                    return movie_name\n",
    "            except:\n",
    "                print('\\nTry Again')\n",
    "                return None\n",
    "\n",
    "    def search_movie(self, userquery): # 返回搜尋列表、使用者查的電影名稱(可能不是完整電影名)\n",
    "        encoded_query = requests.utils.quote(userquery)\n",
    "        url = f\"https://movies.yahoo.com.tw/moviesearch_result.html?keyword={encoded_query}\"\n",
    "        response = requests.get(url)\n",
    "        soup = BeautifulSoup(response.text, \"html.parser\")\n",
    "        movie_titles = soup.find_all(\"div\", class_=\"release_movie_name\")\n",
    "        return movie_titles, userquery\n",
    "\n",
    "    def search_check(self, movie_titles, userquery): # 返回該電影完整名稱、電影頁面連結(for 爬蟲)\n",
    "        res_count = len(movie_titles)\n",
    "        if res_count == 0:\n",
    "            return userquery, None\n",
    "        elif res_count > 1:\n",
    "            for m in movie_titles:\n",
    "                ans = None\n",
    "                while ans != 'Y' and ans != 'N':\n",
    "                    ans = input(f'找到{res_count}部電影，返回第一個搜尋{m.a.text}(Y)或是往下搜索(N):')\n",
    "                if ans == 'Y':\n",
    "                    return m.a.text, m.a['href']\n",
    "                elif ans == 'N':\n",
    "                    continue\n",
    "            # 該次搜尋都沒找到，重新搜尋\n",
    "            sleep(1 + random())\n",
    "            new_query = self.user_input()\n",
    "            new_movie_titles, new_query = self.search_movie(new_query)\n",
    "            return self.search_check(new_movie_titles, new_query)\n",
    "        else:\n",
    "            return movie_titles[0].a.text, movie_titles[0].a['href']\n",
    "\n",
    "    def specific_movie_info(self, movie_link): # 返回這部電影所需的資訊\n",
    "        def review_latest(review_link):\n",
    "            if review_link is None:\n",
    "                return None\n",
    "            res = []\n",
    "            response = requests.get(review_link)\n",
    "            soup = BeautifulSoup(response.text, \"html.parser\")\n",
    "            reviews = soup.find_all('div', class_='usercom_inner _c')\n",
    "            for i in reviews[:5]:\n",
    "                res.append(re.sub(r'[\\s]{2,}|[\\n\\r\\t]+', '', i.find_all('span')[-1].text))\n",
    "            return res if res else '該電影目前無評論'\n",
    "\n",
    "        movie_info = {}\n",
    "        if movie_link:\n",
    "            response = requests.get(movie_link)\n",
    "            soup = BeautifulSoup(response.text, \"html.parser\")\n",
    "            movie = soup.find('div', class_='movie_intro_info_r')\n",
    "            review = soup.find('div', class_='btn_plus_more usercom_more gabtn')\n",
    "            review_link = review.a['href'] if review else None\n",
    "            starscore = soup.find('div', class_='score_num count')\n",
    "            starbox = soup.find('div', class_='starbox2')\n",
    "\n",
    "            chname = re.sub(r'[\\s]{2,}|[\\n\\r\\t]+', '', movie.h1.text)\n",
    "            engname = re.sub(r'[\\s]{2,}|[\\n\\r\\t]+', '', movie.h3.text) if movie.h3.text else None\n",
    "\n",
    "            if starscore and starbox:\n",
    "                starscore = f'{starscore.text} / 5 {starbox.text.strip()}'\n",
    "            else:\n",
    "                starscore = None\n",
    "\n",
    "            reviews = review_latest(review_link)\n",
    "\n",
    "            release_date, IMDB = None, None\n",
    "            for i in movie.find_all('span'):\n",
    "                text = i.text.strip()\n",
    "                if '上映日期' in text:\n",
    "                    release_date = text.split('：')[1]\n",
    "                elif 'IMDb分數' in text:\n",
    "                    IMDB = f\"{text.split('：')[1]} / 10\"\n",
    "            movie_info['中文名稱'] = chname\n",
    "            movie_info['英文名稱'] = engname\n",
    "            movie_info['上映日期'] = release_date\n",
    "            movie_info['滿意度'] = starscore\n",
    "            movie_info['IMDb'] = IMDB\n",
    "            movie_info['Yahoo最新5則評論'] = reviews\n",
    "\n",
    "            return movie_info\n",
    "\n",
    "    def search_and_get_movie_info(self): # 主程式\n",
    "        userquery = self.user_input()\n",
    "        movie_titles, checkquery = self.search_movie(userquery)\n",
    "        movie_name, movie_link = self.search_check(movie_titles, checkquery)\n",
    "        movie_info = self.specific_movie_info(movie_link)\n",
    "        return movie_name, movie_info\n",
    "\n",
    "class IMDbMovies(YahooMovies):\n",
    "    def __init__(self, name):\n",
    "        self.headers = {\n",
    "            \"User-Agent\": \"Mozilla/5.0 (Windows NT 10.0; Win64; x64) AppleWebKit/537.36 (KHTML, like Gecko) Chrome/91.0.4472.124 Safari/537.36\"\n",
    "        }\n",
    "        self.yahoosearchname = name        # Yahoo找到完整電影名稱(不是使用者輸入的)\n",
    "\n",
    "    def specific_movie_reviews(self, movie_link): # 返回電影評論list\n",
    "        response = requests.get(movie_link, headers=self.headers)\n",
    "        soup = BeautifulSoup(response.text, \"html.parser\")\n",
    "        reviews = soup.find_all('div', class_='review-container')\n",
    "\n",
    "        movie_reviews = []\n",
    "        for review in reviews[:5]:\n",
    "            review_title = review.find('a', class_='title').text.strip()\n",
    "            movie_reviews.append(review_title)\n",
    "        return movie_reviews if movie_reviews else '該電影目前無評論'\n",
    "\n",
    "    def search_movie(self, query): # 返回電影評論網址\n",
    "        # search\n",
    "        encoded_query = requests.utils.quote(query)\n",
    "        url = f\"https://www.imdb.com/find/?q={encoded_query}&ref_=nv_sr_sm\"\n",
    "        response = requests.get(url, headers=self.headers)\n",
    "        soup = BeautifulSoup(response.text, \"html.parser\")\n",
    "        search_results = soup.select('#__next > main > div.ipc-page-content-container.ipc-page-content-container--full.sc-5352556-0.cAzlUg > div.ipc-page-content-container.ipc-page-content-container--center > section > div > div.ipc-page-grid__item.ipc-page-grid__item--span-2 > section:nth-child(3) > div.sc-17bafbdb-2.ffAEHI > ul > li')\n",
    "\n",
    "        # check search list\n",
    "        if search_results:\n",
    "            search_count = len(search_results)\n",
    "            movie = search_results[0]\n",
    "            k = movie.select_one('div > div > a')\n",
    "            movie_number = k.get('href').split('/')[2]\n",
    "            review_link = f'https://www.imdb.com/title/{movie_number}/reviews?ref_=tt_urv'\n",
    "            if query == k.text:\n",
    "                return self.specific_movie_reviews(review_link)\n",
    "\n",
    "            if search_count > 1:\n",
    "                for m in search_results:\n",
    "                    k = m.select_one('div > div > a')\n",
    "                    movie_number = k.get('href').split('/')[2]\n",
    "                    review_link = f'https://www.imdb.com/title/{movie_number}/reviews?ref_=tt_urv'\n",
    "                    ans = None\n",
    "                    while ans != 'Y' and ans != 'N':\n",
    "                        ans = input(f'找到{search_count}部電影，返回第一個搜尋{k.text} (Y)或往下搜索(N):')\n",
    "                        if ans == 'Y':\n",
    "                            return self.specific_movie_reviews(review_link)\n",
    "                        elif ans == 'N':\n",
    "                            continue\n",
    "                # 該次搜尋都沒找到，重新搜尋\n",
    "                sleep(1 + random())\n",
    "                return self.search_movie(self.user_input())\n",
    "            else:\n",
    "                return self.specific_movie_reviews(review_link)\n",
    "        else:\n",
    "            return f'沒有找到{query}'"
   ]
  },
  {
   "cell_type": "code",
   "execution_count": 12,
   "metadata": {},
   "outputs": [
    {
     "data": {
      "text/plain": [
       "'找不到就是找不到'"
      ]
     },
     "execution_count": 12,
     "metadata": {},
     "output_type": "execute_result"
    }
   ],
   "source": [
    "def main():\n",
    "    try:\n",
    "        YahooMovies_info = YahooMovies()\n",
    "        movie_name, movie_info = YahooMovies_info.search_and_get_movie_info()\n",
    "\n",
    "        IMDbMovies_info = IMDbMovies('閃電俠')\n",
    "        reviews = IMDbMovies_info.search_movie(IMDbMovies_info.yahoosearchname)\n",
    "        movie_info['IMDb最新5則評論'] = reviews\n",
    "        return movie_info\n",
    "    except TypeError:\n",
    "        return '找不到就是找不到'\n",
    "\n",
    "main()"
   ]
  },
  {
   "cell_type": "code",
   "execution_count": 10,
   "metadata": {},
   "outputs": [
    {
     "name": "stdout",
     "output_type": "stream",
     "text": [
      "閃電俠\n"
     ]
    },
    {
     "ename": "AttributeError",
     "evalue": "'str' object has no attribute 'user_input'",
     "output_type": "error",
     "traceback": [
      "\u001b[1;31m---------------------------------------------------------------------------\u001b[0m",
      "\u001b[1;31mAttributeError\u001b[0m                            Traceback (most recent call last)",
      "Cell \u001b[1;32mIn[10], line 2\u001b[0m\n\u001b[0;32m      1\u001b[0m \u001b[39mprint\u001b[39m(YahooMovies\u001b[39m.\u001b[39muser_input(\u001b[39m'\u001b[39m\u001b[39m閃電俠\u001b[39m\u001b[39m'\u001b[39m))\n\u001b[1;32m----> 2\u001b[0m \u001b[39mprint\u001b[39m(YahooMovies\u001b[39m.\u001b[39;49msearch_and_get_movie_info(YahooMovies\u001b[39m.\u001b[39;49muser_input(\u001b[39m'\u001b[39;49m\u001b[39m閃電俠\u001b[39;49m\u001b[39m'\u001b[39;49m)))\n",
      "Cell \u001b[1;32mIn[5], line 94\u001b[0m, in \u001b[0;36mYahooMovies.search_and_get_movie_info\u001b[1;34m(self)\u001b[0m\n\u001b[0;32m     93\u001b[0m \u001b[39mdef\u001b[39;00m \u001b[39msearch_and_get_movie_info\u001b[39m(\u001b[39mself\u001b[39m): \u001b[39m# 主程式\u001b[39;00m\n\u001b[1;32m---> 94\u001b[0m     userquery \u001b[39m=\u001b[39m \u001b[39mself\u001b[39;49m\u001b[39m.\u001b[39;49muser_input()\n\u001b[0;32m     95\u001b[0m     movie_titles, checkquery \u001b[39m=\u001b[39m \u001b[39mself\u001b[39m\u001b[39m.\u001b[39msearch_movie(userquery)\n\u001b[0;32m     96\u001b[0m     movie_name, movie_link \u001b[39m=\u001b[39m \u001b[39mself\u001b[39m\u001b[39m.\u001b[39msearch_check(movie_titles, checkquery)\n",
      "\u001b[1;31mAttributeError\u001b[0m: 'str' object has no attribute 'user_input'"
     ]
    }
   ],
   "source": [
    "print(YahooMovies.user_input('閃電俠'))\n",
    "print(YahooMovies.search_and_get_movie_info(YahooMovies.user_input('閃電俠')))"
   ]
  }
 ],
 "metadata": {
  "kernelspec": {
   "display_name": "Python 3",
   "language": "python",
   "name": "python3"
  },
  "language_info": {
   "codemirror_mode": {
    "name": "ipython",
    "version": 3
   },
   "file_extension": ".py",
   "mimetype": "text/x-python",
   "name": "python",
   "nbconvert_exporter": "python",
   "pygments_lexer": "ipython3",
   "version": "3.11.3"
  },
  "orig_nbformat": 4
 },
 "nbformat": 4,
 "nbformat_minor": 2
}
