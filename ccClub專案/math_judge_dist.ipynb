{
 "cells": [
  {
   "attachments": {},
   "cell_type": "markdown",
   "metadata": {},
   "source": [
    "# Google MAP 方法"
   ]
  },
  {
   "cell_type": "code",
   "execution_count": 1,
   "metadata": {},
   "outputs": [],
   "source": [
    "import googlemaps\n",
    "import dotenv\n",
    "import sqlite3\n",
    "import pandas as pd"
   ]
  },
  {
   "cell_type": "code",
   "execution_count": 2,
   "metadata": {},
   "outputs": [],
   "source": [
    "info = dotenv.dotenv_values('.env')\n",
    "apikey = info.get('googleAPI')\n",
    "gmaps = googlemaps.Client(key=apikey)\n",
    "\n",
    "# mode : driving（車）、transit（公車之類）、walking（步行）、無機車模式\n",
    "# google是算交通距離、還可以有時間\n",
    "def GM(origin, destination, mode = 'driving'):\n",
    "    response = gmaps.distance_matrix(origin, destination, mode=mode)\n",
    "    try:\n",
    "        distance = response['rows'][0]['elements'][0]['distance']['value'] # return int\n",
    "        duration = response['rows'][0]['elements'][0]['duration']['text'] # return string\n",
    "        return distance, duration\n",
    "    except:\n",
    "        return None, None"
   ]
  },
  {
   "cell_type": "code",
   "execution_count": 3,
   "metadata": {},
   "outputs": [],
   "source": [
    "# 連線資料庫、SQL搜尋、轉df\n",
    "conn = sqlite3.connect('TW_cinema_info.db')\n",
    "data_df = pd.read_sql_query(\"SELECT * FROM TW_cinema_info_latest\", conn)\n",
    "conn.close()"
   ]
  },
  {
   "cell_type": "code",
   "execution_count": 4,
   "metadata": {},
   "outputs": [],
   "source": [
    "# 找使用者座標附近6間戲院\n",
    "def MathJudge_dist(df, location):\n",
    "    df['緯度'] = df['經緯度'].map(lambda x:float(str(x).strip('[]').split(',')[0])) - float(location.split(',')[0])\n",
    "    df['經度'] = df['經緯度'].map(lambda x:float(str(x).strip('[]').split(',')[1])) - float(location.split(',')[1])\n",
    "\n",
    "    # 排序直線距離短的 (這是用經緯度數字直接去算，不是實際有效交通距離)\n",
    "    # 至少能過濾掉，站在宜蘭但推我同緯度的新竹，卻沒推到雙北基隆這類問題\n",
    "    df['直線距離'] = (df['緯度'] ** 2 + df['經度'] ** 2) ** 0.5\n",
    "    df = df.drop(['緯度', '經度'], axis = 1)\n",
    "    df = df.sort_values(['直線距離']).reset_index(drop=True)\n",
    "\n",
    "    # 取得前6筆\n",
    "    return df.head(6)\n",
    "    \n",
    "\n",
    "# 算這6間距離、時間、模式(可不選，預設開車)\n",
    "def order_df_dist_google(df, origin, mode = 'driving'):\n",
    "    df = df.copy()\n",
    "    df['temp'] = df['經緯度'].map(lambda x: GM(origin, str(x).strip('[]'), mode))\n",
    "    df['距離(公尺)'] = df['temp'].apply(lambda x:x[0])\n",
    "    df['預計時間'] = df['temp'].apply(lambda x:x[1])\n",
    "    df.drop('temp', axis = 1, inplace = True)\n",
    "    df = df.sort_values('距離(公尺)').reset_index(drop=True)\n",
    "\n",
    "    # 挑出前3個要返回的資訊、有Null、NAN代表無路線可到該戲院\n",
    "    res = df[['事業名稱', '距離(公尺)', '預計時間']].dropna().head(3)\n",
    "\n",
    "    return res"
   ]
  },
  {
   "cell_type": "code",
   "execution_count": 13,
   "metadata": {},
   "outputs": [],
   "source": [
    "location = '24.171550, 120.645647'\n",
    "location = '23.924534, 121.564256'\n",
    "location = '25.037741732578425,121.50864867701743'\n",
    "# location = '23.566450, 119.624411' # 澎湖\n",
    "location = '24.464436, 118.440796' # 金門\n",
    "the_nearest_cinema = MathJudge_dist(data_df, location)"
   ]
  },
  {
   "cell_type": "code",
   "execution_count": 14,
   "metadata": {},
   "outputs": [
    {
     "data": {
      "text/html": [
       "<div>\n",
       "<style scoped>\n",
       "    .dataframe tbody tr th:only-of-type {\n",
       "        vertical-align: middle;\n",
       "    }\n",
       "\n",
       "    .dataframe tbody tr th {\n",
       "        vertical-align: top;\n",
       "    }\n",
       "\n",
       "    .dataframe thead th {\n",
       "        text-align: right;\n",
       "    }\n",
       "</style>\n",
       "<table border=\"1\" class=\"dataframe\">\n",
       "  <thead>\n",
       "    <tr style=\"text-align: right;\">\n",
       "      <th></th>\n",
       "      <th>縣市</th>\n",
       "      <th>事業名稱</th>\n",
       "      <th>地址</th>\n",
       "      <th>經緯度</th>\n",
       "      <th>直線距離</th>\n",
       "    </tr>\n",
       "  </thead>\n",
       "  <tbody>\n",
       "    <tr>\n",
       "      <th>0</th>\n",
       "      <td>金門縣</td>\n",
       "      <td>國賓影城@金門昇恆昌金湖廣場</td>\n",
       "      <td>金門縣金湖鎮太湖路二段198號6樓</td>\n",
       "      <td>[24.4392162, 118.4186129]</td>\n",
       "      <td>0.033588</td>\n",
       "    </tr>\n",
       "    <tr>\n",
       "      <th>1</th>\n",
       "      <td>金門縣</td>\n",
       "      <td>金獅影城</td>\n",
       "      <td>金門縣金湖鎮中山路8-5號西棟3樓</td>\n",
       "      <td>[24.4417138, 118.3630416]</td>\n",
       "      <td>0.081006</td>\n",
       "    </tr>\n",
       "    <tr>\n",
       "      <th>2</th>\n",
       "      <td>澎湖縣</td>\n",
       "      <td>澎湖in89豪華影城</td>\n",
       "      <td>澎湖縣馬公市同和路158號4樓</td>\n",
       "      <td>[23.56734, 119.572906]</td>\n",
       "      <td>1.444456</td>\n",
       "    </tr>\n",
       "    <tr>\n",
       "      <th>3</th>\n",
       "      <td>雲林縣</td>\n",
       "      <td>北港秀泰影城</td>\n",
       "      <td>雲林縣北港鎮光復里華南路101號2樓</td>\n",
       "      <td>[23.5958633, 120.2858846]</td>\n",
       "      <td>2.039306</td>\n",
       "    </tr>\n",
       "    <tr>\n",
       "      <th>4</th>\n",
       "      <td>雲林縣</td>\n",
       "      <td>白宮戲院</td>\n",
       "      <td>雲林縣虎尾鎮中正路257號</td>\n",
       "      <td>[23.705542, 120.431131]</td>\n",
       "      <td>2.130106</td>\n",
       "    </tr>\n",
       "    <tr>\n",
       "      <th>5</th>\n",
       "      <td>彰化縣</td>\n",
       "      <td>台灣大戲院</td>\n",
       "      <td>彰化縣彰化市中正路二段48號</td>\n",
       "      <td>[24.0806893, 120.5382102]</td>\n",
       "      <td>2.132231</td>\n",
       "    </tr>\n",
       "  </tbody>\n",
       "</table>\n",
       "</div>"
      ],
      "text/plain": [
       "    縣市            事業名稱                  地址                        經緯度  \\\n",
       "0  金門縣  國賓影城@金門昇恆昌金湖廣場   金門縣金湖鎮太湖路二段198號6樓  [24.4392162, 118.4186129]   \n",
       "1  金門縣            金獅影城   金門縣金湖鎮中山路8-5號西棟3樓  [24.4417138, 118.3630416]   \n",
       "2  澎湖縣      澎湖in89豪華影城     澎湖縣馬公市同和路158號4樓     [23.56734, 119.572906]   \n",
       "3  雲林縣          北港秀泰影城  雲林縣北港鎮光復里華南路101號2樓  [23.5958633, 120.2858846]   \n",
       "4  雲林縣            白宮戲院       雲林縣虎尾鎮中正路257號    [23.705542, 120.431131]   \n",
       "5  彰化縣           台灣大戲院      彰化縣彰化市中正路二段48號  [24.0806893, 120.5382102]   \n",
       "\n",
       "       直線距離  \n",
       "0  0.033588  \n",
       "1  0.081006  \n",
       "2  1.444456  \n",
       "3  2.039306  \n",
       "4  2.130106  \n",
       "5  2.132231  "
      ]
     },
     "execution_count": 14,
     "metadata": {},
     "output_type": "execute_result"
    }
   ],
   "source": [
    "the_nearest_cinema"
   ]
  },
  {
   "cell_type": "code",
   "execution_count": 15,
   "metadata": {},
   "outputs": [
    {
     "data": {
      "text/html": [
       "<div>\n",
       "<style scoped>\n",
       "    .dataframe tbody tr th:only-of-type {\n",
       "        vertical-align: middle;\n",
       "    }\n",
       "\n",
       "    .dataframe tbody tr th {\n",
       "        vertical-align: top;\n",
       "    }\n",
       "\n",
       "    .dataframe thead th {\n",
       "        text-align: right;\n",
       "    }\n",
       "</style>\n",
       "<table border=\"1\" class=\"dataframe\">\n",
       "  <thead>\n",
       "    <tr style=\"text-align: right;\">\n",
       "      <th></th>\n",
       "      <th>事業名稱</th>\n",
       "      <th>距離(公尺)</th>\n",
       "      <th>預計時間</th>\n",
       "    </tr>\n",
       "  </thead>\n",
       "  <tbody>\n",
       "    <tr>\n",
       "      <th>0</th>\n",
       "      <td>國賓影城@金門昇恆昌金湖廣場</td>\n",
       "      <td>4953.0</td>\n",
       "      <td>10 mins</td>\n",
       "    </tr>\n",
       "    <tr>\n",
       "      <th>1</th>\n",
       "      <td>金獅影城</td>\n",
       "      <td>11062.0</td>\n",
       "      <td>17 mins</td>\n",
       "    </tr>\n",
       "  </tbody>\n",
       "</table>\n",
       "</div>"
      ],
      "text/plain": [
       "             事業名稱   距離(公尺)     預計時間\n",
       "0  國賓影城@金門昇恆昌金湖廣場   4953.0  10 mins\n",
       "1            金獅影城  11062.0  17 mins"
      ]
     },
     "execution_count": 15,
     "metadata": {},
     "output_type": "execute_result"
    }
   ],
   "source": [
    "mode = 'walking'\n",
    "order_df_dist_google(the_nearest_cinema, location)"
   ]
  },
  {
   "attachments": {},
   "cell_type": "markdown",
   "metadata": {},
   "source": [
    "# 直線距離算法"
   ]
  },
  {
   "cell_type": "code",
   "execution_count": 16,
   "metadata": {},
   "outputs": [],
   "source": [
    "# 這套是算直線距離, return float\n",
    "from Function_list import distance_m\n",
    "def order_df_dist_GC(df, origin):\n",
    "    df = df.copy()\n",
    "    df['距離(公尺)'] = df['經緯度'].map(lambda x: int(distance_m(origin, eval(x))))\n",
    "    df = df.sort_values('距離(公尺)').reset_index(drop=True)\n",
    "    res = df[['事業名稱', '距離(公尺)']].head(3)\n",
    "    return res"
   ]
  },
  {
   "cell_type": "code",
   "execution_count": 17,
   "metadata": {},
   "outputs": [
    {
     "data": {
      "text/html": [
       "<div>\n",
       "<style scoped>\n",
       "    .dataframe tbody tr th:only-of-type {\n",
       "        vertical-align: middle;\n",
       "    }\n",
       "\n",
       "    .dataframe tbody tr th {\n",
       "        vertical-align: top;\n",
       "    }\n",
       "\n",
       "    .dataframe thead th {\n",
       "        text-align: right;\n",
       "    }\n",
       "</style>\n",
       "<table border=\"1\" class=\"dataframe\">\n",
       "  <thead>\n",
       "    <tr style=\"text-align: right;\">\n",
       "      <th></th>\n",
       "      <th>事業名稱</th>\n",
       "      <th>距離(公尺)</th>\n",
       "    </tr>\n",
       "  </thead>\n",
       "  <tbody>\n",
       "    <tr>\n",
       "      <th>0</th>\n",
       "      <td>國賓影城@金門昇恆昌金湖廣場</td>\n",
       "      <td>3586</td>\n",
       "    </tr>\n",
       "    <tr>\n",
       "      <th>1</th>\n",
       "      <td>金獅影城</td>\n",
       "      <td>8275</td>\n",
       "    </tr>\n",
       "    <tr>\n",
       "      <th>2</th>\n",
       "      <td>澎湖in89豪華影城</td>\n",
       "      <td>152113</td>\n",
       "    </tr>\n",
       "  </tbody>\n",
       "</table>\n",
       "</div>"
      ],
      "text/plain": [
       "             事業名稱  距離(公尺)\n",
       "0  國賓影城@金門昇恆昌金湖廣場    3586\n",
       "1            金獅影城    8275\n",
       "2      澎湖in89豪華影城  152113"
      ]
     },
     "execution_count": 17,
     "metadata": {},
     "output_type": "execute_result"
    }
   ],
   "source": [
    "order_df_dist_GC(the_nearest_cinema, location)"
   ]
  }
 ],
 "metadata": {
  "kernelspec": {
   "display_name": "Linebot",
   "language": "python",
   "name": "python3"
  },
  "language_info": {
   "codemirror_mode": {
    "name": "ipython",
    "version": 3
   },
   "file_extension": ".py",
   "mimetype": "text/x-python",
   "name": "python",
   "nbconvert_exporter": "python",
   "pygments_lexer": "ipython3",
   "version": "3.11.2"
  },
  "orig_nbformat": 4
 },
 "nbformat": 4,
 "nbformat_minor": 2
}
