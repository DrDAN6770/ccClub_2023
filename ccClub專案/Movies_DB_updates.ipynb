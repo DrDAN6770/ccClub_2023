{
 "cells": [
  {
   "cell_type": "code",
   "execution_count": 2,
   "metadata": {},
   "outputs": [],
   "source": [
    "import pandas as pd\n",
    "import sqlite3"
   ]
  },
  {
   "attachments": {},
   "cell_type": "markdown",
   "metadata": {},
   "source": [
    "# 讀取DB"
   ]
  },
  {
   "cell_type": "code",
   "execution_count": 3,
   "metadata": {},
   "outputs": [],
   "source": [
    "conn = sqlite3.connect('Movies.db')\n",
    "data_df = pd.read_sql_query(\"SELECT * FROM Movies_latest\", conn)\n",
    "conn.close()"
   ]
  },
  {
   "attachments": {},
   "cell_type": "markdown",
   "metadata": {},
   "source": [
    "# 與原資料做對比"
   ]
  },
  {
   "cell_type": "code",
   "execution_count": 23,
   "metadata": {},
   "outputs": [],
   "source": [
    "# 範例\n",
    "# new_data = [\n",
    "#     {'年度': 120, '中文片名': '到底是怎樣', '原文片名': 'ABC', '國別' : '台灣', '語言': '中文', '類型': 'Drama', 'IMDB ID':'123'},\n",
    "#     {'年度': 121, '中文片名': '測試', '原文片名': 'DEF', '國別' : '台灣', '語言': '中文', '類型': 'Drama', 'IMDB ID':'123'},\n",
    "#     {'年度': 122, '中文片名': '7878', '原文片名': 'GHI', '國別' : '台灣', '語言': '中文', '類型': 'Drama', 'IMDB ID':'123'}\n",
    "# ]\n",
    "\n",
    "# new_df = pd.DataFrame(new_data)"
   ]
  },
  {
   "cell_type": "code",
   "execution_count": null,
   "metadata": {},
   "outputs": [],
   "source": [
    "# # 檢視新舊表格差異(left_only:舊有的, right_only:新增的)\n",
    "# diff_df = pd.merge(data_df, new_df, how='outer', indicator=True)\n",
    "# diff_df = diff_df[diff_df['_merge'] != 'both']\n",
    "# diff_df"
   ]
  },
  {
   "cell_type": "code",
   "execution_count": null,
   "metadata": {},
   "outputs": [],
   "source": [
    "# # 確認新增資料正確\n",
    "# diff_df_right_only = diff_df[diff_df['_merge'] == 'right_only']\n",
    "# diff_df_right_only"
   ]
  },
  {
   "cell_type": "code",
   "execution_count": 34,
   "metadata": {},
   "outputs": [],
   "source": [
    "# add_df= diff_df_right_only.drop('_merge', axis =1)"
   ]
  },
  {
   "attachments": {},
   "cell_type": "markdown",
   "metadata": {},
   "source": [
    "# 新增資料\n",
    "---\n",
    "1. Pandas method\n",
    "2. SQL methhod"
   ]
  },
  {
   "cell_type": "code",
   "execution_count": 7,
   "metadata": {},
   "outputs": [],
   "source": [
    "# 範例Pandas method，執行就會更新了哦!\n",
    "\n",
    "# # 建立與資料庫的連線\n",
    "# conn = sqlite3.connect('Movies.db')\n",
    "\n",
    "# # 建立要新增的資料\n",
    "# new_data = [\n",
    "#     {'年度': 120, '中文片名': '到底是怎樣', '原文片名': 'ABC', '國別' : '台灣', '語言': '中文', '類型': 'Drama', 'IMDB ID':'123'},\n",
    "#     {'年度': 121, '中文片名': '測試', '原文片名': 'DEF', '國別' : '台灣', '語言': '中文', '類型': 'Drama', 'IMDB ID':'123'},\n",
    "#     {'年度': 122, '中文片名': '7878', '原文片名': 'GHI', '國別' : '台灣', '語言': '中文', '類型': 'Drama', 'IMDB ID':'123'}\n",
    "# ]\n",
    "\n",
    "# # 建立pandas dataframe\n",
    "# new_data_df = pd.DataFrame(new_data)\n",
    "\n",
    "# # 將DataFrame的資料新增到資料庫中的表格，透過append會直接在原表格下方新增\n",
    "# new_data_df.to_sql('Movies_latest', conn, if_exists='append', index=False)\n",
    "\n",
    "# # 關閉資料庫連線\n",
    "# conn.close()"
   ]
  },
  {
   "cell_type": "code",
   "execution_count": 64,
   "metadata": {},
   "outputs": [],
   "source": [
    "# 範例SQL method，執行就會更新了哦!\n",
    "\n",
    "# conn = sqlite3.connect('Movies.db')\n",
    "\n",
    "\n",
    "# 改括號\n",
    "# new_data = [\n",
    "#     ('120', '到底是怎樣', 'ABC', '台灣', '中文'),\n",
    "#     ('121', '測試', 'DEF', '台灣', '中文'),\n",
    "#     ('122', '7878', 'GHI', '台灣', '中文')\n",
    "# ]\n",
    "# # 使用 SQL INSERT 語句將資料新增到資料庫的表格\n",
    "# cursor = conn.cursor()\n",
    "# cursor.executemany('INSERT INTO Movies_latest (年度, 中文片名, 原文片名, 國別, 語言) VALUES (?, ?, ?, ?, ?)', new_data)\n",
    "\n",
    "# # 提交事務並關閉游標\n",
    "# conn.commit()\n",
    "# cursor.close()\n",
    "\n",
    "# # 關閉資料庫連線\n",
    "# conn.close()"
   ]
  }
 ],
 "metadata": {
  "kernelspec": {
   "display_name": "Linebot",
   "language": "python",
   "name": "python3"
  },
  "language_info": {
   "codemirror_mode": {
    "name": "ipython",
    "version": 3
   },
   "file_extension": ".py",
   "mimetype": "text/x-python",
   "name": "python",
   "nbconvert_exporter": "python",
   "pygments_lexer": "ipython3",
   "version": "3.11.2"
  },
  "orig_nbformat": 4
 },
 "nbformat": 4,
 "nbformat_minor": 2
}
