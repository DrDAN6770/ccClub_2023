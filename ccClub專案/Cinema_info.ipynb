{
 "cells": [
  {
   "attachments": {},
   "cell_type": "markdown",
   "metadata": {},
   "source": [
    "# Import module"
   ]
  },
  {
   "cell_type": "code",
   "execution_count": 1,
   "metadata": {},
   "outputs": [],
   "source": [
    "import requests\n",
    "from bs4 import BeautifulSoup\n",
    "import pandas as pd\n",
    "import sqlite3\n",
    "import json"
   ]
  },
  {
   "cell_type": "code",
   "execution_count": 2,
   "metadata": {},
   "outputs": [],
   "source": [
    "# 載入自訂義檔案, 地址轉經緯度function\n",
    "from Function_list import get_latitude_longitude"
   ]
  },
  {
   "attachments": {},
   "cell_type": "markdown",
   "metadata": {},
   "source": [
    "# Cinema infomation webcraw"
   ]
  },
  {
   "cell_type": "code",
   "execution_count": 3,
   "metadata": {},
   "outputs": [],
   "source": [
    "def dataset_webcraw(url):\n",
    "    response = requests.get(url)\n",
    "    res = BeautifulSoup(response.text) # 預設html.parser，不打也相同\n",
    "    latest_data = res.find_all('div', class_ = 'download-item')[-1].a['href']\n",
    "    return latest_data\n",
    "url = 'https://data.gov.tw/dataset/22213'\n",
    "latest_data = dataset_webcraw(url)"
   ]
  },
  {
   "attachments": {},
   "cell_type": "markdown",
   "metadata": {},
   "source": [
    "# Data Clean & Feature"
   ]
  },
  {
   "cell_type": "code",
   "execution_count": null,
   "metadata": {},
   "outputs": [],
   "source": [
    "df = pd.read_csv(latest_data)\n",
    "cinema_data = df[['事業名稱','地址']]\n",
    "cinema_data.dropna(inplace=True)"
   ]
  },
  {
   "cell_type": "code",
   "execution_count": null,
   "metadata": {},
   "outputs": [],
   "source": [
    "# 臺 轉 台\n",
    "cinema_data['地址'] = cinema_data['地址'].apply(lambda x: '台' + x[1:] if x.startswith('臺') else x)\n",
    "\n",
    "# 縣市\n",
    "cinema_data['縣市'] = cinema_data['地址'].map(lambda x:x[:3])\n",
    "\n",
    "# 換順序\n",
    "cinema_data = cinema_data.reindex(columns = ['縣市', '事業名稱', '地址'])"
   ]
  },
  {
   "attachments": {},
   "cell_type": "markdown",
   "metadata": {},
   "source": [
    "## 地址錯誤手動修正\n"
   ]
  },
  {
   "cell_type": "code",
   "execution_count": 7,
   "metadata": {},
   "outputs": [],
   "source": [
    "# 時代戲院\t台中市清水區中山路339號3F~5F\n",
    "cinema_data.loc[cinema_data['事業名稱'] == '時代戲院', '地址'] = '台中市清水區中山路339號3F~5F'"
   ]
  },
  {
   "cell_type": "code",
   "execution_count": 8,
   "metadata": {},
   "outputs": [],
   "source": [
    "# 新增經緯度，按下去就會刷google API 哦!\n",
    "cinema_data['經緯度'] = cinema_data['地址'].map(get_latitude_longitude)"
   ]
  },
  {
   "cell_type": "code",
   "execution_count": 9,
   "metadata": {},
   "outputs": [],
   "source": [
    "# 經緯度turple轉string\n",
    "cinema_data['經緯度'] = cinema_data['經緯度'].map(json.dumps)"
   ]
  },
  {
   "attachments": {},
   "cell_type": "markdown",
   "metadata": {},
   "source": [
    "# Save to DataBase、JSON"
   ]
  },
  {
   "cell_type": "code",
   "execution_count": 10,
   "metadata": {},
   "outputs": [],
   "source": [
    "# 不帶index 轉DB\n",
    "conn = sqlite3.connect('TW_cinema_info.db')\n",
    "cinema_data.to_sql('TW_cinema_info_latest', con=conn, if_exists='replace', index=False)\n",
    "conn.close()"
   ]
  },
  {
   "cell_type": "code",
   "execution_count": 13,
   "metadata": {},
   "outputs": [],
   "source": [
    "# # 不index 轉JSON\n",
    "# # 先轉縣市當key、其他為values的dict\n",
    "# # 在字典轉JSON\n",
    "# grouped_county = cinema_data.groupby('縣市').apply(lambda x: x.drop('縣市', axis=1).to_dict(orient='records')).to_dict()\n",
    "# with open('TW_cinema_info_latest.json', 'w', encoding='utf-8') as file:\n",
    "#     json.dump(grouped_county, file, ensure_ascii=False)"
   ]
  },
  {
   "attachments": {},
   "cell_type": "markdown",
   "metadata": {},
   "source": [
    "# 載入DB、JSON"
   ]
  },
  {
   "cell_type": "code",
   "execution_count": 11,
   "metadata": {},
   "outputs": [],
   "source": [
    "# DB\n",
    "conn = sqlite3.connect('TW_cinema_info.db')\n",
    "data_df = pd.read_sql_query(\"SELECT * FROM TW_cinema_info_latest\", conn)\n",
    "conn.close()"
   ]
  },
  {
   "cell_type": "code",
   "execution_count": 14,
   "metadata": {},
   "outputs": [],
   "source": [
    "# # JSON\n",
    "# with open('TW_cinema_info_latest.json', 'r', encoding='utf-8') as f:\n",
    "#     data_dict = json.load(f)"
   ]
  },
  {
   "attachments": {},
   "cell_type": "markdown",
   "metadata": {},
   "source": [
    "# Check"
   ]
  },
  {
   "cell_type": "code",
   "execution_count": 12,
   "metadata": {},
   "outputs": [
    {
     "data": {
      "text/html": [
       "<div>\n",
       "<style scoped>\n",
       "    .dataframe tbody tr th:only-of-type {\n",
       "        vertical-align: middle;\n",
       "    }\n",
       "\n",
       "    .dataframe tbody tr th {\n",
       "        vertical-align: top;\n",
       "    }\n",
       "\n",
       "    .dataframe thead th {\n",
       "        text-align: right;\n",
       "    }\n",
       "</style>\n",
       "<table border=\"1\" class=\"dataframe\">\n",
       "  <thead>\n",
       "    <tr style=\"text-align: right;\">\n",
       "      <th></th>\n",
       "      <th>縣市</th>\n",
       "      <th>事業名稱</th>\n",
       "      <th>地址</th>\n",
       "      <th>經緯度</th>\n",
       "    </tr>\n",
       "  </thead>\n",
       "  <tbody>\n",
       "    <tr>\n",
       "      <th>0</th>\n",
       "      <td>台北市</td>\n",
       "      <td>國賓大戲院</td>\n",
       "      <td>台北市成都路88號</td>\n",
       "      <td>[25.042998, 121.50454]</td>\n",
       "    </tr>\n",
       "    <tr>\n",
       "      <th>1</th>\n",
       "      <td>台北市</td>\n",
       "      <td>台北新光影城</td>\n",
       "      <td>台北市萬華區西寧南路36號4樓</td>\n",
       "      <td>[25.0452169, 121.506424]</td>\n",
       "    </tr>\n",
       "    <tr>\n",
       "      <th>2</th>\n",
       "      <td>台北市</td>\n",
       "      <td>樂聲大戲院</td>\n",
       "      <td>台北市萬華區武昌街2段85號1~5樓</td>\n",
       "      <td>[25.0452854, 121.5048364]</td>\n",
       "    </tr>\n",
       "    <tr>\n",
       "      <th>3</th>\n",
       "      <td>台北市</td>\n",
       "      <td>今日秀泰影城</td>\n",
       "      <td>台北市峨嵋街52號4.6.8樓</td>\n",
       "      <td>[25.0329636, 121.5654268]</td>\n",
       "    </tr>\n",
       "    <tr>\n",
       "      <th>4</th>\n",
       "      <td>台北市</td>\n",
       "      <td>喜滿客絕色電影城</td>\n",
       "      <td>台北市萬華區漢中街52號8至11樓</td>\n",
       "      <td>[25.0438973, 121.5071127]</td>\n",
       "    </tr>\n",
       "    <tr>\n",
       "      <th>...</th>\n",
       "      <td>...</td>\n",
       "      <td>...</td>\n",
       "      <td>...</td>\n",
       "      <td>...</td>\n",
       "    </tr>\n",
       "    <tr>\n",
       "      <th>110</th>\n",
       "      <td>花蓮縣</td>\n",
       "      <td>花蓮新天堂樂園威秀影城</td>\n",
       "      <td>花蓮縣吉安鄉南濱路一段503號3-4樓</td>\n",
       "      <td>[23.9383814, 121.595437]</td>\n",
       "    </tr>\n",
       "    <tr>\n",
       "      <th>111</th>\n",
       "      <td>台東縣</td>\n",
       "      <td>台東秀泰影城</td>\n",
       "      <td>台東縣台東市新生路93號3樓</td>\n",
       "      <td>[22.7523536, 121.147811]</td>\n",
       "    </tr>\n",
       "    <tr>\n",
       "      <th>112</th>\n",
       "      <td>金門縣</td>\n",
       "      <td>金獅影城</td>\n",
       "      <td>金門縣金湖鎮中山路8-5號西棟3樓</td>\n",
       "      <td>[24.4417138, 118.3630416]</td>\n",
       "    </tr>\n",
       "    <tr>\n",
       "      <th>113</th>\n",
       "      <td>金門縣</td>\n",
       "      <td>國賓影城@金門昇恆昌金湖廣場</td>\n",
       "      <td>金門縣金湖鎮太湖路二段198號6樓</td>\n",
       "      <td>[24.4392162, 118.4186129]</td>\n",
       "    </tr>\n",
       "    <tr>\n",
       "      <th>114</th>\n",
       "      <td>澎湖縣</td>\n",
       "      <td>澎湖in89豪華影城</td>\n",
       "      <td>澎湖縣馬公市同和路158號4樓</td>\n",
       "      <td>[23.56734, 119.572906]</td>\n",
       "    </tr>\n",
       "  </tbody>\n",
       "</table>\n",
       "<p>115 rows × 4 columns</p>\n",
       "</div>"
      ],
      "text/plain": [
       "      縣市            事業名稱                   地址                        經緯度\n",
       "0    台北市           國賓大戲院            台北市成都路88號     [25.042998, 121.50454]\n",
       "1    台北市          台北新光影城      台北市萬華區西寧南路36號4樓   [25.0452169, 121.506424]\n",
       "2    台北市           樂聲大戲院   台北市萬華區武昌街2段85號1~5樓  [25.0452854, 121.5048364]\n",
       "3    台北市          今日秀泰影城      台北市峨嵋街52號4.6.8樓  [25.0329636, 121.5654268]\n",
       "4    台北市        喜滿客絕色電影城    台北市萬華區漢中街52號8至11樓  [25.0438973, 121.5071127]\n",
       "..   ...             ...                  ...                        ...\n",
       "110  花蓮縣     花蓮新天堂樂園威秀影城  花蓮縣吉安鄉南濱路一段503號3-4樓   [23.9383814, 121.595437]\n",
       "111  台東縣          台東秀泰影城       台東縣台東市新生路93號3樓   [22.7523536, 121.147811]\n",
       "112  金門縣            金獅影城    金門縣金湖鎮中山路8-5號西棟3樓  [24.4417138, 118.3630416]\n",
       "113  金門縣  國賓影城@金門昇恆昌金湖廣場    金門縣金湖鎮太湖路二段198號6樓  [24.4392162, 118.4186129]\n",
       "114  澎湖縣      澎湖in89豪華影城      澎湖縣馬公市同和路158號4樓     [23.56734, 119.572906]\n",
       "\n",
       "[115 rows x 4 columns]"
      ]
     },
     "execution_count": 12,
     "metadata": {},
     "output_type": "execute_result"
    }
   ],
   "source": [
    "# 經緯度欄位是字串，可透過eval()轉list，方便取出經度緯度\n",
    "data_df"
   ]
  }
 ],
 "metadata": {
  "kernelspec": {
   "display_name": "Python 3",
   "language": "python",
   "name": "python3"
  },
  "language_info": {
   "codemirror_mode": {
    "name": "ipython",
    "version": 3
   },
   "file_extension": ".py",
   "mimetype": "text/x-python",
   "name": "python",
   "nbconvert_exporter": "python",
   "pygments_lexer": "ipython3",
   "version": "3.11.2"
  },
  "orig_nbformat": 4
 },
 "nbformat": 4,
 "nbformat_minor": 2
}
