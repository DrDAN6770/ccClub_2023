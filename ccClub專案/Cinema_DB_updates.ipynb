{
 "cells": [
  {
   "cell_type": "code",
   "execution_count": 1,
   "metadata": {},
   "outputs": [],
   "source": [
    "import requests\n",
    "from bs4 import BeautifulSoup\n",
    "import pandas as pd\n",
    "import sqlite3"
   ]
  },
  {
   "cell_type": "code",
   "execution_count": 2,
   "metadata": {},
   "outputs": [],
   "source": [
    "# 載入自訂義檔案, 地址轉經緯度function、googlemap網址生成function\n",
    "from Function_list import get_latitude_longitude\n",
    "from Function_list import place_url"
   ]
  },
  {
   "attachments": {},
   "cell_type": "markdown",
   "metadata": {},
   "source": [
    "# 爬取最新戲院資料 或是 手動新增"
   ]
  },
  {
   "cell_type": "code",
   "execution_count": 3,
   "metadata": {},
   "outputs": [],
   "source": [
    "def dataset_webcraw(url):\n",
    "    response = requests.get(url)\n",
    "    res = BeautifulSoup(response.text) # 預設html.parser，不打也相同\n",
    "    latest_data = res.find_all('div', class_ = 'download-item')[-1].a['href']\n",
    "    return latest_data\n",
    "url = 'https://data.gov.tw/dataset/22213'\n",
    "latest_data = dataset_webcraw(url)"
   ]
  },
  {
   "cell_type": "code",
   "execution_count": null,
   "metadata": {},
   "outputs": [],
   "source": [
    "df = pd.read_csv(latest_data)\n",
    "cinema_data = df[['事業名稱','地址']]\n",
    "cinema_data.dropna(inplace=True)\n",
    "# 臺 轉 台\n",
    "cinema_data['地址'] = cinema_data['地址'].apply(lambda x: '台' + x[1:] if x.startswith('臺') else x)\n",
    "\n",
    "# 換順序\n",
    "new_df = cinema_data.reindex(columns = ['事業名稱', '地址'])"
   ]
  },
  {
   "cell_type": "code",
   "execution_count": 5,
   "metadata": {},
   "outputs": [],
   "source": [
    "# 手動新增與修正(視資料來源情況處理)\n",
    "# 時代戲院\t台中市清水區中山路339號3F~5F\n",
    "new_df.loc[cinema_data['事業名稱'] == '時代戲院', '地址'] = '台中市清水區中山路339號3F~5F'"
   ]
  },
  {
   "attachments": {},
   "cell_type": "markdown",
   "metadata": {},
   "source": [
    "# 與原DB對照"
   ]
  },
  {
   "cell_type": "code",
   "execution_count": 6,
   "metadata": {},
   "outputs": [
    {
     "data": {
      "text/html": [
       "<div>\n",
       "<style scoped>\n",
       "    .dataframe tbody tr th:only-of-type {\n",
       "        vertical-align: middle;\n",
       "    }\n",
       "\n",
       "    .dataframe tbody tr th {\n",
       "        vertical-align: top;\n",
       "    }\n",
       "\n",
       "    .dataframe thead th {\n",
       "        text-align: right;\n",
       "    }\n",
       "</style>\n",
       "<table border=\"1\" class=\"dataframe\">\n",
       "  <thead>\n",
       "    <tr style=\"text-align: right;\">\n",
       "      <th></th>\n",
       "      <th>事業名稱</th>\n",
       "      <th>地址</th>\n",
       "      <th>經緯度</th>\n",
       "      <th>_merge</th>\n",
       "    </tr>\n",
       "  </thead>\n",
       "  <tbody>\n",
       "  </tbody>\n",
       "</table>\n",
       "</div>"
      ],
      "text/plain": [
       "Empty DataFrame\n",
       "Columns: [事業名稱, 地址, 經緯度, _merge]\n",
       "Index: []"
      ]
     },
     "execution_count": 6,
     "metadata": {},
     "output_type": "execute_result"
    }
   ],
   "source": [
    "# 載入原DB\n",
    "conn = sqlite3.connect('TW_cinema_info.db')\n",
    "data_df = pd.read_sql_query(\"SELECT * FROM TW_cinema_info_latest\", conn)\n",
    "conn.close()\n",
    "\n",
    "# 檢視新舊表格差異(left_only:舊有的, right_only:新增的)\n",
    "diff_df = pd.merge(data_df, new_df, how='outer', indicator=True)\n",
    "diff_df = diff_df[diff_df['_merge'] != 'both']\n",
    "diff_df\n",
    "\n",
    "# 有問題就把原本data_df重新存1次覆蓋DB"
   ]
  },
  {
   "cell_type": "code",
   "execution_count": 7,
   "metadata": {},
   "outputs": [
    {
     "data": {
      "text/html": [
       "<div>\n",
       "<style scoped>\n",
       "    .dataframe tbody tr th:only-of-type {\n",
       "        vertical-align: middle;\n",
       "    }\n",
       "\n",
       "    .dataframe tbody tr th {\n",
       "        vertical-align: top;\n",
       "    }\n",
       "\n",
       "    .dataframe thead th {\n",
       "        text-align: right;\n",
       "    }\n",
       "</style>\n",
       "<table border=\"1\" class=\"dataframe\">\n",
       "  <thead>\n",
       "    <tr style=\"text-align: right;\">\n",
       "      <th></th>\n",
       "      <th>事業名稱</th>\n",
       "      <th>地址</th>\n",
       "      <th>經緯度</th>\n",
       "      <th>_merge</th>\n",
       "    </tr>\n",
       "  </thead>\n",
       "  <tbody>\n",
       "  </tbody>\n",
       "</table>\n",
       "</div>"
      ],
      "text/plain": [
       "Empty DataFrame\n",
       "Columns: [事業名稱, 地址, 經緯度, _merge]\n",
       "Index: []"
      ]
     },
     "execution_count": 7,
     "metadata": {},
     "output_type": "execute_result"
    }
   ],
   "source": [
    "# 舊DB中沒有，但新DB中有的資料\n",
    "diff_df_right_only = diff_df[diff_df['_merge'] == 'right_only']\n",
    "diff_df_right_only"
   ]
  },
  {
   "cell_type": "code",
   "execution_count": null,
   "metadata": {},
   "outputs": [],
   "source": [
    "# 舊DB中有，但新DB中沒有的資料 -> 要刪掉\n",
    "# 以地址作為依據 (擔心戲院名稱有重複)\n",
    "diff_df_left_only = diff_df[diff_df['_merge'] == 'left_only']\n",
    "del_address = list(diff_df_left_only['地址'])\n",
    "del_address"
   ]
  },
  {
   "attachments": {},
   "cell_type": "markdown",
   "metadata": {},
   "source": [
    "# 新增資料、修改資料、清理資料"
   ]
  },
  {
   "cell_type": "code",
   "execution_count": 8,
   "metadata": {},
   "outputs": [],
   "source": [
    "# 要新增的資料\n",
    "add_df = diff_df_right_only.drop('_merge',axis =1)\n",
    "add_df"
   ]
  },
  {
   "cell_type": "code",
   "execution_count": 11,
   "metadata": {},
   "outputs": [
    {
     "data": {
      "text/html": [
       "<div>\n",
       "<style scoped>\n",
       "    .dataframe tbody tr th:only-of-type {\n",
       "        vertical-align: middle;\n",
       "    }\n",
       "\n",
       "    .dataframe tbody tr th {\n",
       "        vertical-align: top;\n",
       "    }\n",
       "\n",
       "    .dataframe thead th {\n",
       "        text-align: right;\n",
       "    }\n",
       "</style>\n",
       "<table border=\"1\" class=\"dataframe\">\n",
       "  <thead>\n",
       "    <tr style=\"text-align: right;\">\n",
       "      <th></th>\n",
       "      <th>事業名稱</th>\n",
       "      <th>地址</th>\n",
       "      <th>經緯度</th>\n",
       "    </tr>\n",
       "  </thead>\n",
       "  <tbody>\n",
       "  </tbody>\n",
       "</table>\n",
       "</div>"
      ],
      "text/plain": [
       "Empty DataFrame\n",
       "Columns: [事業名稱, 地址, 經緯度]\n",
       "Index: []"
      ]
     },
     "execution_count": 11,
     "metadata": {},
     "output_type": "execute_result"
    }
   ],
   "source": [
    "# 新增經緯度，按下去就會刷google API 哦!\n",
    "add_df['經緯度'] = add_df['地址'].map(get_latitude_longitude)\n",
    "\n",
    "# 經緯度turple轉string\n",
    "add_df['經緯度'] = add_df['經緯度'].map(lambda x:str(x).strip('()'))\n",
    "\n",
    "# 新增google map的網址，按下去也會刷google API 哦!\n",
    "add_df['googlemap網址'] = add_df.apply(place_url, axis = 1)\n",
    "add_df"
   ]
  },
  {
   "attachments": {},
   "cell_type": "markdown",
   "metadata": {},
   "source": [
    "# 更新DB"
   ]
  },
  {
   "cell_type": "code",
   "execution_count": null,
   "metadata": {},
   "outputs": [],
   "source": [
    "# 更新\n",
    "\n",
    "# # 建立與資料庫的連線\n",
    "# conn = sqlite3.connect('TW_cinema_info.db')\n",
    "\n",
    "# # 將已不存在的戲院刪除\n",
    "# cursor = conn.cursor()\n",
    "# for address in del_address:\n",
    "#     sql = f'DELETE FROM TW_cinema_info_latest WHERE 地址=\\'{address}\\''\n",
    "#     cursor.execute(sql)\n",
    "#     conn.commit()\n",
    "# cursor.close()\n",
    "\n",
    "# # 將DataFrame的資料新增到資料庫中的表格，透過append會直接在原表格下方新增\n",
    "# add_df.to_sql('TW_cinema_info_latest', conn, if_exists='append', index=False)\n",
    "\n",
    "# # 關閉資料庫連線\n",
    "# conn.close()"
   ]
  }
 ],
 "metadata": {
  "kernelspec": {
   "display_name": "Linebot",
   "language": "python",
   "name": "python3"
  },
  "language_info": {
   "codemirror_mode": {
    "name": "ipython",
    "version": 3
   },
   "file_extension": ".py",
   "mimetype": "text/x-python",
   "name": "python",
   "nbconvert_exporter": "python",
   "pygments_lexer": "ipython3",
   "version": "3.11.2"
  },
  "orig_nbformat": 4
 },
 "nbformat": 4,
 "nbformat_minor": 2
}
