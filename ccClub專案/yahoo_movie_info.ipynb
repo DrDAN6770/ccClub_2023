{
 "cells": [
  {
   "attachments": {},
   "cell_type": "markdown",
   "metadata": {},
   "source": [
    "# Import Module"
   ]
  },
  {
   "cell_type": "code",
   "execution_count": 1,
   "metadata": {},
   "outputs": [],
   "source": [
    "import requests\n",
    "import re\n",
    "from bs4 import BeautifulSoup\n",
    "from time import sleep\n",
    "from random import random"
   ]
  },
  {
   "attachments": {},
   "cell_type": "markdown",
   "metadata": {},
   "source": [
    "# User Input"
   ]
  },
  {
   "cell_type": "code",
   "execution_count": 2,
   "metadata": {},
   "outputs": [],
   "source": [
    "def user_input():\n",
    "    while True:\n",
    "        try:\n",
    "            movie_name = input(\"請輸入欲搜尋的電影名稱：\")\n",
    "            if movie_name.strip():\n",
    "                return movie_name\n",
    "        except:\n",
    "            print('\\nTry Again')\n",
    "            return None\n",
    "\n",
    "def search_movie(query):\n",
    "    # search\n",
    "    encoded_query = requests.utils.quote(query)\n",
    "    url = f\"https://movies.yahoo.com.tw/moviesearch_result.html?keyword={encoded_query}\"\n",
    "    response = requests.get(url)\n",
    "    soup = BeautifulSoup(response.text, \"html.parser\")\n",
    "    movie_titles = soup.find_all(\"div\", class_=\"release_movie_name\")\n",
    "\n",
    "    # check\n",
    "    def search_check(movie_titles):\n",
    "        res_count = len(movie_titles)\n",
    "        if res_count == 0:\n",
    "            print(f'沒有找到{query}')\n",
    "            return None\n",
    "        elif res_count > 1:\n",
    "            for m in movie_titles:\n",
    "                ans = None\n",
    "                while ans != 'Y' and ans != 'N':\n",
    "                    ans = input(f'找到多部電影，返回第一個搜尋{m.a.text}(Y)或是往下搜索(N):')\n",
    "                if ans == 'Y':\n",
    "                    return m.a.text, m.a['href']\n",
    "                elif ans == 'N':\n",
    "                    continue\n",
    "            # 該次搜尋都沒找到，重新搜尋\n",
    "            search_movie(user_input())\n",
    "            sleep(1 + random())\n",
    "        else:\n",
    "            return movie_titles[0].a['href']\n",
    "    \n",
    "    return search_check(movie_titles)"
   ]
  },
  {
   "attachments": {},
   "cell_type": "markdown",
   "metadata": {},
   "source": [
    "# Get specific moive infomation"
   ]
  },
  {
   "cell_type": "code",
   "execution_count": 3,
   "metadata": {},
   "outputs": [],
   "source": [
    "def specific_moive_info(movie_link):\n",
    "    def review_latest(review_link):\n",
    "        if review_link == None:\n",
    "            return None\n",
    "        res = []\n",
    "        response = requests.get(review_link)\n",
    "        soup = BeautifulSoup(response.text, \"html.parser\")\n",
    "        reviews = soup.find_all('div', class_='usercom_inner _c')\n",
    "        for i in reviews[:5]:\n",
    "            # res.append(i.find_all('span')[-1].text.strip().replace('\\r\\n', ''))\n",
    "            res.append(re.sub(r'[\\s]{2,}|[\\n\\r\\t]+','',i.find_all('span')[-1].text))\n",
    "        return res if res else '該電影目前無評論'\n",
    "\n",
    "    # movie & reviewlink\n",
    "    movie_info = {}\n",
    "    response = requests.get(movie_link)\n",
    "    soup = BeautifulSoup(response.text, \"html.parser\")\n",
    "    movie = soup.find('div', class_ = 'movie_intro_info_r')\n",
    "    review = soup.find('div', class_ ='btn_plus_more usercom_more gabtn')\n",
    "    review_link = review.a['href'] if review else None\n",
    "    starscore = soup.find('div', class_ = 'score_num count')\n",
    "    starbox = soup.find('div', class_ = 'starbox2')\n",
    "\n",
    "    # moiveinfo\n",
    "    chname = re.sub(r'[\\s]{2,}|[\\n\\r\\t]+','',movie.h1.text)\n",
    "    engname = re.sub(r'[\\s]{2,}|[\\n\\r\\t]+','',movie.h3.text) if movie.h3.text else None\n",
    "    \n",
    "    if starscore and starbox:\n",
    "        starscore = f'{starscore.text} / 5 {starbox.text.strip()}'\n",
    "    else:\n",
    "        starscore = None\n",
    "    \n",
    "    reviews = review_latest(review_link)\n",
    "\n",
    "    release_date, IMDB = None, None\n",
    "    for i in movie.find_all('span'):\n",
    "        text = i.text.strip()\n",
    "        if '上映日期' in text:\n",
    "            release_date = text.split('：')[1]\n",
    "        elif 'IMDb分數' in text:\n",
    "            IMDB = f\"{text.split('：')[1]} / 10\"\n",
    "    movie_info['中文名稱'] = chname\n",
    "    movie_info['英文名稱'] = engname\n",
    "    movie_info['上映日期'] = release_date\n",
    "    movie_info['滿意度'] = starscore\n",
    "    movie_info['IMDb'] = IMDB\n",
    "    movie_info['最新5則評論'] = reviews\n",
    "\n",
    "    return movie_info"
   ]
  },
  {
   "attachments": {},
   "cell_type": "markdown",
   "metadata": {},
   "source": [
    "# Ouput"
   ]
  },
  {
   "cell_type": "code",
   "execution_count": 10,
   "metadata": {},
   "outputs": [
    {
     "data": {
      "text/plain": [
       "{'中文名稱': '動物方城市',\n",
       " '英文名稱': 'Zootopia',\n",
       " '上映日期': '2016-02-26',\n",
       " '滿意度': '4.7 / 5 (共1293人投票)',\n",
       " 'IMDb': '8.1 / 10',\n",
       " '最新5則評論': ['現在的動畫即使是大人也能看的很樂在其中，有趣的劇情、還有一些寓意',\n",
       "  '看似給小朋友看的動畫片，其實是有深度、有寓意，就算是大人也能看的津津樂道的一部好片，毫不猶豫的給5分。',\n",
       "  '以動物的角色反映現實的社會環境~~~~~~~~~~~~~~~~~~~~~',\n",
       "  '歌曲很棒兔子敏捷，看似弱小但能力很強樹懶非常令人印象深刻，太好笑太可愛了^^看外表不能代表一切，是要經過彼此的了解及相處的才不會有所謂的刻板印象。',\n",
       "  '兔子很敏捷 歌很好聽 劇情也很好 幾乎沒有任何缺點不要排擠別人 看似弱小的人其實也是很強的']}"
      ]
     },
     "execution_count": 10,
     "metadata": {},
     "output_type": "execute_result"
    }
   ],
   "source": [
    "res = search_movie(user_input())\n",
    "movie_info = specific_moive_info(res[1]) if res else None\n",
    "movie_info"
   ]
  }
 ],
 "metadata": {
  "kernelspec": {
   "display_name": "Python 3",
   "language": "python",
   "name": "python3"
  },
  "language_info": {
   "codemirror_mode": {
    "name": "ipython",
    "version": 3
   },
   "file_extension": ".py",
   "mimetype": "text/x-python",
   "name": "python",
   "nbconvert_exporter": "python",
   "pygments_lexer": "ipython3",
   "version": "3.11.2"
  },
  "orig_nbformat": 4
 },
 "nbformat": 4,
 "nbformat_minor": 2
}
