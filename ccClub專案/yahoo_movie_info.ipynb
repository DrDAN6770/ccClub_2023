{
 "cells": [
  {
   "attachments": {},
   "cell_type": "markdown",
   "metadata": {},
   "source": [
    "# Import Module"
   ]
  },
  {
   "cell_type": "code",
   "execution_count": 11,
   "metadata": {},
   "outputs": [],
   "source": [
    "import requests\n",
    "import re\n",
    "from bs4 import BeautifulSoup\n",
    "from time import sleep\n",
    "from random import random"
   ]
  },
  {
   "attachments": {},
   "cell_type": "markdown",
   "metadata": {},
   "source": [
    "# User Input"
   ]
  },
  {
   "cell_type": "code",
   "execution_count": 12,
   "metadata": {},
   "outputs": [],
   "source": [
    "def user_input():\n",
    "    while True:\n",
    "        try:\n",
    "            movie_name = input(\"請輸入欲搜尋的電影名稱：\")\n",
    "            if movie_name.strip():\n",
    "                return movie_name\n",
    "        except:\n",
    "            print('\\nTry Again')\n",
    "            return None\n",
    "\n",
    "def search_movie(query):\n",
    "    # search\n",
    "    encoded_query = requests.utils.quote(query)\n",
    "    url = f\"https://movies.yahoo.com.tw/moviesearch_result.html?keyword={encoded_query}\"\n",
    "    response = requests.get(url)\n",
    "    soup = BeautifulSoup(response.text, \"html.parser\")\n",
    "    movie_titles = soup.find_all(\"div\", class_=\"release_movie_name\")\n",
    "\n",
    "    # check\n",
    "    def search_check(movie_titles):\n",
    "        res_count = len(movie_titles)\n",
    "        if res_count == 0:\n",
    "            print(f'沒有找到{query}')\n",
    "            return None\n",
    "        elif res_count > 1:\n",
    "            res = movie_titles[0]\n",
    "            ans = None\n",
    "            while ans != 'Y' and ans != 'N':\n",
    "                ans = input(f'找到多部電影，返回第一個搜尋{res.a.text}(Y)或是重新搜尋(N):')\n",
    "\n",
    "            if ans == 'Y':\n",
    "                return res.a['href']\n",
    "            elif ans == 'N':\n",
    "                search_movie(user_input())\n",
    "                sleep(1 + random())\n",
    "        else:\n",
    "            return movie_titles[0].a['href']\n",
    "    \n",
    "    return search_check(movie_titles)"
   ]
  },
  {
   "attachments": {},
   "cell_type": "markdown",
   "metadata": {},
   "source": [
    "# Get specific moive infomation"
   ]
  },
  {
   "cell_type": "code",
   "execution_count": 13,
   "metadata": {},
   "outputs": [],
   "source": [
    "def specific_moive_info(movie_link):\n",
    "    def review_latest(review_link):\n",
    "        if review_link == None:\n",
    "            return None\n",
    "        res = []\n",
    "        response = requests.get(review_link)\n",
    "        soup = BeautifulSoup(response.text, \"html.parser\")\n",
    "        reviews = soup.find_all('div', class_='usercom_inner _c')\n",
    "        for i in reviews[:5]:\n",
    "            # res.append(i.find_all('span')[-1].text.strip().replace('\\r\\n', ''))\n",
    "            res.append(re.sub(r'[\\s]{2,}|[\\n\\r\\t]+','',i.find_all('span')[-1].text))\n",
    "        return res\n",
    "\n",
    "    # movie & reviewlink\n",
    "    movie_info = {}\n",
    "    response = requests.get(movie_link)\n",
    "    soup = BeautifulSoup(response.text, \"html.parser\")\n",
    "    movie = soup.find('div', class_ = 'movie_intro_info_r')\n",
    "    review = soup.find('div', class_ ='btn_plus_more usercom_more gabtn')\n",
    "    review_link = review.a['href'] if review else None\n",
    "    starscore = soup.find('div', class_ = 'score_num count')\n",
    "    starbox = soup.find('div', class_ = 'starbox2')\n",
    "\n",
    "    # moiveinfo\n",
    "    chname = re.sub(r'[\\s]{2,}|[\\n\\r\\t]+','',movie.h1.text)\n",
    "    engname = re.sub(r'[\\s]{2,}|[\\n\\r\\t]+','',movie.h3.text) if movie.h3.text else None\n",
    "    \n",
    "    if starscore and starbox:\n",
    "        starscore = f'{starscore.text} / 5 {starbox.text.strip()}'\n",
    "    else:\n",
    "        starscore = None\n",
    "    \n",
    "    reviews = review_latest(review_link)\n",
    "\n",
    "    release_date, IMDB = None, None\n",
    "    for i in movie.find_all('span'):\n",
    "        text = i.text.strip()\n",
    "        if '上映日期' in text:\n",
    "            release_date = text.split('：')[1]\n",
    "        elif 'IMDb分數' in text:\n",
    "            IMDB = f\"{text.split('：')[1]} / 10\"\n",
    "    movie_info['中文名稱'] = chname\n",
    "    movie_info['英文名稱'] = engname\n",
    "    movie_info['上映日期'] = release_date\n",
    "    movie_info['滿意度'] = starscore\n",
    "    movie_info['IMDb'] = IMDB\n",
    "    movie_info['最新5則評論'] = reviews if reviews else None\n",
    "\n",
    "    return movie_info"
   ]
  },
  {
   "attachments": {},
   "cell_type": "markdown",
   "metadata": {},
   "source": [
    "# Ouput"
   ]
  },
  {
   "cell_type": "code",
   "execution_count": 19,
   "metadata": {},
   "outputs": [
    {
     "name": "stdout",
     "output_type": "stream",
     "text": [
      "中文名稱 鋼鐵人3\n",
      "英文名稱 IRON MAN 3\n",
      "上映日期 2013-04-24\n",
      "滿意度 4.5 / 5 (共3861人投票)\n",
      "IMDb 7.2 / 10\n",
      "最新5則評論 :\n",
      "1 新鮮度有下降1.2集感覺比較好看一些\n",
      "2 一二集好看多了.第三集根本只是看換裝秀.劇情和戰鬥場面都普通.我想看的是更多驚人的武器.漫畫裡有那麼多超炫的技能.電影都沒看到.越看越無聊\n",
      "3 鋼鐵人好棒，小勞勃道尼實在魅力十足\n",
      "4 不就鋼鐵人很屌?打來打去而已，沒什麼深度劇情，這種東西最多只能給3顆星，但是我不爽大家都那麼支持商業化的爽片，所以給一顆\n",
      "5 看完鋼鐵人就是覺得好看 看完不會失望 好看^^\n"
     ]
    }
   ],
   "source": [
    "res = search_movie(user_input())\n",
    "if res:\n",
    "    movie_info = specific_moive_info(res)\n",
    "    for k,v in movie_info.items():\n",
    "        if k != '最新5則評論':\n",
    "            print(k,v)\n",
    "        else:\n",
    "            if v:\n",
    "                print(k,':')\n",
    "                for idx, val in enumerate(v,1):\n",
    "                    print(idx, val)\n",
    "            else:\n",
    "                print(k,v)"
   ]
  }
 ],
 "metadata": {
  "kernelspec": {
   "display_name": "Python 3",
   "language": "python",
   "name": "python3"
  },
  "language_info": {
   "codemirror_mode": {
    "name": "ipython",
    "version": 3
   },
   "file_extension": ".py",
   "mimetype": "text/x-python",
   "name": "python",
   "nbconvert_exporter": "python",
   "pygments_lexer": "ipython3",
   "version": "3.11.2"
  },
  "orig_nbformat": 4
 },
 "nbformat": 4,
 "nbformat_minor": 2
}
