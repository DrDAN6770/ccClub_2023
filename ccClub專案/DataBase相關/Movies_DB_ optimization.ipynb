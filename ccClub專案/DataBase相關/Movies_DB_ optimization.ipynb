{
 "cells": [
  {
   "cell_type": "code",
   "execution_count": 1,
   "metadata": {},
   "outputs": [],
   "source": [
    "import pandas as pd\n",
    "import sqlite3"
   ]
  },
  {
   "cell_type": "markdown",
   "metadata": {},
   "source": [
    "# Schema"
   ]
  },
  {
   "cell_type": "markdown",
   "metadata": {},
   "source": [
    "## Main table"
   ]
  },
  {
   "cell_type": "code",
   "execution_count": 50,
   "metadata": {},
   "outputs": [],
   "source": [
    "# conn = sqlite3.connect('MoviesDB.db')\n",
    "# create_table_sql = '''\n",
    "# CREATE TABLE IF NOT EXISTS movies (\n",
    "#     `id` INTEGER PRIMARY KEY,\n",
    "#     `年度` INTEGER,\n",
    "#     `中文片名` VARCHAR(150),\n",
    "#     `原文片名` VARCHAR(150),\n",
    "#     `國別` INTEGER,\n",
    "#     `語言` VARCHAR(50),\n",
    "#     `類型` VARCHAR(100),\n",
    "#     `IMDB ID` VARCHAR(20)\n",
    "# )\n",
    "# '''\n",
    "# conn.execute(create_table_sql)\n",
    "# data_df.to_sql('movies', conn, if_exists='append', index=False)\n",
    "# conn.commit()\n",
    "# conn.close()"
   ]
  },
  {
   "cell_type": "markdown",
   "metadata": {},
   "source": [
    "## Countrys table"
   ]
  },
  {
   "cell_type": "code",
   "execution_count": 4,
   "metadata": {},
   "outputs": [],
   "source": [
    "# country_dict = data_df['國別'].value_counts().to_dict()\n",
    "# country_dict = {val:id for id, val in enumerate(country_dict)} # ex : {'美國' : 0}\n",
    "\n",
    "# conn = sqlite3.connect('MoviesDB.db')\n",
    "# create_table_sql = '''\n",
    "# CREATE TABLE IF NOT EXISTS countrys (\n",
    "#     id INT PRIMARY KEY,\n",
    "#     國別 VARCHAR(10)\n",
    "# )\n",
    "# '''\n",
    "# conn.execute(create_table_sql)\n",
    "\n",
    "# for country, id in country_dict.items():\n",
    "#     conn.execute(\"INSERT INTO countrys (id, 國別) VALUES (?, ?)\", (id,country))\n",
    "# conn.commit()\n",
    "# conn.close()"
   ]
  }
 ],
 "metadata": {
  "kernelspec": {
   "display_name": "Python 3",
   "language": "python",
   "name": "python3"
  },
  "language_info": {
   "codemirror_mode": {
    "name": "ipython",
    "version": 3
   },
   "file_extension": ".py",
   "mimetype": "text/x-python",
   "name": "python",
   "nbconvert_exporter": "python",
   "pygments_lexer": "ipython3",
   "version": "3.11.2"
  },
  "orig_nbformat": 4
 },
 "nbformat": 4,
 "nbformat_minor": 2
}
