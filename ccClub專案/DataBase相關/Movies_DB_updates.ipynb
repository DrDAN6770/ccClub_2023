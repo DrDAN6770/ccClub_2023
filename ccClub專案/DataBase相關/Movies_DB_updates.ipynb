{
 "cells": [
  {
   "cell_type": "code",
   "execution_count": 1,
   "metadata": {},
   "outputs": [],
   "source": [
    "import pandas as pd\n",
    "import sqlite3"
   ]
  },
  {
   "attachments": {},
   "cell_type": "markdown",
   "metadata": {},
   "source": [
    "# 讀取DB"
   ]
  },
  {
   "cell_type": "code",
   "execution_count": 2,
   "metadata": {},
   "outputs": [],
   "source": [
    "conn = sqlite3.connect('Movies.db')\n",
    "data_df = pd.read_sql_query(\"SELECT * FROM Movies_latest\", conn)\n",
    "conn.close()"
   ]
  },
  {
   "attachments": {},
   "cell_type": "markdown",
   "metadata": {},
   "source": [
    "# 與原資料做對比"
   ]
  },
  {
   "cell_type": "code",
   "execution_count": 23,
   "metadata": {},
   "outputs": [],
   "source": [
    "# 範例\n",
    "# new_data = [\n",
    "#     {'年度': 120, '中文片名': '到底是怎樣', '原文片名': 'ABC', '國別' : '台灣', '語言': '中文', '類型': 'Drama', 'IMDB ID':'123'},\n",
    "#     {'年度': 121, '中文片名': '測試', '原文片名': 'DEF', '國別' : '台灣', '語言': '中文', '類型': 'Drama', 'IMDB ID':'123'},\n",
    "#     {'年度': 122, '中文片名': '7878', '原文片名': 'GHI', '國別' : '台灣', '語言': '中文', '類型': 'Drama', 'IMDB ID':'123'}\n",
    "# ]\n",
    "\n",
    "# new_df = pd.DataFrame(new_data)"
   ]
  },
  {
   "cell_type": "code",
   "execution_count": null,
   "metadata": {},
   "outputs": [],
   "source": [
    "# # 檢視新舊表格差異(left_only:舊有的, right_only:新增的)\n",
    "# diff_df = pd.merge(data_df, new_df, how='outer', indicator=True)\n",
    "# diff_df = diff_df[diff_df['_merge'] != 'both']\n",
    "# diff_df"
   ]
  },
  {
   "cell_type": "code",
   "execution_count": null,
   "metadata": {},
   "outputs": [],
   "source": [
    "# # 確認新增資料正確\n",
    "# diff_df_right_only = diff_df[diff_df['_merge'] == 'right_only']\n",
    "# diff_df_right_only"
   ]
  },
  {
   "cell_type": "code",
   "execution_count": 34,
   "metadata": {},
   "outputs": [],
   "source": [
    "# add_df= diff_df_right_only.drop('_merge', axis =1)"
   ]
  },
  {
   "attachments": {},
   "cell_type": "markdown",
   "metadata": {},
   "source": [
    "# 新增資料\n",
    "---\n",
    "1. Pandas method\n",
    "2. SQL methhod"
   ]
  },
  {
   "cell_type": "code",
   "execution_count": 7,
   "metadata": {},
   "outputs": [],
   "source": [
    "# 範例Pandas method，執行就會更新了哦!\n",
    "\n",
    "# # 建立與資料庫的連線\n",
    "# conn = sqlite3.connect('Movies.db')\n",
    "\n",
    "# # 建立要新增的資料\n",
    "# new_data = [\n",
    "#     {'年度': 120, '中文片名': '到底是怎樣', '原文片名': 'ABC', '國別' : '台灣', '語言': '中文', '類型': 'Drama', 'IMDB ID':'123'},\n",
    "#     {'年度': 121, '中文片名': '測試', '原文片名': 'DEF', '國別' : '台灣', '語言': '中文', '類型': 'Drama', 'IMDB ID':'123'},\n",
    "#     {'年度': 122, '中文片名': '7878', '原文片名': 'GHI', '國別' : '台灣', '語言': '中文', '類型': 'Drama', 'IMDB ID':'123'}\n",
    "# ]\n",
    "\n",
    "# # 建立pandas dataframe\n",
    "# new_data_df = pd.DataFrame(new_data)\n",
    "\n",
    "# # 將DataFrame的資料新增到資料庫中的表格，透過append會直接在原表格下方新增\n",
    "# new_data_df.to_sql('Movies_latest', conn, if_exists='append', index=False)\n",
    "\n",
    "# # 關閉資料庫連線\n",
    "# conn.close()"
   ]
  },
  {
   "cell_type": "code",
   "execution_count": 64,
   "metadata": {},
   "outputs": [],
   "source": [
    "# 範例SQL method，執行就會更新了哦!\n",
    "\n",
    "# conn = sqlite3.connect('Movies.db')\n",
    "\n",
    "\n",
    "# 改括號\n",
    "# new_data = [\n",
    "#     ('120', '到底是怎樣', 'ABC', '台灣', '中文'),\n",
    "#     ('121', '測試', 'DEF', '台灣', '中文'),\n",
    "#     ('122', '7878', 'GHI', '台灣', '中文')\n",
    "# ]\n",
    "# # 使用 SQL INSERT 語句將資料新增到資料庫的表格\n",
    "# cursor = conn.cursor()\n",
    "# cursor.executemany('INSERT INTO Movies_latest (年度, 中文片名, 原文片名, 國別, 語言) VALUES (?, ?, ?, ?, ?)', new_data)\n",
    "\n",
    "# # 提交事務並關閉游標\n",
    "# conn.commit()\n",
    "# cursor.close()\n",
    "\n",
    "# # 關閉資料庫連線\n",
    "# conn.close()"
   ]
  },
  {
   "cell_type": "markdown",
   "metadata": {},
   "source": [
    "# 處理部分語言沒有分割乾淨的問題、中華民國改臺灣、大陸改中國\n",
    "---\n",
    "這裡用完應該也不需要再做了"
   ]
  },
  {
   "cell_type": "code",
   "execution_count": 35,
   "metadata": {},
   "outputs": [],
   "source": [
    "import pandas as pd\n",
    "import sqlite3\n",
    "import re"
   ]
  },
  {
   "cell_type": "code",
   "execution_count": 621,
   "metadata": {},
   "outputs": [],
   "source": [
    "# conn = sqlite3.connect('Movies.db')\n",
    "# data_df = pd.read_sql_query(\"SELECT * FROM Movies_latest\", conn)\n",
    "# conn.close()"
   ]
  },
  {
   "cell_type": "code",
   "execution_count": 23,
   "metadata": {},
   "outputs": [],
   "source": [
    "# # 2個各案處理\n",
    "# index = data_df[data_df['中文片名']=='灣生回家'].index\n",
    "# data_df.loc[index, '語言'] = '日語, 國語, 閩南語'\n",
    "# data_df.loc[index, '國別'] = '中華民國'\n",
    "\n",
    "# index = data_df[data_df['中文片名']=='帝國戰神：巴霍巴利王'].index\n",
    "# data_df.loc[index, '語言'] = '泰米爾語'\n",
    "# data_df.loc[index, '國別'] = '印度'"
   ]
  },
  {
   "cell_type": "code",
   "execution_count": 617,
   "metadata": {},
   "outputs": [],
   "source": [
    "# # 中華民國改臺灣\n",
    "# idx = data_df[data_df['國別'].str.contains('中華民國')].index\n",
    "# data_df.loc[idx, '國別'] = '臺灣'\n",
    "\n",
    "# # 大陸改中國\n",
    "# idx = data_df[data_df['國別'].str.contains('大陸')].index\n",
    "# data_df.loc[idx, '國別'] = '中國'"
   ]
  },
  {
   "cell_type": "code",
   "execution_count": 651,
   "metadata": {},
   "outputs": [],
   "source": [
    "# # 讀出去\n",
    "# conn = sqlite3.connect('Movies.db')\n",
    "# data_df.to_sql('Movies_latest', conn, if_exists='replace', index=False)\n",
    "# conn.close()"
   ]
  },
  {
   "attachments": {},
   "cell_type": "markdown",
   "metadata": {},
   "source": [
    "# IMDb ID 爬中文名稱\n",
    "---\n",
    "這裡用完應該也不需要在查找了"
   ]
  },
  {
   "cell_type": "code",
   "execution_count": 2,
   "metadata": {},
   "outputs": [],
   "source": [
    "# import requests\n",
    "# from bs4 import BeautifulSoup\n",
    "# import re\n",
    "# from random import random\n",
    "# from time import sleep"
   ]
  },
  {
   "cell_type": "code",
   "execution_count": 3,
   "metadata": {},
   "outputs": [],
   "source": [
    "# def id_To_chanme(IMDb_id):\n",
    "#     header = {\n",
    "#                 \"User-Agent\": \"Mozilla/5.0 (Windows NT 10.0; Win64; x64) AppleWebKit/537.36 (KHTML, like Gecko) Chrome/91.0.4472.124 Safari/537.36\"\n",
    "#             }\n",
    "#     encoded_IMDb_id = requests.utils.quote(IMDb_id)\n",
    "#     url = f\"https://www.imdb.com/title/{encoded_IMDb_id}/\"\n",
    "#     response = requests.get(url, headers=header)\n",
    "#     soup = BeautifulSoup(response.text, \"html.parser\")\n",
    "#     title = soup.head.text.strip()\n",
    "#     sleep(random())\n",
    "#     # 表示 Unicode 字元 '4e00'，代表中文字符的起始點\n",
    "#     # 表示 Unicode 字元 '9fff'，代表中文字符的結束點\n",
    "#     # 判斷是否含有中文字\n",
    "#     contains_chinese = bool(re.search('[\\u4e00-\\u9fff]', title))\n",
    "#     if contains_chinese:\n",
    "#         # 使用 (年份) 分割 >> IMDb網站固定會這寫名稱 'XXXX (2015) - IMDb'\n",
    "#         result = re.split(r'\\s+\\(\\d+\\)\\s+-\\s+IMDb', title)\n",
    "#         return result[0] if len(result) > 0 else None"
   ]
  },
  {
   "cell_type": "code",
   "execution_count": 5,
   "metadata": {},
   "outputs": [],
   "source": [
    "# # data_df['中文片名'] = data_df.apply(lambda row : id_To_chanme(row['IMDB ID']) if row['IMDB ID'] != 'unknown' and row['中文片名'] == 'unknown' else row['中文片名'], axis=1)\n",
    "# # 改用for loop 每查一段就存一次，(上面的方法要執行完成存，中間斷開會很幹，2萬多要爬很花時間的)\n",
    "# conn = sqlite3.connect('Movies.db')\n",
    "# data_df = pd.read_sql_query(\"SELECT * FROM Movies_test\", conn)\n",
    "\n",
    "# for index, row in data_df.iterrows():\n",
    "#     row = data_df.iloc[index]\n",
    "#     print(index)\n",
    "#     if row['IMDB ID'] == 'unknown':\n",
    "#         continue\n",
    "#     if row['IMDB ID'] != 'unknown':\n",
    "#         chinese_name = id_To_chanme(row['IMDB ID'])\n",
    "#         if chinese_name is not None and row['中文片名'] == 'unknown':\n",
    "#             data_df.at[index, '中文片名'] = chinese_name\n",
    "#     if index % 100 == 0:\n",
    "#         data_df.to_sql('Movies_test', conn, if_exists='replace', index=False)\n",
    "#         conn.commit()\n",
    "# conn.close()\n",
    "\n",
    "\n",
    "# # table轉換過去original table\n",
    "# conn = sqlite3.connect('Movies.db')\n",
    "# data_df_new = pd.read_sql_query(\"SELECT * FROM Movies_test\", conn)\n",
    "# data_df_new.to_sql('Movies_latest', conn, if_exists='replace', index=False)\n",
    "# conn.close()"
   ]
  }
 ],
 "metadata": {
  "kernelspec": {
   "display_name": "Linebot",
   "language": "python",
   "name": "python3"
  },
  "language_info": {
   "codemirror_mode": {
    "name": "ipython",
    "version": 3
   },
   "file_extension": ".py",
   "mimetype": "text/x-python",
   "name": "python",
   "nbconvert_exporter": "python",
   "pygments_lexer": "ipython3",
   "version": "3.11.2"
  },
  "orig_nbformat": 4
 },
 "nbformat": 4,
 "nbformat_minor": 2
}
