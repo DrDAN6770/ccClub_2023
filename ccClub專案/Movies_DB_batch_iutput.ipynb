{
 "cells": [
  {
   "cell_type": "code",
   "execution_count": 1,
   "metadata": {},
   "outputs": [],
   "source": [
    "import requests\n",
    "from bs4 import BeautifulSoup\n",
    "import pandas as pd\n",
    "import sqlite3\n",
    "import re\n",
    "import csv\n",
    "from genres import genres"
   ]
  },
  {
   "cell_type": "code",
   "execution_count": 2,
   "metadata": {},
   "outputs": [],
   "source": [
    "def dataset_webcraw(url):\n",
    "    response = requests.get(url)\n",
    "    res = BeautifulSoup(response.text) # 預設html.parser，不打也相同\n",
    "    latest_data = res.find_all('div', class_ = 'download-item')[-1].a['href']\n",
    "    return latest_data\n",
    "url = 'https://data.gov.tw/dataset/59820'\n",
    "response = requests.get(url)\n",
    "res = BeautifulSoup(response.text)\n",
    "dataset_lst = res.find_all('div', class_ = 'download-item')\n",
    "dataset_eachfile = {}\n",
    "data_df = {}\n",
    "for i in dataset_lst:\n",
    "    title = i.text.split('\\n')[-1].strip()\n",
    "    downlaodLink = i.a['href']\n",
    "    dataset_eachfile[title] = downlaodLink\n",
    "    data_df[title] = pd.read_csv(downlaodLink)"
   ]
  },
  {
   "attachments": {},
   "cell_type": "markdown",
   "metadata": {},
   "source": [
    "# Clean dataset"
   ]
  },
  {
   "cell_type": "code",
   "execution_count": 3,
   "metadata": {},
   "outputs": [
    {
     "name": "stdout",
     "output_type": "stream",
     "text": [
      "0,7\n",
      "0,7\n",
      "0,7\n",
      "0,7\n",
      "0,7\n",
      "0,7\n",
      "0,9\n",
      "1,9\n"
     ]
    }
   ],
   "source": [
    "# Check missing values\n",
    "# 最後兩年有欄數不同與缺失\n",
    "for v in data_df.values():\n",
    "    print(v.isnull().sum().sum(), len(v.columns), sep =',')"
   ]
  },
  {
   "cell_type": "code",
   "execution_count": 4,
   "metadata": {},
   "outputs": [
    {
     "data": {
      "text/html": [
       "<div>\n",
       "<style scoped>\n",
       "    .dataframe tbody tr th:only-of-type {\n",
       "        vertical-align: middle;\n",
       "    }\n",
       "\n",
       "    .dataframe tbody tr th {\n",
       "        vertical-align: top;\n",
       "    }\n",
       "\n",
       "    .dataframe thead th {\n",
       "        text-align: right;\n",
       "    }\n",
       "</style>\n",
       "<table border=\"1\" class=\"dataframe\">\n",
       "  <thead>\n",
       "    <tr style=\"text-align: right;\">\n",
       "      <th></th>\n",
       "      <th>年度</th>\n",
       "      <th>分級證明字號</th>\n",
       "      <th>級別</th>\n",
       "      <th>中文片名</th>\n",
       "      <th>原文片名</th>\n",
       "      <th>國別</th>\n",
       "      <th>語言</th>\n",
       "      <th>出品公司</th>\n",
       "      <th>映演時間</th>\n",
       "    </tr>\n",
       "  </thead>\n",
       "  <tbody>\n",
       "    <tr>\n",
       "      <th>699</th>\n",
       "      <td>111</td>\n",
       "      <td>第111010號</td>\n",
       "      <td>普</td>\n",
       "      <td>一直一直都很喜歡你</td>\n",
       "      <td>Love Can't Be Said</td>\n",
       "      <td>大陸</td>\n",
       "      <td>國語</td>\n",
       "      <td>九洲音像出版公司、超娛影業（佛山）有限公司、超娛影業（深圳）有限公司、廣東珠影影視製作有限公...</td>\n",
       "      <td>NaN</td>\n",
       "    </tr>\n",
       "  </tbody>\n",
       "</table>\n",
       "</div>"
      ],
      "text/plain": [
       "      年度    分級證明字號 級別       中文片名                原文片名  國別  語言  \\\n",
       "699  111  第111010號  普  一直一直都很喜歡你  Love Can't Be Said  大陸  國語   \n",
       "\n",
       "                                                  出品公司 映演時間  \n",
       "699  九洲音像出版公司、超娛影業（佛山）有限公司、超娛影業（深圳）有限公司、廣東珠影影視製作有限公...  NaN  "
      ]
     },
     "execution_count": 4,
     "metadata": {},
     "output_type": "execute_result"
    }
   ],
   "source": [
    "# 演出時間有缺 但應該不需要這欄\n",
    "data_df['111年電影片分級及相關資訊'][data_df['111年電影片分級及相關資訊'].isnull().any(axis=1)]"
   ]
  },
  {
   "cell_type": "code",
   "execution_count": 5,
   "metadata": {},
   "outputs": [
    {
     "name": "stdout",
     "output_type": "stream",
     "text": [
      "0,5\n",
      "0,5\n",
      "0,5\n",
      "0,5\n",
      "0,5\n",
      "0,5\n",
      "0,5\n",
      "0,5\n"
     ]
    }
   ],
   "source": [
    "# 處理104~109 欄位未分割問題\n",
    "for title,m  in data_df.items():\n",
    "    try:\n",
    "        m['年度'] = m['年度'] + 1911\n",
    "        m['中文片名'] = m['中文片名/外文片名'].apply(lambda row : row.split('\\n')[0])\n",
    "        m['原文片名'] = m['中文片名/外文片名'].apply(lambda row : row.split('\\n')[1] if len(row.split('\\n')) > 1 else 'No Eng Name')\n",
    "        m['國別'] = m['國別/語別'].apply(lambda row : row.split('\\n')[0])\n",
    "        m['語言'] = m['國別/語別'].apply(lambda row : row.split('\\n')[1] if len(row.split('\\n')) > 1 else 'Unknown')\n",
    "        df = m[['年度', '中文片名', '原文片名', '國別', '語言']]\n",
    "        data_df[title] = df.drop_duplicates()\n",
    "    except KeyError:\n",
    "        df = m[['年度', '中文片名', '原文片名', '國別', '語言']]\n",
    "        data_df[title] = df.drop_duplicates()\n",
    "\n",
    "# check\n",
    "for v in data_df.values():\n",
    "    print(v.isnull().sum().sum(), len(v.columns), sep =',')"
   ]
  },
  {
   "cell_type": "code",
   "execution_count": 6,
   "metadata": {},
   "outputs": [],
   "source": [
    "# 清理中文片名()內含有2D、3D、imax(大小寫)的部分\n",
    "# 刪除現場XXXXX劇院現場的資料\n",
    "# 去重複\n",
    "pattern = r'\\([^()]*?(2D|3D|IMAX|.*版)[^()]*?\\)'\n",
    "for key, df in data_df.items():\n",
    "    df['中文片名'] = df['中文片名'].apply(lambda x: re.sub(pattern, '', x, flags=re.IGNORECASE))\n",
    "    df = df[~df['中文片名'].str.contains('劇院現場')].reset_index(drop=True)\n",
    "    data_df[key] = df.drop_duplicates()"
   ]
  },
  {
   "attachments": {},
   "cell_type": "markdown",
   "metadata": {},
   "source": [
    "# 新增標籤\n",
    "---\n",
    "這個會爬很久很久，目前已爬完存出去了，應該不會再用到"
   ]
  },
  {
   "cell_type": "code",
   "execution_count": 28,
   "metadata": {},
   "outputs": [
    {
     "name": "stdout",
     "output_type": "stream",
     "text": [
      "Error occurred in row: 551\n",
      "Error occurred in row: 削瘦的靈魂 A Lean Soul\n",
      "Error message: 'NoneType' object has no attribute 'select'\n",
      "Error occurred in row: 620\n",
      "Error occurred in row: 願未央 Unfulfilled Dreams\n",
      "Error message: 'NoneType' object has no attribute 'select'\n",
      "Error occurred in row: 258\n",
      "Error occurred in row: 邪門 Contorted\n",
      "Error message: 'NoneType' object has no attribute 'select'\n"
     ]
    }
   ],
   "source": [
    "todoyear1 = [data_df['105年電影片分級及相關資訊']]\n",
    "todoyear2 = [data_df['106年電影片分級及相關資訊'], data_df['107年電影片分級及相關資訊']]\n",
    "todoyear3 = [data_df['108年電影片分級及相關資訊'], data_df['109年電影片分級及相關資訊']]\n",
    "todoyear4 = [data_df['110年電影片分級及相關資訊'], data_df['111年電影片分級及相關資訊']]\n",
    "resultdf = []\n",
    "errors = []\n",
    "for i,df in enumerate(todoyear4,6):\n",
    "    new_column = []\n",
    "    for index, row in df.iterrows():\n",
    "        try:\n",
    "            new_column.append(genres(row['中文片名']))\n",
    "        except Exception as e:\n",
    "            print(\"Error occurred in row:\", index)\n",
    "            print(\"Error occurred in row:\", row['中文片名'], row['原文片名'])\n",
    "            print(\"Error message:\", str(e))\n",
    "            new_column.append(None)\n",
    "            errors.append((index, row['年度'], row['中文片名'], row['原文片名']))\n",
    "\n",
    "    df['類型'] = new_column\n",
    "    resultdf.append(df)\n",
    "    df.to_csv(f'output{i}.csv', index=False)\n",
    "    if errors:\n",
    "        with open(f'error{i}.csv', 'w', newline='', encoding='utf-8') as csvfile:\n",
    "            writer = csv.writer(csvfile)\n",
    "            writer.writerow(['index', '年度', '中文片名', '原文片名']) \n",
    "            writer.writerows(errors)"
   ]
  }
 ],
 "metadata": {
  "kernelspec": {
   "display_name": "Linebot",
   "language": "python",
   "name": "python3"
  },
  "language_info": {
   "codemirror_mode": {
    "name": "ipython",
    "version": 3
   },
   "file_extension": ".py",
   "mimetype": "text/x-python",
   "name": "python",
   "nbconvert_exporter": "python",
   "pygments_lexer": "ipython3",
   "version": "3.11.2"
  },
  "orig_nbformat": 4
 },
 "nbformat": 4,
 "nbformat_minor": 2
}
