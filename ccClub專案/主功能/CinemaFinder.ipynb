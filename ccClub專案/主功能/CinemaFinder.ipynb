{
 "cells": [
  {
   "attachments": {},
   "cell_type": "markdown",
   "metadata": {},
   "source": [
    "# 整合"
   ]
  },
  {
   "cell_type": "code",
   "execution_count": 3,
   "metadata": {},
   "outputs": [],
   "source": [
    "import requests\n",
    "import googlemaps\n",
    "import sqlite3\n",
    "import pandas as pd\n",
    "import dotenv\n",
    "from Function_list import RoutePlanning\n",
    "\n",
    "class CinemaFinder:\n",
    "    def __init__(self, apikey, location):\n",
    "        self.apikey = apikey\n",
    "        self.gmaps = googlemaps.Client(key=self.apikey)\n",
    "        self.location = location\n",
    "\n",
    "    # 取得規劃路線距離、估計時間\n",
    "    def GM(self, destination, mode='driving'):\n",
    "        response = self.gmaps.distance_matrix(self.location, destination, mode=mode)\n",
    "        try:\n",
    "            distance = response['rows'][0]['elements'][0]['distance']['value']\n",
    "            duration = response['rows'][0]['elements'][0]['duration']['text']\n",
    "            return distance, duration\n",
    "        except:\n",
    "            return None, None\n",
    "    \n",
    "    # 取得附近\"直線距離\"前6間電影院\n",
    "    def MathJudge_dist(self, df):\n",
    "        df['緯度'] = df['經緯度'].map(lambda x: float(x.split(',')[0])) - float(self.location.split(',')[0])\n",
    "        df['經度'] = df['經緯度'].map(lambda x: float(x.split(',')[1])) - float(self.location.split(',')[1])\n",
    "        df['直線距離'] = (df['緯度'] ** 2 + df['經度'] ** 2) ** 0.5\n",
    "        df = df.drop(['緯度', '經度'], axis=1)\n",
    "        df = df.sort_values(['直線距離']).reset_index(drop=True)\n",
    "        return df.head(6)\n",
    "    \n",
    "    # 取得附近\"交通距離\"前3間電影院\n",
    "    def order_df_dist_google(self, df, mode='driving'):\n",
    "        # main\n",
    "        df = df.copy()\n",
    "        df['temp'] = df['經緯度'].map(lambda x: self.GM(x, mode))\n",
    "        df['距離(公尺)'] = df['temp'].apply(lambda x: x[0])\n",
    "        df['預計時間'] = df['temp'].apply(lambda x: x[1])\n",
    "        \n",
    "        df.drop('temp', axis=1, inplace=True)\n",
    "        df = df.sort_values('距離(公尺)').reset_index(drop=True)\n",
    "        res = df[['事業名稱', '距離(公尺)', '預計時間']].dropna().head(3)\n",
    "        return res"
   ]
  },
  {
   "cell_type": "code",
   "execution_count": 4,
   "metadata": {},
   "outputs": [],
   "source": [
    "# 測試\n",
    "info = dotenv.dotenv_values('.env')\n",
    "apikey = info.get('googleAPI')\n",
    "location = '24.171550, 120.645647'\n",
    "\n",
    "# 連線資料庫、SQL搜尋、轉df\n",
    "conn = sqlite3.connect('TW_cinema_info.db')\n",
    "data_df = pd.read_sql_query(\"SELECT * FROM TW_cinema_info_latest\", conn)\n",
    "conn.close()\n",
    "\n",
    "# 建立物件\n",
    "finder = CinemaFinder(apikey, location)\n",
    "\n",
    "# 過程操作\n",
    "filtered_data = finder.MathJudge_dist(data_df)\n",
    "result = finder.order_df_dist_google(filtered_data)"
   ]
  }
 ],
 "metadata": {
  "kernelspec": {
   "display_name": "Linebot",
   "language": "python",
   "name": "python3"
  },
  "language_info": {
   "codemirror_mode": {
    "name": "ipython",
    "version": 3
   },
   "file_extension": ".py",
   "mimetype": "text/x-python",
   "name": "python",
   "nbconvert_exporter": "python",
   "pygments_lexer": "ipython3",
   "version": "3.11.2"
  },
  "orig_nbformat": 4
 },
 "nbformat": 4,
 "nbformat_minor": 2
}
